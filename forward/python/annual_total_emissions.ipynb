{
 "cells": [
  {
   "cell_type": "code",
   "execution_count": 1,
   "metadata": {},
   "outputs": [],
   "source": [
    "# calculate annual total emission from fossil fuel, ocean, terrestrial"
   ]
  },
  {
   "cell_type": "code",
   "execution_count": 2,
   "metadata": {},
   "outputs": [],
   "source": [
    "%matplotlib inline\n",
    "%config InlineBackend.figure_format = \"retina\"\n",
    "\n",
    "from matplotlib import rcParams\n",
    "rcParams[\"savefig.dpi\"] = 300\n",
    "rcParams[\"font.size\"] = 12\n",
    "\n",
    "import warnings\n",
    "warnings.filterwarnings('ignore')"
   ]
  },
  {
   "cell_type": "code",
   "execution_count": 3,
   "metadata": {},
   "outputs": [],
   "source": [
    "import numpy as np\n",
    "import xarray as xr\n",
    "import matplotlib.pyplot as plt\n",
    "import cartopy.crs as ccrs\n",
    "from util.functions import area_latlon\n",
    "from util.gamap_colormap import WhGrYlRd"
   ]
  },
  {
   "cell_type": "code",
   "execution_count": 4,
   "metadata": {},
   "outputs": [
    {
     "data": {
      "text/plain": [
       "array([0., 0., 0., 0.])"
      ]
     },
     "execution_count": 4,
     "metadata": {},
     "output_type": "execute_result"
    }
   ],
   "source": [
    "annual_total_names = ['Fossil fuel', 'Terrestrial', 'Ocean', 'Fire']\n",
    "annual_totals      = np.zeros(len(annual_total_names))\n",
    "annual_totals"
   ]
  },
  {
   "cell_type": "code",
   "execution_count": 5,
   "metadata": {},
   "outputs": [],
   "source": [
    "# EDGAR\n",
    "input_dir = '/exports/csce/datastore/geos/users/msadiq/EDGARv5'\n",
    "year_vec = [2016,2017,2018]\n",
    "lat_res = 0.1\n",
    "lon_res = 0.1\n",
    "varname = 'emi_co2'\n",
    "fname1 = '/v50_CO2_excl_short-cycle_org_C_'\n",
    "fname2 = '.0.1x0.1.nc'\n",
    "output_edgar = np.zeros(3)"
   ]
  },
  {
   "cell_type": "code",
   "execution_count": 6,
   "metadata": {},
   "outputs": [
    {
     "name": "stdout",
     "output_type": "stream",
     "text": [
      "2016\n",
      "annual total from EDGAR team:\n",
      "   3.67531e+013 kg/year\n",
      "annual total from this calculation:\n",
      "  36732390000000.0\n",
      " \n",
      "2017\n",
      "annual total from EDGAR team:\n",
      "   3.71787e+013 kg/year\n",
      "annual total from this calculation:\n",
      "  37157863000000.0\n",
      " \n",
      "2018\n",
      "annual total from EDGAR team:\n",
      "   3.78867e+013 kg/year\n",
      "annual total from this calculation:\n",
      "  37865078000000.0\n",
      " \n"
     ]
    }
   ],
   "source": [
    "for i, iyear in enumerate(year_vec):\n",
    "    ds_EDGAR = xr.open_dataset(input_dir + \n",
    "                               fname1 +\n",
    "                               str(iyear) + \n",
    "                               fname2)\n",
    "    data = ds_EDGAR[varname].copy()\n",
    "    \n",
    "    for ilat, lat in enumerate(data.lat):\n",
    "        area_tmp = area_latlon(lat1 = lat, \n",
    "                               lon1 = data.lon[10].values, \n",
    "                               lat2 = lat + lat_res, \n",
    "                               lon2 = data.lon[10].values + lon_res)\n",
    "        if(iyear == 2016):\n",
    "            data[ilat,:] = data[ilat,:] * area_tmp *3600*24*366*1e6 # unit: kgCO2/yr\n",
    "        else:\n",
    "            data[ilat,:] = data[ilat,:] * area_tmp *3600*24*365*1e6 # unit: kgCO2/yr\n",
    "    annual_edgar = data.copy()\n",
    "    total_edgar = data.sum()   # kgCO2/year, same as data description\n",
    "    ann_total = total_edgar.values                # kg/yr\n",
    "    ann_total_C = total_edgar.values*1e-12*12/44  # GtC/yr\n",
    "    \n",
    "    print(str(iyear))\n",
    "    print('annual total from EDGAR team:')\n",
    "    print(data.attrs['total_emi_co2'])\n",
    "    print('annual total from this calculation:')\n",
    "    print(' ',ann_total)\n",
    "    print(' ')\n",
    "    #print('total ffCO2 emission (GtC/yr)  : ', ann_total_C)\n",
    "    \n",
    "    output_edgar[i] = ann_total_C"
   ]
  },
  {
   "cell_type": "code",
   "execution_count": 7,
   "metadata": {},
   "outputs": [],
   "source": [
    "annual_totals[0] = output_edgar[2]"
   ]
  },
  {
   "cell_type": "code",
   "execution_count": 9,
   "metadata": {},
   "outputs": [
    {
     "data": {
      "text/plain": [
       "'kg/m2/s'"
      ]
     },
     "execution_count": 9,
     "metadata": {},
     "output_type": "execute_result"
    }
   ],
   "source": [
    "# Terrestrial\n",
    "input_dir = '/geos/d21/GC_DATA/ExtData/HEMCO/'\n",
    "fname = 'CO2/v2015-04/BIO/Net_terrestrial_exch_5.29Pg.generic.1x1.nc'\n",
    "ds_ter  = xr.open_dataset(input_dir+fname)\n",
    "\n",
    "# year 2000\n",
    "lat_res = ds_ter.attrs['Delta_Lat']\n",
    "lon_res = ds_ter.attrs['Delta_Lon']\n",
    "varname = 'CO2'\n",
    "unit    = ds_ter[varname].attrs['units']\n",
    "unit"
   ]
  },
  {
   "cell_type": "code",
   "execution_count": 10,
   "metadata": {},
   "outputs": [
    {
     "name": "stdout",
     "output_type": "stream",
     "text": [
      "annual total from this calculation:\n",
      "  -5.269060654917819\n",
      " \n"
     ]
    }
   ],
   "source": [
    "data = ds_ter[varname].copy()\n",
    "for ilat, lat in enumerate(data.lat):\n",
    "    area_tmp = area_latlon(lat1 = lat, \n",
    "                            lon1 = data.lon[10].values, \n",
    "                            lat2 = lat + lat_res, \n",
    "                            lon2 = data.lon[10].values + lon_res)\n",
    "    data[0,ilat,:] = data[0,ilat,:] * area_tmp *3600*24*366*1e6 # unit: kgCO2/yr\n",
    "total = data.sum()   # kgCO2/year, same as data description\n",
    "ann_total = total.values  # kg/yr\n",
    "ann_total_C = total.values*1e-12*12/44  # GtC/yr\n",
    "    \n",
    "print('annual total from this calculation:')\n",
    "print(' ',ann_total_C)\n",
    "print(' ')"
   ]
  },
  {
   "cell_type": "code",
   "execution_count": 11,
   "metadata": {},
   "outputs": [],
   "source": [
    "annual_totals[1] = ann_total_C"
   ]
  },
  {
   "cell_type": "code",
   "execution_count": 12,
   "metadata": {},
   "outputs": [
    {
     "data": {
      "text/plain": [
       "'kg/m2/s'"
      ]
     },
     "execution_count": 12,
     "metadata": {},
     "output_type": "execute_result"
    }
   ],
   "source": [
    "#  OCEAN\n",
    "#fname     = '/geos/d21/GC_DATA/HEMCO/CO2/v2015-04/OCEAN/Scaled_Ocean_CO2_monthly.nc'\n",
    "fname     = '/geos/u73/msadiq/GEOS-Chem/HEMCO/CO2/v2014-09/OCEAN/Taka2009_CO2_Monthly.nc'\n",
    "ds_ocean  = xr.open_dataset(fname)\n",
    "\n",
    "# year range: 2000 - 2013, get 2013 for this calculation\n",
    "lat_res = ds_ocean.attrs['Delta_Lat']\n",
    "lon_res = ds_ocean.attrs['Delta_Lon']\n",
    "varname = 'CO2'\n",
    "unit    = ds_ocean[varname].attrs['units']\n",
    "unit\n",
    "#output_edgar = np.zeros(3)"
   ]
  },
  {
   "cell_type": "code",
   "execution_count": 13,
   "metadata": {},
   "outputs": [
    {
     "data": {
      "text/html": [
       "<pre>&lt;xarray.DataArray &#x27;CO2&#x27; (time: 12, lat: 91, lon: 144)&gt;\n",
       "[157248 values with dtype=float32]\n",
       "Coordinates:\n",
       "  * lon      (lon) float64 -180.0 -177.5 -175.0 -172.5 ... 172.5 175.0 177.5\n",
       "  * lat      (lat) float32 -89.5 -88.0 -86.0 -84.0 -82.0 ... 84.0 86.0 88.0 89.5\n",
       "  * time     (time) datetime64[ns] 2000-01-01 2000-02-01 ... 2000-12-01\n",
       "Attributes:\n",
       "    long_name:  Ocean CO2 flux\n",
       "    units:      kg/m2/s</pre>"
      ],
      "text/plain": [
       "<xarray.DataArray 'CO2' (time: 12, lat: 91, lon: 144)>\n",
       "[157248 values with dtype=float32]\n",
       "Coordinates:\n",
       "  * lon      (lon) float64 -180.0 -177.5 -175.0 -172.5 ... 172.5 175.0 177.5\n",
       "  * lat      (lat) float32 -89.5 -88.0 -86.0 -84.0 -82.0 ... 84.0 86.0 88.0 89.5\n",
       "  * time     (time) datetime64[ns] 2000-01-01 2000-02-01 ... 2000-12-01\n",
       "Attributes:\n",
       "    long_name:  Ocean CO2 flux\n",
       "    units:      kg/m2/s"
      ]
     },
     "execution_count": 13,
     "metadata": {},
     "output_type": "execute_result"
    }
   ],
   "source": [
    "ds_ocean[varname]"
   ]
  },
  {
   "cell_type": "code",
   "execution_count": 16,
   "metadata": {},
   "outputs": [
    {
     "name": "stdout",
     "output_type": "stream",
     "text": [
      "annual total from this calculation:\n",
      "  -1.367550626722909\n",
      " \n"
     ]
    }
   ],
   "source": [
    "data = ds_ocean[varname] #[156:168,:,:].copy()\n",
    "\n",
    "days_in_month = [31,28,31,30,31,30,31,31,30,31,30,31]\n",
    "\n",
    "for ilat, lat in enumerate(data.lat):\n",
    "    for imonth in range(12):\n",
    "        area_tmp = area_latlon(lat1 = lat, \n",
    "                                lon1 = data.lon[10].values, \n",
    "                                lat2 = lat + lat_res, \n",
    "                                lon2 = data.lon[10].values + lon_res)\n",
    "        data[imonth, ilat,:] = data[imonth, ilat,:] * area_tmp * days_in_month[imonth] *3600 *24 *1e6 # unit: kgCO2/month\n",
    "\n",
    "total = data.sum()         # kgCO2/year, same as data description\n",
    "ann_total = total.values                # kg/yr\n",
    "ann_total_C = total.values*1e-12*12/44  # GtC/yr\n",
    "\n",
    "print('annual total from this calculation:')\n",
    "print(' ',ann_total_C)\n",
    "print(' ')"
   ]
  },
  {
   "cell_type": "code",
   "execution_count": 17,
   "metadata": {},
   "outputs": [],
   "source": [
    "annual_totals[2] = ann_total_C"
   ]
  },
  {
   "cell_type": "code",
   "execution_count": 18,
   "metadata": {},
   "outputs": [
    {
     "data": {
      "text/plain": [
       "'kg/m2/s'"
      ]
     },
     "execution_count": 18,
     "metadata": {},
     "output_type": "execute_result"
    }
   ],
   "source": [
    "# Biosphere, SiB3 balanced Net Ecosystem Production (NEP) CO2\n",
    "fname = 'CO2/v2015-04/BIO/SiB3_3hr_NEP.nc'\n",
    "ds_bio  = xr.open_dataset(input_dir+fname)\n",
    "\n",
    "# year range: 2006 - 2010, get 2010 for this calculation\n",
    "lat_res = ds_ocean.attrs['Delta_Lat']\n",
    "lon_res = ds_ocean.attrs['Delta_Lon']\n",
    "varname = 'CO2'\n",
    "unit    = ds_ocean[varname].attrs['units']\n",
    "unit"
   ]
  },
  {
   "cell_type": "code",
   "execution_count": 19,
   "metadata": {},
   "outputs": [],
   "source": [
    "begin = 4*8*365+8\n",
    "end   = 5*8*365+8\n",
    "data = ds_bio[varname][begin:end,:,:].copy()"
   ]
  },
  {
   "cell_type": "code",
   "execution_count": 20,
   "metadata": {},
   "outputs": [
    {
     "data": {
      "text/plain": [
       "range(0, 2920)"
      ]
     },
     "execution_count": 20,
     "metadata": {},
     "output_type": "execute_result"
    }
   ],
   "source": [
    "range(len(data.time))"
   ]
  },
  {
   "cell_type": "code",
   "execution_count": 21,
   "metadata": {},
   "outputs": [
    {
     "name": "stdout",
     "output_type": "stream",
     "text": [
      "annual total from this calculation:\n",
      "-2.4271244318181817e-07\n"
     ]
    }
   ],
   "source": [
    "\n",
    "for ilat, lat in enumerate(data.lat):\n",
    "    area_tmp = area_latlon(lat1 = lat, \n",
    "                            lon1 = data.lon[10].values, \n",
    "                            lat2 = lat + lat_res, \n",
    "                            lon2 = data.lon[10].values + lon_res)\n",
    "    data[:,ilat,:] = data[:,ilat,:] * area_tmp * 3* 3600 # unit: kgCO2/3hours\n",
    "total = data.sum()          # kgCO2/year, same as data description\n",
    "ann_total = total.values*1e-12*12/44 # GtC/yr\n",
    "\n",
    "print('annual total from this calculation:')\n",
    "print(ann_total)"
   ]
  },
  {
   "cell_type": "code",
   "execution_count": null,
   "metadata": {},
   "outputs": [],
   "source": [
    "# Fire\n",
    "fname = 'GFED4/v2020-02/2018/GFED4_gen.025x025.201801.nc'\n",
    "ds_gfed  = xr.open_dataset(input_dir+fname)\n",
    "\n",
    "# year 2018\n",
    "lat_res = 0.25\n",
    "lon_res = 0.25\n",
    "varname = 'DM_TOTL'\n",
    "unit    = ds_gfed[varname].attrs['units']\n",
    "unit # kgDM/m2/s\n",
    "ds_gfed"
   ]
  },
  {
   "cell_type": "code",
   "execution_count": null,
   "metadata": {},
   "outputs": [],
   "source": [
    "months = ['01', '02', '03', '04', '05', '06', '07', '08', '09', '10', '11', '12']\n",
    "days_in_month = [31,28,31,30,31,30,31,31,30,31,30,31]\n",
    "veg_type = ['DM_AGRI', 'DM_BORF', 'DM_DEFO', 'DM_SAVA', 'DM_PEAT', 'DM_TEMP']\n",
    "emission_factor = [1.585, 1.489, 1.643 ,1.686, 1.703, 1.647] # g of CO2 per kg dry matter burnt"
   ]
  },
  {
   "cell_type": "code",
   "execution_count": null,
   "metadata": {},
   "outputs": [],
   "source": [
    "monthly_total = np.zeros(12*6).reshape(12,6)\n",
    "#monthly_total[0,:]"
   ]
  },
  {
   "cell_type": "code",
   "execution_count": null,
   "metadata": {},
   "outputs": [],
   "source": [
    "data = ds_gfed[varname].copy()\n",
    "data"
   ]
  },
  {
   "cell_type": "code",
   "execution_count": null,
   "metadata": {},
   "outputs": [],
   "source": [
    "for i,imonth in enumerate(months):\n",
    "    fname = 'GFED4/v2020-02/2018/GFED4_gen.025x025.2018' + imonth + '.nc'\n",
    "    ds_gfed  = xr.open_dataset(input_dir+fname)\n",
    "    \n",
    "    for ivar,varname in enumerate(veg_type):\n",
    "        data = ds_gfed[varname].copy()\n",
    "\n",
    "        for ilat, lat in enumerate(data.lat):\n",
    "            area_tmp = area_latlon(lat1 = lat, \n",
    "                                    lon1 = data.lon[10].values, \n",
    "                                    lat2 = lat + lat_res, \n",
    "                                    lon2 = data.lon[10].values + lon_res)\n",
    "            data[0,ilat,:] = data[0,ilat,:] * area_tmp * 3600* 24 * days_in_month[i] *emission_factor[ivar] * 1e6 # unit: kgCO2/month\n",
    "        monthly_total[i,ivar] = data.sum()*1e-12  # GtCO2/month\n",
    "ann_total = sum(sum(monthly_total))*12/44  # GtC/year\n",
    "print('annual total co2 emission (unit: GtC/yr):')\n",
    "print(' ',ann_total)\n",
    "print(' ')"
   ]
  },
  {
   "cell_type": "code",
   "execution_count": null,
   "metadata": {},
   "outputs": [],
   "source": [
    "annual_totals[3] = ann_total\n",
    "total = sum(annual_totals)\n",
    "annual_totals = np.append(annual_totals, total)\n",
    "annual_total_names = np.append(annual_total_names, 'Total')"
   ]
  },
  {
   "cell_type": "code",
   "execution_count": null,
   "metadata": {},
   "outputs": [],
   "source": [
    "annual_totals"
   ]
  },
  {
   "cell_type": "code",
   "execution_count": null,
   "metadata": {},
   "outputs": [],
   "source": [
    "fig = plt.figure(figsize=[6, 5])\n",
    "x = range(5)\n",
    "\n",
    "plt.bar(x, annual_totals)\n",
    "plt.xticks(x, annual_total_names)\n",
    "\n",
    "plt.title('Annual total emission (GtC/yr)')\n",
    "\n",
    "fig.tight_layout()\n",
    "output_dir = '/geos/u73/msadiq/GEOS-Chem/analysis/inversion/data'\n",
    "fig.savefig(output_dir + '/total_emissions.png', dpi = 300)"
   ]
  },
  {
   "cell_type": "code",
   "execution_count": null,
   "metadata": {},
   "outputs": [],
   "source": []
  }
 ],
 "metadata": {
  "kernelspec": {
   "display_name": "Python 3",
   "language": "python",
   "name": "python3"
  },
  "language_info": {
   "codemirror_mode": {
    "name": "ipython",
    "version": 3
   },
   "file_extension": ".py",
   "mimetype": "text/x-python",
   "name": "python",
   "nbconvert_exporter": "python",
   "pygments_lexer": "ipython3",
   "version": "3.6.10"
  }
 },
 "nbformat": 4,
 "nbformat_minor": 2
}
