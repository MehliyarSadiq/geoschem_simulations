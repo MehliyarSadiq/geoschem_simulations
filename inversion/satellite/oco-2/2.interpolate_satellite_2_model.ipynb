{
 "cells": [
  {
   "cell_type": "code",
   "execution_count": 1,
   "metadata": {},
   "outputs": [],
   "source": [
    "# interpolate some variables: \n",
    "# averaging kernel, pressure weighting function, xco2_priori\n",
    "# from OCO2 20 levels to GEOS-Chem 47 levels"
   ]
  },
  {
   "cell_type": "code",
   "execution_count": 2,
   "metadata": {},
   "outputs": [],
   "source": [
    "import numpy as np\n",
    "import xarray as xr\n",
    "import matplotlib.pyplot as plt\n",
    "import re"
   ]
  },
  {
   "cell_type": "code",
   "execution_count": null,
   "metadata": {},
   "outputs": [],
   "source": [
    "month = 2 # 1,2,3, = Jan, Feb, Mar, 2018"
   ]
  },
  {
   "cell_type": "code",
   "execution_count": 3,
   "metadata": {},
   "outputs": [],
   "source": [
    "# Name of input Netcdf file\n",
    "satellite_directory = '/geos/u73/msadiq/satellite/oco-2/'\n",
    "satellite_file = '2d_OCO2_extract_20180' + str(month) + '.nc'\n",
    "\n",
    "model_file = '/geos/u73/msadiq/GEOS-Chem/rundirs/ensemble_runs/CO2-2018-0' + str(month) + '/nd51/2d_ts_satellite.20180' + str(month) + '.nc'\n",
    "\n",
    "output_file = satellite_directory + 'interpolated_' + satellite_file"
   ]
  },
  {
   "cell_type": "code",
   "execution_count": 4,
   "metadata": {},
   "outputs": [],
   "source": [
    "ds_satellite = xr.open_dataset(satellite_directory + satellite_file)\n",
    "needed_vars = ['xco2_averaging_kernel', \n",
    "               'co2_profile_apriori',\n",
    "               'pressure_weight']"
   ]
  },
  {
   "cell_type": "code",
   "execution_count": 5,
   "metadata": {},
   "outputs": [],
   "source": [
    "ds_model = xr.open_dataset(model_file)"
   ]
  },
  {
   "cell_type": "code",
   "execution_count": 6,
   "metadata": {},
   "outputs": [
    {
     "data": {
      "text/plain": [
       "array([     0,      1,      2, ..., 366909, 366910, 366911])"
      ]
     },
     "execution_count": 6,
     "metadata": {},
     "output_type": "execute_result"
    }
   ],
   "source": [
    "record = ds_model['record'].values\n",
    "record"
   ]
  },
  {
   "cell_type": "code",
   "execution_count": 7,
   "metadata": {},
   "outputs": [
    {
     "data": {
      "text/plain": [
       "[<matplotlib.lines.Line2D at 0x2b63fbe912b0>]"
      ]
     },
     "execution_count": 7,
     "metadata": {},
     "output_type": "execute_result"
    },
    {
     "data": {
      "image/png": "[encoded data removed]",
      "text/plain": [
       "<Figure size 432x288 with 1 Axes>"
      ]
     },
     "metadata": {
      "needs_background": "light"
     },
     "output_type": "display_data"
    }
   ],
   "source": [
    "ds_model['SpeciesConc_CO2'][47007,:].plot()"
   ]
  },
  {
   "cell_type": "code",
   "execution_count": 8,
   "metadata": {},
   "outputs": [
    {
     "data": {
      "text/plain": [
       "array([9.9999997e-05, 5.2631579e-02, 1.0526316e-01, 1.5789473e-01,\n",
       "       2.1052632e-01, 2.6315790e-01, 3.1578946e-01, 3.6842105e-01,\n",
       "       4.2105263e-01, 4.7368422e-01, 5.2631581e-01, 5.7894737e-01,\n",
       "       6.3157892e-01, 6.8421054e-01, 7.3684210e-01, 7.8947371e-01,\n",
       "       8.4210527e-01, 8.9473683e-01, 9.4736844e-01, 1.0000000e+00],\n",
       "      dtype=float32)"
      ]
     },
     "execution_count": 8,
     "metadata": {},
     "output_type": "execute_result"
    }
   ],
   "source": [
    "# interpolate variables from 20 sigma levels to 47 levels\n",
    "sigma_47 = ds_model.coords['levels'].values\n",
    "sigma_20 = ds_satellite.coords['levels'].values\n",
    "#pressure_47 = ds_model['PEDGE_S_PSURF']\n",
    "#pressure_20 = ds_satellite['pressure']\n",
    "sigma_47_flip = np.flip(sigma_47)\n",
    "sigma_20"
   ]
  },
  {
   "cell_type": "code",
   "execution_count": 9,
   "metadata": {},
   "outputs": [
    {
     "data": {
      "text/html": [
       "<pre>&lt;xarray.Dataset&gt;\n",
       "Dimensions:              (levels: 47, record: 366912)\n",
       "Coordinates:\n",
       "  * record               (record) int64 0 1 2 3 ... 366908 366909 366910 366911\n",
       "  * levels               (levels) float64 0.9925 0.9775 ... 0.000127 2.763e-05\n",
       "Data variables:\n",
       "    SpeciesConc_CO2      (record, levels) float32 ...\n",
       "    co2_profile_apriori  int64 0</pre>"
      ],
      "text/plain": [
       "<xarray.Dataset>\n",
       "Dimensions:              (levels: 47, record: 366912)\n",
       "Coordinates:\n",
       "  * record               (record) int64 0 1 2 3 ... 366908 366909 366910 366911\n",
       "  * levels               (levels) float64 0.9925 0.9775 ... 0.000127 2.763e-05\n",
       "Data variables:\n",
       "    SpeciesConc_CO2      (record, levels) float32 ...\n",
       "    co2_profile_apriori  int64 0"
      ]
     },
     "execution_count": 9,
     "metadata": {},
     "output_type": "execute_result"
    }
   ],
   "source": [
    "# new dataset to data interpolated from OCO2 to 47 levels\n",
    "interpolated = ds_model['SpeciesConc_CO2'].to_dataset()\n",
    "interpolated['co2_profile_apriori'] = 0\n",
    "interpolated"
   ]
  },
  {
   "cell_type": "code",
   "execution_count": 10,
   "metadata": {},
   "outputs": [
    {
     "data": {
      "text/plain": [
       "['xco2_averaging_kernel', 'co2_profile_apriori', 'pressure_weight']"
      ]
     },
     "execution_count": 10,
     "metadata": {},
     "output_type": "execute_result"
    }
   ],
   "source": [
    "needed_vars"
   ]
  },
  {
   "cell_type": "code",
   "execution_count": 11,
   "metadata": {},
   "outputs": [
    {
     "data": {
      "text/html": [
       "<pre>&lt;xarray.DataArray (record: 366912, levels: 47)&gt;\n",
       "array([[0., 0., 0., ..., 0., 0., 0.],\n",
       "       [0., 0., 0., ..., 0., 0., 0.],\n",
       "       [0., 0., 0., ..., 0., 0., 0.],\n",
       "       ...,\n",
       "       [0., 0., 0., ..., 0., 0., 0.],\n",
       "       [0., 0., 0., ..., 0., 0., 0.],\n",
       "       [0., 0., 0., ..., 0., 0., 0.]], dtype=float32)\n",
       "Coordinates:\n",
       "  * record   (record) int64 0 1 2 3 4 5 ... 366907 366908 366909 366910 366911\n",
       "  * levels   (levels) float64 0.9925 0.9775 0.9624 ... 0.000127 2.763e-05</pre>"
      ],
      "text/plain": [
       "<xarray.DataArray (record: 366912, levels: 47)>\n",
       "array([[0., 0., 0., ..., 0., 0., 0.],\n",
       "       [0., 0., 0., ..., 0., 0., 0.],\n",
       "       [0., 0., 0., ..., 0., 0., 0.],\n",
       "       ...,\n",
       "       [0., 0., 0., ..., 0., 0., 0.],\n",
       "       [0., 0., 0., ..., 0., 0., 0.],\n",
       "       [0., 0., 0., ..., 0., 0., 0.]], dtype=float32)\n",
       "Coordinates:\n",
       "  * record   (record) int64 0 1 2 3 4 5 ... 366907 366908 366909 366910 366911\n",
       "  * levels   (levels) float64 0.9925 0.9775 0.9624 ... 0.000127 2.763e-05"
      ]
     },
     "execution_count": 11,
     "metadata": {},
     "output_type": "execute_result"
    }
   ],
   "source": [
    "# temporary 2d dataarray to save interpolated data\n",
    "tmp = xr.DataArray(data = 0,\n",
    "                   dims=('record', 'levels'),\n",
    "                   coords=[record, ds_model.coords['levels']])\n",
    "tmp = tmp.astype(dtype = 'float32')\n",
    "tmp"
   ]
  },
  {
   "cell_type": "code",
   "execution_count": 12,
   "metadata": {},
   "outputs": [
    {
     "name": "stdout",
     "output_type": "stream",
     "text": [
      "xco2_averaging_kernel done!\n",
      "co2_profile_apriori done!\n",
      "pressure_weight done!\n"
     ]
    }
   ],
   "source": [
    "# interpolation\n",
    "for ivar in needed_vars:\n",
    "    before = ds_satellite[ivar].copy()\n",
    "    for irecord in record:\n",
    "        yp = before[irecord,:].values\n",
    "        tmp[irecord,:] = np.interp(x=sigma_47, xp=sigma_20, fp=yp) # linear interpolation\n",
    "    interpolated[ivar] = tmp.copy()\n",
    "    print(ivar + ' done!')"
   ]
  },
  {
   "cell_type": "code",
   "execution_count": 13,
   "metadata": {},
   "outputs": [],
   "source": [
    "# normalise pressure weighting function for each record, needs to add up to one\n",
    "pres_wgt = interpolated['pressure_weight']\n",
    "for irecord in record:\n",
    "    norm = pres_wgt[irecord,:].sum()\n",
    "    pres_wgt[irecord,:] = pres_wgt[irecord,:] / norm\n",
    "interpolated['pressure_weight'] = pres_wgt.copy()"
   ]
  },
  {
   "cell_type": "code",
   "execution_count": 14,
   "metadata": {},
   "outputs": [],
   "source": [
    "# variables need not to be interpolated\n",
    "noneed_interp = ['xco2', 'psurf', 'xco2_uncertainty', 'operation_mode']"
   ]
  },
  {
   "cell_type": "code",
   "execution_count": 15,
   "metadata": {},
   "outputs": [],
   "source": [
    "for ivar in noneed_interp:\n",
    "    interpolated[ivar] = ds_satellite[ivar].copy()"
   ]
  },
  {
   "cell_type": "code",
   "execution_count": 16,
   "metadata": {},
   "outputs": [],
   "source": [
    "#interpolated['xco2_averaging_kernel'][47007,:].plot()\n",
    "#interpolated['co2_profile_apriori'][47007,:].plot()\n",
    "#interpolated['pressure_weight'][47007,:].plot()\n",
    "#print(interpolated['pressure_weight'][47007,:].sum())\n",
    "\n",
    "interpolated.attrs['comment'] = 'interpolated from 20-level OCO2'\n",
    "interpolated.to_netcdf(output_file)"
   ]
  },
  {
   "cell_type": "code",
   "execution_count": 17,
   "metadata": {},
   "outputs": [
    {
     "data": {
      "text/html": [
       "<pre>&lt;xarray.Dataset&gt;\n",
       "Dimensions:                (levels: 47, record: 366912)\n",
       "Coordinates:\n",
       "  * record                 (record) int64 0 1 2 3 ... 366909 366910 366911\n",
       "  * levels                 (levels) float64 0.9925 0.9775 ... 0.000127 2.763e-05\n",
       "Data variables:\n",
       "    SpeciesConc_CO2        (record, levels) float32 ...\n",
       "    co2_profile_apriori    (record, levels) float32 0.0 0.0 0.0 ... 0.0 0.0 0.0\n",
       "    xco2_averaging_kernel  (record, levels) float32 0.0 0.0 0.0 ... 0.0 0.0 0.0\n",
       "    pressure_weight        (record, levels) float32 nan nan nan ... nan nan nan\n",
       "    xco2                   (record) float32 0.0 0.0 0.0 0.0 ... 0.0 0.0 0.0 0.0\n",
       "    psurf                  (record) float32 0.0 0.0 0.0 0.0 ... 0.0 0.0 0.0 0.0\n",
       "    xco2_uncertainty       (record) float32 0.0 0.0 0.0 0.0 ... 0.0 0.0 0.0 0.0\n",
       "    operation_mode         (record) float32 0.0 0.0 0.0 0.0 ... 0.0 0.0 0.0 0.0\n",
       "Attributes:\n",
       "    comment:  interpolated from 20-level OCO2</pre>"
      ],
      "text/plain": [
       "<xarray.Dataset>\n",
       "Dimensions:                (levels: 47, record: 366912)\n",
       "Coordinates:\n",
       "  * record                 (record) int64 0 1 2 3 ... 366909 366910 366911\n",
       "  * levels                 (levels) float64 0.9925 0.9775 ... 0.000127 2.763e-05\n",
       "Data variables:\n",
       "    SpeciesConc_CO2        (record, levels) float32 ...\n",
       "    co2_profile_apriori    (record, levels) float32 0.0 0.0 0.0 ... 0.0 0.0 0.0\n",
       "    xco2_averaging_kernel  (record, levels) float32 0.0 0.0 0.0 ... 0.0 0.0 0.0\n",
       "    pressure_weight        (record, levels) float32 nan nan nan ... nan nan nan\n",
       "    xco2                   (record) float32 0.0 0.0 0.0 0.0 ... 0.0 0.0 0.0 0.0\n",
       "    psurf                  (record) float32 0.0 0.0 0.0 0.0 ... 0.0 0.0 0.0 0.0\n",
       "    xco2_uncertainty       (record) float32 0.0 0.0 0.0 0.0 ... 0.0 0.0 0.0 0.0\n",
       "    operation_mode         (record) float32 0.0 0.0 0.0 0.0 ... 0.0 0.0 0.0 0.0\n",
       "Attributes:\n",
       "    comment:  interpolated from 20-level OCO2"
      ]
     },
     "execution_count": 17,
     "metadata": {},
     "output_type": "execute_result"
    }
   ],
   "source": [
    "interpolated"
   ]
  },
  {
   "cell_type": "code",
   "execution_count": null,
   "metadata": {},
   "outputs": [],
   "source": []
  }
 ],
 "metadata": {
  "kernelspec": {
   "display_name": "Python 3",
   "language": "python",
   "name": "python3"
  },
  "language_info": {
   "codemirror_mode": {
    "name": "ipython",
    "version": 3
   },
   "file_extension": ".py",
   "mimetype": "text/x-python",
   "name": "python",
   "nbconvert_exporter": "python",
   "pygments_lexer": "ipython3",
   "version": "3.6.10"
  }
 },
 "nbformat": 4,
 "nbformat_minor": 4
}
