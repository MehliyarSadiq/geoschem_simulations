{
 "cells": [
  {
   "cell_type": "code",
   "execution_count": 112,
   "metadata": {},
   "outputs": [],
   "source": [
    "import matplotlib.pyplot as plt # plots\n",
    "import cartopy.crs as ccrs      # map projections\n",
    "import pandas as pd             # large arrays\n",
    "import numpy as np              # large arrays and matrices\n",
    "import xarray as xr             # major tool to work with NetCDF data!"
   ]
  },
  {
   "cell_type": "code",
   "execution_count": 113,
   "metadata": {},
   "outputs": [],
   "source": [
    "from util.gamap_colormap import WhGrYlRd"
   ]
  },
  {
   "cell_type": "code",
   "execution_count": 114,
   "metadata": {},
   "outputs": [
    {
     "data": {
      "text/plain": [
       "<xarray.Dataset>\n",
       "Dimensions:  (lat: 180, lon: 360, time: 1)\n",
       "Coordinates:\n",
       "  * lon      (lon) float32 -179.5 -178.5 -177.5 -176.5 ... 177.5 178.5 179.5\n",
       "  * lat      (lat) float32 -89.5 -88.5 -87.5 -86.5 -85.5 ... 86.5 87.5 88.5 89.5\n",
       "  * time     (time) datetime64[ns] 2000-01-01\n",
       "Data variables:\n",
       "    MASK     (time, lat, lon) float32 ...\n",
       "Attributes:\n",
       "    CDI:          Climate Data Interface version 1.5.5 (http://code.zmaw.de/p...\n",
       "    Conventions:  COARDS\n",
       "    history:      made by m.sadiq 2020\n",
       "    Title:        COARDS/netCDF file created by BPCH2COARDS (GAMAP v2-03+)\n",
       "    Model:        GENERIC\n",
       "    Delta_Lon:    1.0\n",
       "    Delta_Lat:    1.0\n",
       "    NLayers:      1\n",
       "    Start_Date:   19850101\n",
       "    Start_Time:   0\n",
       "    End_Date:     19860101\n",
       "    End_Time:     0\n",
       "    Delta_Time:   240000\n",
       "    Grid:         GEN_1x1\n",
       "    CDO:          Climate Data Operators version 1.5.5 (http://code.zmaw.de/p...\n",
       "    comment:      region masks, by m.sadiq 2020"
      ]
     },
     "execution_count": 114,
     "metadata": {},
     "output_type": "execute_result"
    }
   ],
   "source": [
    "# load data\n",
    "fname = '/home/msadiq/Desktop/co2/data/emission/MASKS/nc/giorgi/MASK11_1.0x1.0.nc'\n",
    "ds = xr.open_dataset(fname)\n",
    "ds"
   ]
  },
  {
   "cell_type": "code",
   "execution_count": 115,
   "metadata": {},
   "outputs": [],
   "source": [
    "#specify year and month of emission needed\n",
    "year_sim = np.array('2017',dtype='datetime64[Y]')\n",
    "month_emission = np.array('2017-04',dtype='datetime64[M]')"
   ]
  },
  {
   "cell_type": "code",
   "execution_count": 116,
   "metadata": {},
   "outputs": [],
   "source": [
    "# days in year \n",
    "days = np.arange(year_sim, year_sim + 1, dtype='datetime64[D]')\n",
    "days_in_ns = np.array(days, dtype='M8[ns]') # unit conversion to match source"
   ]
  },
  {
   "cell_type": "code",
   "execution_count": 117,
   "metadata": {},
   "outputs": [],
   "source": [
    "lon_len = len(ds.lon)\n",
    "lat_len = len(ds.lat)\n",
    "time_len = len(days_in_ns)\n",
    "\n",
    "emi_range = np.arange(month_emission,month_emission+1,dtype='datetime64[D]')"
   ]
  },
  {
   "cell_type": "code",
   "execution_count": 118,
   "metadata": {},
   "outputs": [
    {
     "data": {
      "text/plain": [
       "<xarray.Dataset>\n",
       "Dimensions:  (lat: 180, lon: 360, time: 365)\n",
       "Coordinates:\n",
       "  * lon      (lon) float32 -179.5 -178.5 -177.5 -176.5 ... 177.5 178.5 179.5\n",
       "  * lat      (lat) float32 -89.5 -88.5 -87.5 -86.5 -85.5 ... 86.5 87.5 88.5 89.5\n",
       "  * time     (time) datetime64[ns] 2017-01-01 2017-01-02 ... 2017-12-31\n",
       "Data variables:\n",
       "    MASK     (time, lat, lon) float32 0.0 0.0 0.0 0.0 0.0 ... 0.0 0.0 0.0 0.0"
      ]
     },
     "execution_count": 118,
     "metadata": {},
     "output_type": "execute_result"
    }
   ],
   "source": [
    "target = xr.Dataset({\"MASK\": ((\"time\", \"lat\", \"lon\"), \n",
    "                              np.zeros(lon_len*lat_len*time_len).reshape(time_len,lat_len,lon_len))},)\n",
    "target.coords['lon'] = ds.coords['lon']\n",
    "target.coords['lat'] = ds.coords['lat']\n",
    "target.coords['time'] = days_in_ns\n",
    "target = target.astype(dtype='float32')\n",
    "target['MASK'].loc[emi_range,:,:] = ds['MASK'].values\n",
    "target"
   ]
  },
  {
   "cell_type": "code",
   "execution_count": 121,
   "metadata": {},
   "outputs": [
    {
     "data": {
      "text/plain": [
       "<matplotlib.collections.QuadMesh at 0x7fb1678da650>"
      ]
     },
     "execution_count": 121,
     "metadata": {},
     "output_type": "execute_result"
    },
    {
     "data": {
      "image/png": "[encoded data removed]",
      "text/plain": [
       "<Figure size 432x288 with 2 Axes>"
      ]
     },
     "metadata": {
      "needs_background": "light"
     },
     "output_type": "display_data"
    }
   ],
   "source": [
    "target['MASK'].sel(time=np.datetime64('2017-12-20')).plot()"
   ]
  },
  {
   "cell_type": "code",
   "execution_count": null,
   "metadata": {},
   "outputs": [],
   "source": []
  }
 ],
 "metadata": {
  "kernelspec": {
   "display_name": "Python 3",
   "language": "python",
   "name": "python3"
  },
  "language_info": {
   "codemirror_mode": {
    "name": "ipython",
    "version": 3
   },
   "file_extension": ".py",
   "mimetype": "text/x-python",
   "name": "python",
   "nbconvert_exporter": "python",
   "pygments_lexer": "ipython3",
   "version": "3.7.4"
  }
 },
 "nbformat": 4,
 "nbformat_minor": 1
}
