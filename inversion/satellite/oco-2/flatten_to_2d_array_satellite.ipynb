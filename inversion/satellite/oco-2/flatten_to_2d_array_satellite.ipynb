{
 "cells": [
  {
   "cell_type": "markdown",
   "metadata": {},
   "source": [
    "# flatten 4d (lat, lon, date, level) output data to 2d (record, level)"
   ]
  },
  {
   "cell_type": "code",
   "execution_count": 26,
   "metadata": {},
   "outputs": [],
   "source": [
    "import numpy as np\n",
    "import xarray as xr\n",
    "import re"
   ]
  },
  {
   "cell_type": "code",
   "execution_count": 27,
   "metadata": {},
   "outputs": [],
   "source": [
    "# Name of input Netcdf file\n",
    "input_directory = '/geos/u73/msadiq/satellite/oco-2/'\n",
    "output_directory = input_directory\n",
    "\n",
    "name_nc_in = 'OCO2_extract.nc'\n",
    "input_file = input_directory + name_nc_in # full name\n",
    "\n",
    "# Name of output netCDF file\n",
    "output_file = output_directory + '2d_' + name_nc_in"
   ]
  },
  {
   "cell_type": "code",
   "execution_count": 80,
   "metadata": {},
   "outputs": [
    {
     "data": {
      "text/html": [
       "<pre>&lt;xarray.Dataset&gt;\n",
       "Dimensions:                (date: 31, lat: 91, levels: 20, lon: 144)\n",
       "Coordinates:\n",
       "  * lat                    (lat) float64 -90.0 -88.0 -86.0 ... 86.0 88.0 90.0\n",
       "  * lon                    (lon) float64 -180.0 -177.5 -175.0 ... 175.0 177.5\n",
       "  * date                   (date) datetime64[ns] 2018-03-01 ... 2018-03-31\n",
       "  * levels                 (levels) float32 1e-04 0.05263158 ... 0.94736844 1.0\n",
       "Data variables:\n",
       "    xco2_averaging_kernel  (lat, lon, date, levels) float32 ...\n",
       "    xco2                   (lat, lon, date) float32 ...\n",
       "    psurf                  (lat, lon, date) float32 ...</pre>"
      ],
      "text/plain": [
       "<xarray.Dataset>\n",
       "Dimensions:                (date: 31, lat: 91, levels: 20, lon: 144)\n",
       "Coordinates:\n",
       "  * lat                    (lat) float64 -90.0 -88.0 -86.0 ... 86.0 88.0 90.0\n",
       "  * lon                    (lon) float64 -180.0 -177.5 -175.0 ... 175.0 177.5\n",
       "  * date                   (date) datetime64[ns] 2018-03-01 ... 2018-03-31\n",
       "  * levels                 (levels) float32 1e-04 0.05263158 ... 0.94736844 1.0\n",
       "Data variables:\n",
       "    xco2_averaging_kernel  (lat, lon, date, levels) float32 ...\n",
       "    xco2                   (lat, lon, date) float32 ...\n",
       "    psurf                  (lat, lon, date) float32 ..."
      ]
     },
     "execution_count": 80,
     "metadata": {},
     "output_type": "execute_result"
    }
   ],
   "source": [
    "ds = xr.open_dataset(input_file)\n",
    "ds = ds.rename({'time':'date'}) # rename and add coordinates\n",
    "ds\n",
    "#ds['xco2_averaging_kernel'].isel(levels=19,time=0).plot()"
   ]
  },
  {
   "cell_type": "code",
   "execution_count": 37,
   "metadata": {},
   "outputs": [
    {
     "data": {
      "text/plain": [
       "['xco2_averaging_kernel', 'xco2', 'psurf']"
      ]
     },
     "execution_count": 37,
     "metadata": {},
     "output_type": "execute_result"
    }
   ],
   "source": [
    "varnames = list(ds.data_vars.keys())  # Get a list of variable names. The expression is a bit cumbersome. Just copy and paste it for now.\n",
    "nvar = len(varnames)  # how many elements in the list?\n",
    "varnames"
   ]
  },
  {
   "cell_type": "code",
   "execution_count": 49,
   "metadata": {},
   "outputs": [
    {
     "data": {
      "text/plain": [
       "range(0, 406224)"
      ]
     },
     "execution_count": 49,
     "metadata": {},
     "output_type": "execute_result"
    }
   ],
   "source": [
    "nm_lev = len(ds.coords['levels'])\n",
    "nm_lon = len(ds.coords['lon'])\n",
    "nm_lat = len(ds.coords['lat'])\n",
    "nm_days = len(ds.coords['date'])\n",
    "\n",
    "record = range(nm_lon * nm_lat * nm_days)\n",
    "record"
   ]
  },
  {
   "cell_type": "code",
   "execution_count": 74,
   "metadata": {},
   "outputs": [],
   "source": [
    "# 2d data array to store flattened data\n",
    "foo_2d = xr.DataArray(data = 0,\n",
    "                      dims=('record', 'levels'),\n",
    "                      coords={'record':record, \n",
    "                              'levels':ds.coords['levels']})\n",
    "foo_2d = foo_2d.astype(dtype = 'float32')\n",
    "# 1d data array to store flattened data\n",
    "foo_1d = xr.DataArray(data = 0,\n",
    "                      dims=('record'),\n",
    "                      coords={record})\n",
    "foo_1d = foo_1d.astype(dtype = 'float32')\n",
    "\n",
    "# dataset to store following dataarrays\n",
    "ds_output = foo_2d.to_dataset(name = 'xco2')\n",
    "ds_output = ds_output.astype(dtype = 'float32')"
   ]
  },
  {
   "cell_type": "code",
   "execution_count": 32,
   "metadata": {},
   "outputs": [],
   "source": [
    "flat = ds['xco2_averaging_kernel'][:,:,:,0].to_dataframe() \n",
    "# flatten a variable at one level\n",
    "flat.reset_index(inplace=True) \n",
    "# get indices from this to prepare output coordinates"
   ]
  },
  {
   "cell_type": "code",
   "execution_count": 33,
   "metadata": {},
   "outputs": [
    {
     "data": {
      "text/html": [
       "<pre>&lt;xarray.Dataset&gt;\n",
       "Dimensions:  (levels: 20, record: 406224)\n",
       "Coordinates:\n",
       "  * record   (record) int64 0 1 2 3 4 5 ... 406219 406220 406221 406222 406223\n",
       "  * levels   (levels) float32 1e-04 0.05263158 0.10526316 ... 0.94736844 1.0\n",
       "Data variables:\n",
       "    xco2     (record, levels) float32 0.0 0.0 0.0 0.0 0.0 ... 0.0 0.0 0.0 0.0\n",
       "    lat      (record) float64 -90.0 -90.0 -90.0 -90.0 ... 90.0 90.0 90.0 90.0\n",
       "    lon      (record) float64 -180.0 -180.0 -180.0 -180.0 ... 177.5 177.5 177.5\n",
       "    date     (record) datetime64[ns] 2018-03-01 2018-03-02 ... 2018-03-31</pre>"
      ],
      "text/plain": [
       "<xarray.Dataset>\n",
       "Dimensions:  (levels: 20, record: 406224)\n",
       "Coordinates:\n",
       "  * record   (record) int64 0 1 2 3 4 5 ... 406219 406220 406221 406222 406223\n",
       "  * levels   (levels) float32 1e-04 0.05263158 0.10526316 ... 0.94736844 1.0\n",
       "Data variables:\n",
       "    xco2     (record, levels) float32 0.0 0.0 0.0 0.0 0.0 ... 0.0 0.0 0.0 0.0\n",
       "    lat      (record) float64 -90.0 -90.0 -90.0 -90.0 ... 90.0 90.0 90.0 90.0\n",
       "    lon      (record) float64 -180.0 -180.0 -180.0 -180.0 ... 177.5 177.5 177.5\n",
       "    date     (record) datetime64[ns] 2018-03-01 2018-03-02 ... 2018-03-31"
      ]
     },
     "execution_count": 33,
     "metadata": {},
     "output_type": "execute_result"
    }
   ],
   "source": [
    "lat = xr.DataArray(0, coords=[record], dims=['record'])\n",
    "lon = xr.DataArray(0, coords=[record], dims=['record'])\n",
    "date = xr.DataArray(0, coords=[record], dims=['record'])\n",
    "lat.values = flat['lat']\n",
    "lon.values = flat['lon']\n",
    "date.values = flat['date']\n",
    "ds_output['lat'] = lat\n",
    "ds_output['lon'] = lon\n",
    "ds_output['date'] = date\n",
    "ds_output"
   ]
  },
  {
   "cell_type": "code",
   "execution_count": 79,
   "metadata": {},
   "outputs": [
    {
     "name": "stdout",
     "output_type": "stream",
     "text": [
      "xco2_averaging_kernel\n",
      "xco2\n",
      "psurf\n"
     ]
    }
   ],
   "source": [
    "for ivar in varnames:\n",
    "    print(ivar)\n",
    "    \n",
    "    if len(ds[ivar].dims) == 4:\n",
    "        for ilev in range(nm_lev):\n",
    "            flat = ds[ivar][:,:,:,ilev].to_dataframe() # flatten a variable at one level\n",
    "            foo_2d[:,ilev] = flat[ivar].values # store output to a dataarray\n",
    "        ds_output[ivar] = foo_2d.copy() # store dataarray to dataset\n",
    "    \n",
    "    else:\n",
    "        flat = ds[ivar].to_dataframe()\n",
    "        foo_1d.values = flat[ivar].values\n",
    "        ds_output[ivar] = foo_1d.copy() # store dataarray to dataset"
   ]
  },
  {
   "cell_type": "code",
   "execution_count": 81,
   "metadata": {},
   "outputs": [
    {
     "name": "stdout",
     "output_type": "stream",
     "text": [
      "<xarray.DataArray 'levels' (levels: 20)>\n",
      "array([1.000000e-04, 5.263158e-02, 1.052632e-01, 1.578947e-01, 2.105263e-01,\n",
      "       2.631579e-01, 3.157895e-01, 3.684210e-01, 4.210526e-01, 4.736842e-01,\n",
      "       5.263158e-01, 5.789474e-01, 6.315789e-01, 6.842105e-01, 7.368421e-01,\n",
      "       7.894737e-01, 8.421053e-01, 8.947368e-01, 9.473684e-01, 1.000000e+00],\n",
      "      dtype=float32)\n",
      "Coordinates:\n",
      "  * levels   (levels) float32 1e-04 0.05263158 0.10526316 ... 0.94736844 1.0\n"
     ]
    }
   ],
   "source": [
    "foo_2d[:,:] = 0\n",
    "levels = ds.coords['levels']\n",
    "print(levels)\n",
    "#for ilev in range(nm_lev):\n",
    "#    foo_2d[:,ilev] = sig\n",
    "#ds_output.psurf.plot()"
   ]
  },
  {
   "cell_type": "code",
   "execution_count": 48,
   "metadata": {},
   "outputs": [],
   "source": [
    "ds_output.attrs['comment'] = 'flattened from 4d NetCDF file'"
   ]
  },
  {
   "cell_type": "code",
   "execution_count": 49,
   "metadata": {},
   "outputs": [
    {
     "data": {
      "text/plain": [
       "[<matplotlib.lines.Line2D at 0x2b7e0bbd8eb8>]"
      ]
     },
     "execution_count": 49,
     "metadata": {},
     "output_type": "execute_result"
    },
    {
     "data": {
      "image/png": "[encoded data removed]",
      "text/plain": [
       "<Figure size 432x288 with 1 Axes>"
      ]
     },
     "metadata": {
      "needs_background": "light"
     },
     "output_type": "display_data"
    }
   ],
   "source": [
    "slice_ds = ds_output['kernel'][:,19]\n",
    "slice_ds.plot()"
   ]
  },
  {
   "cell_type": "code",
   "execution_count": 50,
   "metadata": {},
   "outputs": [],
   "source": [
    "ds_output.to_netcdf(path=output_file)"
   ]
  },
  {
   "cell_type": "code",
   "execution_count": null,
   "metadata": {},
   "outputs": [],
   "source": []
  }
 ],
 "metadata": {
  "kernelspec": {
   "display_name": "Python 3",
   "language": "python",
   "name": "python3"
  },
  "language_info": {
   "codemirror_mode": {
    "name": "ipython",
    "version": 3
   },
   "file_extension": ".py",
   "mimetype": "text/x-python",
   "name": "python",
   "nbconvert_exporter": "python",
   "pygments_lexer": "ipython3",
   "version": "3.6.10"
  }
 },
 "nbformat": 4,
 "nbformat_minor": 4
}
