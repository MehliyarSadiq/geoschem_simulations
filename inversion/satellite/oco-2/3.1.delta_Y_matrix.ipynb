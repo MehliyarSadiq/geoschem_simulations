{
 "cells": [
  {
   "cell_type": "code",
   "execution_count": 12,
   "metadata": {},
   "outputs": [],
   "source": [
    "# delta Y_o matrix in equation 13"
   ]
  },
  {
   "cell_type": "code",
   "execution_count": 4,
   "metadata": {},
   "outputs": [],
   "source": [
    "import numpy as np\n",
    "import xarray as xr\n",
    "import matplotlib.pyplot as plt\n",
    "import re"
   ]
  },
  {
   "cell_type": "code",
   "execution_count": 5,
   "metadata": {},
   "outputs": [],
   "source": [
    "# Name of input Netcdf file\n",
    "case_names = ['Jan', 'Feb', 'Mar'] # name parts of 3 simulations\n",
    "\n",
    "input_directory = '/geos/u73/msadiq/GEOS-Chem/analysis/python/data/'\n",
    "input_file = 'XCO2_model.nc'\n",
    "\n",
    "output_directory = input_directory\n",
    "\n",
    "# Name of output netCDF file\n",
    "output_file = output_directory + 'delta_Y.nc'"
   ]
  },
  {
   "cell_type": "code",
   "execution_count": 15,
   "metadata": {},
   "outputs": [],
   "source": [
    "ds_xco2_model = xr.open_dataset(input_directory + input_file)\n",
    "#ds_xco2_model\n",
    "varnames = list(ds_xco2_model.data_vars.keys())\n",
    "#varnames[3:69]"
   ]
  },
  {
   "cell_type": "code",
   "execution_count": 33,
   "metadata": {},
   "outputs": [
    {
     "data": {
      "text/plain": [
       "array([0., 0., 0., 0., 0., 0., 0., 0., 0., 0., 0., 0., 0., 0., 0., 0., 0.,\n",
       "       0., 0., 0., 0., 0., 0., 0., 0., 0., 0., 0., 0., 0., 0., 0., 0., 0.,\n",
       "       0., 0., 0., 0., 0., 0., 0., 0., 0., 0., 0., 0., 0., 0., 0., 0., 0.,\n",
       "       0., 0., 0., 0., 0., 0., 0., 0., 0., 0., 0., 0., 0., 0., 0.])"
      ]
     },
     "execution_count": 33,
     "metadata": {},
     "output_type": "execute_result"
    }
   ],
   "source": [
    "tmp = np.array(np.zeros(66))\n",
    "tmp"
   ]
  },
  {
   "cell_type": "code",
   "execution_count": 34,
   "metadata": {},
   "outputs": [],
   "source": [
    "delta_Y = ds_xco2_model['xco2_obs']\n",
    "delta_Y = delta_Y.to_dataset()\n",
    "\n",
    "for n, ivar in enumerate(varnames[3:69]):\n",
    "    delta_Y[ivar] = ds_xco2_model['xco2_obs'] - ds_xco2_model[ivar]\n",
    "    tmp[n] = ds_xco2_model[ivar].mean().values"
   ]
  },
  {
   "cell_type": "code",
   "execution_count": 45,
   "metadata": {},
   "outputs": [
    {
     "data": {
      "text/plain": [
       "<matplotlib.image.AxesImage at 0x2b1de5923630>"
      ]
     },
     "execution_count": 45,
     "metadata": {},
     "output_type": "execute_result"
    },
    {
     "data": {
      "image/png": "[encoded data removed]",
      "text/plain": [
       "<Figure size 432x288 with 1 Axes>"
      ]
     },
     "metadata": {
      "needs_background": "light"
     },
     "output_type": "display_data"
    }
   ],
   "source": [
    "tmp1 = tmp.reshape(3,22)\n",
    "plt.imshow(tmp1)\n",
    "#plt.colorbar()"
   ]
  },
  {
   "cell_type": "code",
   "execution_count": 23,
   "metadata": {},
   "outputs": [
    {
     "data": {
      "text/html": [
       "<pre>&lt;xarray.DataArray &#x27;Jan_X_SpeciesConc_CO2Tag11&#x27; (record: 406224)&gt;\n",
       "array([nan, nan, nan, ..., nan, nan, nan], dtype=float32)\n",
       "Coordinates:\n",
       "  * record   (record) int64 0 1 2 3 4 5 ... 406219 406220 406221 406222 406223</pre>"
      ],
      "text/plain": [
       "<xarray.DataArray 'Jan_X_SpeciesConc_CO2Tag11' (record: 406224)>\n",
       "array([nan, nan, nan, ..., nan, nan, nan], dtype=float32)\n",
       "Coordinates:\n",
       "  * record   (record) int64 0 1 2 3 4 5 ... 406219 406220 406221 406222 406223"
      ]
     },
     "execution_count": 23,
     "metadata": {},
     "output_type": "execute_result"
    }
   ],
   "source": [
    "delta_Y['Jan_X_SpeciesConc_CO2Tag11']"
   ]
  },
  {
   "cell_type": "code",
   "execution_count": null,
   "metadata": {},
   "outputs": [],
   "source": []
  }
 ],
 "metadata": {
  "kernelspec": {
   "display_name": "Python 3",
   "language": "python",
   "name": "python3"
  },
  "language_info": {
   "codemirror_mode": {
    "name": "ipython",
    "version": 3
   },
   "file_extension": ".py",
   "mimetype": "text/x-python",
   "name": "python",
   "nbconvert_exporter": "python",
   "pygments_lexer": "ipython3",
   "version": "3.6.10"
  }
 },
 "nbformat": 4,
 "nbformat_minor": 4
}
