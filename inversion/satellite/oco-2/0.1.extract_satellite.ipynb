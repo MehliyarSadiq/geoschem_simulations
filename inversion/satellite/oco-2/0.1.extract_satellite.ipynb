{
 "cells": [
  {
   "cell_type": "markdown",
   "metadata": {},
   "source": [
    "# Extract variables from OCO-2 dataset"
   ]
  },
  {
   "cell_type": "code",
   "execution_count": 17,
   "metadata": {},
   "outputs": [],
   "source": [
    "# to display plots in notebook\n",
    "%matplotlib inline\n",
    "%config InlineBackend.figure_format = \"retina\"\n",
    "\n",
    "from matplotlib import rcParams\n",
    "rcParams[\"savefig.dpi\"] = 300  # high res plots\n",
    "rcParams[\"font.size\"] = 8\n",
    "\n",
    "import warnings\n",
    "warnings.filterwarnings('ignore')"
   ]
  },
  {
   "cell_type": "markdown",
   "metadata": {},
   "source": [
    "## Import packages"
   ]
  },
  {
   "cell_type": "code",
   "execution_count": 18,
   "metadata": {},
   "outputs": [],
   "source": [
    "import matplotlib.pyplot as plt # plots\n",
    "import cartopy.crs as ccrs      # map projections\n",
    "import pandas as pd             # large arrays\n",
    "import numpy as np              # large arrays and matrices\n",
    "import xarray as xr             # major tool to work with NetCDF data!\n",
    "# custom color map downloaded from GEOS-Chem python tutorial\n",
    "from gamap_colormap import WhGrYlRd  # import the \"WhGrYlRd\" variable\n",
    "import re"
   ]
  },
  {
   "cell_type": "code",
   "execution_count": 19,
   "metadata": {},
   "outputs": [],
   "source": [
    "# settings\n",
    "# file names and paths\n",
    "input_file = '/geos/u73/msadiq/satellite/oco-2/OCO2_b91_10sec_GOOD_r24.nc4'\n",
    "output_file ='/geos/u73/msadiq/satellite/oco-2/OCO2_extract_201802.nc'\n",
    "\n",
    "# first and last day of extraction\n",
    "first_day = '2018-02-01'\n",
    "last_day_p1 = '2018-03-01' # last day plus 1\n",
    "\n",
    "# names of variables need to extract \n",
    "var_names  = ['xco2', \n",
    "              'psurf', \n",
    "              'xco2_averaging_kernel',\n",
    "              'co2_profile_apriori',\n",
    "              'pressure_weight',\n",
    "              'xco2_uncertainty',\n",
    "              'operation_mode']"
   ]
  },
  {
   "cell_type": "code",
   "execution_count": 20,
   "metadata": {},
   "outputs": [
    {
     "data": {
      "text/html": [
       "<pre>&lt;xarray.Dataset&gt;\n",
       "Dimensions:                       (epoch_dimension: 7, levels: 20, sounding_id: 1319634)\n",
       "Coordinates:\n",
       "  * sounding_id                   (sounding_id) int64 20140906020721 ... 20190731225946\n",
       "Dimensions without coordinates: epoch_dimension, levels\n",
       "Data variables:\n",
       "    test_flag                     (sounding_id) int8 ...\n",
       "    latitude                      (sounding_id) float32 ...\n",
       "    longitude                     (sounding_id) float32 ...\n",
       "    data_type                     (sounding_id) int8 ...\n",
       "    date                          (sounding_id, epoch_dimension) int16 ...\n",
       "    time                          (sounding_id) datetime64[ns] ...\n",
       "    solar_zenith_angle            (sounding_id) float32 ...\n",
       "    solar_azimuth_angle           (sounding_id) float32 ...\n",
       "    sensor_zenith_angle           (sounding_id) float32 ...\n",
       "    sensor_azimuth_angle          (sounding_id) float32 ...\n",
       "    psurf_apriori_b8              (sounding_id) float32 ...\n",
       "    psurf_apriori_o2a             (sounding_id) float32 ...\n",
       "    psurf_apriori_wco2            (sounding_id) float32 ...\n",
       "    psurf_apriori_sco2            (sounding_id) float32 ...\n",
       "    psurf_apriori                 (sounding_id) float32 ...\n",
       "    psurf                         (sounding_id) float32 ...\n",
       "    xco2_raw                      (sounding_id) float32 ...\n",
       "    xco2_apriori                  (sounding_id) float32 ...\n",
       "    xco2                          (sounding_id) float32 ...\n",
       "    xco2_uncertainty              (sounding_id) float32 ...\n",
       "    model_error                   (sounding_id) float32 ...\n",
       "    co2_profile_apriori           (sounding_id, levels) float32 ...\n",
       "    xco2_averaging_kernel         (sounding_id, levels) float32 ...\n",
       "    pressure_weight               (sounding_id, levels) float32 ...\n",
       "    sigma_levels                  (levels) float32 ...\n",
       "    xco2_quality_flag             (sounding_id) int8 ...\n",
       "    warn_level                    (sounding_id) int8 ...\n",
       "    land_fraction                 (sounding_id) int8 ...\n",
       "    altitude                      (sounding_id) float32 ...\n",
       "    airmass                       (sounding_id) float32 ...\n",
       "    path                          (sounding_id) int16 ...\n",
       "    operation_mode                (sounding_id) int8 ...\n",
       "    land_water_indicator          (sounding_id) int8 ...\n",
       "    surface_type                  (sounding_id) int8 ...\n",
       "    fs                            (sounding_id) float32 ...\n",
       "    delta_windspeed               (sounding_id) float32 ...\n",
       "    s31                           (sounding_id) float32 ...\n",
       "    s32                           (sounding_id) float32 ...\n",
       "    albedo_3                      (sounding_id) float32 ...\n",
       "    albedo_slope_3                (sounding_id) float32 ...\n",
       "    aod_total                     (sounding_id) float32 ...\n",
       "    albedo_2                      (sounding_id) float32 ...\n",
       "    co2_grad_del                  (sounding_id) float32 ...\n",
       "    dws                           (sounding_id) float32 ...\n",
       "    dpfrac                        (sounding_id) float32 ...\n",
       "    dp_o2a                        (sounding_id) float32 ...\n",
       "    dp                            (sounding_id) float32 ...\n",
       "    dp_abp                        (sounding_id) float32 ...\n",
       "    co2_ratio                     (sounding_id) float32 ...\n",
       "    h2o_ratio                     (sounding_id) float32 ...\n",
       "    xco2_weak_idp                 (sounding_id) float32 ...\n",
       "    xco2_strong_idp               (sounding_id) float32 ...\n",
       "    tcwv_apriori                  (sounding_id) float32 ...\n",
       "    tcwv                          (sounding_id) float32 ...\n",
       "    ice_height                    (sounding_id) float32 ...\n",
       "    h2o_scale                     (sounding_id) float32 ...\n",
       "    deltaT                        (sounding_id) float32 ...\n",
       "    snr_o2a                       (sounding_id) float32 ...\n",
       "    snr_wco2                      (sounding_id) float32 ...\n",
       "    snr_sco2                      (sounding_id) float32 ...\n",
       "    altitude_stddev               (sounding_id) float32 ...\n",
       "    N_total_shots                 (sounding_id) int32 ...\n",
       "    Var_1s_altitude_weighted      (sounding_id) float32 ...\n",
       "    Var_1s_XCO2raw_weighted       (sounding_id) float32 ...\n",
       "    Var_1s_XCO2biascorr_weighted  (sounding_id) float32 ...\n",
       "    Var_1s_co2_grad_del_weighted  (sounding_id) float32 ...\n",
       "    Var_1s_dPsurf_weighted        (sounding_id) float32 ...\n",
       "    Var_1s_DWS_weighted           (sounding_id) float32 ...\n",
       "    Var_1s_S31_weighted           (sounding_id) float32 ...\n",
       "    Var_1s_altitude_corrmean      (sounding_id) float32 ...\n",
       "    Var_1s_XCO2raw_corrmean       (sounding_id) float32 ...\n",
       "    Var_1s_XCO2biascorr_corrmean  (sounding_id) float32 ...\n",
       "    Var_1s_co2_grad_del_corrmean  (sounding_id) float32 ...\n",
       "    Var_1s_dPsurf_corrmean        (sounding_id) float32 ...\n",
       "    Var_1s_DWS_corrmean           (sounding_id) float32 ...\n",
       "    Var_1s_S31_corrmean           (sounding_id) float32 ...\n",
       "    Var_1s_XCO2raw                (sounding_id) float32 ...\n",
       "    Var_1s_XCO2biascorr           (sounding_id) float32 ...\n",
       "Attributes:\n",
       "    Conventions:  CF-1.0</pre>"
      ],
      "text/plain": [
       "<xarray.Dataset>\n",
       "Dimensions:                       (epoch_dimension: 7, levels: 20, sounding_id: 1319634)\n",
       "Coordinates:\n",
       "  * sounding_id                   (sounding_id) int64 20140906020721 ... 20190731225946\n",
       "Dimensions without coordinates: epoch_dimension, levels\n",
       "Data variables:\n",
       "    test_flag                     (sounding_id) int8 ...\n",
       "    latitude                      (sounding_id) float32 ...\n",
       "    longitude                     (sounding_id) float32 ...\n",
       "    data_type                     (sounding_id) int8 ...\n",
       "    date                          (sounding_id, epoch_dimension) int16 ...\n",
       "    time                          (sounding_id) datetime64[ns] ...\n",
       "    solar_zenith_angle            (sounding_id) float32 ...\n",
       "    solar_azimuth_angle           (sounding_id) float32 ...\n",
       "    sensor_zenith_angle           (sounding_id) float32 ...\n",
       "    sensor_azimuth_angle          (sounding_id) float32 ...\n",
       "    psurf_apriori_b8              (sounding_id) float32 ...\n",
       "    psurf_apriori_o2a             (sounding_id) float32 ...\n",
       "    psurf_apriori_wco2            (sounding_id) float32 ...\n",
       "    psurf_apriori_sco2            (sounding_id) float32 ...\n",
       "    psurf_apriori                 (sounding_id) float32 ...\n",
       "    psurf                         (sounding_id) float32 ...\n",
       "    xco2_raw                      (sounding_id) float32 ...\n",
       "    xco2_apriori                  (sounding_id) float32 ...\n",
       "    xco2                          (sounding_id) float32 ...\n",
       "    xco2_uncertainty              (sounding_id) float32 ...\n",
       "    model_error                   (sounding_id) float32 ...\n",
       "    co2_profile_apriori           (sounding_id, levels) float32 ...\n",
       "    xco2_averaging_kernel         (sounding_id, levels) float32 ...\n",
       "    pressure_weight               (sounding_id, levels) float32 ...\n",
       "    sigma_levels                  (levels) float32 ...\n",
       "    xco2_quality_flag             (sounding_id) int8 ...\n",
       "    warn_level                    (sounding_id) int8 ...\n",
       "    land_fraction                 (sounding_id) int8 ...\n",
       "    altitude                      (sounding_id) float32 ...\n",
       "    airmass                       (sounding_id) float32 ...\n",
       "    path                          (sounding_id) int16 ...\n",
       "    operation_mode                (sounding_id) int8 ...\n",
       "    land_water_indicator          (sounding_id) int8 ...\n",
       "    surface_type                  (sounding_id) int8 ...\n",
       "    fs                            (sounding_id) float32 ...\n",
       "    delta_windspeed               (sounding_id) float32 ...\n",
       "    s31                           (sounding_id) float32 ...\n",
       "    s32                           (sounding_id) float32 ...\n",
       "    albedo_3                      (sounding_id) float32 ...\n",
       "    albedo_slope_3                (sounding_id) float32 ...\n",
       "    aod_total                     (sounding_id) float32 ...\n",
       "    albedo_2                      (sounding_id) float32 ...\n",
       "    co2_grad_del                  (sounding_id) float32 ...\n",
       "    dws                           (sounding_id) float32 ...\n",
       "    dpfrac                        (sounding_id) float32 ...\n",
       "    dp_o2a                        (sounding_id) float32 ...\n",
       "    dp                            (sounding_id) float32 ...\n",
       "    dp_abp                        (sounding_id) float32 ...\n",
       "    co2_ratio                     (sounding_id) float32 ...\n",
       "    h2o_ratio                     (sounding_id) float32 ...\n",
       "    xco2_weak_idp                 (sounding_id) float32 ...\n",
       "    xco2_strong_idp               (sounding_id) float32 ...\n",
       "    tcwv_apriori                  (sounding_id) float32 ...\n",
       "    tcwv                          (sounding_id) float32 ...\n",
       "    ice_height                    (sounding_id) float32 ...\n",
       "    h2o_scale                     (sounding_id) float32 ...\n",
       "    deltaT                        (sounding_id) float32 ...\n",
       "    snr_o2a                       (sounding_id) float32 ...\n",
       "    snr_wco2                      (sounding_id) float32 ...\n",
       "    snr_sco2                      (sounding_id) float32 ...\n",
       "    altitude_stddev               (sounding_id) float32 ...\n",
       "    N_total_shots                 (sounding_id) int32 ...\n",
       "    Var_1s_altitude_weighted      (sounding_id) float32 ...\n",
       "    Var_1s_XCO2raw_weighted       (sounding_id) float32 ...\n",
       "    Var_1s_XCO2biascorr_weighted  (sounding_id) float32 ...\n",
       "    Var_1s_co2_grad_del_weighted  (sounding_id) float32 ...\n",
       "    Var_1s_dPsurf_weighted        (sounding_id) float32 ...\n",
       "    Var_1s_DWS_weighted           (sounding_id) float32 ...\n",
       "    Var_1s_S31_weighted           (sounding_id) float32 ...\n",
       "    Var_1s_altitude_corrmean      (sounding_id) float32 ...\n",
       "    Var_1s_XCO2raw_corrmean       (sounding_id) float32 ...\n",
       "    Var_1s_XCO2biascorr_corrmean  (sounding_id) float32 ...\n",
       "    Var_1s_co2_grad_del_corrmean  (sounding_id) float32 ...\n",
       "    Var_1s_dPsurf_corrmean        (sounding_id) float32 ...\n",
       "    Var_1s_DWS_corrmean           (sounding_id) float32 ...\n",
       "    Var_1s_S31_corrmean           (sounding_id) float32 ...\n",
       "    Var_1s_XCO2raw                (sounding_id) float32 ...\n",
       "    Var_1s_XCO2biascorr           (sounding_id) float32 ...\n",
       "Attributes:\n",
       "    Conventions:  CF-1.0"
      ]
     },
     "execution_count": 20,
     "metadata": {},
     "output_type": "execute_result"
    }
   ],
   "source": [
    "ds = xr.open_dataset(input_file, engine='netcdf4')\n",
    "sigma_levels = ds['sigma_levels'] #['xco2_averaging_kernel'].name\n",
    "ds"
   ]
  },
  {
   "cell_type": "code",
   "execution_count": 21,
   "metadata": {},
   "outputs": [
    {
     "name": "stdout",
     "output_type": "stream",
     "text": [
      "begining sound id of extraction: 20180201000000\n",
      "end: 20180301000000\n"
     ]
    }
   ],
   "source": [
    "# convert time input to match the format of sound_id\n",
    "first_day_digital = re.sub(\"[^0-9]\", \"\", first_day)\n",
    "last_day_p1_digital = re.sub(\"[^0-9]\", \"\", last_day_p1)\n",
    "begin = int(first_day_digital + '000000')  # begin and end of time slice we want to look at\n",
    "end = int(last_day_p1_digital + '000000')  # OCO-2 format\n",
    "print('begining sound id of extraction: ' + str(begin))\n",
    "print('end: ' + str(end))"
   ]
  },
  {
   "cell_type": "code",
   "execution_count": 22,
   "metadata": {},
   "outputs": [],
   "source": [
    "# get a slice of data within begin and end\n",
    "ds_slice = ds.sel(sounding_id=slice(begin,end)) # xarray Dataset"
   ]
  },
  {
   "cell_type": "code",
   "execution_count": 23,
   "metadata": {},
   "outputs": [],
   "source": [
    "lon_series = ds_slice['longitude']              # lon and lat position, 1d\n",
    "lat_series = ds_slice['latitude']\n",
    "sound_id   = ds_slice['sounding_id']            # sound id, 1d\n",
    "sigma      = ds['sigma_levels']                 # sigma levels, 20 values\n",
    "# xarray dataarray"
   ]
  },
  {
   "cell_type": "code",
   "execution_count": 24,
   "metadata": {},
   "outputs": [
    {
     "data": {
      "text/plain": [
       "17384"
      ]
     },
     "execution_count": 24,
     "metadata": {},
     "output_type": "execute_result"
    }
   ],
   "source": [
    "# position dataframe, used in for loops to locate\n",
    "df_position = pd.DataFrame({'sound_id': sound_id, \n",
    "                            'lon': lon_series, \n",
    "                            'lat': lat_series})\n",
    "len(df_position) #.head()"
   ]
  },
  {
   "cell_type": "code",
   "execution_count": 25,
   "metadata": {},
   "outputs": [],
   "source": [
    "# Creat target dataarray and dataset\n",
    "lat_res = 2    # horizontal resolution of lat and lon you would want\n",
    "lon_res = 2.5\n",
    "lat = np.linspace(-90, 90, int(180/lat_res + 1)) # grid\n",
    "lon = np.linspace(-180, 177.5, int(360/lon_res))\n",
    "levels = ds_slice.sigma_levels.values\n",
    "\n",
    "day_1   = np.array(first_day,dtype='datetime64[D]')\n",
    "day_end = np.array(last_day_p1,dtype='datetime64[D]')\n",
    "days    = np.arange(day_1, day_end, dtype='datetime64[D]') # time dimension of output\n",
    "\n",
    "var_3d = xr.DataArray(data = 0, \n",
    "                      dims = ('date', 'lat', 'lon'), \n",
    "                      coords = {'date': days,\n",
    "                                'lat': lat,\n",
    "                                'lon': lon},\n",
    "                      name = '')\n",
    "var_3d = var_3d.astype(dtype='float32')\n",
    "\n",
    "var_4d = xr.DataArray(data = 0, \n",
    "                      dims = ('date', 'lev', 'lat', 'lon'), # same as model order\n",
    "                      coords = {'date': days,\n",
    "                                'lev': levels,\n",
    "                                'lat': lat,\n",
    "                                'lon': lon},\n",
    "                      name = 'xco2_averaging_kernel')\n",
    "\n",
    "var_4d = var_4d.astype(dtype='float32')\n",
    "oco2 = var_4d.to_dataset() # initialise a dataset to store all dataarrays"
   ]
  },
  {
   "cell_type": "code",
   "execution_count": 26,
   "metadata": {},
   "outputs": [
    {
     "data": {
      "text/html": [
       "<pre>&lt;xarray.Dataset&gt;\n",
       "Dimensions:                (date: 28, lat: 91, lev: 20, lon: 144)\n",
       "Coordinates:\n",
       "  * date                   (date) datetime64[ns] 2018-02-01 ... 2018-02-28\n",
       "  * lev                    (lev) float32 1e-04 0.05263158 ... 0.94736844 1.0\n",
       "  * lat                    (lat) float64 -90.0 -88.0 -86.0 ... 86.0 88.0 90.0\n",
       "  * lon                    (lon) float64 -180.0 -177.5 -175.0 ... 175.0 177.5\n",
       "Data variables:\n",
       "    xco2_averaging_kernel  (date, lev, lat, lon) float32 0.0 0.0 0.0 ... 0.0 0.0</pre>"
      ],
      "text/plain": [
       "<xarray.Dataset>\n",
       "Dimensions:                (date: 28, lat: 91, lev: 20, lon: 144)\n",
       "Coordinates:\n",
       "  * date                   (date) datetime64[ns] 2018-02-01 ... 2018-02-28\n",
       "  * lev                    (lev) float32 1e-04 0.05263158 ... 0.94736844 1.0\n",
       "  * lat                    (lat) float64 -90.0 -88.0 -86.0 ... 86.0 88.0 90.0\n",
       "  * lon                    (lon) float64 -180.0 -177.5 -175.0 ... 175.0 177.5\n",
       "Data variables:\n",
       "    xco2_averaging_kernel  (date, lev, lat, lon) float32 0.0 0.0 0.0 ... 0.0 0.0"
      ]
     },
     "execution_count": 26,
     "metadata": {},
     "output_type": "execute_result"
    }
   ],
   "source": [
    "oco2"
   ]
  },
  {
   "cell_type": "code",
   "execution_count": 27,
   "metadata": {},
   "outputs": [],
   "source": [
    "#days_range = np.arange(first_day, last_day_p1, dtype='datetime64[D]')\n",
    "#days_range"
   ]
  },
  {
   "cell_type": "code",
   "execution_count": 28,
   "metadata": {},
   "outputs": [
    {
     "name": "stdout",
     "output_type": "stream",
     "text": [
      "xco2\n",
      "2018-02-01\n",
      "2018-02-02\n",
      "2018-02-03\n",
      "2018-02-04\n",
      "2018-02-05\n",
      "2018-02-06\n",
      "2018-02-07\n",
      "2018-02-08\n",
      "2018-02-09\n",
      "2018-02-10\n",
      "2018-02-11\n",
      "2018-02-12\n",
      "2018-02-13\n",
      "2018-02-14\n",
      "2018-02-15\n",
      "2018-02-16\n",
      "2018-02-17\n",
      "2018-02-18\n",
      "2018-02-19\n",
      "2018-02-20\n",
      "2018-02-21\n",
      "2018-02-22\n",
      "2018-02-23\n",
      "2018-02-24\n",
      "2018-02-25\n",
      "2018-02-26\n",
      "2018-02-27\n",
      "psurf\n",
      "2018-02-01\n",
      "2018-02-02\n",
      "2018-02-03\n",
      "2018-02-04\n",
      "2018-02-05\n",
      "2018-02-06\n",
      "2018-02-07\n",
      "2018-02-08\n",
      "2018-02-09\n",
      "2018-02-10\n",
      "2018-02-11\n",
      "2018-02-12\n",
      "2018-02-13\n",
      "2018-02-14\n",
      "2018-02-15\n",
      "2018-02-16\n",
      "2018-02-17\n",
      "2018-02-18\n",
      "2018-02-19\n",
      "2018-02-20\n",
      "2018-02-21\n",
      "2018-02-22\n",
      "2018-02-23\n",
      "2018-02-24\n",
      "2018-02-25\n",
      "2018-02-26\n",
      "2018-02-27\n",
      "xco2_averaging_kernel\n",
      "2018-02-01\n",
      "2018-02-02\n",
      "2018-02-03\n",
      "2018-02-04\n",
      "2018-02-05\n",
      "2018-02-06\n",
      "2018-02-07\n",
      "2018-02-08\n",
      "2018-02-09\n",
      "2018-02-10\n",
      "2018-02-11\n",
      "2018-02-12\n",
      "2018-02-13\n",
      "2018-02-14\n",
      "2018-02-15\n",
      "2018-02-16\n",
      "2018-02-17\n",
      "2018-02-18\n",
      "2018-02-19\n",
      "2018-02-20\n",
      "2018-02-21\n",
      "2018-02-22\n",
      "2018-02-23\n",
      "2018-02-24\n",
      "2018-02-25\n",
      "2018-02-26\n",
      "2018-02-27\n",
      "co2_profile_apriori\n",
      "2018-02-01\n",
      "2018-02-02\n",
      "2018-02-03\n",
      "2018-02-04\n",
      "2018-02-05\n",
      "2018-02-06\n",
      "2018-02-07\n",
      "2018-02-08\n",
      "2018-02-09\n",
      "2018-02-10\n",
      "2018-02-11\n",
      "2018-02-12\n",
      "2018-02-13\n",
      "2018-02-14\n",
      "2018-02-15\n",
      "2018-02-16\n",
      "2018-02-17\n",
      "2018-02-18\n",
      "2018-02-19\n",
      "2018-02-20\n",
      "2018-02-21\n",
      "2018-02-22\n",
      "2018-02-23\n",
      "2018-02-24\n",
      "2018-02-25\n",
      "2018-02-26\n",
      "2018-02-27\n",
      "pressure_weight\n",
      "2018-02-01\n",
      "2018-02-02\n",
      "2018-02-03\n",
      "2018-02-04\n",
      "2018-02-05\n",
      "2018-02-06\n",
      "2018-02-07\n",
      "2018-02-08\n",
      "2018-02-09\n",
      "2018-02-10\n",
      "2018-02-11\n",
      "2018-02-12\n",
      "2018-02-13\n",
      "2018-02-14\n",
      "2018-02-15\n",
      "2018-02-16\n",
      "2018-02-17\n",
      "2018-02-18\n",
      "2018-02-19\n",
      "2018-02-20\n",
      "2018-02-21\n",
      "2018-02-22\n",
      "2018-02-23\n",
      "2018-02-24\n",
      "2018-02-25\n",
      "2018-02-26\n",
      "2018-02-27\n",
      "xco2_uncertainty\n",
      "2018-02-01\n",
      "2018-02-02\n",
      "2018-02-03\n",
      "2018-02-04\n",
      "2018-02-05\n",
      "2018-02-06\n",
      "2018-02-07\n",
      "2018-02-08\n",
      "2018-02-09\n",
      "2018-02-10\n",
      "2018-02-11\n",
      "2018-02-12\n",
      "2018-02-13\n",
      "2018-02-14\n",
      "2018-02-15\n",
      "2018-02-16\n",
      "2018-02-17\n",
      "2018-02-18\n",
      "2018-02-19\n",
      "2018-02-20\n",
      "2018-02-21\n",
      "2018-02-22\n",
      "2018-02-23\n",
      "2018-02-24\n",
      "2018-02-25\n",
      "2018-02-26\n",
      "2018-02-27\n",
      "operation_mode\n",
      "2018-02-01\n",
      "2018-02-02\n",
      "2018-02-03\n",
      "2018-02-04\n",
      "2018-02-05\n",
      "2018-02-06\n",
      "2018-02-07\n",
      "2018-02-08\n",
      "2018-02-09\n",
      "2018-02-10\n",
      "2018-02-11\n",
      "2018-02-12\n",
      "2018-02-13\n",
      "2018-02-14\n",
      "2018-02-15\n",
      "2018-02-16\n",
      "2018-02-17\n",
      "2018-02-18\n",
      "2018-02-19\n",
      "2018-02-20\n",
      "2018-02-21\n",
      "2018-02-22\n",
      "2018-02-23\n",
      "2018-02-24\n",
      "2018-02-25\n",
      "2018-02-26\n",
      "2018-02-27\n"
     ]
    }
   ],
   "source": [
    "# map to target grid and store in dataset\n",
    "for ivar in var_names:\n",
    "    print(ivar)\n",
    "    nm_dim = len(ds[ivar].dims)\n",
    "    var_3d[:,:,:] = 0\n",
    "    var_4d[:,:,:,:] = 0\n",
    "    \n",
    "    for iday in np.arange(len(days)-1):\n",
    "        day1=re.sub(\"[^0-9]\", \"\", str(days[iday]))\n",
    "        day2=re.sub(\"[^0-9]\", \"\", str(days[iday+1]))\n",
    "        begin = int(str(day1) + '000000')  # begin and end of time slice we want to look at\n",
    "        end = int(str(day2) + '000000')  # OCO-2 format\n",
    "        # get a slice of position data within a day\n",
    "        df_time_slice = df_position[df_position['sound_id'].between(begin, end)]\n",
    "        \n",
    "        for ilat in np.arange(len(lat)-1):\n",
    "            # get a slice of position data within a degree of latitude band\n",
    "            df_slice_lat = df_time_slice[df_time_slice['lat'].between(lat[ilat]-0.5*lat_res,lat[ilat]+0.5*lat_res, inclusive = True)]\n",
    "            \n",
    "            for ilon in np.arange(len(lon)-1):\n",
    "                # get a slice of position data within a degree of longitude band, i.e. a grid cell in one day\n",
    "                df_slice_lon = df_slice_lat[df_slice_lat['lon'].between(lon[ilon]-0.5*lon_res,lon[ilon]+0.5*lon_res, inclusive = True)]\n",
    "            \n",
    "                if len(df_slice_lon) != 0: # check if zero\n",
    "                    sound_slice = df_slice_lon.sound_id.values # localtion of points, in sound id                \n",
    "                    var_slice = ds[ivar].sel(sounding_id=sound_slice)\n",
    "                    \n",
    "                    if(len(var_slice.dims) == 1):\n",
    "                        var_3d[iday,ilat,ilon] = var_slice.mean().values\n",
    "                    else:\n",
    "                        var_4d[iday,:,ilat,ilon] = var_slice.mean(dim='sounding_id').values\n",
    "                        \n",
    "        print(days[iday])\n",
    "        \n",
    "    if(nm_dim == 1):\n",
    "        oco2[ivar] = var_3d.copy(deep=True)\n",
    "    else:\n",
    "        oco2[ivar] = var_4d.copy(deep=True)"
   ]
  },
  {
   "cell_type": "code",
   "execution_count": 29,
   "metadata": {},
   "outputs": [
    {
     "data": {
      "text/html": [
       "<pre>&lt;xarray.DataArray &#x27;operation_mode&#x27; ()&gt;\n",
       "array(334., dtype=float32)\n",
       "Coordinates:\n",
       "    date     datetime64[ns] 2018-02-01</pre>"
      ],
      "text/plain": [
       "<xarray.DataArray 'operation_mode' ()>\n",
       "array(334., dtype=float32)\n",
       "Coordinates:\n",
       "    date     datetime64[ns] 2018-02-01"
      ]
     },
     "execution_count": 29,
     "metadata": {},
     "output_type": "execute_result"
    }
   ],
   "source": [
    "oco2['operation_mode'].isel(date=0).sum()"
   ]
  },
  {
   "cell_type": "code",
   "execution_count": 30,
   "metadata": {},
   "outputs": [
    {
     "data": {
      "image/png": "[encoded data removed]",
      "text/plain": [
       "<Figure size 432x432 with 2 Axes>"
      ]
     },
     "metadata": {
      "image/png": {
       "height": 164,
       "width": 336
      },
      "needs_background": "light"
     },
     "output_type": "display_data"
    }
   ],
   "source": [
    "# plot after mapping\n",
    "fig = plt.figure(figsize=[6, 6])\n",
    "proj=ccrs.PlateCarree()\n",
    "\n",
    "ax = plt.subplot(111, projection=proj)\n",
    "ax.coastlines()\n",
    "#tmp = oco2['psurf'] - oco2['xco2']\n",
    "oco2['operation_mode'].isel(date=0).plot(ax=ax, transform=ccrs.PlateCarree(), cmap=WhGrYlRd, cbar_kwargs={'shrink': 0.4, 'label': ' '})\n",
    "\n",
    "ax.set_title('OCO-2: XCO2');"
   ]
  },
  {
   "cell_type": "code",
   "execution_count": 31,
   "metadata": {},
   "outputs": [
    {
     "data": {
      "text/plain": [
       "<matplotlib.axes._subplots.AxesSubplot at 0x2b35e6a30940>"
      ]
     },
     "execution_count": 31,
     "metadata": {},
     "output_type": "execute_result"
    },
    {
     "data": {
      "image/png": "[encoded data removed]",
      "text/plain": [
       "<Figure size 432x288 with 1 Axes>"
      ]
     },
     "metadata": {
      "image/png": {
       "height": 257,
       "width": 446
      },
      "needs_background": "light"
     },
     "output_type": "display_data"
    }
   ],
   "source": [
    "tmp = oco2.xco2.to_dataframe()\n",
    "len(tmp)\n",
    "tmp.plot()"
   ]
  },
  {
   "cell_type": "code",
   "execution_count": 32,
   "metadata": {},
   "outputs": [],
   "source": [
    "oco2.to_netcdf(output_file)"
   ]
  },
  {
   "cell_type": "code",
   "execution_count": null,
   "metadata": {},
   "outputs": [],
   "source": []
  }
 ],
 "metadata": {
  "kernelspec": {
   "display_name": "Python 3",
   "language": "python",
   "name": "python3"
  },
  "language_info": {
   "codemirror_mode": {
    "name": "ipython",
    "version": 3
   },
   "file_extension": ".py",
   "mimetype": "text/x-python",
   "name": "python",
   "nbconvert_exporter": "python",
   "pygments_lexer": "ipython3",
   "version": "3.6.10"
  }
 },
 "nbformat": 4,
 "nbformat_minor": 2
}
