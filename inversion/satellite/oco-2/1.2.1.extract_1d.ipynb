{
 "cells": [
  {
   "cell_type": "markdown",
   "metadata": {},
   "source": [
    "# Extract data in OCO-2 dataset and keep dimension"
   ]
  },
  {
   "cell_type": "code",
   "execution_count": 3,
   "metadata": {},
   "outputs": [],
   "source": [
    "# to display plots in notebook\n",
    "%matplotlib inline\n",
    "%config InlineBackend.figure_format = \"retina\"\n",
    "\n",
    "from matplotlib import rcParams\n",
    "rcParams[\"savefig.dpi\"] = 300  # high res plots\n",
    "rcParams[\"font.size\"] = 8\n",
    "\n",
    "import warnings\n",
    "warnings.filterwarnings('ignore')"
   ]
  },
  {
   "cell_type": "markdown",
   "metadata": {},
   "source": [
    "## Import packages"
   ]
  },
  {
   "cell_type": "code",
   "execution_count": 4,
   "metadata": {},
   "outputs": [],
   "source": [
    "import matplotlib.pyplot as plt # plots\n",
    "import cartopy.crs as ccrs      # map projections\n",
    "import pandas as pd             # large arrays\n",
    "import numpy as np              # large arrays and matrices\n",
    "import xarray as xr             # major tool to work with NetCDF data!\n",
    "# custom color map downloaded from GEOS-Chem python tutorial\n",
    "from gamap_colormap import WhGrYlRd  # import the \"WhGrYlRd\" variable\n",
    "import re"
   ]
  },
  {
   "cell_type": "markdown",
   "metadata": {},
   "source": [
    "### Read in OCO-2 file"
   ]
  },
  {
   "cell_type": "code",
   "execution_count": 5,
   "metadata": {},
   "outputs": [],
   "source": [
    "#fname = '/home/msadiq/Desktop/co2/data/satellite/OCO2_b91_10sec_GOOD_r24.nc4'\n",
    "fname = '/geos/u73/msadiq/satellite/oco-2/OCO2_b91_10sec_GOOD_r24.nc4'\n",
    "ds = xr.open_dataset(fname, engine='netcdf4')\n",
    "#ds # same as print(ds)"
   ]
  },
  {
   "cell_type": "code",
   "execution_count": 6,
   "metadata": {},
   "outputs": [],
   "source": [
    "# first and last day of extraction\n",
    "first_day = '2018-03-01'\n",
    "last_day_p1 = '2018-04-01' # last day plus 1"
   ]
  },
  {
   "cell_type": "code",
   "execution_count": 7,
   "metadata": {},
   "outputs": [
    {
     "data": {
      "text/plain": [
       "20180301000000"
      ]
     },
     "execution_count": 7,
     "metadata": {},
     "output_type": "execute_result"
    }
   ],
   "source": [
    "# convert time input to match the format of sound_id\n",
    "first_day_digital = re.sub(\"[^0-9]\", \"\", first_day)\n",
    "last_day_p1_digital = re.sub(\"[^0-9]\", \"\", last_day_p1)\n",
    "begin = int(first_day_digital + '000000')  # begin and end of time slice we want to look at\n",
    "end = int(last_day_p1_digital + '000000')  # OCO-2 format\n",
    "begin"
   ]
  },
  {
   "cell_type": "code",
   "execution_count": 8,
   "metadata": {},
   "outputs": [
    {
     "data": {
      "text/html": [
       "<pre>&lt;xarray.Dataset&gt;\n",
       "Dimensions:                       (epoch_dimension: 7, levels: 20, sounding_id: 26772)\n",
       "Coordinates:\n",
       "  * sounding_id                   (sounding_id) int64 20180301005336 ... 20180331224906\n",
       "Dimensions without coordinates: epoch_dimension, levels\n",
       "Data variables:\n",
       "    test_flag                     (sounding_id) int8 ...\n",
       "    latitude                      (sounding_id) float32 ...\n",
       "    longitude                     (sounding_id) float32 ...\n",
       "    data_type                     (sounding_id) int8 ...\n",
       "    date                          (sounding_id, epoch_dimension) int16 ...\n",
       "    time                          (sounding_id) datetime64[ns] ...\n",
       "    solar_zenith_angle            (sounding_id) float32 ...\n",
       "    solar_azimuth_angle           (sounding_id) float32 ...\n",
       "    sensor_zenith_angle           (sounding_id) float32 ...\n",
       "    sensor_azimuth_angle          (sounding_id) float32 ...\n",
       "    psurf_apriori_b8              (sounding_id) float32 ...\n",
       "    psurf_apriori_o2a             (sounding_id) float32 ...\n",
       "    psurf_apriori_wco2            (sounding_id) float32 ...\n",
       "    psurf_apriori_sco2            (sounding_id) float32 ...\n",
       "    psurf_apriori                 (sounding_id) float32 ...\n",
       "    psurf                         (sounding_id) float32 ...\n",
       "    xco2_raw                      (sounding_id) float32 ...\n",
       "    xco2_apriori                  (sounding_id) float32 ...\n",
       "    xco2                          (sounding_id) float32 ...\n",
       "    xco2_uncertainty              (sounding_id) float32 ...\n",
       "    model_error                   (sounding_id) float32 ...\n",
       "    co2_profile_apriori           (sounding_id, levels) float32 ...\n",
       "    xco2_averaging_kernel         (sounding_id, levels) float32 ...\n",
       "    pressure_weight               (sounding_id, levels) float32 ...\n",
       "    sigma_levels                  (levels) float32 ...\n",
       "    xco2_quality_flag             (sounding_id) int8 ...\n",
       "    warn_level                    (sounding_id) int8 ...\n",
       "    land_fraction                 (sounding_id) int8 ...\n",
       "    altitude                      (sounding_id) float32 ...\n",
       "    airmass                       (sounding_id) float32 ...\n",
       "    path                          (sounding_id) int16 ...\n",
       "    operation_mode                (sounding_id) int8 ...\n",
       "    land_water_indicator          (sounding_id) int8 ...\n",
       "    surface_type                  (sounding_id) int8 ...\n",
       "    fs                            (sounding_id) float32 ...\n",
       "    delta_windspeed               (sounding_id) float32 ...\n",
       "    s31                           (sounding_id) float32 ...\n",
       "    s32                           (sounding_id) float32 ...\n",
       "    albedo_3                      (sounding_id) float32 ...\n",
       "    albedo_slope_3                (sounding_id) float32 ...\n",
       "    aod_total                     (sounding_id) float32 ...\n",
       "    albedo_2                      (sounding_id) float32 ...\n",
       "    co2_grad_del                  (sounding_id) float32 ...\n",
       "    dws                           (sounding_id) float32 ...\n",
       "    dpfrac                        (sounding_id) float32 ...\n",
       "    dp_o2a                        (sounding_id) float32 ...\n",
       "    dp                            (sounding_id) float32 ...\n",
       "    dp_abp                        (sounding_id) float32 ...\n",
       "    co2_ratio                     (sounding_id) float32 ...\n",
       "    h2o_ratio                     (sounding_id) float32 ...\n",
       "    xco2_weak_idp                 (sounding_id) float32 ...\n",
       "    xco2_strong_idp               (sounding_id) float32 ...\n",
       "    tcwv_apriori                  (sounding_id) float32 ...\n",
       "    tcwv                          (sounding_id) float32 ...\n",
       "    ice_height                    (sounding_id) float32 ...\n",
       "    h2o_scale                     (sounding_id) float32 ...\n",
       "    deltaT                        (sounding_id) float32 ...\n",
       "    snr_o2a                       (sounding_id) float32 ...\n",
       "    snr_wco2                      (sounding_id) float32 ...\n",
       "    snr_sco2                      (sounding_id) float32 ...\n",
       "    altitude_stddev               (sounding_id) float32 ...\n",
       "    N_total_shots                 (sounding_id) int32 ...\n",
       "    Var_1s_altitude_weighted      (sounding_id) float32 ...\n",
       "    Var_1s_XCO2raw_weighted       (sounding_id) float32 ...\n",
       "    Var_1s_XCO2biascorr_weighted  (sounding_id) float32 ...\n",
       "    Var_1s_co2_grad_del_weighted  (sounding_id) float32 ...\n",
       "    Var_1s_dPsurf_weighted        (sounding_id) float32 ...\n",
       "    Var_1s_DWS_weighted           (sounding_id) float32 ...\n",
       "    Var_1s_S31_weighted           (sounding_id) float32 ...\n",
       "    Var_1s_altitude_corrmean      (sounding_id) float32 ...\n",
       "    Var_1s_XCO2raw_corrmean       (sounding_id) float32 ...\n",
       "    Var_1s_XCO2biascorr_corrmean  (sounding_id) float32 ...\n",
       "    Var_1s_co2_grad_del_corrmean  (sounding_id) float32 ...\n",
       "    Var_1s_dPsurf_corrmean        (sounding_id) float32 ...\n",
       "    Var_1s_DWS_corrmean           (sounding_id) float32 ...\n",
       "    Var_1s_S31_corrmean           (sounding_id) float32 ...\n",
       "    Var_1s_XCO2raw                (sounding_id) float32 ...\n",
       "    Var_1s_XCO2biascorr           (sounding_id) float32 ...\n",
       "Attributes:\n",
       "    Conventions:  CF-1.0</pre>"
      ],
      "text/plain": [
       "<xarray.Dataset>\n",
       "Dimensions:                       (epoch_dimension: 7, levels: 20, sounding_id: 26772)\n",
       "Coordinates:\n",
       "  * sounding_id                   (sounding_id) int64 20180301005336 ... 20180331224906\n",
       "Dimensions without coordinates: epoch_dimension, levels\n",
       "Data variables:\n",
       "    test_flag                     (sounding_id) int8 ...\n",
       "    latitude                      (sounding_id) float32 ...\n",
       "    longitude                     (sounding_id) float32 ...\n",
       "    data_type                     (sounding_id) int8 ...\n",
       "    date                          (sounding_id, epoch_dimension) int16 ...\n",
       "    time                          (sounding_id) datetime64[ns] ...\n",
       "    solar_zenith_angle            (sounding_id) float32 ...\n",
       "    solar_azimuth_angle           (sounding_id) float32 ...\n",
       "    sensor_zenith_angle           (sounding_id) float32 ...\n",
       "    sensor_azimuth_angle          (sounding_id) float32 ...\n",
       "    psurf_apriori_b8              (sounding_id) float32 ...\n",
       "    psurf_apriori_o2a             (sounding_id) float32 ...\n",
       "    psurf_apriori_wco2            (sounding_id) float32 ...\n",
       "    psurf_apriori_sco2            (sounding_id) float32 ...\n",
       "    psurf_apriori                 (sounding_id) float32 ...\n",
       "    psurf                         (sounding_id) float32 ...\n",
       "    xco2_raw                      (sounding_id) float32 ...\n",
       "    xco2_apriori                  (sounding_id) float32 ...\n",
       "    xco2                          (sounding_id) float32 ...\n",
       "    xco2_uncertainty              (sounding_id) float32 ...\n",
       "    model_error                   (sounding_id) float32 ...\n",
       "    co2_profile_apriori           (sounding_id, levels) float32 ...\n",
       "    xco2_averaging_kernel         (sounding_id, levels) float32 ...\n",
       "    pressure_weight               (sounding_id, levels) float32 ...\n",
       "    sigma_levels                  (levels) float32 ...\n",
       "    xco2_quality_flag             (sounding_id) int8 ...\n",
       "    warn_level                    (sounding_id) int8 ...\n",
       "    land_fraction                 (sounding_id) int8 ...\n",
       "    altitude                      (sounding_id) float32 ...\n",
       "    airmass                       (sounding_id) float32 ...\n",
       "    path                          (sounding_id) int16 ...\n",
       "    operation_mode                (sounding_id) int8 ...\n",
       "    land_water_indicator          (sounding_id) int8 ...\n",
       "    surface_type                  (sounding_id) int8 ...\n",
       "    fs                            (sounding_id) float32 ...\n",
       "    delta_windspeed               (sounding_id) float32 ...\n",
       "    s31                           (sounding_id) float32 ...\n",
       "    s32                           (sounding_id) float32 ...\n",
       "    albedo_3                      (sounding_id) float32 ...\n",
       "    albedo_slope_3                (sounding_id) float32 ...\n",
       "    aod_total                     (sounding_id) float32 ...\n",
       "    albedo_2                      (sounding_id) float32 ...\n",
       "    co2_grad_del                  (sounding_id) float32 ...\n",
       "    dws                           (sounding_id) float32 ...\n",
       "    dpfrac                        (sounding_id) float32 ...\n",
       "    dp_o2a                        (sounding_id) float32 ...\n",
       "    dp                            (sounding_id) float32 ...\n",
       "    dp_abp                        (sounding_id) float32 ...\n",
       "    co2_ratio                     (sounding_id) float32 ...\n",
       "    h2o_ratio                     (sounding_id) float32 ...\n",
       "    xco2_weak_idp                 (sounding_id) float32 ...\n",
       "    xco2_strong_idp               (sounding_id) float32 ...\n",
       "    tcwv_apriori                  (sounding_id) float32 ...\n",
       "    tcwv                          (sounding_id) float32 ...\n",
       "    ice_height                    (sounding_id) float32 ...\n",
       "    h2o_scale                     (sounding_id) float32 ...\n",
       "    deltaT                        (sounding_id) float32 ...\n",
       "    snr_o2a                       (sounding_id) float32 ...\n",
       "    snr_wco2                      (sounding_id) float32 ...\n",
       "    snr_sco2                      (sounding_id) float32 ...\n",
       "    altitude_stddev               (sounding_id) float32 ...\n",
       "    N_total_shots                 (sounding_id) int32 ...\n",
       "    Var_1s_altitude_weighted      (sounding_id) float32 ...\n",
       "    Var_1s_XCO2raw_weighted       (sounding_id) float32 ...\n",
       "    Var_1s_XCO2biascorr_weighted  (sounding_id) float32 ...\n",
       "    Var_1s_co2_grad_del_weighted  (sounding_id) float32 ...\n",
       "    Var_1s_dPsurf_weighted        (sounding_id) float32 ...\n",
       "    Var_1s_DWS_weighted           (sounding_id) float32 ...\n",
       "    Var_1s_S31_weighted           (sounding_id) float32 ...\n",
       "    Var_1s_altitude_corrmean      (sounding_id) float32 ...\n",
       "    Var_1s_XCO2raw_corrmean       (sounding_id) float32 ...\n",
       "    Var_1s_XCO2biascorr_corrmean  (sounding_id) float32 ...\n",
       "    Var_1s_co2_grad_del_corrmean  (sounding_id) float32 ...\n",
       "    Var_1s_dPsurf_corrmean        (sounding_id) float32 ...\n",
       "    Var_1s_DWS_corrmean           (sounding_id) float32 ...\n",
       "    Var_1s_S31_corrmean           (sounding_id) float32 ...\n",
       "    Var_1s_XCO2raw                (sounding_id) float32 ...\n",
       "    Var_1s_XCO2biascorr           (sounding_id) float32 ...\n",
       "Attributes:\n",
       "    Conventions:  CF-1.0"
      ]
     },
     "execution_count": 8,
     "metadata": {},
     "output_type": "execute_result"
    }
   ],
   "source": [
    "ds_slice = ds.sel(sounding_id=slice(begin,end))\n",
    "#ds_slice"
   ]
  },
  {
   "cell_type": "code",
   "execution_count": 9,
   "metadata": {},
   "outputs": [],
   "source": [
    "xco2       = ds_slice['xco2']\n",
    "xco2_uncert= ds_slice['xco2_uncertainty']\n",
    "dr_kernel  = ds_slice['xco2_averaging_kernel']  # averaging kernel to get xco2 from [co2]\n",
    "lon_series = ds_slice['longitude']\n",
    "lat_series = ds_slice['latitude']\n",
    "sound_id   = ds_slice['sounding_id']"
   ]
  },
  {
   "cell_type": "code",
   "execution_count": 10,
   "metadata": {},
   "outputs": [
    {
     "data": {
      "text/plain": [
       "26772"
      ]
     },
     "execution_count": 10,
     "metadata": {},
     "output_type": "execute_result"
    }
   ],
   "source": [
    "df_position = pd.DataFrame({'sound_id': sound_id, \n",
    "                            'lon': lon_series, \n",
    "                            'lat': lat_series})\n",
    "len(df_position) #.head()"
   ]
  },
  {
   "cell_type": "code",
   "execution_count": 67,
   "metadata": {},
   "outputs": [
    {
     "data": {
      "text/plain": [
       "array(['2018-03-01T00:00:00.000000000', '2018-03-01T00:00:00.000000000',\n",
       "       '2018-03-01T00:00:00.000000000', ...,\n",
       "       '2018-03-31T00:00:00.000000000', '2018-03-31T00:00:00.000000000',\n",
       "       '2018-03-31T00:00:00.000000000'], dtype='datetime64[ns]')"
      ]
     },
     "execution_count": 67,
     "metadata": {},
     "output_type": "execute_result"
    }
   ],
   "source": [
    "fname = '/geos/u73/msadiq/GEOS-Chem/rundirs/ensemble_runs/CO2-2018-01/nd51/2d_ts_satellite.201801-03.nc'\n",
    "target_file = xr.open_dataset(fname)\n",
    "length = len(target_file.record)\n",
    "march = target_file.sel(record=range(773136,length))#['date']# == any(days_range)\n",
    "march['date'].values"
   ]
  },
  {
   "cell_type": "code",
   "execution_count": 17,
   "metadata": {},
   "outputs": [],
   "source": [
    "lat  = target_file['lat'] # target coordinates\n",
    "lon  = target_file['lon']\n",
    "date = target_file['date']\n",
    "unique_dates = np.unique(date) # could loop over this"
   ]
  },
  {
   "cell_type": "code",
   "execution_count": 13,
   "metadata": {},
   "outputs": [],
   "source": [
    "# Create target grid\n",
    "lat_res = 2 # horizontal resolution of lat and lon you would want\n",
    "lon_res = 2.5\n",
    "lat = np.linspace(-90, 90, 91) # grid\n",
    "lon = np.linspace(-180, 177.5, 144)\n",
    "levels = ds_slice.sigma_levels.values\n",
    "\n",
    "day_1 = np.array(first_day,dtype='datetime64[D]')\n",
    "day_end = np.array(last_day_p1,dtype='datetime64[D]')\n",
    "days = np.arange(day_1, day_end, dtype='datetime64[D]') # time dimension of output\n",
    "\n",
    "kernel = xr.DataArray(data = 0, \n",
    "                      dims = ('lat', 'lon', 'time','levels'), \n",
    "                      coords = {'lat': lat,\n",
    "                                'lon': lon,\n",
    "                                'time': days,\n",
    "                                'levels': levels},\n",
    "                      name = 'kernel')\n",
    "\n",
    "kernel = kernel.astype(dtype='float32')\n",
    "#xco2"
   ]
  },
  {
   "cell_type": "code",
   "execution_count": 58,
   "metadata": {},
   "outputs": [
    {
     "name": "stdout",
     "output_type": "stream",
     "text": [
      "<class 'str'>\n"
     ]
    },
    {
     "data": {
      "text/plain": [
       "array(['2018-03-01', '2018-03-02', '2018-03-03', '2018-03-04',\n",
       "       '2018-03-05', '2018-03-06', '2018-03-07', '2018-03-08',\n",
       "       '2018-03-09', '2018-03-10', '2018-03-11', '2018-03-12',\n",
       "       '2018-03-13', '2018-03-14', '2018-03-15', '2018-03-16',\n",
       "       '2018-03-17', '2018-03-18', '2018-03-19', '2018-03-20',\n",
       "       '2018-03-21', '2018-03-22', '2018-03-23', '2018-03-24',\n",
       "       '2018-03-25', '2018-03-26', '2018-03-27', '2018-03-28',\n",
       "       '2018-03-29', '2018-03-30', '2018-03-31'], dtype='datetime64[D]')"
      ]
     },
     "execution_count": 58,
     "metadata": {},
     "output_type": "execute_result"
    }
   ],
   "source": [
    "print(type(last_day_p1_digital))\n",
    "days_range = np.arange(first_day, last_day_p1, dtype='datetime64[D]')\n",
    "days_range"
   ]
  },
  {
   "cell_type": "code",
   "execution_count": 15,
   "metadata": {},
   "outputs": [
    {
     "ename": "KeyboardInterrupt",
     "evalue": "",
     "output_type": "error",
     "traceback": [
      "\u001b[0;31m---------------------------------------------------------------------------\u001b[0m",
      "\u001b[0;31mKeyboardInterrupt\u001b[0m                         Traceback (most recent call last)",
      "\u001b[0;32m<ipython-input-15-074673bb671f>\u001b[0m in \u001b[0;36m<module>\u001b[0;34m\u001b[0m\n\u001b[1;32m     10\u001b[0m             \u001b[0mdf_time_slice\u001b[0m \u001b[0;34m=\u001b[0m \u001b[0mdf_position\u001b[0m\u001b[0;34m[\u001b[0m\u001b[0mdf_position\u001b[0m\u001b[0;34m[\u001b[0m\u001b[0;34m'sound_id'\u001b[0m\u001b[0;34m]\u001b[0m\u001b[0;34m.\u001b[0m\u001b[0mbetween\u001b[0m\u001b[0;34m(\u001b[0m\u001b[0mbegin\u001b[0m\u001b[0;34m,\u001b[0m \u001b[0mend\u001b[0m\u001b[0;34m)\u001b[0m\u001b[0;34m]\u001b[0m\u001b[0;34m\u001b[0m\u001b[0;34m\u001b[0m\u001b[0m\n\u001b[1;32m     11\u001b[0m             \u001b[0mdf_slice_lat\u001b[0m \u001b[0;34m=\u001b[0m \u001b[0mdf_time_slice\u001b[0m\u001b[0;34m[\u001b[0m\u001b[0mdf_time_slice\u001b[0m\u001b[0;34m[\u001b[0m\u001b[0;34m'lat'\u001b[0m\u001b[0;34m]\u001b[0m\u001b[0;34m.\u001b[0m\u001b[0mbetween\u001b[0m\u001b[0;34m(\u001b[0m\u001b[0mlat\u001b[0m\u001b[0;34m[\u001b[0m\u001b[0milat\u001b[0m\u001b[0;34m]\u001b[0m\u001b[0;34m,\u001b[0m\u001b[0mlat\u001b[0m\u001b[0;34m[\u001b[0m\u001b[0milat\u001b[0m\u001b[0;34m+\u001b[0m\u001b[0;36m1\u001b[0m\u001b[0;34m]\u001b[0m\u001b[0;34m,\u001b[0m \u001b[0minclusive\u001b[0m \u001b[0;34m=\u001b[0m \u001b[0;32mTrue\u001b[0m\u001b[0;34m)\u001b[0m\u001b[0;34m]\u001b[0m\u001b[0;34m\u001b[0m\u001b[0;34m\u001b[0m\u001b[0m\n\u001b[0;32m---> 12\u001b[0;31m             \u001b[0mdf_slice_lon\u001b[0m \u001b[0;34m=\u001b[0m \u001b[0mdf_slice_lat\u001b[0m\u001b[0;34m[\u001b[0m\u001b[0mdf_slice_lat\u001b[0m\u001b[0;34m[\u001b[0m\u001b[0;34m'lon'\u001b[0m\u001b[0;34m]\u001b[0m\u001b[0;34m.\u001b[0m\u001b[0mbetween\u001b[0m\u001b[0;34m(\u001b[0m\u001b[0mlon\u001b[0m\u001b[0;34m[\u001b[0m\u001b[0milon\u001b[0m\u001b[0;34m]\u001b[0m\u001b[0;34m,\u001b[0m\u001b[0mlon\u001b[0m\u001b[0;34m[\u001b[0m\u001b[0milon\u001b[0m\u001b[0;34m+\u001b[0m\u001b[0;36m1\u001b[0m\u001b[0;34m]\u001b[0m\u001b[0;34m,\u001b[0m \u001b[0minclusive\u001b[0m \u001b[0;34m=\u001b[0m \u001b[0;32mTrue\u001b[0m\u001b[0;34m)\u001b[0m\u001b[0;34m]\u001b[0m\u001b[0;34m\u001b[0m\u001b[0;34m\u001b[0m\u001b[0m\n\u001b[0m\u001b[1;32m     13\u001b[0m \u001b[0;34m\u001b[0m\u001b[0m\n\u001b[1;32m     14\u001b[0m             \u001b[0;32mif\u001b[0m \u001b[0mlen\u001b[0m\u001b[0;34m(\u001b[0m\u001b[0mdf_slice_lon\u001b[0m\u001b[0;34m)\u001b[0m \u001b[0;34m!=\u001b[0m \u001b[0;36m0\u001b[0m\u001b[0;34m:\u001b[0m\u001b[0;34m\u001b[0m\u001b[0;34m\u001b[0m\u001b[0m\n",
      "\u001b[0;32m/geos/u73/msadiq/libs/miniconda/base/envs/geo/lib/python3.6/site-packages/pandas/core/series.py\u001b[0m in \u001b[0;36mbetween\u001b[0;34m(self, left, right, inclusive)\u001b[0m\n\u001b[1;32m   4369\u001b[0m             \u001b[0mrmask\u001b[0m \u001b[0;34m=\u001b[0m \u001b[0mself\u001b[0m \u001b[0;34m<\u001b[0m \u001b[0mright\u001b[0m\u001b[0;34m\u001b[0m\u001b[0;34m\u001b[0m\u001b[0m\n\u001b[1;32m   4370\u001b[0m \u001b[0;34m\u001b[0m\u001b[0m\n\u001b[0;32m-> 4371\u001b[0;31m         \u001b[0;32mreturn\u001b[0m \u001b[0mlmask\u001b[0m \u001b[0;34m&\u001b[0m \u001b[0mrmask\u001b[0m\u001b[0;34m\u001b[0m\u001b[0;34m\u001b[0m\u001b[0m\n\u001b[0m\u001b[1;32m   4372\u001b[0m \u001b[0;34m\u001b[0m\u001b[0m\n\u001b[1;32m   4373\u001b[0m     \u001b[0;31m# ----------------------------------------------------------------------\u001b[0m\u001b[0;34m\u001b[0m\u001b[0;34m\u001b[0m\u001b[0;34m\u001b[0m\u001b[0m\n",
      "\u001b[0;32m/geos/u73/msadiq/libs/miniconda/base/envs/geo/lib/python3.6/site-packages/pandas/core/ops/common.py\u001b[0m in \u001b[0;36mnew_method\u001b[0;34m(self, other)\u001b[0m\n\u001b[1;32m     62\u001b[0m         \u001b[0mother\u001b[0m \u001b[0;34m=\u001b[0m \u001b[0mitem_from_zerodim\u001b[0m\u001b[0;34m(\u001b[0m\u001b[0mother\u001b[0m\u001b[0;34m)\u001b[0m\u001b[0;34m\u001b[0m\u001b[0;34m\u001b[0m\u001b[0m\n\u001b[1;32m     63\u001b[0m \u001b[0;34m\u001b[0m\u001b[0m\n\u001b[0;32m---> 64\u001b[0;31m         \u001b[0;32mreturn\u001b[0m \u001b[0mmethod\u001b[0m\u001b[0;34m(\u001b[0m\u001b[0mself\u001b[0m\u001b[0;34m,\u001b[0m \u001b[0mother\u001b[0m\u001b[0;34m)\u001b[0m\u001b[0;34m\u001b[0m\u001b[0;34m\u001b[0m\u001b[0m\n\u001b[0m\u001b[1;32m     65\u001b[0m \u001b[0;34m\u001b[0m\u001b[0m\n\u001b[1;32m     66\u001b[0m     \u001b[0;32mreturn\u001b[0m \u001b[0mnew_method\u001b[0m\u001b[0;34m\u001b[0m\u001b[0;34m\u001b[0m\u001b[0m\n",
      "\u001b[0;32m/geos/u73/msadiq/libs/miniconda/base/envs/geo/lib/python3.6/site-packages/pandas/core/ops/__init__.py\u001b[0m in \u001b[0;36mwrapper\u001b[0;34m(self, other)\u001b[0m\n\u001b[1;32m    547\u001b[0m         \u001b[0mrvalues\u001b[0m \u001b[0;34m=\u001b[0m \u001b[0mextract_array\u001b[0m\u001b[0;34m(\u001b[0m\u001b[0mother\u001b[0m\u001b[0;34m,\u001b[0m \u001b[0mextract_numpy\u001b[0m\u001b[0;34m=\u001b[0m\u001b[0;32mTrue\u001b[0m\u001b[0;34m)\u001b[0m\u001b[0;34m\u001b[0m\u001b[0;34m\u001b[0m\u001b[0m\n\u001b[1;32m    548\u001b[0m \u001b[0;34m\u001b[0m\u001b[0m\n\u001b[0;32m--> 549\u001b[0;31m         \u001b[0mres_values\u001b[0m \u001b[0;34m=\u001b[0m \u001b[0mlogical_op\u001b[0m\u001b[0;34m(\u001b[0m\u001b[0mlvalues\u001b[0m\u001b[0;34m,\u001b[0m \u001b[0mrvalues\u001b[0m\u001b[0;34m,\u001b[0m \u001b[0mop\u001b[0m\u001b[0;34m)\u001b[0m\u001b[0;34m\u001b[0m\u001b[0;34m\u001b[0m\u001b[0m\n\u001b[0m\u001b[1;32m    550\u001b[0m         \u001b[0;32mreturn\u001b[0m \u001b[0m_construct_result\u001b[0m\u001b[0;34m(\u001b[0m\u001b[0mself\u001b[0m\u001b[0;34m,\u001b[0m \u001b[0mres_values\u001b[0m\u001b[0;34m,\u001b[0m \u001b[0mindex\u001b[0m\u001b[0;34m=\u001b[0m\u001b[0mself\u001b[0m\u001b[0;34m.\u001b[0m\u001b[0mindex\u001b[0m\u001b[0;34m,\u001b[0m \u001b[0mname\u001b[0m\u001b[0;34m=\u001b[0m\u001b[0mres_name\u001b[0m\u001b[0;34m)\u001b[0m\u001b[0;34m\u001b[0m\u001b[0;34m\u001b[0m\u001b[0m\n\u001b[1;32m    551\u001b[0m \u001b[0;34m\u001b[0m\u001b[0m\n",
      "\u001b[0;32m/geos/u73/msadiq/libs/miniconda/base/envs/geo/lib/python3.6/site-packages/pandas/core/ops/array_ops.py\u001b[0m in \u001b[0;36mlogical_op\u001b[0;34m(left, right, op)\u001b[0m\n\u001b[1;32m    364\u001b[0m \u001b[0;34m\u001b[0m\u001b[0m\n\u001b[1;32m    365\u001b[0m         \u001b[0mres_values\u001b[0m \u001b[0;34m=\u001b[0m \u001b[0mna_logical_op\u001b[0m\u001b[0;34m(\u001b[0m\u001b[0mlvalues\u001b[0m\u001b[0;34m,\u001b[0m \u001b[0mrvalues\u001b[0m\u001b[0;34m,\u001b[0m \u001b[0mop\u001b[0m\u001b[0;34m)\u001b[0m\u001b[0;34m\u001b[0m\u001b[0;34m\u001b[0m\u001b[0m\n\u001b[0;32m--> 366\u001b[0;31m         \u001b[0mres_values\u001b[0m \u001b[0;34m=\u001b[0m \u001b[0mfiller\u001b[0m\u001b[0;34m(\u001b[0m\u001b[0mres_values\u001b[0m\u001b[0;34m)\u001b[0m  \u001b[0;31m# type: ignore\u001b[0m\u001b[0;34m\u001b[0m\u001b[0;34m\u001b[0m\u001b[0m\n\u001b[0m\u001b[1;32m    367\u001b[0m \u001b[0;34m\u001b[0m\u001b[0m\n\u001b[1;32m    368\u001b[0m     \u001b[0;32mreturn\u001b[0m \u001b[0mres_values\u001b[0m\u001b[0;34m\u001b[0m\u001b[0;34m\u001b[0m\u001b[0m\n",
      "\u001b[0;32m/geos/u73/msadiq/libs/miniconda/base/envs/geo/lib/python3.6/site-packages/pandas/core/ops/array_ops.py\u001b[0m in \u001b[0;36mfill_bool\u001b[0;34m(x, left)\u001b[0m\n\u001b[1;32m    333\u001b[0m \u001b[0;34m\u001b[0m\u001b[0m\n\u001b[1;32m    334\u001b[0m         \u001b[0;32mif\u001b[0m \u001b[0mleft\u001b[0m \u001b[0;32mis\u001b[0m \u001b[0;32mNone\u001b[0m \u001b[0;32mor\u001b[0m \u001b[0mis_bool_dtype\u001b[0m\u001b[0;34m(\u001b[0m\u001b[0mleft\u001b[0m\u001b[0;34m.\u001b[0m\u001b[0mdtype\u001b[0m\u001b[0;34m)\u001b[0m\u001b[0;34m:\u001b[0m\u001b[0;34m\u001b[0m\u001b[0;34m\u001b[0m\u001b[0m\n\u001b[0;32m--> 335\u001b[0;31m             \u001b[0mx\u001b[0m \u001b[0;34m=\u001b[0m \u001b[0mx\u001b[0m\u001b[0;34m.\u001b[0m\u001b[0mastype\u001b[0m\u001b[0;34m(\u001b[0m\u001b[0mbool\u001b[0m\u001b[0;34m)\u001b[0m\u001b[0;34m\u001b[0m\u001b[0;34m\u001b[0m\u001b[0m\n\u001b[0m\u001b[1;32m    336\u001b[0m         \u001b[0;32mreturn\u001b[0m \u001b[0mx\u001b[0m\u001b[0;34m\u001b[0m\u001b[0;34m\u001b[0m\u001b[0m\n\u001b[1;32m    337\u001b[0m \u001b[0;34m\u001b[0m\u001b[0m\n",
      "\u001b[0;31mKeyboardInterrupt\u001b[0m: "
     ]
    }
   ],
   "source": [
    "# map to target grid\n",
    "for iday in np.arange(len(days_range)-1):\n",
    "    for ilon in np.arange(len(lon)-1):\n",
    "        for ilat in np.arange(len(lat)-1):\n",
    "            day1=re.sub(\"[^0-9]\", \"\", str(days_range[iday]))\n",
    "            day2=re.sub(\"[^0-9]\", \"\", str(days_range[iday+1]))\n",
    "            begin = int(str(day1) + '000000')  # begin and end of time slice we want to look at\n",
    "            end = int(str(day2) + '000000')  # OCO-2 format\n",
    "            \n",
    "            df_time_slice = df_position[df_position['sound_id'].between(begin, end)]\n",
    "            df_slice_lat = df_time_slice[df_time_slice['lat'].between(lat[ilat],lat[ilat+1], inclusive = True)]\n",
    "            df_slice_lon = df_slice_lat[df_slice_lat['lon'].between(lon[ilon],lon[ilon+1], inclusive = True)]\n",
    "            \n",
    "            if len(df_slice_lon) != 0:\n",
    "                sound_slice = df_slice_lon.sound_id.values\n",
    "                tmp = dr_kernel.sel(sounding_id=sound_slice)\n",
    "                kernel[ilat,ilon,iday,:] = tmp.mean(dim='sounding_id').values             "
   ]
  },
  {
   "cell_type": "code",
   "execution_count": null,
   "metadata": {},
   "outputs": [],
   "source": [
    "# plot after mapping\n",
    "fig = plt.figure(figsize=[6, 6])\n",
    "proj=ccrs.PlateCarree()\n",
    "\n",
    "ax = plt.subplot(111, projection=proj)\n",
    "ax.coastlines()\n",
    "kernel.isel(time=iday, levels=0).plot(ax=ax, transform=ccrs.PlateCarree(), vmax=1, vmin=0, cmap=WhGrYlRd, cbar_kwargs={'shrink': 0.4, 'label': ' '})\n",
    "\n",
    "ax.set_title('OCO-2: kernel');"
   ]
  },
  {
   "cell_type": "code",
   "execution_count": null,
   "metadata": {},
   "outputs": [],
   "source": [
    "kernel.to_netcdf('kernel_4d_' + first_day + '_' + last_day_p1 +'.nc')"
   ]
  },
  {
   "cell_type": "code",
   "execution_count": null,
   "metadata": {},
   "outputs": [],
   "source": []
  }
 ],
 "metadata": {
  "kernelspec": {
   "display_name": "Python 3",
   "language": "python",
   "name": "python3"
  },
  "language_info": {
   "codemirror_mode": {
    "name": "ipython",
    "version": 3
   },
   "file_extension": ".py",
   "mimetype": "text/x-python",
   "name": "python",
   "nbconvert_exporter": "python",
   "pygments_lexer": "ipython3",
   "version": "3.6.10"
  }
 },
 "nbformat": 4,
 "nbformat_minor": 2
}
