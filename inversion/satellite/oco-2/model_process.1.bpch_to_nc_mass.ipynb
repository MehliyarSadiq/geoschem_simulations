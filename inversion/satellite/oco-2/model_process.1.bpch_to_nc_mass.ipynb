{
 "cells": [
  {
   "cell_type": "code",
   "execution_count": 1,
   "metadata": {},
   "outputs": [],
   "source": [
    "from bpch2nc import bpch_2_netcdf\n",
    "import numpy as np\n",
    "import xarray as xr\n",
    "import re"
   ]
  },
  {
   "cell_type": "code",
   "execution_count": 2,
   "metadata": {},
   "outputs": [],
   "source": [
    "# ----------------------------------------------------------------------\n",
    "# User configurable settings (EDIT THESE ACCORDINGLY)\n",
    "# ----------------------------------------------------------------------\n",
    "\n",
    "# Name of Bpch file\n",
    "case_name   = 'CO2-2018-05'\n",
    "first_day   = '2018-05-01'\n",
    "last_day_p1 = '2018-06-01'\n",
    "\n",
    "directory = '/geos/u73/msadiq/GEOS-Chem/rundirs/ensemble_runs/' + case_name + '/nd51/'\n",
    "name_bpch1 = 'ts_satellite.'\n",
    "#date = 20180201\n",
    "#bpchfile = directory + name_bpch1+str(date)+'.bpch'\n",
    "\n",
    "# tracerinfo.dat and diaginfo,dat fiels\n",
    "tinfo_file = directory + 'tracerinfo.dat'\n",
    "dinfo_file = directory + 'diaginfo.dat'\n",
    "\n",
    "# Name of netCDF file\n",
    "output_directory = '/geos/u73/msadiq/GEOS-Chem/rundirs/ensemble_runs/' + case_name + '/nd51/'\n",
    "#ncfile = output_directory + name_bpch1 + str(date) + '.nc'\n",
    "\n",
    "# Number of seconds in the diagnostic interval (assume 1-month)\n",
    "# does not matter for CO2\n",
    "interval = 86400.0 * 31.0"
   ]
  },
  {
   "cell_type": "code",
   "execution_count": 5,
   "metadata": {},
   "outputs": [
    {
     "name": "stdout",
     "output_type": "stream",
     "text": [
      "converting bpch to netcdf on day:  2018-05-01\n",
      "converting bpch to netcdf on day:  2018-05-02\n",
      "converting bpch to netcdf on day:  2018-05-03\n",
      "converting bpch to netcdf on day:  2018-05-04\n",
      "converting bpch to netcdf on day:  2018-05-05\n",
      "converting bpch to netcdf on day:  2018-05-06\n",
      "converting bpch to netcdf on day:  2018-05-07\n",
      "converting bpch to netcdf on day:  2018-05-08\n",
      "converting bpch to netcdf on day:  2018-05-09\n",
      "converting bpch to netcdf on day:  2018-05-10\n",
      "converting bpch to netcdf on day:  2018-05-11\n",
      "converting bpch to netcdf on day:  2018-05-12\n",
      "converting bpch to netcdf on day:  2018-05-13\n",
      "converting bpch to netcdf on day:  2018-05-14\n",
      "converting bpch to netcdf on day:  2018-05-15\n",
      "converting bpch to netcdf on day:  2018-05-16\n",
      "converting bpch to netcdf on day:  2018-05-17\n",
      "converting bpch to netcdf on day:  2018-05-18\n",
      "converting bpch to netcdf on day:  2018-05-19\n",
      "converting bpch to netcdf on day:  2018-05-20\n",
      "converting bpch to netcdf on day:  2018-05-21\n",
      "converting bpch to netcdf on day:  2018-05-22\n",
      "converting bpch to netcdf on day:  2018-05-23\n",
      "converting bpch to netcdf on day:  2018-05-24\n",
      "converting bpch to netcdf on day:  2018-05-25\n",
      "converting bpch to netcdf on day:  2018-05-26\n",
      "converting bpch to netcdf on day:  2018-05-27\n",
      "converting bpch to netcdf on day:  2018-05-28\n",
      "converting bpch to netcdf on day:  2018-05-29\n",
      "converting bpch to netcdf on day:  2018-05-30\n",
      "converting bpch to netcdf on day:  2018-05-31\n"
     ]
    }
   ],
   "source": [
    "days = np.arange(first_day, last_day_p1, dtype='datetime64[D]')\n",
    "\n",
    "for iday in np.arange(len(days)):\n",
    "    day_string = days[iday] # format not right for the following function\n",
    "    print('converting bpch to netcdf on day: ', day_string)\n",
    "    new_day_string = re.sub(\"[^0-9]\", \"\", str(day_string)) # strip off '-'s\n",
    "    \n",
    "    bpchfile = directory + name_bpch1 + new_day_string + '.bpch'\n",
    "    ncfile = output_directory + name_bpch1 + new_day_string + '.nc'\n",
    "    \n",
    "    bpch_2_netcdf(bpchfile=bpchfile, \n",
    "                  tinfo_file=tinfo_file, \n",
    "                  dinfo_file=dinfo_file, \n",
    "                  ncfile=ncfile)"
   ]
  },
  {
   "cell_type": "code",
   "execution_count": null,
   "metadata": {},
   "outputs": [],
   "source": [
    "#ds = xr.open_dataset(ncfile)\n",
    "#ds = xr.open_dataset(directory + 'GEOSChem.SpeciesConc.20180201_0000z.nc4')\n",
    "#ds"
   ]
  }
 ],
 "metadata": {
  "kernelspec": {
   "display_name": "Python 3",
   "language": "python",
   "name": "python3"
  },
  "language_info": {
   "codemirror_mode": {
    "name": "ipython",
    "version": 3
   },
   "file_extension": ".py",
   "mimetype": "text/x-python",
   "name": "python",
   "nbconvert_exporter": "python",
   "pygments_lexer": "ipython3",
   "version": "3.6.10"
  }
 },
 "nbformat": 4,
 "nbformat_minor": 4
}
