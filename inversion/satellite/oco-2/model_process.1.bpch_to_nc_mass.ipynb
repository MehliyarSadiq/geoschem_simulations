{
 "cells": [
  {
   "cell_type": "code",
   "execution_count": 1,
   "metadata": {},
   "outputs": [],
   "source": [
    "from bpch2nc import bpch_2_netcdf\n",
    "import numpy as np\n",
    "import xarray as xr\n",
    "import re"
   ]
  },
  {
   "cell_type": "code",
   "execution_count": 2,
   "metadata": {},
   "outputs": [],
   "source": [
    "# ----------------------------------------------------------------------\n",
    "# User configurable settings (EDIT THESE ACCORDINGLY)\n",
    "# ----------------------------------------------------------------------\n",
    "\n",
    "# Name of Bpch file\n",
    "case_name   = 'CO2-2018-04'\n",
    "first_day   = '2018-04-01'\n",
    "last_day_p1 = '2018-05-01'\n",
    "\n",
    "directory = '/geos/u73/msadiq/GEOS-Chem/rundirs/ensemble_runs/' + case_name + '/nd51/'\n",
    "name_bpch1 = 'ts_satellite.'\n",
    "#date = 20180201\n",
    "#bpchfile = directory + name_bpch1+str(date)+'.bpch'\n",
    "\n",
    "# tracerinfo.dat and diaginfo,dat fiels\n",
    "tinfo_file = directory + 'tracerinfo.dat'\n",
    "dinfo_file = directory + 'diaginfo.dat'\n",
    "\n",
    "# Name of netCDF file\n",
    "output_directory = '/geos/u73/msadiq/GEOS-Chem/rundirs/ensemble_runs/' + case_name + '/nd51/'\n",
    "#ncfile = output_directory + name_bpch1 + str(date) + '.nc'\n",
    "\n",
    "# Number of seconds in the diagnostic interval (assume 1-month)\n",
    "# does not matter for CO2\n",
    "interval = 86400.0 * 31.0"
   ]
  },
  {
   "cell_type": "code",
   "execution_count": 4,
   "metadata": {},
   "outputs": [
    {
     "name": "stdout",
     "output_type": "stream",
     "text": [
      "converting bpch to netcdf on day:  2018-04-01\n",
      "converting bpch to netcdf on day:  2018-04-02\n",
      "converting bpch to netcdf on day:  2018-04-03\n",
      "converting bpch to netcdf on day:  2018-04-04\n",
      "converting bpch to netcdf on day:  2018-04-05\n",
      "converting bpch to netcdf on day:  2018-04-06\n",
      "converting bpch to netcdf on day:  2018-04-07\n",
      "converting bpch to netcdf on day:  2018-04-08\n",
      "converting bpch to netcdf on day:  2018-04-09\n",
      "converting bpch to netcdf on day:  2018-04-10\n",
      "converting bpch to netcdf on day:  2018-04-11\n",
      "converting bpch to netcdf on day:  2018-04-12\n",
      "converting bpch to netcdf on day:  2018-04-13\n",
      "converting bpch to netcdf on day:  2018-04-14\n",
      "converting bpch to netcdf on day:  2018-04-15\n",
      "converting bpch to netcdf on day:  2018-04-16\n",
      "converting bpch to netcdf on day:  2018-04-17\n",
      "converting bpch to netcdf on day:  2018-04-18\n",
      "converting bpch to netcdf on day:  2018-04-19\n",
      "converting bpch to netcdf on day:  2018-04-20\n",
      "converting bpch to netcdf on day:  2018-04-21\n",
      "converting bpch to netcdf on day:  2018-04-22\n",
      "converting bpch to netcdf on day:  2018-04-23\n",
      "converting bpch to netcdf on day:  2018-04-24\n",
      "converting bpch to netcdf on day:  2018-04-25\n",
      "converting bpch to netcdf on day:  2018-04-26\n",
      "converting bpch to netcdf on day:  2018-04-27\n",
      "converting bpch to netcdf on day:  2018-04-28\n",
      "converting bpch to netcdf on day:  2018-04-29\n",
      "converting bpch to netcdf on day:  2018-04-30\n"
     ]
    }
   ],
   "source": [
    "days = np.arange(first_day, last_day_p1, dtype='datetime64[D]')\n",
    "\n",
    "for iday in np.arange(len(days)):\n",
    "    day_string = days[iday] # format not right for the following function\n",
    "    print('converting bpch to netcdf on day: ', day_string)\n",
    "    new_day_string = re.sub(\"[^0-9]\", \"\", str(day_string)) # strip off '-'s\n",
    "    \n",
    "    bpchfile = directory + name_bpch1 + new_day_string + '.bpch'\n",
    "    ncfile = output_directory + name_bpch1 + new_day_string + '.nc'\n",
    "    \n",
    "    bpch_2_netcdf(bpchfile=bpchfile, \n",
    "                  tinfo_file=tinfo_file, \n",
    "                  dinfo_file=dinfo_file, \n",
    "                  ncfile=ncfile)"
   ]
  },
  {
   "cell_type": "code",
   "execution_count": null,
   "metadata": {},
   "outputs": [],
   "source": [
    "#ds = xr.open_dataset(ncfile)\n",
    "#ds = xr.open_dataset(directory + 'GEOSChem.SpeciesConc.20180201_0000z.nc4')\n",
    "#ds"
   ]
  }
 ],
 "metadata": {
  "kernelspec": {
   "display_name": "Python 3",
   "language": "python",
   "name": "python3"
  },
  "language_info": {
   "codemirror_mode": {
    "name": "ipython",
    "version": 3
   },
   "file_extension": ".py",
   "mimetype": "text/x-python",
   "name": "python",
   "nbconvert_exporter": "python",
   "pygments_lexer": "ipython3",
   "version": "3.6.10"
  }
 },
 "nbformat": 4,
 "nbformat_minor": 4
}
