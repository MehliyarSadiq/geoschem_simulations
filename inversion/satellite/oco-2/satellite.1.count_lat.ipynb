{
 "cells": [
  {
   "cell_type": "code",
   "execution_count": 1,
   "metadata": {},
   "outputs": [],
   "source": [
    "# count number of measurements in latitude bands"
   ]
  },
  {
   "cell_type": "code",
   "execution_count": 2,
   "metadata": {},
   "outputs": [],
   "source": [
    "# to display plots in notebook\n",
    "%matplotlib inline\n",
    "%config InlineBackend.figure_format = \"retina\"\n",
    "\n",
    "from matplotlib import rcParams\n",
    "rcParams[\"savefig.dpi\"] = 300  # high res plots\n",
    "rcParams[\"font.size\"] = 12\n",
    "\n",
    "import warnings\n",
    "warnings.filterwarnings('ignore')"
   ]
  },
  {
   "cell_type": "code",
   "execution_count": 3,
   "metadata": {},
   "outputs": [],
   "source": [
    "# import necessary packages\n",
    "import matplotlib.pyplot as plt # plots\n",
    "import cartopy.crs as ccrs      # map projections\n",
    "import pandas as pd             # large arrays\n",
    "import numpy as np              # large arrays and matrices\n",
    "import xarray as xr             # major tool to work with NetCDF data!\n",
    "import re\n",
    "# custom color map downloaded from GEOS-Chem python tutorial\n",
    "from gamap_colormap import WhGrYlRd  # import the \"WhGrYlRd\" variable"
   ]
  },
  {
   "cell_type": "code",
   "execution_count": 4,
   "metadata": {},
   "outputs": [],
   "source": [
    "# first and last day for counting\n",
    "first_day = '2016-01-01'\n",
    "last_day_p1 = '2019-01-01'\n",
    "# latitude bins\n",
    "lat_res = 5    # horizontal resolution of lat"
   ]
  },
  {
   "cell_type": "code",
   "execution_count": 5,
   "metadata": {},
   "outputs": [],
   "source": [
    "# file names and paths\n",
    "input_file = '/geos/u73/msadiq/satellite/oco-2/OCO2_b91_10sec_GOOD_r24.nc4'"
   ]
  },
  {
   "cell_type": "code",
   "execution_count": 6,
   "metadata": {},
   "outputs": [
    {
     "data": {
      "text/html": [
       "<pre>&lt;xarray.Dataset&gt;\n",
       "Dimensions:                       (epoch_dimension: 7, levels: 20, sounding_id: 1319634)\n",
       "Coordinates:\n",
       "  * sounding_id                   (sounding_id) int64 20140906020721 ... 20190731225946\n",
       "Dimensions without coordinates: epoch_dimension, levels\n",
       "Data variables:\n",
       "    test_flag                     (sounding_id) int8 ...\n",
       "    latitude                      (sounding_id) float32 ...\n",
       "    longitude                     (sounding_id) float32 ...\n",
       "    data_type                     (sounding_id) int8 ...\n",
       "    date                          (sounding_id, epoch_dimension) int16 ...\n",
       "    time                          (sounding_id) datetime64[ns] ...\n",
       "    solar_zenith_angle            (sounding_id) float32 ...\n",
       "    solar_azimuth_angle           (sounding_id) float32 ...\n",
       "    sensor_zenith_angle           (sounding_id) float32 ...\n",
       "    sensor_azimuth_angle          (sounding_id) float32 ...\n",
       "    psurf_apriori_b8              (sounding_id) float32 ...\n",
       "    psurf_apriori_o2a             (sounding_id) float32 ...\n",
       "    psurf_apriori_wco2            (sounding_id) float32 ...\n",
       "    psurf_apriori_sco2            (sounding_id) float32 ...\n",
       "    psurf_apriori                 (sounding_id) float32 ...\n",
       "    psurf                         (sounding_id) float32 ...\n",
       "    xco2_raw                      (sounding_id) float32 ...\n",
       "    xco2_apriori                  (sounding_id) float32 ...\n",
       "    xco2                          (sounding_id) float32 ...\n",
       "    xco2_uncertainty              (sounding_id) float32 ...\n",
       "    model_error                   (sounding_id) float32 ...\n",
       "    co2_profile_apriori           (sounding_id, levels) float32 ...\n",
       "    xco2_averaging_kernel         (sounding_id, levels) float32 ...\n",
       "    pressure_weight               (sounding_id, levels) float32 ...\n",
       "    sigma_levels                  (levels) float32 ...\n",
       "    xco2_quality_flag             (sounding_id) int8 ...\n",
       "    warn_level                    (sounding_id) int8 ...\n",
       "    land_fraction                 (sounding_id) int8 ...\n",
       "    altitude                      (sounding_id) float32 ...\n",
       "    airmass                       (sounding_id) float32 ...\n",
       "    path                          (sounding_id) int16 ...\n",
       "    operation_mode                (sounding_id) int8 ...\n",
       "    land_water_indicator          (sounding_id) int8 ...\n",
       "    surface_type                  (sounding_id) int8 ...\n",
       "    fs                            (sounding_id) float32 ...\n",
       "    delta_windspeed               (sounding_id) float32 ...\n",
       "    s31                           (sounding_id) float32 ...\n",
       "    s32                           (sounding_id) float32 ...\n",
       "    albedo_3                      (sounding_id) float32 ...\n",
       "    albedo_slope_3                (sounding_id) float32 ...\n",
       "    aod_total                     (sounding_id) float32 ...\n",
       "    albedo_2                      (sounding_id) float32 ...\n",
       "    co2_grad_del                  (sounding_id) float32 ...\n",
       "    dws                           (sounding_id) float32 ...\n",
       "    dpfrac                        (sounding_id) float32 ...\n",
       "    dp_o2a                        (sounding_id) float32 ...\n",
       "    dp                            (sounding_id) float32 ...\n",
       "    dp_abp                        (sounding_id) float32 ...\n",
       "    co2_ratio                     (sounding_id) float32 ...\n",
       "    h2o_ratio                     (sounding_id) float32 ...\n",
       "    xco2_weak_idp                 (sounding_id) float32 ...\n",
       "    xco2_strong_idp               (sounding_id) float32 ...\n",
       "    tcwv_apriori                  (sounding_id) float32 ...\n",
       "    tcwv                          (sounding_id) float32 ...\n",
       "    ice_height                    (sounding_id) float32 ...\n",
       "    h2o_scale                     (sounding_id) float32 ...\n",
       "    deltaT                        (sounding_id) float32 ...\n",
       "    snr_o2a                       (sounding_id) float32 ...\n",
       "    snr_wco2                      (sounding_id) float32 ...\n",
       "    snr_sco2                      (sounding_id) float32 ...\n",
       "    altitude_stddev               (sounding_id) float32 ...\n",
       "    N_total_shots                 (sounding_id) int32 ...\n",
       "    Var_1s_altitude_weighted      (sounding_id) float32 ...\n",
       "    Var_1s_XCO2raw_weighted       (sounding_id) float32 ...\n",
       "    Var_1s_XCO2biascorr_weighted  (sounding_id) float32 ...\n",
       "    Var_1s_co2_grad_del_weighted  (sounding_id) float32 ...\n",
       "    Var_1s_dPsurf_weighted        (sounding_id) float32 ...\n",
       "    Var_1s_DWS_weighted           (sounding_id) float32 ...\n",
       "    Var_1s_S31_weighted           (sounding_id) float32 ...\n",
       "    Var_1s_altitude_corrmean      (sounding_id) float32 ...\n",
       "    Var_1s_XCO2raw_corrmean       (sounding_id) float32 ...\n",
       "    Var_1s_XCO2biascorr_corrmean  (sounding_id) float32 ...\n",
       "    Var_1s_co2_grad_del_corrmean  (sounding_id) float32 ...\n",
       "    Var_1s_dPsurf_corrmean        (sounding_id) float32 ...\n",
       "    Var_1s_DWS_corrmean           (sounding_id) float32 ...\n",
       "    Var_1s_S31_corrmean           (sounding_id) float32 ...\n",
       "    Var_1s_XCO2raw                (sounding_id) float32 ...\n",
       "    Var_1s_XCO2biascorr           (sounding_id) float32 ...\n",
       "Attributes:\n",
       "    Conventions:  CF-1.0</pre>"
      ],
      "text/plain": [
       "<xarray.Dataset>\n",
       "Dimensions:                       (epoch_dimension: 7, levels: 20, sounding_id: 1319634)\n",
       "Coordinates:\n",
       "  * sounding_id                   (sounding_id) int64 20140906020721 ... 20190731225946\n",
       "Dimensions without coordinates: epoch_dimension, levels\n",
       "Data variables:\n",
       "    test_flag                     (sounding_id) int8 ...\n",
       "    latitude                      (sounding_id) float32 ...\n",
       "    longitude                     (sounding_id) float32 ...\n",
       "    data_type                     (sounding_id) int8 ...\n",
       "    date                          (sounding_id, epoch_dimension) int16 ...\n",
       "    time                          (sounding_id) datetime64[ns] ...\n",
       "    solar_zenith_angle            (sounding_id) float32 ...\n",
       "    solar_azimuth_angle           (sounding_id) float32 ...\n",
       "    sensor_zenith_angle           (sounding_id) float32 ...\n",
       "    sensor_azimuth_angle          (sounding_id) float32 ...\n",
       "    psurf_apriori_b8              (sounding_id) float32 ...\n",
       "    psurf_apriori_o2a             (sounding_id) float32 ...\n",
       "    psurf_apriori_wco2            (sounding_id) float32 ...\n",
       "    psurf_apriori_sco2            (sounding_id) float32 ...\n",
       "    psurf_apriori                 (sounding_id) float32 ...\n",
       "    psurf                         (sounding_id) float32 ...\n",
       "    xco2_raw                      (sounding_id) float32 ...\n",
       "    xco2_apriori                  (sounding_id) float32 ...\n",
       "    xco2                          (sounding_id) float32 ...\n",
       "    xco2_uncertainty              (sounding_id) float32 ...\n",
       "    model_error                   (sounding_id) float32 ...\n",
       "    co2_profile_apriori           (sounding_id, levels) float32 ...\n",
       "    xco2_averaging_kernel         (sounding_id, levels) float32 ...\n",
       "    pressure_weight               (sounding_id, levels) float32 ...\n",
       "    sigma_levels                  (levels) float32 ...\n",
       "    xco2_quality_flag             (sounding_id) int8 ...\n",
       "    warn_level                    (sounding_id) int8 ...\n",
       "    land_fraction                 (sounding_id) int8 ...\n",
       "    altitude                      (sounding_id) float32 ...\n",
       "    airmass                       (sounding_id) float32 ...\n",
       "    path                          (sounding_id) int16 ...\n",
       "    operation_mode                (sounding_id) int8 ...\n",
       "    land_water_indicator          (sounding_id) int8 ...\n",
       "    surface_type                  (sounding_id) int8 ...\n",
       "    fs                            (sounding_id) float32 ...\n",
       "    delta_windspeed               (sounding_id) float32 ...\n",
       "    s31                           (sounding_id) float32 ...\n",
       "    s32                           (sounding_id) float32 ...\n",
       "    albedo_3                      (sounding_id) float32 ...\n",
       "    albedo_slope_3                (sounding_id) float32 ...\n",
       "    aod_total                     (sounding_id) float32 ...\n",
       "    albedo_2                      (sounding_id) float32 ...\n",
       "    co2_grad_del                  (sounding_id) float32 ...\n",
       "    dws                           (sounding_id) float32 ...\n",
       "    dpfrac                        (sounding_id) float32 ...\n",
       "    dp_o2a                        (sounding_id) float32 ...\n",
       "    dp                            (sounding_id) float32 ...\n",
       "    dp_abp                        (sounding_id) float32 ...\n",
       "    co2_ratio                     (sounding_id) float32 ...\n",
       "    h2o_ratio                     (sounding_id) float32 ...\n",
       "    xco2_weak_idp                 (sounding_id) float32 ...\n",
       "    xco2_strong_idp               (sounding_id) float32 ...\n",
       "    tcwv_apriori                  (sounding_id) float32 ...\n",
       "    tcwv                          (sounding_id) float32 ...\n",
       "    ice_height                    (sounding_id) float32 ...\n",
       "    h2o_scale                     (sounding_id) float32 ...\n",
       "    deltaT                        (sounding_id) float32 ...\n",
       "    snr_o2a                       (sounding_id) float32 ...\n",
       "    snr_wco2                      (sounding_id) float32 ...\n",
       "    snr_sco2                      (sounding_id) float32 ...\n",
       "    altitude_stddev               (sounding_id) float32 ...\n",
       "    N_total_shots                 (sounding_id) int32 ...\n",
       "    Var_1s_altitude_weighted      (sounding_id) float32 ...\n",
       "    Var_1s_XCO2raw_weighted       (sounding_id) float32 ...\n",
       "    Var_1s_XCO2biascorr_weighted  (sounding_id) float32 ...\n",
       "    Var_1s_co2_grad_del_weighted  (sounding_id) float32 ...\n",
       "    Var_1s_dPsurf_weighted        (sounding_id) float32 ...\n",
       "    Var_1s_DWS_weighted           (sounding_id) float32 ...\n",
       "    Var_1s_S31_weighted           (sounding_id) float32 ...\n",
       "    Var_1s_altitude_corrmean      (sounding_id) float32 ...\n",
       "    Var_1s_XCO2raw_corrmean       (sounding_id) float32 ...\n",
       "    Var_1s_XCO2biascorr_corrmean  (sounding_id) float32 ...\n",
       "    Var_1s_co2_grad_del_corrmean  (sounding_id) float32 ...\n",
       "    Var_1s_dPsurf_corrmean        (sounding_id) float32 ...\n",
       "    Var_1s_DWS_corrmean           (sounding_id) float32 ...\n",
       "    Var_1s_S31_corrmean           (sounding_id) float32 ...\n",
       "    Var_1s_XCO2raw                (sounding_id) float32 ...\n",
       "    Var_1s_XCO2biascorr           (sounding_id) float32 ...\n",
       "Attributes:\n",
       "    Conventions:  CF-1.0"
      ]
     },
     "execution_count": 6,
     "metadata": {},
     "output_type": "execute_result"
    }
   ],
   "source": [
    "ds = xr.open_dataset(input_file, engine='netcdf4')\n",
    "ds #['warn_level']"
   ]
  },
  {
   "cell_type": "code",
   "execution_count": 7,
   "metadata": {},
   "outputs": [
    {
     "name": "stdout",
     "output_type": "stream",
     "text": [
      "begining sound id of extraction: 20160101000000\n",
      "end: 20190101000000\n"
     ]
    }
   ],
   "source": [
    "# convert time input to match the format of sound_id\n",
    "first_day_digital = re.sub(\"[^0-9]\", \"\", first_day)\n",
    "last_day_p1_digital = re.sub(\"[^0-9]\", \"\", last_day_p1)\n",
    "begin = int(first_day_digital + '000000')  # begin and end of time slice we want to look at\n",
    "end = int(last_day_p1_digital + '000000')  # OCO-2 format\n",
    "print('begining sound id of extraction: ' + str(begin))\n",
    "print('end: ' + str(end))"
   ]
  },
  {
   "cell_type": "code",
   "execution_count": 8,
   "metadata": {},
   "outputs": [],
   "source": [
    "# get a slice of data within begin and end time\n",
    "ds_slice = ds.sel(sounding_id=slice(begin,end)) # xarray Dataset"
   ]
  },
  {
   "cell_type": "code",
   "execution_count": 9,
   "metadata": {},
   "outputs": [
    {
     "data": {
      "text/plain": [
       "array([-90., -85., -80., -75., -70., -65., -60., -55., -50., -45., -40.,\n",
       "       -35., -30., -25., -20., -15., -10.,  -5.,   0.,   5.,  10.,  15.,\n",
       "        20.,  25.,  30.,  35.,  40.,  45.,  50.,  55.,  60.,  65.,  70.,\n",
       "        75.,  80.,  85.,  90.])"
      ]
     },
     "execution_count": 9,
     "metadata": {},
     "output_type": "execute_result"
    }
   ],
   "source": [
    "lon_series = ds_slice['longitude']              # lon and lat position, 1d\n",
    "lat_series = ds_slice['latitude']\n",
    "sound_id   = ds_slice['sounding_id']            # sound id, 1d\n",
    "land_frac  = ds_slice['land_fraction']\n",
    "mode =       ds_slice['operation_mode']\n",
    "quality =    ds_slice['xco2_quality_flag']\n",
    "\n",
    "lat = np.linspace(-90, 90, int(180/lat_res + 1)) # grid center\n",
    "lat"
   ]
  },
  {
   "cell_type": "code",
   "execution_count": 10,
   "metadata": {},
   "outputs": [
    {
     "data": {
      "text/plain": [
       "862162"
      ]
     },
     "execution_count": 10,
     "metadata": {},
     "output_type": "execute_result"
    }
   ],
   "source": [
    "# position dataframe, used in for loops to locate\n",
    "df_position = pd.DataFrame({'sound_id': sound_id, \n",
    "                            'lon': lon_series, \n",
    "                            'lat': lat_series,\n",
    "                            'mode': mode,\n",
    "                            'land_frac': land_frac,\n",
    "                            'quality': quality})\n",
    "len(df_position) #.head()"
   ]
  },
  {
   "cell_type": "code",
   "execution_count": 11,
   "metadata": {},
   "outputs": [],
   "source": [
    "count = np.zeros(len(lat)) # store counts here\n",
    "count_land = np.zeros(len(lat))\n",
    "count_nadir = np.zeros(len(lat)) # store counts of nadir measurements\n",
    "count_glint  = np.zeros(len(lat)) # store land measurements\n",
    "count_glint_land = np.zeros(len(lat))\n",
    "\n",
    "for ilat in range(len(lat)):\n",
    "    df_quality = df_position.loc[df_position['quality'] == 0] # good quality data\n",
    "    \n",
    "    df_lat_slice = df_quality[df_quality['lat'].between(lat[ilat]-0.5*lat_res,lat[ilat]+0.5*lat_res, inclusive = True)]\n",
    "    count[ilat] = len(df_lat_slice)\n",
    "\n",
    "    df_land = df_lat_slice.loc[df_lat_slice['land_frac'] == 100]\n",
    "    count_land[ilat] = len(df_land)\n",
    "    \n",
    "    df_nadir = df_lat_slice.loc[df_lat_slice['mode'] == 0]\n",
    "    count_nadir[ilat] = len(df_nadir)\n",
    "    \n",
    "    df_glint = df_lat_slice.loc[df_lat_slice['mode'] == 1]\n",
    "    count_glint[ilat] = len(df_glint)\n",
    "    \n",
    "    df_land_glint = df_glint.loc[df_glint['land_frac'] == 100]\n",
    "    count_glint_land[ilat] = len(df_land_glint)\n"
   ]
  },
  {
   "cell_type": "code",
   "execution_count": 12,
   "metadata": {},
   "outputs": [
    {
     "data": {
      "image/png": "[encoded data removed]",
      "text/plain": [
       "<Figure size 576x360 with 1 Axes>"
      ]
     },
     "metadata": {
      "image/png": {
       "height": 338,
       "width": 505
      },
      "needs_background": "light"
     },
     "output_type": "display_data"
    }
   ],
   "source": [
    "fig = plt.figure(figsize=[8,5])\n",
    "\n",
    "plt.plot(lat, count_glint_land, linestyle='-', c='r', drawstyle='steps', label = 'glint land')\n",
    "plt.plot(lat, count_glint - count_glint_land, linestyle='-', drawstyle='steps', label = 'glint ocean')\n",
    "plt.plot(lat, count_nadir, linestyle='-', c='g', drawstyle='steps', label = 'nadir')\n",
    "plt.yscale('log')\n",
    "\n",
    "plt.title('Number of OCO2 measurements', loc = 'left')\n",
    "plt.ylabel(' ')\n",
    "plt.xlabel('latitude')\n",
    "plt.legend()\n",
    "\n",
    "fig.savefig('/geos/u73/msadiq/GEOS-Chem/analysis/inversion/data/count_oco2.png', dpi=300)\n"
   ]
  },
  {
   "cell_type": "code",
   "execution_count": null,
   "metadata": {},
   "outputs": [],
   "source": []
  }
 ],
 "metadata": {
  "kernelspec": {
   "display_name": "Python 3",
   "language": "python",
   "name": "python3"
  },
  "language_info": {
   "codemirror_mode": {
    "name": "ipython",
    "version": 3
   },
   "file_extension": ".py",
   "mimetype": "text/x-python",
   "name": "python",
   "nbconvert_exporter": "python",
   "pygments_lexer": "ipython3",
   "version": "3.6.10"
  }
 },
 "nbformat": 4,
 "nbformat_minor": 2
}
