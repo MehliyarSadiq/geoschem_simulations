{
 "cells": [
  {
   "cell_type": "code",
   "execution_count": 146,
   "metadata": {},
   "outputs": [],
   "source": [
    "# calculate annual total fossil fuel emission for \n",
    "# ODIAC and EDGAR5\n",
    "# and compare"
   ]
  },
  {
   "cell_type": "code",
   "execution_count": 147,
   "metadata": {},
   "outputs": [],
   "source": [
    "%matplotlib inline\n",
    "%config InlineBackend.figure_format = \"retina\"\n",
    "\n",
    "from matplotlib import rcParams\n",
    "rcParams[\"savefig.dpi\"] = 300\n",
    "rcParams[\"font.size\"] = 12\n",
    "\n",
    "import warnings\n",
    "warnings.filterwarnings('ignore')"
   ]
  },
  {
   "cell_type": "code",
   "execution_count": 148,
   "metadata": {},
   "outputs": [],
   "source": [
    "import numpy as np\n",
    "import xarray as xr\n",
    "import matplotlib.pyplot as plt\n",
    "import cartopy.crs as ccrs\n",
    "from util.functions import area_latlon\n",
    "from util.gamap_colormap import WhGrYlRd"
   ]
  },
  {
   "cell_type": "code",
   "execution_count": 149,
   "metadata": {},
   "outputs": [],
   "source": [
    "# EDGAR\n",
    "input_dir = '/home/msadiq/Desktop/co2/emissions/'\n",
    "year_vec = [2016,2017,2018]\n",
    "lat_res = 0.1\n",
    "lon_res = 0.1\n",
    "varname = 'emi_co2'\n",
    "fname1 = 'EDGAR/nc/v50_CO2_excl_short-cycle_org_C_'\n",
    "fname2 = '.0.1x0.1.nc'\n",
    "output_edgar = np.zeros(3)"
   ]
  },
  {
   "cell_type": "code",
   "execution_count": 150,
   "metadata": {},
   "outputs": [
    {
     "data": {
      "text/plain": [
       "<xarray.DataArray 'emi_co2' (lat: 1800, lon: 3600)>\n",
       "[6480000 values with dtype=float32]\n",
       "Coordinates:\n",
       "  * lat      (lat) float32 -89.95 -89.85 -89.75 -89.65 ... 89.75 89.85 89.95\n",
       "  * lon      (lon) float32 -179.95 -179.85 -179.75 ... 179.75 179.85 179.95\n",
       "Attributes:\n",
       "    standard_name:  tendency_of_atmosphere_mass_content_of_carbon_dioxide_due...\n",
       "    long_name:      Emissions of CO2 - \n",
       "    units:          kg m-2 s-1\n",
       "    cell_method:    time: mean (interval: 1 year, 366 days)\n",
       "    total_emi_co2:     3.67531e+013 kg/year\n",
       "    comment:         (see http://edgar.jrc.ec.europa.eu/methodology.php#12sou..."
      ]
     },
     "execution_count": 150,
     "metadata": {},
     "output_type": "execute_result"
    }
   ],
   "source": [
    "tmp = xr.open_dataset(input_dir+'EDGAR/nc/v50_CO2_excl_short-cycle_org_C_2016.0.1x0.1.nc')\n",
    "tmp['emi_co2'] #.attrs#['global_total'] #['intl_bunker'][:,:,1].plot()"
   ]
  },
  {
   "cell_type": "code",
   "execution_count": 151,
   "metadata": {},
   "outputs": [
    {
     "name": "stdout",
     "output_type": "stream",
     "text": [
      "2016\n",
      "annual total from EDGAR team:\n",
      "   3.67531e+013 kg/year\n",
      "annual total from this calculation:\n",
      "  36732393000000.0\n",
      " \n",
      "2017\n",
      "annual total from EDGAR team:\n",
      "   3.71787e+013 kg/year\n",
      "annual total from this calculation:\n",
      "  37157870000000.0\n",
      " \n",
      "2018\n",
      "annual total from EDGAR team:\n",
      "   3.78867e+013 kg/year\n",
      "annual total from this calculation:\n",
      "  37865100000000.0\n",
      " \n"
     ]
    }
   ],
   "source": [
    "for i, iyear in enumerate(year_vec):\n",
    "    ds_EDGAR = xr.open_dataset(input_dir + \n",
    "                               fname1 +\n",
    "                               str(iyear) + \n",
    "                               fname2)\n",
    "    data = ds_EDGAR[varname].copy()\n",
    "    \n",
    "    for ilat, lat in enumerate(data.lat):\n",
    "        area_tmp = area_latlon(lat1 = lat, \n",
    "                               lon1 = data.lon[10].values, \n",
    "                               lat2 = lat + lat_res, \n",
    "                               lon2 = data.lon[10].values + lon_res)\n",
    "        if(iyear == 2016):\n",
    "            data[ilat,:] = data[ilat,:] * area_tmp *3600*24*366*1e6 # unit: kgCO2/yr\n",
    "        else:\n",
    "            data[ilat,:] = data[ilat,:] * area_tmp *3600*24*365*1e6 # unit: kgCO2/yr\n",
    "    annual_edgar = data.copy()\n",
    "    total_edgar = data.sum()   # kgCO2/year, same as data description\n",
    "    ann_total = total_edgar.values                # kg/yr\n",
    "    ann_total_C = total_edgar.values*1e-12*12/44  # GtC/yr\n",
    "    \n",
    "    print(str(iyear))\n",
    "    print('annual total from EDGAR team:')\n",
    "    print(data.attrs['total_emi_co2'])\n",
    "    print('annual total from this calculation:')\n",
    "    print(' ',ann_total)\n",
    "    print(' ')\n",
    "    #print('total ffCO2 emission (GtC/yr)  : ', ann_total_C)\n",
    "    \n",
    "    output_edgar[i] = ann_total_C"
   ]
  },
  {
   "cell_type": "code",
   "execution_count": 152,
   "metadata": {},
   "outputs": [
    {
     "data": {
      "text/plain": [
       "array([10.01792543, 10.13396504, 10.32684507])"
      ]
     },
     "execution_count": 152,
     "metadata": {},
     "output_type": "execute_result"
    }
   ],
   "source": [
    "output_edgar"
   ]
  },
  {
   "cell_type": "code",
   "execution_count": 153,
   "metadata": {},
   "outputs": [],
   "source": [
    "# ODIAC\n",
    "input_dir = '/home/msadiq/Desktop/co2/emissions/'\n",
    "year_vec = [2016,2017,2018]\n",
    "lat_res = 1.\n",
    "lon_res = 1.\n",
    "varname1 = 'land'\n",
    "varname2 = 'intl_bunker'\n",
    "fname1 = 'ODIAC/nc/odiac2019_1x1d_'\n",
    "fname2 = '.nc'\n",
    "output_odiac = np.zeros(3)"
   ]
  },
  {
   "cell_type": "code",
   "execution_count": 154,
   "metadata": {},
   "outputs": [
    {
     "data": {
      "text/plain": [
       "<xarray.Dataset>\n",
       "Dimensions:      (lat: 180, lon: 360, month: 12)\n",
       "Coordinates:\n",
       "  * lon          (lon) float64 -179.5 -178.5 -177.5 -176.5 ... 177.5 178.5 179.5\n",
       "  * lat          (lat) float64 -89.5 -88.5 -87.5 -86.5 ... 86.5 87.5 88.5 89.5\n",
       "  * month        (month) int32 1 2 3 4 5 6 7 8 9 10 11 12\n",
       "Data variables:\n",
       "    land         (month, lat, lon) float32 ...\n",
       "    intl_bunker  (month, lat, lon) float32 ...\n",
       "Attributes:\n",
       "    global_total:  9817 million metric tons of carbon per year (sum of 12 mon...\n",
       "    notes:         This file contains the year 2019 version of ODIAC ffco2 em...\n",
       "    citation:      Oda and Maksyutov (2011) ACP; Oda et al (2018) ESSD\n",
       "    email:         tom.oda@nasa.gov\n",
       "    url:           www.odiac.org/\n",
       "    institution:   USRA/NASA/CDIAC/AppState/NIES/NOAA\n",
       "    version:       ODIAC2017 FFCO2 emisssion dataset\n",
       "    source:        Generated by ODIAC ffco2 emission model version 3.0\n",
       "    history:       Created by Tom Oda on Tue Nov 26 2019 14:02:07 EST"
      ]
     },
     "execution_count": 154,
     "metadata": {},
     "output_type": "execute_result"
    }
   ],
   "source": [
    "tmp = xr.open_dataset(input_dir+'ODIAC/nc/odiac2019_1x1d_2016.nc')\n",
    "tmp#['land'] #.attrs#['global_total'] #['intl_bunker'][:,:,1].plot()"
   ]
  },
  {
   "cell_type": "code",
   "execution_count": 155,
   "metadata": {},
   "outputs": [
    {
     "name": "stdout",
     "output_type": "stream",
     "text": [
      "2016\n",
      "annual total from ODIAC team:\n",
      "9817 million metric tons of carbon per year (sum of 12 months)\n",
      "annual total from this calculation:\n",
      "9757.697\n",
      "calculation+0.5%\n",
      "9806.485485\n",
      " \n",
      "2017\n",
      "annual total from ODIAC team:\n",
      "9883 million metric tons of carbon per year (sum of 12 months)\n",
      "annual total from this calculation:\n",
      "9823.414999999999\n",
      "calculation+0.5%\n",
      "9872.532074999997\n",
      " \n",
      "2018\n",
      "annual total from ODIAC team:\n",
      "10008 million metric tons of carbon per year (sum of 12 months)\n",
      "annual total from this calculation:\n",
      "9947.628999999999\n",
      "calculation+0.5%\n",
      "9997.367144999998\n",
      " \n"
     ]
    }
   ],
   "source": [
    "for i,iyear in enumerate(year_vec):\n",
    "    ds_data = xr.open_dataset(input_dir + \n",
    "                               fname1 +\n",
    "                               str(iyear) + \n",
    "                               fname2)\n",
    "    data = ds_data[varname1] + ds_data[varname2]\n",
    "    \n",
    "    if(iyear == 2016):\n",
    "        days_in_month = [31,29,31,30,31,30,31,31,30,31,30,31]\n",
    "    else:\n",
    "        days_in_month = [31,28,31,30,31,30,31,31,30,31,30,31]\n",
    "\n",
    "    for ilat, lat in enumerate(data.lat):\n",
    "        for imonth in range(12):\n",
    "            area_tmp = area_latlon(lat1 = lat, \n",
    "                                   lon1 = data.lon[10].values, \n",
    "                                   lat2 = lat + lat_res, \n",
    "                                   lon2 = data.lon[10].values + lon_res)\n",
    "            data[imonth, ilat,:] = data[imonth, ilat,:] * area_tmp * days_in_month[imonth] *1e-3 # unit: kgCO2/month\n",
    "    annual = data.copy()\n",
    "    total = data.sum()             # kgCO2/year, same as data description\n",
    "    ann_total = total.values*1e-6 # GtCO2/yr\n",
    "    \n",
    "    print(str(iyear))\n",
    "    print('annual total from ODIAC team:')\n",
    "    print(ds_data.attrs['global_total'])\n",
    "    print('annual total from this calculation:')\n",
    "    print(ann_total*1000)\n",
    "    print('calculation+0.5%')\n",
    "    print(ann_total*1000*1.005)\n",
    "    print(' ')\n",
    "    output_odiac[i] = ann_total"
   ]
  },
  {
   "cell_type": "code",
   "execution_count": 156,
   "metadata": {},
   "outputs": [
    {
     "data": {
      "text/plain": [
       "array([9.757697, 9.823415, 9.947629])"
      ]
     },
     "execution_count": 156,
     "metadata": {},
     "output_type": "execute_result"
    }
   ],
   "source": [
    "output_odiac"
   ]
  },
  {
   "cell_type": "code",
   "execution_count": 157,
   "metadata": {},
   "outputs": [
    {
     "data": {
      "image/png": "[encoded data removed]",
      "text/plain": [
       "<Figure size 432x288 with 1 Axes>"
      ]
     },
     "metadata": {
      "image/png": {
       "height": 275,
       "width": 420
      },
      "needs_background": "light"
     },
     "output_type": "display_data"
    }
   ],
   "source": [
    "bar_pos = np.arange(len(year_vec)) + 1 # position of the bars\n",
    "\n",
    "fig = plt.figure(figsize=[6, 4])\n",
    "width = 0.2\n",
    "\n",
    "bars_ODIAC = plt.bar(bar_pos-0.1, output_odiac, width=width, color = 'b', label='ODIAC')\n",
    "bars_EDGAR = plt.bar(bar_pos+0.1, output_edgar, width=width, color = 'r', label='EDGAR')\n",
    "\n",
    "plt.xticks(bar_pos, year_vec)\n",
    "plt.ylim(top = 15)\n",
    "plt.title('Annual total CO2_ff emission (GtC/yr)', loc='left')\n",
    "plt.legend()\n",
    "\n",
    "fig.tight_layout()\n",
    "\n",
    "#fig.savefig('../plots/EDGAR_TNO_ODIAC_countries.png', dpi=300)"
   ]
  },
  {
   "cell_type": "code",
   "execution_count": 158,
   "metadata": {},
   "outputs": [
    {
     "data": {
      "image/png": "[encoded data removed]",
      "text/plain": [
       "<Figure size 432x288 with 1 Axes>"
      ]
     },
     "metadata": {
      "image/png": {
       "height": 275,
       "width": 420
      },
      "needs_background": "light"
     },
     "output_type": "display_data"
    }
   ],
   "source": [
    "fig = plt.figure(figsize=[6, 4])\n",
    "x = range(3)\n",
    "\n",
    "plt.bar(x, 100*(output_edgar-output_odiac)/output_odiac, label = 'EDGAR-ODIAC')\n",
    "plt.xticks(x, year_vec)\n",
    "\n",
    "plt.title('EDGAR - ODIAC (%)')\n",
    "\n",
    "fig.tight_layout()"
   ]
  },
  {
   "cell_type": "code",
   "execution_count": null,
   "metadata": {},
   "outputs": [],
   "source": []
  }
 ],
 "metadata": {
  "kernelspec": {
   "display_name": "Python 3",
   "language": "python",
   "name": "python3"
  },
  "language_info": {
   "codemirror_mode": {
    "name": "ipython",
    "version": 3
   },
   "file_extension": ".py",
   "mimetype": "text/x-python",
   "name": "python",
   "nbconvert_exporter": "python",
   "pygments_lexer": "ipython3",
   "version": "3.7.4"
  }
 },
 "nbformat": 4,
 "nbformat_minor": 2
}
