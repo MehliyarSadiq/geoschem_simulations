{
 "cells": [
  {
   "cell_type": "code",
   "execution_count": 319,
   "metadata": {},
   "outputs": [],
   "source": [
    "# flatten 4d (lat, lon, date, level) output data to 2d (record, level)"
   ]
  },
  {
   "cell_type": "code",
   "execution_count": 320,
   "metadata": {},
   "outputs": [],
   "source": [
    "import numpy as np\n",
    "import xarray as xr\n",
    "import re"
   ]
  },
  {
   "cell_type": "code",
   "execution_count": 321,
   "metadata": {},
   "outputs": [],
   "source": [
    "# ----------------------------------------------------------------------\n",
    "# User configurable settings (EDIT THESE ACCORDINGLY)\n",
    "# ----------------------------------------------------------------------\n",
    "\n",
    "# Name of input Netcdf file\n",
    "input_directory = '/geos/u73/msadiq/GEOS-Chem/rundirs/ensemble_runs/CO2-2018-01/nd51/'\n",
    "output_directory = input_directory\n",
    "\n",
    "name_nc_in = 'ts_satellite.201801-03.nc'\n",
    "\n",
    "input_file = input_directory + name_nc_in\n",
    "\n",
    "# Name of output netCDF file\n",
    "output_file = output_directory + '2d_' + name_nc_in"
   ]
  },
  {
   "cell_type": "code",
   "execution_count": 322,
   "metadata": {},
   "outputs": [
    {
     "data": {
      "text/html": [
       "<pre>&lt;xarray.Dataset&gt;\n",
       "Dimensions:               (lat: 91, lev: 47, lon: 144, record: 90)\n",
       "Coordinates:\n",
       "  * lev                   (lev) float64 0.9925 0.9775 ... 0.000127 2.763e-05\n",
       "  * lon                   (lon) float64 -180.0 -177.5 -175.0 ... 175.0 177.5\n",
       "  * lat                   (lat) float64 -89.5 -88.0 -86.0 ... 86.0 88.0 89.5\n",
       "Dimensions without coordinates: record\n",
       "Data variables:\n",
       "    SpeciesConc_CO2oc     (record, lev, lat, lon) float32 ...\n",
       "    SpeciesConc_CO2bf     (record, lev, lat, lon) float32 ...\n",
       "    SpeciesConc_CO2ff     (record, lev, lat, lon) float32 ...\n",
       "    SpeciesConc_CO2       (record, lev, lat, lon) float32 ...\n",
       "    SpeciesConc_CO2Tag1   (record, lev, lat, lon) float32 ...\n",
       "    SpeciesConc_CO2Tag2   (record, lev, lat, lon) float32 ...\n",
       "    SpeciesConc_CO2Tag3   (record, lev, lat, lon) float32 ...\n",
       "    SpeciesConc_CO2Tag4   (record, lev, lat, lon) float32 ...\n",
       "    SpeciesConc_CO2Tag5   (record, lev, lat, lon) float32 ...\n",
       "    SpeciesConc_CO2Tag6   (record, lev, lat, lon) float32 ...\n",
       "    SpeciesConc_CO2Tag7   (record, lev, lat, lon) float32 ...\n",
       "    SpeciesConc_CO2Tag8   (record, lev, lat, lon) float32 ...\n",
       "    SpeciesConc_CO2Tag9   (record, lev, lat, lon) float32 ...\n",
       "    SpeciesConc_CO2Tag10  (record, lev, lat, lon) float32 ...\n",
       "    SpeciesConc_CO2Tag11  (record, lev, lat, lon) float32 ...\n",
       "    SpeciesConc_CO2Tag12  (record, lev, lat, lon) float32 ...\n",
       "    SpeciesConc_CO2Tag13  (record, lev, lat, lon) float32 ...\n",
       "    SpeciesConc_CO2Tag14  (record, lev, lat, lon) float32 ...\n",
       "    SpeciesConc_CO2Tag15  (record, lev, lat, lon) float32 ...\n",
       "    SpeciesConc_CO2Tag16  (record, lev, lat, lon) float32 ...\n",
       "    SpeciesConc_CO2Tag17  (record, lev, lat, lon) float32 ...\n",
       "    SpeciesConc_CO2Tag18  (record, lev, lat, lon) float32 ...\n",
       "    SpeciesConc_CO2Tag19  (record, lev, lat, lon) float32 ...\n",
       "    SpeciesConc_CO2Tag20  (record, lev, lat, lon) float32 ...\n",
       "    SpeciesConc_CO2Tag21  (record, lev, lat, lon) float32 ...\n",
       "    SpeciesConc_CO2Tag22  (record, lev, lat, lon) float32 ...\n",
       "    PEDGE_S_PSURF         (record, lev, lat, lon) float32 ...\n",
       "Attributes:\n",
       "    modelname:                 GEOSFP_47L\n",
       "    halfpolar:                 1\n",
       "    center180:                 1\n",
       "    res:                       [2.5 2. ]\n",
       "    Conventions:               CF1.6\n",
       "    source:                    /geos/u73/msadiq/GEOS-Chem/rundirs/ensemble_ru...\n",
       "    tracerinfo:                /geos/u73/msadiq/GEOS-Chem/rundirs/ensemble_ru...\n",
       "    diaginfo:                  /geos/u73/msadiq/GEOS-Chem/rundirs/ensemble_ru...\n",
       "    filetype:                  CTM bin 02\n",
       "    filetitle:                 GEOS-CHEM DIAG51 time series\n",
       "    history:                   Fri Feb  7 12:07:09 2020: ncecat ts_satellite....\n",
       "    title:                     Created by bpch2nc.py\n",
       "    conventions:               COARDS\n",
       "    references:                www.geos-chem.org; wiki.geos-chem.org\n",
       "    NCO:                       netCDF Operators version 4.7.5 (Homepage = htt...\n",
       "    nco_openmp_thread_number:  1</pre>"
      ],
      "text/plain": [
       "<xarray.Dataset>\n",
       "Dimensions:               (lat: 91, lev: 47, lon: 144, record: 90)\n",
       "Coordinates:\n",
       "  * lev                   (lev) float64 0.9925 0.9775 ... 0.000127 2.763e-05\n",
       "  * lon                   (lon) float64 -180.0 -177.5 -175.0 ... 175.0 177.5\n",
       "  * lat                   (lat) float64 -89.5 -88.0 -86.0 ... 86.0 88.0 89.5\n",
       "Dimensions without coordinates: record\n",
       "Data variables:\n",
       "    SpeciesConc_CO2oc     (record, lev, lat, lon) float32 ...\n",
       "    SpeciesConc_CO2bf     (record, lev, lat, lon) float32 ...\n",
       "    SpeciesConc_CO2ff     (record, lev, lat, lon) float32 ...\n",
       "    SpeciesConc_CO2       (record, lev, lat, lon) float32 ...\n",
       "    SpeciesConc_CO2Tag1   (record, lev, lat, lon) float32 ...\n",
       "    SpeciesConc_CO2Tag2   (record, lev, lat, lon) float32 ...\n",
       "    SpeciesConc_CO2Tag3   (record, lev, lat, lon) float32 ...\n",
       "    SpeciesConc_CO2Tag4   (record, lev, lat, lon) float32 ...\n",
       "    SpeciesConc_CO2Tag5   (record, lev, lat, lon) float32 ...\n",
       "    SpeciesConc_CO2Tag6   (record, lev, lat, lon) float32 ...\n",
       "    SpeciesConc_CO2Tag7   (record, lev, lat, lon) float32 ...\n",
       "    SpeciesConc_CO2Tag8   (record, lev, lat, lon) float32 ...\n",
       "    SpeciesConc_CO2Tag9   (record, lev, lat, lon) float32 ...\n",
       "    SpeciesConc_CO2Tag10  (record, lev, lat, lon) float32 ...\n",
       "    SpeciesConc_CO2Tag11  (record, lev, lat, lon) float32 ...\n",
       "    SpeciesConc_CO2Tag12  (record, lev, lat, lon) float32 ...\n",
       "    SpeciesConc_CO2Tag13  (record, lev, lat, lon) float32 ...\n",
       "    SpeciesConc_CO2Tag14  (record, lev, lat, lon) float32 ...\n",
       "    SpeciesConc_CO2Tag15  (record, lev, lat, lon) float32 ...\n",
       "    SpeciesConc_CO2Tag16  (record, lev, lat, lon) float32 ...\n",
       "    SpeciesConc_CO2Tag17  (record, lev, lat, lon) float32 ...\n",
       "    SpeciesConc_CO2Tag18  (record, lev, lat, lon) float32 ...\n",
       "    SpeciesConc_CO2Tag19  (record, lev, lat, lon) float32 ...\n",
       "    SpeciesConc_CO2Tag20  (record, lev, lat, lon) float32 ...\n",
       "    SpeciesConc_CO2Tag21  (record, lev, lat, lon) float32 ...\n",
       "    SpeciesConc_CO2Tag22  (record, lev, lat, lon) float32 ...\n",
       "    PEDGE_S_PSURF         (record, lev, lat, lon) float32 ...\n",
       "Attributes:\n",
       "    modelname:                 GEOSFP_47L\n",
       "    halfpolar:                 1\n",
       "    center180:                 1\n",
       "    res:                       [2.5 2. ]\n",
       "    Conventions:               CF1.6\n",
       "    source:                    /geos/u73/msadiq/GEOS-Chem/rundirs/ensemble_ru...\n",
       "    tracerinfo:                /geos/u73/msadiq/GEOS-Chem/rundirs/ensemble_ru...\n",
       "    diaginfo:                  /geos/u73/msadiq/GEOS-Chem/rundirs/ensemble_ru...\n",
       "    filetype:                  CTM bin 02\n",
       "    filetitle:                 GEOS-CHEM DIAG51 time series\n",
       "    history:                   Fri Feb  7 12:07:09 2020: ncecat ts_satellite....\n",
       "    title:                     Created by bpch2nc.py\n",
       "    conventions:               COARDS\n",
       "    references:                www.geos-chem.org; wiki.geos-chem.org\n",
       "    NCO:                       netCDF Operators version 4.7.5 (Homepage = htt...\n",
       "    nco_openmp_thread_number:  1"
      ]
     },
     "execution_count": 322,
     "metadata": {},
     "output_type": "execute_result"
    }
   ],
   "source": [
    "ds = xr.open_dataset(input_file)\n",
    "ds = ds.squeeze('time') # remove unnecessay dimension\n",
    "ds = ds.drop('time')\n",
    "ds"
   ]
  },
  {
   "cell_type": "code",
   "execution_count": 323,
   "metadata": {},
   "outputs": [],
   "source": [
    "first_day = '2018-01-01'\n",
    "last_day_p1 = '2018-04-01'\n",
    "days = np.arange(first_day, last_day_p1, dtype='datetime64[D]')\n",
    "ds.coords['record'] = days \n",
    "ds = ds.rename({'record':'date'}) # rename and add coordinates"
   ]
  },
  {
   "cell_type": "code",
   "execution_count": 324,
   "metadata": {},
   "outputs": [
    {
     "data": {
      "text/plain": [
       "['SpeciesConc_CO2oc',\n",
       " 'SpeciesConc_CO2bf',\n",
       " 'SpeciesConc_CO2ff',\n",
       " 'SpeciesConc_CO2',\n",
       " 'SpeciesConc_CO2Tag1',\n",
       " 'SpeciesConc_CO2Tag2',\n",
       " 'SpeciesConc_CO2Tag3',\n",
       " 'SpeciesConc_CO2Tag4',\n",
       " 'SpeciesConc_CO2Tag5',\n",
       " 'SpeciesConc_CO2Tag6',\n",
       " 'SpeciesConc_CO2Tag7',\n",
       " 'SpeciesConc_CO2Tag8',\n",
       " 'SpeciesConc_CO2Tag9',\n",
       " 'SpeciesConc_CO2Tag10',\n",
       " 'SpeciesConc_CO2Tag11',\n",
       " 'SpeciesConc_CO2Tag12',\n",
       " 'SpeciesConc_CO2Tag13',\n",
       " 'SpeciesConc_CO2Tag14',\n",
       " 'SpeciesConc_CO2Tag15',\n",
       " 'SpeciesConc_CO2Tag16',\n",
       " 'SpeciesConc_CO2Tag17',\n",
       " 'SpeciesConc_CO2Tag18',\n",
       " 'SpeciesConc_CO2Tag19',\n",
       " 'SpeciesConc_CO2Tag20',\n",
       " 'SpeciesConc_CO2Tag21',\n",
       " 'SpeciesConc_CO2Tag22',\n",
       " 'PEDGE_S_PSURF']"
      ]
     },
     "execution_count": 324,
     "metadata": {},
     "output_type": "execute_result"
    }
   ],
   "source": [
    "varnames = list(ds.data_vars.keys())  # Get a list of variable names. The expression is a bit cumbersome. Just copy and paste it for now.\n",
    "nvar = len(varnames)  # how many elements in the list?\n",
    "varnames[0:27]"
   ]
  },
  {
   "cell_type": "code",
   "execution_count": 325,
   "metadata": {},
   "outputs": [],
   "source": [
    "nm_lev = len(ds.coords['lev'])\n",
    "nm_lon = len(ds.coords['lon'])\n",
    "nm_lat = len(ds.coords['lat'])\n",
    "nm_days = len(ds.coords['date'])\n",
    "\n",
    "record = range(nm_lon * nm_lat * nm_days)"
   ]
  },
  {
   "cell_type": "code",
   "execution_count": 326,
   "metadata": {},
   "outputs": [],
   "source": [
    "foo = xr.DataArray(0, coords=[record, ds.coords['lev']], dims=['record', 'levels'])\n",
    "foo = foo.astype(dtype = 'float32')\n",
    "ds_output = foo.to_dataset(name = 'SpeciesConc_CO2')\n",
    "ds_output = ds_output.astype(dtype = 'float32')\n",
    "# dataset to store following dataarrays"
   ]
  },
  {
   "cell_type": "code",
   "execution_count": 327,
   "metadata": {},
   "outputs": [],
   "source": [
    "flat = ds['SpeciesConc_CO2'][:,0,:,:].to_dataframe() # flatten a variable at one level\n",
    "flat.reset_index(inplace=True)"
   ]
  },
  {
   "cell_type": "code",
   "execution_count": 328,
   "metadata": {},
   "outputs": [
    {
     "data": {
      "text/html": [
       "<pre>&lt;xarray.Dataset&gt;\n",
       "Dimensions:          (levels: 47, record: 1179360)\n",
       "Coordinates:\n",
       "  * record           (record) int64 0 1 2 3 ... 1179356 1179357 1179358 1179359\n",
       "  * levels           (levels) float64 0.9925 0.9775 ... 0.000127 2.763e-05\n",
       "Data variables:\n",
       "    SpeciesConc_CO2  (record, levels) float32 0.0 0.0 0.0 0.0 ... 0.0 0.0 0.0\n",
       "    lat              (record) float64 -89.5 -89.5 -89.5 -89.5 ... 89.5 89.5 89.5\n",
       "    lon              (record) float64 -180.0 -177.5 -175.0 ... 172.5 175.0 177.5\n",
       "    date             (record) datetime64[ns] 2018-01-01 ... 2018-03-31</pre>"
      ],
      "text/plain": [
       "<xarray.Dataset>\n",
       "Dimensions:          (levels: 47, record: 1179360)\n",
       "Coordinates:\n",
       "  * record           (record) int64 0 1 2 3 ... 1179356 1179357 1179358 1179359\n",
       "  * levels           (levels) float64 0.9925 0.9775 ... 0.000127 2.763e-05\n",
       "Data variables:\n",
       "    SpeciesConc_CO2  (record, levels) float32 0.0 0.0 0.0 0.0 ... 0.0 0.0 0.0\n",
       "    lat              (record) float64 -89.5 -89.5 -89.5 -89.5 ... 89.5 89.5 89.5\n",
       "    lon              (record) float64 -180.0 -177.5 -175.0 ... 172.5 175.0 177.5\n",
       "    date             (record) datetime64[ns] 2018-01-01 ... 2018-03-31"
      ]
     },
     "execution_count": 328,
     "metadata": {},
     "output_type": "execute_result"
    }
   ],
   "source": [
    "lat = xr.DataArray(0, coords=[record], dims=['record'])\n",
    "lon = xr.DataArray(0, coords=[record], dims=['record'])\n",
    "date = xr.DataArray(0, coords=[record], dims=['record'])\n",
    "lat.values = flat['lat']\n",
    "lon.values = flat['lon']\n",
    "date.values = flat['date']\n",
    "ds_output['lat'] = lat\n",
    "ds_output['lon'] = lon\n",
    "ds_output['date'] = date\n",
    "ds_output"
   ]
  },
  {
   "cell_type": "code",
   "execution_count": 329,
   "metadata": {},
   "outputs": [],
   "source": [
    "for ivar in varnames[0:27]:\n",
    "    for ilev in range(nm_lev):\n",
    "        flat = ds[ivar][:,ilev,:,:].to_dataframe() # flatten a variable at one level\n",
    "        foo[:,ilev] = flat[ivar] # store output to a dataarray\n",
    "    ds_output[ivar] = foo # store dataarray to dataset"
   ]
  },
  {
   "cell_type": "code",
   "execution_count": 330,
   "metadata": {},
   "outputs": [
    {
     "data": {
      "text/html": [
       "<pre>&lt;xarray.Dataset&gt;\n",
       "Dimensions:               (levels: 47, record: 1179360)\n",
       "Coordinates:\n",
       "  * record                (record) int64 0 1 2 3 ... 1179357 1179358 1179359\n",
       "  * levels                (levels) float64 0.9925 0.9775 ... 0.000127 2.763e-05\n",
       "Data variables:\n",
       "    SpeciesConc_CO2       (record, levels) float32 687.0576 ... 0.06600001\n",
       "    lat                   (record) float64 -89.5 -89.5 -89.5 ... 89.5 89.5 89.5\n",
       "    lon                   (record) float64 -180.0 -177.5 -175.0 ... 175.0 177.5\n",
       "    date                  (record) datetime64[ns] 2018-01-01 ... 2018-03-31\n",
       "    SpeciesConc_CO2oc     (record, levels) float32 687.0576 ... 0.06600001\n",
       "    SpeciesConc_CO2bf     (record, levels) float32 687.0576 ... 0.06600001\n",
       "    SpeciesConc_CO2ff     (record, levels) float32 687.0576 ... 0.06600001\n",
       "    SpeciesConc_CO2Tag1   (record, levels) float32 687.0576 ... 0.06600001\n",
       "    SpeciesConc_CO2Tag2   (record, levels) float32 687.0576 ... 0.06600001\n",
       "    SpeciesConc_CO2Tag3   (record, levels) float32 687.0576 ... 0.06600001\n",
       "    SpeciesConc_CO2Tag4   (record, levels) float32 687.0576 ... 0.06600001\n",
       "    SpeciesConc_CO2Tag5   (record, levels) float32 687.0576 ... 0.06600001\n",
       "    SpeciesConc_CO2Tag6   (record, levels) float32 687.0576 ... 0.06600001\n",
       "    SpeciesConc_CO2Tag7   (record, levels) float32 687.0576 ... 0.06600001\n",
       "    SpeciesConc_CO2Tag8   (record, levels) float32 687.0576 ... 0.06600001\n",
       "    SpeciesConc_CO2Tag9   (record, levels) float32 687.0576 ... 0.06600001\n",
       "    SpeciesConc_CO2Tag10  (record, levels) float32 687.0576 ... 0.06600001\n",
       "    SpeciesConc_CO2Tag11  (record, levels) float32 687.0576 ... 0.06600001\n",
       "    SpeciesConc_CO2Tag12  (record, levels) float32 687.0576 ... 0.06600001\n",
       "    SpeciesConc_CO2Tag13  (record, levels) float32 687.0576 ... 0.06600001\n",
       "    SpeciesConc_CO2Tag14  (record, levels) float32 687.0576 ... 0.06600001\n",
       "    SpeciesConc_CO2Tag15  (record, levels) float32 687.0576 ... 0.06600001\n",
       "    SpeciesConc_CO2Tag16  (record, levels) float32 687.0576 ... 0.06600001\n",
       "    SpeciesConc_CO2Tag17  (record, levels) float32 687.0576 ... 0.06600001\n",
       "    SpeciesConc_CO2Tag18  (record, levels) float32 687.0576 ... 0.06600001\n",
       "    SpeciesConc_CO2Tag19  (record, levels) float32 687.0576 ... 0.06600001\n",
       "    SpeciesConc_CO2Tag20  (record, levels) float32 687.0576 ... 0.06600001\n",
       "    SpeciesConc_CO2Tag21  (record, levels) float32 687.0576 ... 0.06600001\n",
       "    SpeciesConc_CO2Tag22  (record, levels) float32 687.0576 ... 0.06600001\n",
       "    PEDGE_S_PSURF         (record, levels) float32 687.0576 ... 0.06600001</pre>"
      ],
      "text/plain": [
       "<xarray.Dataset>\n",
       "Dimensions:               (levels: 47, record: 1179360)\n",
       "Coordinates:\n",
       "  * record                (record) int64 0 1 2 3 ... 1179357 1179358 1179359\n",
       "  * levels                (levels) float64 0.9925 0.9775 ... 0.000127 2.763e-05\n",
       "Data variables:\n",
       "    SpeciesConc_CO2       (record, levels) float32 687.0576 ... 0.06600001\n",
       "    lat                   (record) float64 -89.5 -89.5 -89.5 ... 89.5 89.5 89.5\n",
       "    lon                   (record) float64 -180.0 -177.5 -175.0 ... 175.0 177.5\n",
       "    date                  (record) datetime64[ns] 2018-01-01 ... 2018-03-31\n",
       "    SpeciesConc_CO2oc     (record, levels) float32 687.0576 ... 0.06600001\n",
       "    SpeciesConc_CO2bf     (record, levels) float32 687.0576 ... 0.06600001\n",
       "    SpeciesConc_CO2ff     (record, levels) float32 687.0576 ... 0.06600001\n",
       "    SpeciesConc_CO2Tag1   (record, levels) float32 687.0576 ... 0.06600001\n",
       "    SpeciesConc_CO2Tag2   (record, levels) float32 687.0576 ... 0.06600001\n",
       "    SpeciesConc_CO2Tag3   (record, levels) float32 687.0576 ... 0.06600001\n",
       "    SpeciesConc_CO2Tag4   (record, levels) float32 687.0576 ... 0.06600001\n",
       "    SpeciesConc_CO2Tag5   (record, levels) float32 687.0576 ... 0.06600001\n",
       "    SpeciesConc_CO2Tag6   (record, levels) float32 687.0576 ... 0.06600001\n",
       "    SpeciesConc_CO2Tag7   (record, levels) float32 687.0576 ... 0.06600001\n",
       "    SpeciesConc_CO2Tag8   (record, levels) float32 687.0576 ... 0.06600001\n",
       "    SpeciesConc_CO2Tag9   (record, levels) float32 687.0576 ... 0.06600001\n",
       "    SpeciesConc_CO2Tag10  (record, levels) float32 687.0576 ... 0.06600001\n",
       "    SpeciesConc_CO2Tag11  (record, levels) float32 687.0576 ... 0.06600001\n",
       "    SpeciesConc_CO2Tag12  (record, levels) float32 687.0576 ... 0.06600001\n",
       "    SpeciesConc_CO2Tag13  (record, levels) float32 687.0576 ... 0.06600001\n",
       "    SpeciesConc_CO2Tag14  (record, levels) float32 687.0576 ... 0.06600001\n",
       "    SpeciesConc_CO2Tag15  (record, levels) float32 687.0576 ... 0.06600001\n",
       "    SpeciesConc_CO2Tag16  (record, levels) float32 687.0576 ... 0.06600001\n",
       "    SpeciesConc_CO2Tag17  (record, levels) float32 687.0576 ... 0.06600001\n",
       "    SpeciesConc_CO2Tag18  (record, levels) float32 687.0576 ... 0.06600001\n",
       "    SpeciesConc_CO2Tag19  (record, levels) float32 687.0576 ... 0.06600001\n",
       "    SpeciesConc_CO2Tag20  (record, levels) float32 687.0576 ... 0.06600001\n",
       "    SpeciesConc_CO2Tag21  (record, levels) float32 687.0576 ... 0.06600001\n",
       "    SpeciesConc_CO2Tag22  (record, levels) float32 687.0576 ... 0.06600001\n",
       "    PEDGE_S_PSURF         (record, levels) float32 687.0576 ... 0.06600001"
      ]
     },
     "execution_count": 330,
     "metadata": {},
     "output_type": "execute_result"
    }
   ],
   "source": [
    "ds_output"
   ]
  },
  {
   "cell_type": "code",
   "execution_count": 334,
   "metadata": {},
   "outputs": [
    {
     "data": {
      "text/plain": [
       "<matplotlib.collections.QuadMesh at 0x2b122bb2b208>"
      ]
     },
     "execution_count": 334,
     "metadata": {},
     "output_type": "execute_result"
    },
    {
     "data": {
      "image/png": "[encoded data removed]",
      "text/plain": [
       "<Figure size 432x288 with 2 Axes>"
      ]
     },
     "metadata": {
      "needs_background": "light"
     },
     "output_type": "display_data"
    }
   ],
   "source": [
    "ds_output.SpeciesConc_CO2Tag10.plot()"
   ]
  },
  {
   "cell_type": "code",
   "execution_count": 332,
   "metadata": {},
   "outputs": [],
   "source": [
    "ds_output.to_netcdf(path=output_file)"
   ]
  },
  {
   "cell_type": "code",
   "execution_count": null,
   "metadata": {},
   "outputs": [],
   "source": []
  }
 ],
 "metadata": {
  "kernelspec": {
   "display_name": "Python 3",
   "language": "python",
   "name": "python3"
  },
  "language_info": {
   "codemirror_mode": {
    "name": "ipython",
    "version": 3
   },
   "file_extension": ".py",
   "mimetype": "text/x-python",
   "name": "python",
   "nbconvert_exporter": "python",
   "pygments_lexer": "ipython3",
   "version": "3.6.10"
  }
 },
 "nbformat": 4,
 "nbformat_minor": 4
}
