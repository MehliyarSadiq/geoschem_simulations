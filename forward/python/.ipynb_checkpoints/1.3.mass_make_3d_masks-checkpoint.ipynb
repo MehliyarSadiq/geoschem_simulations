{
 "cells": [
  {
   "cell_type": "code",
   "execution_count": 1,
   "metadata": {},
   "outputs": [],
   "source": [
    "import matplotlib.pyplot as plt # plots\n",
    "import cartopy.crs as ccrs      # map projections\n",
    "import pandas as pd             # large arrays\n",
    "import numpy as np              # large arrays and matrices\n",
    "import xarray as xr             # major tool to work with NetCDF data!"
   ]
  },
  {
   "cell_type": "code",
   "execution_count": 2,
   "metadata": {},
   "outputs": [],
   "source": [
    "from util.gamap_colormap import WhGrYlRd\n",
    "from util.functions import mask_plus_times"
   ]
  },
  {
   "cell_type": "code",
   "execution_count": 3,
   "metadata": {},
   "outputs": [
    {
     "name": "stdout",
     "output_type": "stream",
     "text": [
      "following months of masks will be created:  ['2018-01' '2018-02' '2018-03']\n"
     ]
    }
   ],
   "source": [
    "nm_masks = 22            # number of 2-d masks\n",
    "year_string = '2018'     # emitting year\n",
    "month_string = '2018-01' # first month of masking\n",
    "nm_months = 3            # number of months to mask, separately\n",
    "\n",
    "first_month = np.array(month_string, dtype='datetime64[M]')\n",
    "month_emission = np.arange(first_month, first_month+nm_months, dtype='datetime64[M]')\n",
    "\n",
    "print('following months of masks will be created: ', month_emission)"
   ]
  },
  {
   "cell_type": "code",
   "execution_count": 4,
   "metadata": {},
   "outputs": [
    {
     "name": "stdout",
     "output_type": "stream",
     "text": [
      "2018-01\n",
      "2018-02\n",
      "2018-03\n"
     ]
    }
   ],
   "source": [
    "for imonth in month_emission:\n",
    "    print(imonth)\n",
    "    for i_mask in range(nm_masks): \n",
    "        i_mask = i_mask+1\n",
    "        fname = '/home/msadiq/Desktop/co2/data/emission/MASKS/nc/giorgi/MASK' + str(i_mask) + '_1.0x1.0.nc'\n",
    " \n",
    "        mask_plus_times(input_file = fname,\n",
    "                        year = year_string,\n",
    "                        month = imonth,\n",
    "                        output_name = 'MASK' + str(i_mask) + '_1.0x1.0.nc',\n",
    "                        output_path='/home/msadiq/Desktop/co2/data/emission/MASKS/nc/giorgi/' + str(imonth) + '/')"
   ]
  },
  {
   "cell_type": "code",
   "execution_count": null,
   "metadata": {},
   "outputs": [],
   "source": []
  }
 ],
 "metadata": {
  "kernelspec": {
   "display_name": "Python 3",
   "language": "python",
   "name": "python3"
  },
  "language_info": {
   "codemirror_mode": {
    "name": "ipython",
    "version": 3
   },
   "file_extension": ".py",
   "mimetype": "text/x-python",
   "name": "python",
   "nbconvert_exporter": "python",
   "pygments_lexer": "ipython3",
   "version": "3.7.4"
  }
 },
 "nbformat": 4,
 "nbformat_minor": 1
}
