{
 "cells": [
  {
   "cell_type": "code",
   "execution_count": 4,
   "metadata": {},
   "outputs": [],
   "source": [
    "from bpch2nc import bpch_2_netcdf\n",
    "import numpy as np\n",
    "import xarray as xr\n",
    "import re"
   ]
  },
  {
   "cell_type": "code",
   "execution_count": 5,
   "metadata": {},
   "outputs": [],
   "source": [
    "# ----------------------------------------------------------------------\n",
    "# User configurable settings (EDIT THESE ACCORDINGLY)\n",
    "# ----------------------------------------------------------------------\n",
    "\n",
    "# Name of Bpch file\n",
    "case_name   = 'CO2-2018'\n",
    "directory = '/geos/u73/msadiq/GEOS-Chem/rundirs/ensemble_runs/' + case_name + '/nd51/'\n",
    "\n",
    "first_day   = '2018-03-01'\n",
    "last_day_p1 = '2018-04-01'\n",
    "\n",
    "name_bpch1 = 'ts_satellite.'\n",
    "tinfo_file = directory + 'tracerinfo.dat'\n",
    "dinfo_file = directory + 'diaginfo.dat'\n",
    "#date = 20180201\n",
    "#bpchfile = directory + name_bpch1+str(date)+'.bpch'\n",
    "\n",
    "# tracerinfo.dat and diaginfo,dat fiels\n",
    "#tinfo_file = directory + 'tracerinfo.dat'\n",
    "#dinfo_file = directory + 'diaginfo.dat'\n",
    "\n",
    "# Name of netCDF file\n",
    "output_directory = '/geos/u73/msadiq/GEOS-Chem/rundirs/ensemble_runs/' + case_name + '/nd51/'\n",
    "#ncfile = output_directory + name_bpch1 + str(date) + '.nc'\n",
    "\n",
    "# Number of seconds in the diagnostic interval (assume 1-month)\n",
    "# does not matter for CO2\n",
    "interval = 86400.0 * 31.0"
   ]
  },
  {
   "cell_type": "code",
   "execution_count": 6,
   "metadata": {},
   "outputs": [
    {
     "name": "stdout",
     "output_type": "stream",
     "text": [
      "converting bpch to netcdf on day:  2018-03-01\n",
      "converting bpch to netcdf on day:  2018-03-02\n",
      "converting bpch to netcdf on day:  2018-03-03\n",
      "converting bpch to netcdf on day:  2018-03-04\n",
      "converting bpch to netcdf on day:  2018-03-05\n",
      "converting bpch to netcdf on day:  2018-03-06\n",
      "converting bpch to netcdf on day:  2018-03-07\n",
      "converting bpch to netcdf on day:  2018-03-08\n",
      "converting bpch to netcdf on day:  2018-03-09\n",
      "converting bpch to netcdf on day:  2018-03-10\n",
      "converting bpch to netcdf on day:  2018-03-11\n",
      "converting bpch to netcdf on day:  2018-03-12\n",
      "converting bpch to netcdf on day:  2018-03-13\n",
      "converting bpch to netcdf on day:  2018-03-14\n",
      "converting bpch to netcdf on day:  2018-03-15\n",
      "converting bpch to netcdf on day:  2018-03-16\n",
      "converting bpch to netcdf on day:  2018-03-17\n",
      "converting bpch to netcdf on day:  2018-03-18\n",
      "converting bpch to netcdf on day:  2018-03-19\n",
      "converting bpch to netcdf on day:  2018-03-20\n",
      "converting bpch to netcdf on day:  2018-03-21\n",
      "converting bpch to netcdf on day:  2018-03-22\n",
      "converting bpch to netcdf on day:  2018-03-23\n",
      "converting bpch to netcdf on day:  2018-03-24\n",
      "converting bpch to netcdf on day:  2018-03-25\n",
      "converting bpch to netcdf on day:  2018-03-26\n",
      "converting bpch to netcdf on day:  2018-03-27\n",
      "converting bpch to netcdf on day:  2018-03-28\n",
      "converting bpch to netcdf on day:  2018-03-29\n",
      "converting bpch to netcdf on day:  2018-03-30\n",
      "converting bpch to netcdf on day:  2018-03-31\n",
      "converting bpch to netcdf on day:  2018-04-01\n",
      "Could not find file /geos/u73/msadiq/GEOS-Chem/rundirs/ensemble_runs/CO2-2018/nd51/ts_satellite.20180401.bpch\n"
     ]
    },
    {
     "ename": "FileNotFoundError",
     "evalue": "[Errno 2] No such file or directory: '/geos/u73/msadiq/GEOS-Chem/rundirs/ensemble_runs/CO2-2018/nd51/ts_satellite.20180401.bpch'",
     "output_type": "error",
     "traceback": [
      "\u001b[0;31m---------------------------------------------------------------------------\u001b[0m",
      "\u001b[0;31mFileNotFoundError\u001b[0m                         Traceback (most recent call last)",
      "\u001b[0;32m<ipython-input-6-5c76b436c4c2>\u001b[0m in \u001b[0;36m<module>\u001b[0;34m\u001b[0m\n\u001b[1;32m     12\u001b[0m                   \u001b[0mtinfo_file\u001b[0m\u001b[0;34m=\u001b[0m\u001b[0mtinfo_file\u001b[0m\u001b[0;34m,\u001b[0m\u001b[0;34m\u001b[0m\u001b[0;34m\u001b[0m\u001b[0m\n\u001b[1;32m     13\u001b[0m                   \u001b[0mdinfo_file\u001b[0m\u001b[0;34m=\u001b[0m\u001b[0mdinfo_file\u001b[0m\u001b[0;34m,\u001b[0m\u001b[0;34m\u001b[0m\u001b[0;34m\u001b[0m\u001b[0m\n\u001b[0;32m---> 14\u001b[0;31m                   ncfile=ncfile)\n\u001b[0m",
      "\u001b[0;32m/geos/u73/msadiq/GEOS-Chem/analysis/inversion/bpch2nc.py\u001b[0m in \u001b[0;36mbpch_2_netcdf\u001b[0;34m(bpchfile, tinfo_file, dinfo_file, ncfile, interval)\u001b[0m\n\u001b[1;32m     28\u001b[0m         ds = xb.open_bpchdataset(filename=bpchfile,\n\u001b[1;32m     29\u001b[0m                                  \u001b[0mtracerinfo_file\u001b[0m\u001b[0;34m=\u001b[0m\u001b[0mtinfo_file\u001b[0m\u001b[0;34m,\u001b[0m\u001b[0;34m\u001b[0m\u001b[0;34m\u001b[0m\u001b[0m\n\u001b[0;32m---> 30\u001b[0;31m                                  diaginfo_file=dinfo_file)\n\u001b[0m\u001b[1;32m     31\u001b[0m     \u001b[0;32mexcept\u001b[0m \u001b[0mFileNotFoundError\u001b[0m\u001b[0;34m:\u001b[0m\u001b[0;34m\u001b[0m\u001b[0;34m\u001b[0m\u001b[0m\n\u001b[1;32m     32\u001b[0m         \u001b[0mprint\u001b[0m\u001b[0;34m(\u001b[0m\u001b[0;34m'Could not find file {}'\u001b[0m\u001b[0;34m.\u001b[0m\u001b[0mformat\u001b[0m\u001b[0;34m(\u001b[0m\u001b[0mbpchfile\u001b[0m\u001b[0;34m)\u001b[0m\u001b[0;34m)\u001b[0m\u001b[0;34m\u001b[0m\u001b[0;34m\u001b[0m\u001b[0m\n",
      "\u001b[0;32m/geos/u73/msadiq/libs/miniconda/base/envs/geo/lib/python3.6/site-packages/xbpch/core.py\u001b[0m in \u001b[0;36mopen_bpchdataset\u001b[0;34m(filename, fields, categories, tracerinfo_file, diaginfo_file, endian, decode_cf, memmap, dask, return_store)\u001b[0m\n\u001b[1;32m     79\u001b[0m         \u001b[0mtracerinfo_file\u001b[0m\u001b[0;34m=\u001b[0m\u001b[0mtracerinfo_file\u001b[0m\u001b[0;34m,\u001b[0m\u001b[0;34m\u001b[0m\u001b[0;34m\u001b[0m\u001b[0m\n\u001b[1;32m     80\u001b[0m         \u001b[0mdiaginfo_file\u001b[0m\u001b[0;34m=\u001b[0m\u001b[0mdiaginfo_file\u001b[0m\u001b[0;34m,\u001b[0m \u001b[0mendian\u001b[0m\u001b[0;34m=\u001b[0m\u001b[0mendian\u001b[0m\u001b[0;34m,\u001b[0m\u001b[0;34m\u001b[0m\u001b[0;34m\u001b[0m\u001b[0m\n\u001b[0;32m---> 81\u001b[0;31m         \u001b[0muse_mmap\u001b[0m\u001b[0;34m=\u001b[0m\u001b[0mmemmap\u001b[0m\u001b[0;34m,\u001b[0m \u001b[0mdask_delayed\u001b[0m\u001b[0;34m=\u001b[0m\u001b[0mdask\u001b[0m\u001b[0;34m\u001b[0m\u001b[0;34m\u001b[0m\u001b[0m\n\u001b[0m\u001b[1;32m     82\u001b[0m     )\n\u001b[1;32m     83\u001b[0m     \u001b[0mds\u001b[0m \u001b[0;34m=\u001b[0m \u001b[0mxr\u001b[0m\u001b[0;34m.\u001b[0m\u001b[0mDataset\u001b[0m\u001b[0;34m.\u001b[0m\u001b[0mload_store\u001b[0m\u001b[0;34m(\u001b[0m\u001b[0mstore\u001b[0m\u001b[0;34m)\u001b[0m\u001b[0;34m\u001b[0m\u001b[0;34m\u001b[0m\u001b[0m\n",
      "\u001b[0;32m/geos/u73/msadiq/libs/miniconda/base/envs/geo/lib/python3.6/site-packages/xbpch/core.py\u001b[0m in \u001b[0;36m__init__\u001b[0;34m(self, filename, fields, categories, fix_cf, mode, endian, diaginfo_file, tracerinfo_file, use_mmap, dask_delayed)\u001b[0m\n\u001b[1;32m    251\u001b[0m \u001b[0;34m\u001b[0m\u001b[0m\n\u001b[1;32m    252\u001b[0m         \u001b[0mself\u001b[0m\u001b[0;34m.\u001b[0m\u001b[0mfilename\u001b[0m \u001b[0;34m=\u001b[0m \u001b[0mfilename\u001b[0m\u001b[0;34m\u001b[0m\u001b[0;34m\u001b[0m\u001b[0m\n\u001b[0;32m--> 253\u001b[0;31m         \u001b[0mself\u001b[0m\u001b[0;34m.\u001b[0m\u001b[0mfsize\u001b[0m \u001b[0;34m=\u001b[0m \u001b[0mos\u001b[0m\u001b[0;34m.\u001b[0m\u001b[0mpath\u001b[0m\u001b[0;34m.\u001b[0m\u001b[0mgetsize\u001b[0m\u001b[0;34m(\u001b[0m\u001b[0mself\u001b[0m\u001b[0;34m.\u001b[0m\u001b[0mfilename\u001b[0m\u001b[0;34m)\u001b[0m\u001b[0;34m\u001b[0m\u001b[0;34m\u001b[0m\u001b[0m\n\u001b[0m\u001b[1;32m    254\u001b[0m         \u001b[0mself\u001b[0m\u001b[0;34m.\u001b[0m\u001b[0mmode\u001b[0m \u001b[0;34m=\u001b[0m \u001b[0mmode\u001b[0m\u001b[0;34m\u001b[0m\u001b[0;34m\u001b[0m\u001b[0m\n\u001b[1;32m    255\u001b[0m         \u001b[0;32mif\u001b[0m \u001b[0;32mnot\u001b[0m \u001b[0mmode\u001b[0m\u001b[0;34m.\u001b[0m\u001b[0mstartswith\u001b[0m\u001b[0;34m(\u001b[0m\u001b[0;34m'r'\u001b[0m\u001b[0;34m)\u001b[0m\u001b[0;34m:\u001b[0m\u001b[0;34m\u001b[0m\u001b[0;34m\u001b[0m\u001b[0m\n",
      "\u001b[0;32m/geos/u73/msadiq/libs/miniconda/base/envs/geo/lib/python3.6/genericpath.py\u001b[0m in \u001b[0;36mgetsize\u001b[0;34m(filename)\u001b[0m\n\u001b[1;32m     48\u001b[0m \u001b[0;32mdef\u001b[0m \u001b[0mgetsize\u001b[0m\u001b[0;34m(\u001b[0m\u001b[0mfilename\u001b[0m\u001b[0;34m)\u001b[0m\u001b[0;34m:\u001b[0m\u001b[0;34m\u001b[0m\u001b[0;34m\u001b[0m\u001b[0m\n\u001b[1;32m     49\u001b[0m     \u001b[0;34m\"\"\"Return the size of a file, reported by os.stat().\"\"\"\u001b[0m\u001b[0;34m\u001b[0m\u001b[0;34m\u001b[0m\u001b[0m\n\u001b[0;32m---> 50\u001b[0;31m     \u001b[0;32mreturn\u001b[0m \u001b[0mos\u001b[0m\u001b[0;34m.\u001b[0m\u001b[0mstat\u001b[0m\u001b[0;34m(\u001b[0m\u001b[0mfilename\u001b[0m\u001b[0;34m)\u001b[0m\u001b[0;34m.\u001b[0m\u001b[0mst_size\u001b[0m\u001b[0;34m\u001b[0m\u001b[0;34m\u001b[0m\u001b[0m\n\u001b[0m\u001b[1;32m     51\u001b[0m \u001b[0;34m\u001b[0m\u001b[0m\n\u001b[1;32m     52\u001b[0m \u001b[0;34m\u001b[0m\u001b[0m\n",
      "\u001b[0;31mFileNotFoundError\u001b[0m: [Errno 2] No such file or directory: '/geos/u73/msadiq/GEOS-Chem/rundirs/ensemble_runs/CO2-2018/nd51/ts_satellite.20180401.bpch'"
     ]
    }
   ],
   "source": [
    "days = np.arange(first_day, last_day_p1, dtype='datetime64[D]')\n",
    "\n",
    "for iday in np.arange(len(days)):\n",
    "    day_string = days[iday] # format not right for the following function\n",
    "    print('converting bpch to netcdf on day: ', day_string)\n",
    "    new_day_string = re.sub(\"[^0-9]\", \"\", str(day_string)) # strip off '-'s\n",
    "    \n",
    "    bpchfile = directory + name_bpch1 + new_day_string + '.bpch'\n",
    "    ncfile = output_directory + name_bpch1 + new_day_string + '.nc'\n",
    "    \n",
    "    bpch_2_netcdf(bpchfile=bpchfile, \n",
    "                  tinfo_file=tinfo_file, \n",
    "                  dinfo_file=dinfo_file, \n",
    "                  ncfile=ncfile)"
   ]
  },
  {
   "cell_type": "code",
   "execution_count": null,
   "metadata": {},
   "outputs": [],
   "source": [
    "#ds = xr.open_dataset(ncfile)\n",
    "#ds = xr.open_dataset(directory + 'GEOSChem.SpeciesConc.20180201_0000z.nc4')\n",
    "#ds"
   ]
  }
 ],
 "metadata": {
  "kernelspec": {
   "display_name": "Python 3",
   "language": "python",
   "name": "python3"
  },
  "language_info": {
   "codemirror_mode": {
    "name": "ipython",
    "version": 3
   },
   "file_extension": ".py",
   "mimetype": "text/x-python",
   "name": "python",
   "nbconvert_exporter": "python",
   "pygments_lexer": "ipython3",
   "version": "3.6.10"
  }
 },
 "nbformat": 4,
 "nbformat_minor": 4
}
