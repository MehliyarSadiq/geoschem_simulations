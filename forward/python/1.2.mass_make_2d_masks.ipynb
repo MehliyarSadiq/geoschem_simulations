{
 "cells": [
  {
   "cell_type": "code",
   "execution_count": 15,
   "metadata": {},
   "outputs": [],
   "source": [
    "import matplotlib.pyplot as plt # plots\n",
    "import cartopy.crs as ccrs      # map projections\n",
    "import pandas as pd             # large arrays\n",
    "import numpy as np              # large arrays and matrices\n",
    "import xarray as xr             # major tool to work with NetCDF data!"
   ]
  },
  {
   "cell_type": "code",
   "execution_count": 16,
   "metadata": {},
   "outputs": [],
   "source": [
    "from util.functions import area_latlon\n",
    "from util.functions import create_masks\n",
    "from util.functions import split_masks\n",
    "from util.gamap_colormap import WhGrYlRd"
   ]
  },
  {
   "cell_type": "markdown",
   "metadata": {},
   "source": [
    "# Create masks"
   ]
  },
  {
   "cell_type": "code",
   "execution_count": 17,
   "metadata": {},
   "outputs": [
    {
     "data": {
      "text/html": [
       "<pre>&lt;xarray.DataArray &#x27;emi_co2&#x27; (lat: 180, lon: 360)&gt;\n",
       "array([[nan, nan, nan, ..., nan, nan, nan],\n",
       "       [nan, nan, nan, ..., nan, nan, nan],\n",
       "       [nan, nan, nan, ..., nan, nan, nan],\n",
       "       ...,\n",
       "       [nan, nan, nan, ..., nan, nan, nan],\n",
       "       [nan, nan, nan, ..., nan, nan, nan],\n",
       "       [nan, nan, nan, ..., nan, nan, nan]], dtype=float32)\n",
       "Coordinates:\n",
       "  * lon      (lon) float32 -179.5 -178.5 -177.5 -176.5 ... 177.5 178.5 179.5\n",
       "  * lat      (lat) float32 -89.5 -88.5 -87.5 -86.5 -85.5 ... 86.5 87.5 88.5 89.5\n",
       "    time     datetime64[ns] 2014-01-01\n",
       "Attributes:\n",
       "    long_name:  EDGAR fossil fuel CO2 from Mehliyar Sadiq\n",
       "    units:      kg/m2/s</pre>"
      ],
      "text/plain": [
       "<xarray.DataArray 'emi_co2' (lat: 180, lon: 360)>\n",
       "array([[nan, nan, nan, ..., nan, nan, nan],\n",
       "       [nan, nan, nan, ..., nan, nan, nan],\n",
       "       [nan, nan, nan, ..., nan, nan, nan],\n",
       "       ...,\n",
       "       [nan, nan, nan, ..., nan, nan, nan],\n",
       "       [nan, nan, nan, ..., nan, nan, nan],\n",
       "       [nan, nan, nan, ..., nan, nan, nan]], dtype=float32)\n",
       "Coordinates:\n",
       "  * lon      (lon) float32 -179.5 -178.5 -177.5 -176.5 ... 177.5 178.5 179.5\n",
       "  * lat      (lat) float32 -89.5 -88.5 -87.5 -86.5 -85.5 ... 86.5 87.5 88.5 89.5\n",
       "    time     datetime64[ns] 2014-01-01\n",
       "Attributes:\n",
       "    long_name:  EDGAR fossil fuel CO2 from Mehliyar Sadiq\n",
       "    units:      kg/m2/s"
      ]
     },
     "execution_count": 17,
     "metadata": {},
     "output_type": "execute_result"
    }
   ],
   "source": [
    "# load data\n",
    "fname = '/geos/u73/msadiq/GEOS-Chem/HEMCO/CO2/v2019-12/EDGAR_monthly_2018_1x1.nc'\n",
    "ds = xr.open_dataset(fname)\n",
    "# read in one month of data, [180,360], to create corresponding mask\n",
    "dr = ds['emi_co2'][0,:,:]\n",
    "dr"
   ]
  },
  {
   "cell_type": "code",
   "execution_count": 18,
   "metadata": {},
   "outputs": [],
   "source": [
    "# available mask types\n",
    "mask_types = ['giorgi', 'srex'] \n",
    "#'countries_110', 'countries_50', \n",
    "#'us_states_50', 'us_states_10']"
   ]
  },
  {
   "cell_type": "code",
   "execution_count": 19,
   "metadata": {},
   "outputs": [
    {
     "name": "stdout",
     "output_type": "stream",
     "text": [
      "finished creating masks for giorgi\n",
      "finished spliting masks\n",
      "finished creating masks for srex\n",
      "finished spliting masks\n"
     ]
    }
   ],
   "source": [
    "# mass produce masks for all mask_types and all regions\n",
    "for mask_type in mask_types:\n",
    "# create masks for input file\n",
    "    mask = create_masks(input_file=dr, \n",
    "                    input_file_type='dataarray', \n",
    "                    var_name='', \n",
    "                    mask_type=mask_type, \n",
    "                    output_format='xarray', \n",
    "                    output_path='/geos/u73/msadiq/GEOS-Chem/MASKS/nc/' + mask_type, \n",
    "                    figure_flag = False, \n",
    "                    figure_path='/home/msadiq/Desktop/co2/data/emission/MASKS/figures/' + mask_type)\n",
    "# Split it into separate mask files and save   \n",
    "    split_masks(input_file = mask, \n",
    "            input_file_type='dataarray',\n",
    "            output_format='netcdf', \n",
    "            output_path='/geos/u73/msadiq/GEOS-Chem/MASKS/nc/' + mask_type, \n",
    "            figure_flag = False, \n",
    "            figure_path='/home/msadiq/Desktop/co2/data/emission/MASKS/figures/' + mask_type)"
   ]
  },
  {
   "cell_type": "code",
   "execution_count": 20,
   "metadata": {},
   "outputs": [
    {
     "name": "stdout",
     "output_type": "stream",
     "text": [
      "finished creating masks for giorgi\n"
     ]
    }
   ],
   "source": [
    "# one mask_type for demo\n",
    "mask_type='giorgi'\n",
    "mask = create_masks(input_file=dr, \n",
    "                    input_file_type='dataarray', \n",
    "                    var_name='', \n",
    "                    mask_type='giorgi', \n",
    "                    output_format='netcdf', \n",
    "                    output_path='/geos/u73/msadiq/GEOS-Chem/MASKS/nc/' + mask_type, \n",
    "                    figure_flag = False, \n",
    "                    figure_path='/home/msadiq/Desktop/co2/data/emission/MASKS/figures/' + mask_type)"
   ]
  },
  {
   "cell_type": "code",
   "execution_count": 21,
   "metadata": {},
   "outputs": [
    {
     "ename": "AttributeError",
     "evalue": "'NoneType' object has no attribute 'min'",
     "output_type": "error",
     "traceback": [
      "\u001b[0;31m---------------------------------------------------------------------------\u001b[0m",
      "\u001b[0;31mAttributeError\u001b[0m                            Traceback (most recent call last)",
      "\u001b[0;32m<ipython-input-21-8ff923a2b884>\u001b[0m in \u001b[0;36m<module>\u001b[0;34m\u001b[0m\n\u001b[1;32m      4\u001b[0m \u001b[0max\u001b[0m \u001b[0;34m=\u001b[0m \u001b[0mplt\u001b[0m\u001b[0;34m.\u001b[0m\u001b[0msubplot\u001b[0m\u001b[0;34m(\u001b[0m\u001b[0;36m111\u001b[0m\u001b[0;34m,\u001b[0m \u001b[0mprojection\u001b[0m\u001b[0;34m=\u001b[0m\u001b[0mproj\u001b[0m\u001b[0;34m)\u001b[0m\u001b[0;34m\u001b[0m\u001b[0;34m\u001b[0m\u001b[0m\n\u001b[1;32m      5\u001b[0m \u001b[0;34m\u001b[0m\u001b[0m\n\u001b[0;32m----> 6\u001b[0;31m \u001b[0mlow\u001b[0m \u001b[0;34m=\u001b[0m \u001b[0mmask\u001b[0m\u001b[0;34m.\u001b[0m\u001b[0mmin\u001b[0m\u001b[0;34m(\u001b[0m\u001b[0;34m)\u001b[0m\u001b[0;34m\u001b[0m\u001b[0;34m\u001b[0m\u001b[0m\n\u001b[0m\u001b[1;32m      7\u001b[0m \u001b[0mhigh\u001b[0m \u001b[0;34m=\u001b[0m \u001b[0mmask\u001b[0m\u001b[0;34m.\u001b[0m\u001b[0mmax\u001b[0m\u001b[0;34m(\u001b[0m\u001b[0;34m)\u001b[0m\u001b[0;34m\u001b[0m\u001b[0;34m\u001b[0m\u001b[0m\n\u001b[1;32m      8\u001b[0m \u001b[0mlevels\u001b[0m \u001b[0;34m=\u001b[0m \u001b[0mnp\u001b[0m\u001b[0;34m.\u001b[0m\u001b[0marange\u001b[0m\u001b[0;34m(\u001b[0m\u001b[0mlow\u001b[0m \u001b[0;34m-\u001b[0m \u001b[0;36m0.5\u001b[0m\u001b[0;34m,\u001b[0m \u001b[0mhigh\u001b[0m \u001b[0;34m+\u001b[0m \u001b[0;36m1\u001b[0m\u001b[0;34m)\u001b[0m\u001b[0;34m\u001b[0m\u001b[0;34m\u001b[0m\u001b[0m\n",
      "\u001b[0;31mAttributeError\u001b[0m: 'NoneType' object has no attribute 'min'"
     ]
    },
    {
     "data": {
      "image/png": "[encoded data removed]",
      "text/plain": [
       "<Figure size 576x288 with 1 Axes>"
      ]
     },
     "metadata": {
      "needs_background": "light"
     },
     "output_type": "display_data"
    }
   ],
   "source": [
    "# global map\n",
    "fig = plt.figure(figsize=[8, 4])\n",
    "proj=ccrs.PlateCarree()\n",
    "ax = plt.subplot(111, projection=proj)\n",
    "\n",
    "low = mask.min()\n",
    "high = mask.max()\n",
    "levels = np.arange(low - 0.5, high + 1)\n",
    "\n",
    "mask.plot(ax=ax, transform=ccrs.PlateCarree(), levels=levels, cmap='tab20', vmax = 21.5, cbar_kwargs={'shrink': 0.8,})\n",
    "ax.set_title(' ' + str(int(high.values)) + \" masks \")\n",
    "ax.coastlines();"
   ]
  },
  {
   "cell_type": "markdown",
   "metadata": {},
   "source": [
    "### Split it into separate mask files and save"
   ]
  },
  {
   "cell_type": "code",
   "execution_count": null,
   "metadata": {},
   "outputs": [],
   "source": [
    "split_masks(input_file = mask, \n",
    "            input_file_type='dataarray',\n",
    "            output_format='netcdf', \n",
    "            output_path='~/Desktop/co2/data/emission/MASKS/nc/giorgi', \n",
    "            figure_flag = False, \n",
    "            figure_path='~/Desktop/co2/data/emission/MASKS/figures/giorgi')"
   ]
  },
  {
   "cell_type": "code",
   "execution_count": null,
   "metadata": {},
   "outputs": [],
   "source": []
  }
 ],
 "metadata": {
  "kernelspec": {
   "display_name": "Python 3",
   "language": "python",
   "name": "python3"
  },
  "language_info": {
   "codemirror_mode": {
    "name": "ipython",
    "version": 3
   },
   "file_extension": ".py",
   "mimetype": "text/x-python",
   "name": "python",
   "nbconvert_exporter": "python",
   "pygments_lexer": "ipython3",
   "version": "3.6.10"
  }
 },
 "nbformat": 4,
 "nbformat_minor": 1
}
