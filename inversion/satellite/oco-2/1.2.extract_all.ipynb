{
 "cells": [
  {
   "cell_type": "markdown",
   "metadata": {},
   "source": [
    "# Extract variables from OCO-2 dataset"
   ]
  },
  {
   "cell_type": "code",
   "execution_count": 57,
   "metadata": {},
   "outputs": [],
   "source": [
    "# to display plots in notebook\n",
    "%matplotlib inline\n",
    "%config InlineBackend.figure_format = \"retina\"\n",
    "\n",
    "from matplotlib import rcParams\n",
    "rcParams[\"savefig.dpi\"] = 300  # high res plots\n",
    "rcParams[\"font.size\"] = 8\n",
    "\n",
    "import warnings\n",
    "warnings.filterwarnings('ignore')"
   ]
  },
  {
   "cell_type": "markdown",
   "metadata": {},
   "source": [
    "## Import packages"
   ]
  },
  {
   "cell_type": "code",
   "execution_count": 58,
   "metadata": {},
   "outputs": [],
   "source": [
    "import matplotlib.pyplot as plt # plots\n",
    "import cartopy.crs as ccrs      # map projections\n",
    "import pandas as pd             # large arrays\n",
    "import numpy as np              # large arrays and matrices\n",
    "import xarray as xr             # major tool to work with NetCDF data!\n",
    "# custom color map downloaded from GEOS-Chem python tutorial\n",
    "from gamap_colormap import WhGrYlRd  # import the \"WhGrYlRd\" variable\n",
    "import re"
   ]
  },
  {
   "cell_type": "markdown",
   "metadata": {},
   "source": [
    "### Read in OCO-2 file"
   ]
  },
  {
   "cell_type": "code",
   "execution_count": 59,
   "metadata": {},
   "outputs": [
    {
     "data": {
      "text/html": [
       "<pre>&lt;xarray.Dataset&gt;\n",
       "Dimensions:                       (epoch_dimension: 7, levels: 20, sounding_id: 1319634)\n",
       "Coordinates:\n",
       "  * sounding_id                   (sounding_id) int64 20140906020721 ... 20190731225946\n",
       "Dimensions without coordinates: epoch_dimension, levels\n",
       "Data variables:\n",
       "    test_flag                     (sounding_id) int8 ...\n",
       "    latitude                      (sounding_id) float32 ...\n",
       "    longitude                     (sounding_id) float32 ...\n",
       "    data_type                     (sounding_id) int8 ...\n",
       "    date                          (sounding_id, epoch_dimension) int16 ...\n",
       "    time                          (sounding_id) datetime64[ns] ...\n",
       "    solar_zenith_angle            (sounding_id) float32 ...\n",
       "    solar_azimuth_angle           (sounding_id) float32 ...\n",
       "    sensor_zenith_angle           (sounding_id) float32 ...\n",
       "    sensor_azimuth_angle          (sounding_id) float32 ...\n",
       "    psurf_apriori_b8              (sounding_id) float32 ...\n",
       "    psurf_apriori_o2a             (sounding_id) float32 ...\n",
       "    psurf_apriori_wco2            (sounding_id) float32 ...\n",
       "    psurf_apriori_sco2            (sounding_id) float32 ...\n",
       "    psurf_apriori                 (sounding_id) float32 ...\n",
       "    psurf                         (sounding_id) float32 ...\n",
       "    xco2_raw                      (sounding_id) float32 ...\n",
       "    xco2_apriori                  (sounding_id) float32 ...\n",
       "    xco2                          (sounding_id) float32 ...\n",
       "    xco2_uncertainty              (sounding_id) float32 ...\n",
       "    model_error                   (sounding_id) float32 ...\n",
       "    co2_profile_apriori           (sounding_id, levels) float32 ...\n",
       "    xco2_averaging_kernel         (sounding_id, levels) float32 ...\n",
       "    pressure_weight               (sounding_id, levels) float32 ...\n",
       "    sigma_levels                  (levels) float32 ...\n",
       "    xco2_quality_flag             (sounding_id) int8 ...\n",
       "    warn_level                    (sounding_id) int8 ...\n",
       "    land_fraction                 (sounding_id) int8 ...\n",
       "    altitude                      (sounding_id) float32 ...\n",
       "    airmass                       (sounding_id) float32 ...\n",
       "    path                          (sounding_id) int16 ...\n",
       "    operation_mode                (sounding_id) int8 ...\n",
       "    land_water_indicator          (sounding_id) int8 ...\n",
       "    surface_type                  (sounding_id) int8 ...\n",
       "    fs                            (sounding_id) float32 ...\n",
       "    delta_windspeed               (sounding_id) float32 ...\n",
       "    s31                           (sounding_id) float32 ...\n",
       "    s32                           (sounding_id) float32 ...\n",
       "    albedo_3                      (sounding_id) float32 ...\n",
       "    albedo_slope_3                (sounding_id) float32 ...\n",
       "    aod_total                     (sounding_id) float32 ...\n",
       "    albedo_2                      (sounding_id) float32 ...\n",
       "    co2_grad_del                  (sounding_id) float32 ...\n",
       "    dws                           (sounding_id) float32 ...\n",
       "    dpfrac                        (sounding_id) float32 ...\n",
       "    dp_o2a                        (sounding_id) float32 ...\n",
       "    dp                            (sounding_id) float32 ...\n",
       "    dp_abp                        (sounding_id) float32 ...\n",
       "    co2_ratio                     (sounding_id) float32 ...\n",
       "    h2o_ratio                     (sounding_id) float32 ...\n",
       "    xco2_weak_idp                 (sounding_id) float32 ...\n",
       "    xco2_strong_idp               (sounding_id) float32 ...\n",
       "    tcwv_apriori                  (sounding_id) float32 ...\n",
       "    tcwv                          (sounding_id) float32 ...\n",
       "    ice_height                    (sounding_id) float32 ...\n",
       "    h2o_scale                     (sounding_id) float32 ...\n",
       "    deltaT                        (sounding_id) float32 ...\n",
       "    snr_o2a                       (sounding_id) float32 ...\n",
       "    snr_wco2                      (sounding_id) float32 ...\n",
       "    snr_sco2                      (sounding_id) float32 ...\n",
       "    altitude_stddev               (sounding_id) float32 ...\n",
       "    N_total_shots                 (sounding_id) int32 ...\n",
       "    Var_1s_altitude_weighted      (sounding_id) float32 ...\n",
       "    Var_1s_XCO2raw_weighted       (sounding_id) float32 ...\n",
       "    Var_1s_XCO2biascorr_weighted  (sounding_id) float32 ...\n",
       "    Var_1s_co2_grad_del_weighted  (sounding_id) float32 ...\n",
       "    Var_1s_dPsurf_weighted        (sounding_id) float32 ...\n",
       "    Var_1s_DWS_weighted           (sounding_id) float32 ...\n",
       "    Var_1s_S31_weighted           (sounding_id) float32 ...\n",
       "    Var_1s_altitude_corrmean      (sounding_id) float32 ...\n",
       "    Var_1s_XCO2raw_corrmean       (sounding_id) float32 ...\n",
       "    Var_1s_XCO2biascorr_corrmean  (sounding_id) float32 ...\n",
       "    Var_1s_co2_grad_del_corrmean  (sounding_id) float32 ...\n",
       "    Var_1s_dPsurf_corrmean        (sounding_id) float32 ...\n",
       "    Var_1s_DWS_corrmean           (sounding_id) float32 ...\n",
       "    Var_1s_S31_corrmean           (sounding_id) float32 ...\n",
       "    Var_1s_XCO2raw                (sounding_id) float32 ...\n",
       "    Var_1s_XCO2biascorr           (sounding_id) float32 ...\n",
       "Attributes:\n",
       "    Conventions:  CF-1.0</pre>"
      ],
      "text/plain": [
       "<xarray.Dataset>\n",
       "Dimensions:                       (epoch_dimension: 7, levels: 20, sounding_id: 1319634)\n",
       "Coordinates:\n",
       "  * sounding_id                   (sounding_id) int64 20140906020721 ... 20190731225946\n",
       "Dimensions without coordinates: epoch_dimension, levels\n",
       "Data variables:\n",
       "    test_flag                     (sounding_id) int8 ...\n",
       "    latitude                      (sounding_id) float32 ...\n",
       "    longitude                     (sounding_id) float32 ...\n",
       "    data_type                     (sounding_id) int8 ...\n",
       "    date                          (sounding_id, epoch_dimension) int16 ...\n",
       "    time                          (sounding_id) datetime64[ns] ...\n",
       "    solar_zenith_angle            (sounding_id) float32 ...\n",
       "    solar_azimuth_angle           (sounding_id) float32 ...\n",
       "    sensor_zenith_angle           (sounding_id) float32 ...\n",
       "    sensor_azimuth_angle          (sounding_id) float32 ...\n",
       "    psurf_apriori_b8              (sounding_id) float32 ...\n",
       "    psurf_apriori_o2a             (sounding_id) float32 ...\n",
       "    psurf_apriori_wco2            (sounding_id) float32 ...\n",
       "    psurf_apriori_sco2            (sounding_id) float32 ...\n",
       "    psurf_apriori                 (sounding_id) float32 ...\n",
       "    psurf                         (sounding_id) float32 ...\n",
       "    xco2_raw                      (sounding_id) float32 ...\n",
       "    xco2_apriori                  (sounding_id) float32 ...\n",
       "    xco2                          (sounding_id) float32 ...\n",
       "    xco2_uncertainty              (sounding_id) float32 ...\n",
       "    model_error                   (sounding_id) float32 ...\n",
       "    co2_profile_apriori           (sounding_id, levels) float32 ...\n",
       "    xco2_averaging_kernel         (sounding_id, levels) float32 ...\n",
       "    pressure_weight               (sounding_id, levels) float32 ...\n",
       "    sigma_levels                  (levels) float32 ...\n",
       "    xco2_quality_flag             (sounding_id) int8 ...\n",
       "    warn_level                    (sounding_id) int8 ...\n",
       "    land_fraction                 (sounding_id) int8 ...\n",
       "    altitude                      (sounding_id) float32 ...\n",
       "    airmass                       (sounding_id) float32 ...\n",
       "    path                          (sounding_id) int16 ...\n",
       "    operation_mode                (sounding_id) int8 ...\n",
       "    land_water_indicator          (sounding_id) int8 ...\n",
       "    surface_type                  (sounding_id) int8 ...\n",
       "    fs                            (sounding_id) float32 ...\n",
       "    delta_windspeed               (sounding_id) float32 ...\n",
       "    s31                           (sounding_id) float32 ...\n",
       "    s32                           (sounding_id) float32 ...\n",
       "    albedo_3                      (sounding_id) float32 ...\n",
       "    albedo_slope_3                (sounding_id) float32 ...\n",
       "    aod_total                     (sounding_id) float32 ...\n",
       "    albedo_2                      (sounding_id) float32 ...\n",
       "    co2_grad_del                  (sounding_id) float32 ...\n",
       "    dws                           (sounding_id) float32 ...\n",
       "    dpfrac                        (sounding_id) float32 ...\n",
       "    dp_o2a                        (sounding_id) float32 ...\n",
       "    dp                            (sounding_id) float32 ...\n",
       "    dp_abp                        (sounding_id) float32 ...\n",
       "    co2_ratio                     (sounding_id) float32 ...\n",
       "    h2o_ratio                     (sounding_id) float32 ...\n",
       "    xco2_weak_idp                 (sounding_id) float32 ...\n",
       "    xco2_strong_idp               (sounding_id) float32 ...\n",
       "    tcwv_apriori                  (sounding_id) float32 ...\n",
       "    tcwv                          (sounding_id) float32 ...\n",
       "    ice_height                    (sounding_id) float32 ...\n",
       "    h2o_scale                     (sounding_id) float32 ...\n",
       "    deltaT                        (sounding_id) float32 ...\n",
       "    snr_o2a                       (sounding_id) float32 ...\n",
       "    snr_wco2                      (sounding_id) float32 ...\n",
       "    snr_sco2                      (sounding_id) float32 ...\n",
       "    altitude_stddev               (sounding_id) float32 ...\n",
       "    N_total_shots                 (sounding_id) int32 ...\n",
       "    Var_1s_altitude_weighted      (sounding_id) float32 ...\n",
       "    Var_1s_XCO2raw_weighted       (sounding_id) float32 ...\n",
       "    Var_1s_XCO2biascorr_weighted  (sounding_id) float32 ...\n",
       "    Var_1s_co2_grad_del_weighted  (sounding_id) float32 ...\n",
       "    Var_1s_dPsurf_weighted        (sounding_id) float32 ...\n",
       "    Var_1s_DWS_weighted           (sounding_id) float32 ...\n",
       "    Var_1s_S31_weighted           (sounding_id) float32 ...\n",
       "    Var_1s_altitude_corrmean      (sounding_id) float32 ...\n",
       "    Var_1s_XCO2raw_corrmean       (sounding_id) float32 ...\n",
       "    Var_1s_XCO2biascorr_corrmean  (sounding_id) float32 ...\n",
       "    Var_1s_co2_grad_del_corrmean  (sounding_id) float32 ...\n",
       "    Var_1s_dPsurf_corrmean        (sounding_id) float32 ...\n",
       "    Var_1s_DWS_corrmean           (sounding_id) float32 ...\n",
       "    Var_1s_S31_corrmean           (sounding_id) float32 ...\n",
       "    Var_1s_XCO2raw                (sounding_id) float32 ...\n",
       "    Var_1s_XCO2biascorr           (sounding_id) float32 ...\n",
       "Attributes:\n",
       "    Conventions:  CF-1.0"
      ]
     },
     "execution_count": 59,
     "metadata": {},
     "output_type": "execute_result"
    }
   ],
   "source": [
    "#fname = '/home/msadiq/Desktop/co2/data/satellite/OCO2_b91_10sec_GOOD_r24.nc4'\n",
    "fname = './OCO2_b91_10sec_GOOD_r24.nc4'\n",
    "ds = xr.open_dataset(fname, engine='netcdf4')\n",
    "ds # same as print(ds)"
   ]
  },
  {
   "cell_type": "markdown",
   "metadata": {},
   "source": [
    "### Read in data and use Pandas package"
   ]
  },
  {
   "cell_type": "code",
   "execution_count": 60,
   "metadata": {},
   "outputs": [],
   "source": [
    "# first and last day of extraction\n",
    "first_day = '2018-03-01'\n",
    "last_day_p1 = '2018-04-01' # last day plus 1"
   ]
  },
  {
   "cell_type": "code",
   "execution_count": 61,
   "metadata": {},
   "outputs": [
    {
     "data": {
      "text/plain": [
       "20180301000000"
      ]
     },
     "execution_count": 61,
     "metadata": {},
     "output_type": "execute_result"
    }
   ],
   "source": [
    "# convert time input to match the format of sound_id\n",
    "first_day_digital = re.sub(\"[^0-9]\", \"\", first_day)\n",
    "last_day_p1_digital = re.sub(\"[^0-9]\", \"\", last_day_p1)\n",
    "begin = int(first_day_digital + '000000')  # begin and end of time slice we want to look at\n",
    "end = int(last_day_p1_digital + '000000')  # OCO-2 format\n",
    "begin"
   ]
  },
  {
   "cell_type": "code",
   "execution_count": 62,
   "metadata": {},
   "outputs": [],
   "source": [
    "ds_slice = ds.sel(sounding_id=slice(begin,end))"
   ]
  },
  {
   "cell_type": "code",
   "execution_count": 63,
   "metadata": {},
   "outputs": [],
   "source": [
    "lon_series = ds_slice['longitude']              # lon and lat position, 1d\n",
    "lat_series = ds_slice['latitude']\n",
    "sound_id   = ds_slice['sounding_id']            # sound id, 1d\n",
    "sigma      = ds['sigma_levels']                 # sigma levels, 20 values"
   ]
  },
  {
   "cell_type": "code",
   "execution_count": 64,
   "metadata": {},
   "outputs": [],
   "source": [
    "# names of variables need to extract \n",
    "var_names  = ['xco2', \n",
    "              'psurf', \n",
    "              'xco2_averaging_kernel']          # variable names"
   ]
  },
  {
   "cell_type": "code",
   "execution_count": 65,
   "metadata": {},
   "outputs": [
    {
     "name": "stdout",
     "output_type": "stream",
     "text": [
      "2\n"
     ]
    }
   ],
   "source": [
    "temp_store = {}\n",
    "for ivar in var_names:\n",
    "    temp_name = 'dr_' + ivar\n",
    "    temp_store[temp_name] = ds_slice[ivar]\n",
    "print(len(temp_store[temp_name].dims))"
   ]
  },
  {
   "cell_type": "code",
   "execution_count": 66,
   "metadata": {},
   "outputs": [
    {
     "data": {
      "text/plain": [
       "26772"
      ]
     },
     "execution_count": 66,
     "metadata": {},
     "output_type": "execute_result"
    }
   ],
   "source": [
    "df_position = pd.DataFrame({'sound_id': sound_id, \n",
    "                          'lon': lon_series, \n",
    "                          'lat': lat_series})\n",
    "len(df_position) #.head()"
   ]
  },
  {
   "cell_type": "code",
   "execution_count": 67,
   "metadata": {},
   "outputs": [],
   "source": [
    "# Creat target dataarray and dataset\n",
    "lat_res = 2 # horizontal resolution of lat and lon you would want\n",
    "lon_res = 2.5\n",
    "lat = np.linspace(-90, 90, int(180/lat_res + 1)) # grid\n",
    "lon = np.linspace(-180, 177.5, int(360/lon_res))\n",
    "levels = ds_slice.sigma_levels.values\n",
    "\n",
    "day_1 = np.array(first_day,dtype='datetime64[D]')\n",
    "day_end = np.array(last_day_p1,dtype='datetime64[D]')\n",
    "days = np.arange(day_1, day_end, dtype='datetime64[D]') # time dimension of output\n",
    "\n",
    "var_3d = xr.DataArray(data = 0, \n",
    "                      dims = ('lat', 'lon', 'time'), \n",
    "                      coords = {'lat': lat,\n",
    "                                'lon': lon,\n",
    "                                'time': days},\n",
    "                      name = '')\n",
    "\n",
    "var_4d = xr.DataArray(data = 0, \n",
    "                      dims = ('lat', 'lon', 'time', 'levels'), \n",
    "                      coords = {'lat': lat,\n",
    "                                'lon': lon,\n",
    "                                'time': days,\n",
    "                                'levels': levels},\n",
    "                      name = '')\n",
    "\n",
    "var_4d = var_4d.astype(dtype='float32')\n",
    "oco2 = var_4d.to_dataset()"
   ]
  },
  {
   "cell_type": "code",
   "execution_count": 68,
   "metadata": {},
   "outputs": [
    {
     "data": {
      "text/plain": [
       "array(['2018-03-01', '2018-03-02', '2018-03-03', '2018-03-04',\n",
       "       '2018-03-05', '2018-03-06', '2018-03-07', '2018-03-08',\n",
       "       '2018-03-09', '2018-03-10', '2018-03-11', '2018-03-12',\n",
       "       '2018-03-13', '2018-03-14', '2018-03-15', '2018-03-16',\n",
       "       '2018-03-17', '2018-03-18', '2018-03-19', '2018-03-20',\n",
       "       '2018-03-21', '2018-03-22', '2018-03-23', '2018-03-24',\n",
       "       '2018-03-25', '2018-03-26', '2018-03-27', '2018-03-28',\n",
       "       '2018-03-29', '2018-03-30', '2018-03-31'], dtype='datetime64[D]')"
      ]
     },
     "execution_count": 68,
     "metadata": {},
     "output_type": "execute_result"
    }
   ],
   "source": [
    "days_range = np.arange(first_day, last_day_p1, dtype='datetime64[D]')\n",
    "days_range"
   ]
  },
  {
   "cell_type": "code",
   "execution_count": 72,
   "metadata": {},
   "outputs": [
    {
     "name": "stdout",
     "output_type": "stream",
     "text": [
      "xco2\n",
      "2018-03-01\n",
      "2018-03-02\n",
      "2018-03-03\n",
      "2018-03-04\n",
      "2018-03-05\n",
      "2018-03-06\n",
      "2018-03-07\n",
      "2018-03-08\n",
      "2018-03-09\n",
      "2018-03-10\n",
      "2018-03-11\n",
      "2018-03-12\n",
      "2018-03-13\n",
      "2018-03-14\n",
      "2018-03-15\n",
      "2018-03-16\n",
      "2018-03-17\n",
      "2018-03-18\n",
      "2018-03-19\n",
      "2018-03-20\n",
      "2018-03-21\n",
      "2018-03-22\n",
      "2018-03-23\n",
      "2018-03-24\n",
      "2018-03-25\n",
      "2018-03-26\n",
      "2018-03-27\n",
      "2018-03-28\n",
      "2018-03-29\n",
      "2018-03-30\n",
      "psurf\n",
      "2018-03-01\n",
      "2018-03-02\n",
      "2018-03-03\n",
      "2018-03-04\n",
      "2018-03-05\n",
      "2018-03-06\n",
      "2018-03-07\n",
      "2018-03-08\n",
      "2018-03-09\n",
      "2018-03-10\n",
      "2018-03-11\n",
      "2018-03-12\n",
      "2018-03-13\n",
      "2018-03-14\n",
      "2018-03-15\n",
      "2018-03-16\n",
      "2018-03-17\n",
      "2018-03-18\n",
      "2018-03-19\n",
      "2018-03-20\n",
      "2018-03-21\n",
      "2018-03-22\n",
      "2018-03-23\n",
      "2018-03-24\n",
      "2018-03-25\n",
      "2018-03-26\n",
      "2018-03-27\n",
      "2018-03-28\n",
      "2018-03-29\n",
      "2018-03-30\n",
      "xco2_averaging_kernel\n",
      "2018-03-01\n",
      "2018-03-02\n",
      "2018-03-03\n",
      "2018-03-04\n",
      "2018-03-05\n",
      "2018-03-06\n",
      "2018-03-07\n",
      "2018-03-08\n",
      "2018-03-09\n",
      "2018-03-10\n",
      "2018-03-11\n",
      "2018-03-12\n",
      "2018-03-13\n",
      "2018-03-14\n",
      "2018-03-15\n",
      "2018-03-16\n",
      "2018-03-17\n",
      "2018-03-18\n",
      "2018-03-19\n",
      "2018-03-20\n",
      "2018-03-21\n",
      "2018-03-22\n",
      "2018-03-23\n",
      "2018-03-24\n",
      "2018-03-25\n",
      "2018-03-26\n",
      "2018-03-27\n",
      "2018-03-28\n",
      "2018-03-29\n",
      "2018-03-30\n"
     ]
    }
   ],
   "source": [
    "# map to target grid and store in dataset\n",
    "for ivar in var_names:\n",
    "    print(ivar)\n",
    "    var_name = 'dr_' + ivar  # name of variables\n",
    "    nm_dim = len(temp_store[temp_name].dims)\n",
    "    for iday in np.arange(len(days_range)-1):\n",
    "        for ilon in np.arange(len(lon)-1):\n",
    "            for ilat in np.arange(len(lat)-1):\n",
    "                \n",
    "                day1=re.sub(\"[^0-9]\", \"\", str(days_range[iday]))\n",
    "                day2=re.sub(\"[^0-9]\", \"\", str(days_range[iday+1]))\n",
    "                begin = int(str(day1) + '000000')  # begin and end of time slice we want to look at\n",
    "                end = int(str(day2) + '000000')  # OCO-2 format\n",
    "            \n",
    "                df_time_slice = df_position[df_position['sound_id'].between(begin, end)]\n",
    "                df_slice_lat = df_time_slice[df_time_slice['lat'].between(lat[ilat],lat[ilat+1], inclusive = True)]\n",
    "                df_slice_lon = df_slice_lat[df_slice_lat['lon'].between(lon[ilon],lon[ilon+1], inclusive = True)]\n",
    "            \n",
    "                if len(df_slice_lon) != 0:\n",
    "                    sound_slice = df_slice_lon.sound_id.values # localtion of points, in sound id                \n",
    "                    tmp = temp_store[var_name].sel(sounding_id=sound_slice)\n",
    "                    \n",
    "                    if(len(tmp.dims) == 1):\n",
    "                        var_3d[ilat,ilon,iday] = tmp.mean().values\n",
    "                    elif(len(tmp.dims) == 2):\n",
    "                        var_4d[ilat,ilon,iday,:] = tmp.mean(dim='sounding_id').values\n",
    "                        \n",
    "        print(days_range[iday])\n",
    "    if(nm_dim == 1):\n",
    "        oco2[ivar] = var_3d\n",
    "    elif(nm_dim == 2):\n",
    "        oco2[ivar] = var_4d"
   ]
  },
  {
   "cell_type": "code",
   "execution_count": 77,
   "metadata": {},
   "outputs": [
    {
     "data": {
      "text/html": [
       "<pre>&lt;xarray.Dataset&gt;\n",
       "Dimensions:                (lat: 91, levels: 20, lon: 144, time: 31)\n",
       "Coordinates:\n",
       "  * lat                    (lat) float64 -90.0 -88.0 -86.0 ... 86.0 88.0 90.0\n",
       "  * lon                    (lon) float64 -180.0 -177.5 -175.0 ... 175.0 177.5\n",
       "  * time                   (time) datetime64[ns] 2018-03-01 ... 2018-03-31\n",
       "  * levels                 (levels) float32 1e-04 0.05263158 ... 0.94736844 1.0\n",
       "Data variables:\n",
       "                           (lat, lon, time, levels) float32 0.0 0.0 ... 0.0 0.0\n",
       "    xco2                   (lat, lon, time, levels) float32 0.0 0.0 ... 0.0 0.0\n",
       "    psurf                  (lat, lon, time, levels) float32 0.0 0.0 ... 0.0 0.0\n",
       "    xco2_averaging_kernel  (lat, lon, time, levels) float32 0.0 0.0 ... 0.0 0.0</pre>"
      ],
      "text/plain": [
       "<xarray.Dataset>\n",
       "Dimensions:                (lat: 91, levels: 20, lon: 144, time: 31)\n",
       "Coordinates:\n",
       "  * lat                    (lat) float64 -90.0 -88.0 -86.0 ... 86.0 88.0 90.0\n",
       "  * lon                    (lon) float64 -180.0 -177.5 -175.0 ... 175.0 177.5\n",
       "  * time                   (time) datetime64[ns] 2018-03-01 ... 2018-03-31\n",
       "  * levels                 (levels) float32 1e-04 0.05263158 ... 0.94736844 1.0\n",
       "Data variables:\n",
       "                           (lat, lon, time, levels) float32 0.0 0.0 ... 0.0 0.0\n",
       "    xco2                   (lat, lon, time, levels) float32 0.0 0.0 ... 0.0 0.0\n",
       "    psurf                  (lat, lon, time, levels) float32 0.0 0.0 ... 0.0 0.0\n",
       "    xco2_averaging_kernel  (lat, lon, time, levels) float32 0.0 0.0 ... 0.0 0.0"
      ]
     },
     "execution_count": 77,
     "metadata": {},
     "output_type": "execute_result"
    }
   ],
   "source": [
    "oco2#.xco2[:,:,0,2].plot()"
   ]
  },
  {
   "cell_type": "code",
   "execution_count": null,
   "metadata": {},
   "outputs": [],
   "source": [
    "# plot after mapping\n",
    "fig = plt.figure(figsize=[6, 6])\n",
    "proj=ccrs.PlateCarree()\n",
    "\n",
    "ax = plt.subplot(111, projection=proj)\n",
    "ax.coastlines()\n",
    "kernel.isel(time=iday, levels=0).plot(ax=ax, transform=ccrs.PlateCarree(), vmax=1, vmin=0, cmap=WhGrYlRd, cbar_kwargs={'shrink': 0.4, 'label': ' '})\n",
    "\n",
    "ax.set_title('OCO-2: kernel');"
   ]
  },
  {
   "cell_type": "code",
   "execution_count": null,
   "metadata": {},
   "outputs": [],
   "source": [
    "kernel.to_netcdf('kernel_4d_' + first_day + '_' + last_day_p1 +'.nc')"
   ]
  },
  {
   "cell_type": "code",
   "execution_count": null,
   "metadata": {},
   "outputs": [],
   "source": []
  }
 ],
 "metadata": {
  "kernelspec": {
   "display_name": "Python 3",
   "language": "python",
   "name": "python3"
  },
  "language_info": {
   "codemirror_mode": {
    "name": "ipython",
    "version": 3
   },
   "file_extension": ".py",
   "mimetype": "text/x-python",
   "name": "python",
   "nbconvert_exporter": "python",
   "pygments_lexer": "ipython3",
   "version": "3.6.10"
  }
 },
 "nbformat": 4,
 "nbformat_minor": 2
}
