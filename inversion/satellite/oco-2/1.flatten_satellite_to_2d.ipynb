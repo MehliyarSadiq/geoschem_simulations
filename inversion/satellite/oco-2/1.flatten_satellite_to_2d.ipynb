{
 "cells": [
  {
   "cell_type": "markdown",
   "metadata": {},
   "source": [
    "# flatten 4d (lat, lon, date, level) output data to 2d (record, level)"
   ]
  },
  {
   "cell_type": "code",
   "execution_count": 1,
   "metadata": {},
   "outputs": [],
   "source": [
    "import numpy as np\n",
    "import xarray as xr\n",
    "import re"
   ]
  },
  {
   "cell_type": "code",
   "execution_count": 2,
   "metadata": {},
   "outputs": [],
   "source": [
    "# Name of input Netcdf file\n",
    "input_directory = '/geos/u73/msadiq/satellite/oco-2/'\n",
    "output_directory = '/geos/u73/msadiq/GEOS-Chem/analysis/python/data/'\n",
    "name_nc_in = 'OCO2_extract_March2018.nc'\n",
    "input_file = input_directory + name_nc_in # full name\n",
    "\n",
    "# Name of output netCDF file\n",
    "output_file = output_directory + '2d_' + name_nc_in"
   ]
  },
  {
   "cell_type": "code",
   "execution_count": 3,
   "metadata": {},
   "outputs": [
    {
     "data": {
      "text/html": [
       "<pre>&lt;xarray.Dataset&gt;\n",
       "Dimensions:                (date: 31, lat: 91, lev: 20, lon: 144)\n",
       "Coordinates:\n",
       "  * date                   (date) datetime64[ns] 2018-03-01 ... 2018-03-31\n",
       "  * lev                    (lev) float32 1e-04 0.05263158 ... 0.94736844 1.0\n",
       "  * lat                    (lat) float64 -90.0 -88.0 -86.0 ... 86.0 88.0 90.0\n",
       "  * lon                    (lon) float64 -180.0 -177.5 -175.0 ... 175.0 177.5\n",
       "Data variables:\n",
       "    xco2_averaging_kernel  (date, lev, lat, lon) float32 ...\n",
       "    xco2                   (date, lat, lon) float32 ...\n",
       "    psurf                  (date, lat, lon) float32 ...\n",
       "    co2_profile_apriori    (date, lev, lat, lon) float32 ...\n",
       "    pressure_weight        (date, lev, lat, lon) float32 ...\n",
       "    xco2_uncertainty       (date, lat, lon) float32 ...\n",
       "    operation_mode         (date, lat, lon) float32 ...</pre>"
      ],
      "text/plain": [
       "<xarray.Dataset>\n",
       "Dimensions:                (date: 31, lat: 91, lev: 20, lon: 144)\n",
       "Coordinates:\n",
       "  * date                   (date) datetime64[ns] 2018-03-01 ... 2018-03-31\n",
       "  * lev                    (lev) float32 1e-04 0.05263158 ... 0.94736844 1.0\n",
       "  * lat                    (lat) float64 -90.0 -88.0 -86.0 ... 86.0 88.0 90.0\n",
       "  * lon                    (lon) float64 -180.0 -177.5 -175.0 ... 175.0 177.5\n",
       "Data variables:\n",
       "    xco2_averaging_kernel  (date, lev, lat, lon) float32 ...\n",
       "    xco2                   (date, lat, lon) float32 ...\n",
       "    psurf                  (date, lat, lon) float32 ...\n",
       "    co2_profile_apriori    (date, lev, lat, lon) float32 ...\n",
       "    pressure_weight        (date, lev, lat, lon) float32 ...\n",
       "    xco2_uncertainty       (date, lat, lon) float32 ...\n",
       "    operation_mode         (date, lat, lon) float32 ..."
      ]
     },
     "execution_count": 3,
     "metadata": {},
     "output_type": "execute_result"
    }
   ],
   "source": [
    "ds = xr.open_dataset(input_file)\n",
    "sigma_levels = ds.coords['lev']\n",
    "ds\n",
    "#ds['xco2_averaging_kernel'].isel(levels=19,time=0).plot()"
   ]
  },
  {
   "cell_type": "code",
   "execution_count": 4,
   "metadata": {},
   "outputs": [
    {
     "data": {
      "text/plain": [
       "['xco2_averaging_kernel',\n",
       " 'xco2',\n",
       " 'psurf',\n",
       " 'co2_profile_apriori',\n",
       " 'pressure_weight',\n",
       " 'xco2_uncertainty',\n",
       " 'operation_mode']"
      ]
     },
     "execution_count": 4,
     "metadata": {},
     "output_type": "execute_result"
    }
   ],
   "source": [
    "varnames = list(ds.data_vars.keys())  # Get a list of variable names. The expression is a bit cumbersome. Just copy and paste it for now.\n",
    "nvar = len(varnames)  # how many elements in the list?\n",
    "varnames"
   ]
  },
  {
   "cell_type": "code",
   "execution_count": 5,
   "metadata": {},
   "outputs": [
    {
     "data": {
      "text/plain": [
       "range(0, 406224)"
      ]
     },
     "execution_count": 5,
     "metadata": {},
     "output_type": "execute_result"
    }
   ],
   "source": [
    "nm_lev = len(ds.coords['lev'])\n",
    "nm_lon = len(ds.coords['lon'])\n",
    "nm_lat = len(ds.coords['lat'])\n",
    "nm_days = len(ds.coords['date'])\n",
    "\n",
    "record = range(nm_lon * nm_lat * nm_days)\n",
    "record"
   ]
  },
  {
   "cell_type": "code",
   "execution_count": 6,
   "metadata": {},
   "outputs": [],
   "source": [
    "# 2d data array to store flattened data\n",
    "foo_2d = xr.DataArray(data = 0,\n",
    "                      dims=('record', 'levels'),\n",
    "                      coords=[record, ds.coords['lev']])\n",
    "foo_2d = foo_2d.astype(dtype = 'float32')\n",
    "# 1d data array to store flattened data\n",
    "foo_1d = xr.DataArray(data = 0,\n",
    "                      dims=('record'),\n",
    "                      coords={record})\n",
    "foo_1d = foo_1d.astype(dtype = 'float32')\n",
    "\n",
    "# dataset to store following dataarrays\n",
    "ds_output = foo_2d.to_dataset(name = 'xco2')\n",
    "ds_output = ds_output.astype(dtype = 'float32')"
   ]
  },
  {
   "cell_type": "code",
   "execution_count": 7,
   "metadata": {},
   "outputs": [],
   "source": [
    "flat = ds['xco2_averaging_kernel'][:,0,:,:].to_dataframe()\n",
    "# flatten a variable at one level\n",
    "flat.reset_index(inplace=True) \n",
    "# get indices from this to prepare output coordinates"
   ]
  },
  {
   "cell_type": "code",
   "execution_count": 8,
   "metadata": {},
   "outputs": [
    {
     "data": {
      "text/html": [
       "<div>\n",
       "<style scoped>\n",
       "    .dataframe tbody tr th:only-of-type {\n",
       "        vertical-align: middle;\n",
       "    }\n",
       "\n",
       "    .dataframe tbody tr th {\n",
       "        vertical-align: top;\n",
       "    }\n",
       "\n",
       "    .dataframe thead th {\n",
       "        text-align: right;\n",
       "    }\n",
       "</style>\n",
       "<table border=\"1\" class=\"dataframe\">\n",
       "  <thead>\n",
       "    <tr style=\"text-align: right;\">\n",
       "      <th></th>\n",
       "      <th>date</th>\n",
       "      <th>lat</th>\n",
       "      <th>lon</th>\n",
       "      <th>lev</th>\n",
       "      <th>xco2_averaging_kernel</th>\n",
       "    </tr>\n",
       "  </thead>\n",
       "  <tbody>\n",
       "    <tr>\n",
       "      <th>0</th>\n",
       "      <td>2018-03-01</td>\n",
       "      <td>-90.0</td>\n",
       "      <td>-180.0</td>\n",
       "      <td>0.0001</td>\n",
       "      <td>0.0</td>\n",
       "    </tr>\n",
       "    <tr>\n",
       "      <th>1</th>\n",
       "      <td>2018-03-01</td>\n",
       "      <td>-90.0</td>\n",
       "      <td>-177.5</td>\n",
       "      <td>0.0001</td>\n",
       "      <td>0.0</td>\n",
       "    </tr>\n",
       "    <tr>\n",
       "      <th>2</th>\n",
       "      <td>2018-03-01</td>\n",
       "      <td>-90.0</td>\n",
       "      <td>-175.0</td>\n",
       "      <td>0.0001</td>\n",
       "      <td>0.0</td>\n",
       "    </tr>\n",
       "    <tr>\n",
       "      <th>3</th>\n",
       "      <td>2018-03-01</td>\n",
       "      <td>-90.0</td>\n",
       "      <td>-172.5</td>\n",
       "      <td>0.0001</td>\n",
       "      <td>0.0</td>\n",
       "    </tr>\n",
       "    <tr>\n",
       "      <th>4</th>\n",
       "      <td>2018-03-01</td>\n",
       "      <td>-90.0</td>\n",
       "      <td>-170.0</td>\n",
       "      <td>0.0001</td>\n",
       "      <td>0.0</td>\n",
       "    </tr>\n",
       "    <tr>\n",
       "      <th>...</th>\n",
       "      <td>...</td>\n",
       "      <td>...</td>\n",
       "      <td>...</td>\n",
       "      <td>...</td>\n",
       "      <td>...</td>\n",
       "    </tr>\n",
       "    <tr>\n",
       "      <th>406219</th>\n",
       "      <td>2018-03-31</td>\n",
       "      <td>90.0</td>\n",
       "      <td>167.5</td>\n",
       "      <td>0.0001</td>\n",
       "      <td>0.0</td>\n",
       "    </tr>\n",
       "    <tr>\n",
       "      <th>406220</th>\n",
       "      <td>2018-03-31</td>\n",
       "      <td>90.0</td>\n",
       "      <td>170.0</td>\n",
       "      <td>0.0001</td>\n",
       "      <td>0.0</td>\n",
       "    </tr>\n",
       "    <tr>\n",
       "      <th>406221</th>\n",
       "      <td>2018-03-31</td>\n",
       "      <td>90.0</td>\n",
       "      <td>172.5</td>\n",
       "      <td>0.0001</td>\n",
       "      <td>0.0</td>\n",
       "    </tr>\n",
       "    <tr>\n",
       "      <th>406222</th>\n",
       "      <td>2018-03-31</td>\n",
       "      <td>90.0</td>\n",
       "      <td>175.0</td>\n",
       "      <td>0.0001</td>\n",
       "      <td>0.0</td>\n",
       "    </tr>\n",
       "    <tr>\n",
       "      <th>406223</th>\n",
       "      <td>2018-03-31</td>\n",
       "      <td>90.0</td>\n",
       "      <td>177.5</td>\n",
       "      <td>0.0001</td>\n",
       "      <td>0.0</td>\n",
       "    </tr>\n",
       "  </tbody>\n",
       "</table>\n",
       "<p>406224 rows × 5 columns</p>\n",
       "</div>"
      ],
      "text/plain": [
       "             date   lat    lon     lev  xco2_averaging_kernel\n",
       "0      2018-03-01 -90.0 -180.0  0.0001                    0.0\n",
       "1      2018-03-01 -90.0 -177.5  0.0001                    0.0\n",
       "2      2018-03-01 -90.0 -175.0  0.0001                    0.0\n",
       "3      2018-03-01 -90.0 -172.5  0.0001                    0.0\n",
       "4      2018-03-01 -90.0 -170.0  0.0001                    0.0\n",
       "...           ...   ...    ...     ...                    ...\n",
       "406219 2018-03-31  90.0  167.5  0.0001                    0.0\n",
       "406220 2018-03-31  90.0  170.0  0.0001                    0.0\n",
       "406221 2018-03-31  90.0  172.5  0.0001                    0.0\n",
       "406222 2018-03-31  90.0  175.0  0.0001                    0.0\n",
       "406223 2018-03-31  90.0  177.5  0.0001                    0.0\n",
       "\n",
       "[406224 rows x 5 columns]"
      ]
     },
     "execution_count": 8,
     "metadata": {},
     "output_type": "execute_result"
    }
   ],
   "source": [
    "flat"
   ]
  },
  {
   "cell_type": "code",
   "execution_count": 9,
   "metadata": {},
   "outputs": [
    {
     "data": {
      "text/html": [
       "<pre>&lt;xarray.Dataset&gt;\n",
       "Dimensions:  (levels: 20, record: 406224)\n",
       "Coordinates:\n",
       "  * record   (record) int64 0 1 2 3 4 5 ... 406219 406220 406221 406222 406223\n",
       "  * levels   (levels) float32 1e-04 0.05263158 0.10526316 ... 0.94736844 1.0\n",
       "Data variables:\n",
       "    xco2     (record, levels) float32 0.0 0.0 0.0 0.0 0.0 ... 0.0 0.0 0.0 0.0\n",
       "    lat      (record) float64 -90.0 -90.0 -90.0 -90.0 ... 90.0 90.0 90.0 90.0\n",
       "    lon      (record) float64 -180.0 -177.5 -175.0 -172.5 ... 172.5 175.0 177.5\n",
       "    date     (record) datetime64[ns] 2018-03-01 2018-03-01 ... 2018-03-31</pre>"
      ],
      "text/plain": [
       "<xarray.Dataset>\n",
       "Dimensions:  (levels: 20, record: 406224)\n",
       "Coordinates:\n",
       "  * record   (record) int64 0 1 2 3 4 5 ... 406219 406220 406221 406222 406223\n",
       "  * levels   (levels) float32 1e-04 0.05263158 0.10526316 ... 0.94736844 1.0\n",
       "Data variables:\n",
       "    xco2     (record, levels) float32 0.0 0.0 0.0 0.0 0.0 ... 0.0 0.0 0.0 0.0\n",
       "    lat      (record) float64 -90.0 -90.0 -90.0 -90.0 ... 90.0 90.0 90.0 90.0\n",
       "    lon      (record) float64 -180.0 -177.5 -175.0 -172.5 ... 172.5 175.0 177.5\n",
       "    date     (record) datetime64[ns] 2018-03-01 2018-03-01 ... 2018-03-31"
      ]
     },
     "execution_count": 9,
     "metadata": {},
     "output_type": "execute_result"
    }
   ],
   "source": [
    "lat = xr.DataArray(0, coords=[record], dims=['record'])\n",
    "lon = xr.DataArray(0, coords=[record], dims=['record'])\n",
    "date = xr.DataArray(0, coords=[record], dims=['record'])\n",
    "lat.values = flat['lat']\n",
    "lon.values = flat['lon']\n",
    "date.values = flat['date']\n",
    "ds_output['lat'] = lat\n",
    "ds_output['lon'] = lon\n",
    "ds_output['date'] = date\n",
    "ds_output"
   ]
  },
  {
   "cell_type": "code",
   "execution_count": 10,
   "metadata": {},
   "outputs": [
    {
     "name": "stdout",
     "output_type": "stream",
     "text": [
      "xco2_averaging_kernel\n",
      "xco2\n",
      "psurf\n",
      "co2_profile_apriori\n",
      "pressure_weight\n",
      "xco2_uncertainty\n",
      "operation_mode\n"
     ]
    }
   ],
   "source": [
    "for ivar in varnames:\n",
    "    print(ivar)\n",
    "    \n",
    "    if len(ds[ivar].dims) == 4:\n",
    "        for ilev in range(nm_lev):\n",
    "            flat = ds[ivar][:,ilev,:,:].to_dataframe() # flatten a variable at one level\n",
    "            foo_2d[:,ilev] = flat[ivar].values # store output to a dataarray\n",
    "        ds_output[ivar] = foo_2d.copy() # store dataarray to dataset\n",
    "    \n",
    "    else:\n",
    "        flat = ds[ivar].to_dataframe()\n",
    "        foo_1d.values = flat[ivar].values\n",
    "        ds_output[ivar] = foo_1d.copy() # store dataarray to dataset"
   ]
  },
  {
   "cell_type": "code",
   "execution_count": 11,
   "metadata": {},
   "outputs": [
    {
     "data": {
      "text/html": [
       "<pre>&lt;xarray.Dataset&gt;\n",
       "Dimensions:                (levels: 20, record: 406224)\n",
       "Coordinates:\n",
       "  * record                 (record) int64 0 1 2 3 ... 406221 406222 406223\n",
       "  * levels                 (levels) float32 1e-04 0.05263158 ... 0.94736844 1.0\n",
       "Data variables:\n",
       "    xco2                   (record) float32 0.0 0.0 0.0 0.0 ... 0.0 0.0 0.0 0.0\n",
       "    lat                    (record) float64 -90.0 -90.0 -90.0 ... 90.0 90.0 90.0\n",
       "    lon                    (record) float64 -180.0 -177.5 -175.0 ... 175.0 177.5\n",
       "    date                   (record) datetime64[ns] 2018-03-01 ... 2018-03-31\n",
       "    xco2_averaging_kernel  (record, levels) float32 0.0 0.0 0.0 ... 0.0 0.0 0.0\n",
       "    psurf                  (record) float32 0.0 0.0 0.0 0.0 ... 0.0 0.0 0.0 0.0\n",
       "    co2_profile_apriori    (record, levels) float32 0.0 0.0 0.0 ... 0.0 0.0 0.0\n",
       "    pressure_weight        (record, levels) float32 0.0 0.0 0.0 ... 0.0 0.0 0.0\n",
       "    xco2_uncertainty       (record) float32 0.0 0.0 0.0 0.0 ... 0.0 0.0 0.0 0.0\n",
       "    operation_mode         (record) float32 0.0 0.0 0.0 0.0 ... 0.0 0.0 0.0 0.0\n",
       "    pressure               (record, levels) float32 0.0 0.0 0.0 ... 0.0 0.0 0.0</pre>"
      ],
      "text/plain": [
       "<xarray.Dataset>\n",
       "Dimensions:                (levels: 20, record: 406224)\n",
       "Coordinates:\n",
       "  * record                 (record) int64 0 1 2 3 ... 406221 406222 406223\n",
       "  * levels                 (levels) float32 1e-04 0.05263158 ... 0.94736844 1.0\n",
       "Data variables:\n",
       "    xco2                   (record) float32 0.0 0.0 0.0 0.0 ... 0.0 0.0 0.0 0.0\n",
       "    lat                    (record) float64 -90.0 -90.0 -90.0 ... 90.0 90.0 90.0\n",
       "    lon                    (record) float64 -180.0 -177.5 -175.0 ... 175.0 177.5\n",
       "    date                   (record) datetime64[ns] 2018-03-01 ... 2018-03-31\n",
       "    xco2_averaging_kernel  (record, levels) float32 0.0 0.0 0.0 ... 0.0 0.0 0.0\n",
       "    psurf                  (record) float32 0.0 0.0 0.0 0.0 ... 0.0 0.0 0.0 0.0\n",
       "    co2_profile_apriori    (record, levels) float32 0.0 0.0 0.0 ... 0.0 0.0 0.0\n",
       "    pressure_weight        (record, levels) float32 0.0 0.0 0.0 ... 0.0 0.0 0.0\n",
       "    xco2_uncertainty       (record) float32 0.0 0.0 0.0 0.0 ... 0.0 0.0 0.0 0.0\n",
       "    operation_mode         (record) float32 0.0 0.0 0.0 0.0 ... 0.0 0.0 0.0 0.0\n",
       "    pressure               (record, levels) float32 0.0 0.0 0.0 ... 0.0 0.0 0.0"
      ]
     },
     "execution_count": 11,
     "metadata": {},
     "output_type": "execute_result"
    }
   ],
   "source": [
    "# pressure profile\n",
    "pressure = ds_output.psurf * ds_output.coords['levels']\n",
    "ds_output['pressure'] = pressure\n",
    "ds_output"
   ]
  },
  {
   "cell_type": "code",
   "execution_count": 12,
   "metadata": {},
   "outputs": [],
   "source": [
    "ds_output.attrs['comment'] = 'flattened from 4d NetCDF file, after extracted from OCO2'"
   ]
  },
  {
   "cell_type": "code",
   "execution_count": 13,
   "metadata": {},
   "outputs": [
    {
     "data": {
      "text/plain": [
       "[<matplotlib.lines.Line2D at 0x2b57aa91c6a0>]"
      ]
     },
     "execution_count": 13,
     "metadata": {},
     "output_type": "execute_result"
    },
    {
     "data": {
      "image/png": "[encoded data removed]",
      "text/plain": [
       "<Figure size 432x288 with 1 Axes>"
      ]
     },
     "metadata": {
      "needs_background": "light"
     },
     "output_type": "display_data"
    }
   ],
   "source": [
    "ds_output.pressure_weight[:,19].plot()"
   ]
  },
  {
   "cell_type": "code",
   "execution_count": 14,
   "metadata": {},
   "outputs": [],
   "source": [
    "ds_output.to_netcdf(path=output_file)"
   ]
  },
  {
   "cell_type": "code",
   "execution_count": null,
   "metadata": {},
   "outputs": [],
   "source": []
  }
 ],
 "metadata": {
  "kernelspec": {
   "display_name": "Python 3",
   "language": "python",
   "name": "python3"
  },
  "language_info": {
   "codemirror_mode": {
    "name": "ipython",
    "version": 3
   },
   "file_extension": ".py",
   "mimetype": "text/x-python",
   "name": "python",
   "nbconvert_exporter": "python",
   "pygments_lexer": "ipython3",
   "version": "3.6.10"
  }
 },
 "nbformat": 4,
 "nbformat_minor": 4
}
