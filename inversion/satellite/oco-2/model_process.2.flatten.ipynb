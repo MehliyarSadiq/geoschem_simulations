{
 "cells": [
  {
   "cell_type": "code",
   "execution_count": 43,
   "metadata": {},
   "outputs": [],
   "source": [
    "# flatten 4d (lat, lon, date, level) output data to 2d (record, level)"
   ]
  },
  {
   "cell_type": "code",
   "execution_count": 44,
   "metadata": {},
   "outputs": [],
   "source": [
    "import numpy as np\n",
    "import xarray as xr\n",
    "import re"
   ]
  },
  {
   "cell_type": "code",
   "execution_count": 45,
   "metadata": {},
   "outputs": [],
   "source": [
    "# path of input and output files\n",
    "case_name = 'CO2-2018'\n",
    "name_nc_in = 'ts_satellite.201812.nc' # name of input file\n",
    "# range of days to process\n",
    "first_day = '2018-12-01'\n",
    "last_day_p1 = '2019-01-01'\n",
    "\n",
    "input_directory = '/geos/u73/msadiq/GEOS-Chem/rundirs/ensemble_runs/' + case_name + '/nd51/'\n",
    "output_directory = input_directory\n",
    "\n",
    "input_file = input_directory + name_nc_in\n",
    "\n",
    "# name of output netCDF file\n",
    "output_file = output_directory + '2d_' + name_nc_in"
   ]
  },
  {
   "cell_type": "code",
   "execution_count": 46,
   "metadata": {},
   "outputs": [],
   "source": [
    "ds = xr.open_dataset(input_file)\n",
    "ds = ds.squeeze('time') # remove unnecessay dimension\n",
    "ds = ds.drop('time')\n",
    "#ds\n",
    "#ds['SpeciesConc_CO2'][30,0,:,:].plot()"
   ]
  },
  {
   "cell_type": "code",
   "execution_count": 47,
   "metadata": {},
   "outputs": [
    {
     "data": {
      "text/html": [
       "<pre>&lt;xarray.Dataset&gt;\n",
       "Dimensions:          (date: 31, lat: 91, lev: 47, lon: 144)\n",
       "Coordinates:\n",
       "  * lev              (lev) float64 0.9925 0.9775 0.9624 ... 0.000127 2.763e-05\n",
       "  * lon              (lon) float64 -180.0 -177.5 -175.0 ... 172.5 175.0 177.5\n",
       "  * lat              (lat) float64 -89.5 -88.0 -86.0 -84.0 ... 86.0 88.0 89.5\n",
       "  * date             (date) datetime64[ns] 2018-12-01 2018-12-02 ... 2018-12-31\n",
       "Data variables:\n",
       "    SpeciesConc_CO2  (date, lev, lat, lon) float32 ...\n",
       "    PEDGE_S_PSURF    (date, lev, lat, lon) float32 ...\n",
       "Attributes:\n",
       "    modelname:                 GEOSFP_47L\n",
       "    halfpolar:                 1\n",
       "    center180:                 1\n",
       "    res:                       [2.5 2. ]\n",
       "    Conventions:               CF1.6\n",
       "    source:                    /geos/u73/msadiq/GEOS-Chem/rundirs/ensemble_ru...\n",
       "    tracerinfo:                /geos/u73/msadiq/GEOS-Chem/rundirs/ensemble_ru...\n",
       "    diaginfo:                  /geos/u73/msadiq/GEOS-Chem/rundirs/ensemble_ru...\n",
       "    filetype:                  CTM bin 02\n",
       "    filetitle:                 GEOS-CHEM DIAG51 time series\n",
       "    history:                   Sun Mar 15 17:15:18 2020: ncecat ts_satellite....\n",
       "    title:                     Created by bpch2nc.py\n",
       "    conventions:               COARDS\n",
       "    references:                www.geos-chem.org; wiki.geos-chem.org\n",
       "    NCO:                       netCDF Operators version 4.7.5 (Homepage = htt...\n",
       "    nco_openmp_thread_number:  1</pre>"
      ],
      "text/plain": [
       "<xarray.Dataset>\n",
       "Dimensions:          (date: 31, lat: 91, lev: 47, lon: 144)\n",
       "Coordinates:\n",
       "  * lev              (lev) float64 0.9925 0.9775 0.9624 ... 0.000127 2.763e-05\n",
       "  * lon              (lon) float64 -180.0 -177.5 -175.0 ... 172.5 175.0 177.5\n",
       "  * lat              (lat) float64 -89.5 -88.0 -86.0 -84.0 ... 86.0 88.0 89.5\n",
       "  * date             (date) datetime64[ns] 2018-12-01 2018-12-02 ... 2018-12-31\n",
       "Data variables:\n",
       "    SpeciesConc_CO2  (date, lev, lat, lon) float32 ...\n",
       "    PEDGE_S_PSURF    (date, lev, lat, lon) float32 ...\n",
       "Attributes:\n",
       "    modelname:                 GEOSFP_47L\n",
       "    halfpolar:                 1\n",
       "    center180:                 1\n",
       "    res:                       [2.5 2. ]\n",
       "    Conventions:               CF1.6\n",
       "    source:                    /geos/u73/msadiq/GEOS-Chem/rundirs/ensemble_ru...\n",
       "    tracerinfo:                /geos/u73/msadiq/GEOS-Chem/rundirs/ensemble_ru...\n",
       "    diaginfo:                  /geos/u73/msadiq/GEOS-Chem/rundirs/ensemble_ru...\n",
       "    filetype:                  CTM bin 02\n",
       "    filetitle:                 GEOS-CHEM DIAG51 time series\n",
       "    history:                   Sun Mar 15 17:15:18 2020: ncecat ts_satellite....\n",
       "    title:                     Created by bpch2nc.py\n",
       "    conventions:               COARDS\n",
       "    references:                www.geos-chem.org; wiki.geos-chem.org\n",
       "    NCO:                       netCDF Operators version 4.7.5 (Homepage = htt...\n",
       "    nco_openmp_thread_number:  1"
      ]
     },
     "execution_count": 47,
     "metadata": {},
     "output_type": "execute_result"
    }
   ],
   "source": [
    "days = np.arange(first_day, last_day_p1, dtype='datetime64[D]')\n",
    "ds.coords['record'] = days \n",
    "ds = ds.rename({'record':'date'}) # rename and add coordinates\n",
    "ds"
   ]
  },
  {
   "cell_type": "code",
   "execution_count": 48,
   "metadata": {},
   "outputs": [
    {
     "data": {
      "text/plain": [
       "['SpeciesConc_CO2', 'PEDGE_S_PSURF']"
      ]
     },
     "execution_count": 48,
     "metadata": {},
     "output_type": "execute_result"
    }
   ],
   "source": [
    "varnames = list(ds.data_vars.keys())  # Get a list of variable names. The expression is a bit cumbersome. Just copy and paste it for now.\n",
    "nvar = len(varnames)  # how many elements in the list?\n",
    "varnames[0:27]"
   ]
  },
  {
   "cell_type": "code",
   "execution_count": 49,
   "metadata": {},
   "outputs": [],
   "source": [
    "nm_lev = len(ds.coords['lev'])\n",
    "nm_lon = len(ds.coords['lon'])\n",
    "nm_lat = len(ds.coords['lat'])\n",
    "nm_days = len(ds.coords['date'])\n",
    "\n",
    "record = range(nm_lon * nm_lat * nm_days)"
   ]
  },
  {
   "cell_type": "code",
   "execution_count": 50,
   "metadata": {},
   "outputs": [],
   "source": [
    "foo = xr.DataArray(0, coords=[record, ds.coords['lev']], dims=['record', 'levels'])\n",
    "foo = foo.astype(dtype = 'float32')\n",
    "ds_output = foo.to_dataset(name = 'SpeciesConc_CO2')\n",
    "ds_output = ds_output.astype(dtype = 'float32')\n",
    "# dataset to store following dataarrays"
   ]
  },
  {
   "cell_type": "code",
   "execution_count": 51,
   "metadata": {},
   "outputs": [
    {
     "data": {
      "text/html": [
       "<div>\n",
       "<style scoped>\n",
       "    .dataframe tbody tr th:only-of-type {\n",
       "        vertical-align: middle;\n",
       "    }\n",
       "\n",
       "    .dataframe tbody tr th {\n",
       "        vertical-align: top;\n",
       "    }\n",
       "\n",
       "    .dataframe thead th {\n",
       "        text-align: right;\n",
       "    }\n",
       "</style>\n",
       "<table border=\"1\" class=\"dataframe\">\n",
       "  <thead>\n",
       "    <tr style=\"text-align: right;\">\n",
       "      <th></th>\n",
       "      <th>date</th>\n",
       "      <th>lat</th>\n",
       "      <th>lon</th>\n",
       "      <th>lev</th>\n",
       "      <th>SpeciesConc_CO2</th>\n",
       "    </tr>\n",
       "  </thead>\n",
       "  <tbody>\n",
       "    <tr>\n",
       "      <th>0</th>\n",
       "      <td>2018-12-01</td>\n",
       "      <td>-89.5</td>\n",
       "      <td>-180.0</td>\n",
       "      <td>0.9925</td>\n",
       "      <td>405565.03125</td>\n",
       "    </tr>\n",
       "    <tr>\n",
       "      <th>1</th>\n",
       "      <td>2018-12-01</td>\n",
       "      <td>-89.5</td>\n",
       "      <td>-177.5</td>\n",
       "      <td>0.9925</td>\n",
       "      <td>405565.71875</td>\n",
       "    </tr>\n",
       "    <tr>\n",
       "      <th>2</th>\n",
       "      <td>2018-12-01</td>\n",
       "      <td>-89.5</td>\n",
       "      <td>-175.0</td>\n",
       "      <td>0.9925</td>\n",
       "      <td>405566.43750</td>\n",
       "    </tr>\n",
       "    <tr>\n",
       "      <th>3</th>\n",
       "      <td>2018-12-01</td>\n",
       "      <td>-89.5</td>\n",
       "      <td>-172.5</td>\n",
       "      <td>0.9925</td>\n",
       "      <td>405567.21875</td>\n",
       "    </tr>\n",
       "    <tr>\n",
       "      <th>4</th>\n",
       "      <td>2018-12-01</td>\n",
       "      <td>-89.5</td>\n",
       "      <td>-170.0</td>\n",
       "      <td>0.9925</td>\n",
       "      <td>405567.96875</td>\n",
       "    </tr>\n",
       "    <tr>\n",
       "      <th>...</th>\n",
       "      <td>...</td>\n",
       "      <td>...</td>\n",
       "      <td>...</td>\n",
       "      <td>...</td>\n",
       "      <td>...</td>\n",
       "    </tr>\n",
       "    <tr>\n",
       "      <th>406219</th>\n",
       "      <td>2018-12-31</td>\n",
       "      <td>89.5</td>\n",
       "      <td>167.5</td>\n",
       "      <td>0.9925</td>\n",
       "      <td>422742.84375</td>\n",
       "    </tr>\n",
       "    <tr>\n",
       "      <th>406220</th>\n",
       "      <td>2018-12-31</td>\n",
       "      <td>89.5</td>\n",
       "      <td>170.0</td>\n",
       "      <td>0.9925</td>\n",
       "      <td>422750.90625</td>\n",
       "    </tr>\n",
       "    <tr>\n",
       "      <th>406221</th>\n",
       "      <td>2018-12-31</td>\n",
       "      <td>89.5</td>\n",
       "      <td>172.5</td>\n",
       "      <td>0.9925</td>\n",
       "      <td>422753.50000</td>\n",
       "    </tr>\n",
       "    <tr>\n",
       "      <th>406222</th>\n",
       "      <td>2018-12-31</td>\n",
       "      <td>89.5</td>\n",
       "      <td>175.0</td>\n",
       "      <td>0.9925</td>\n",
       "      <td>422758.78125</td>\n",
       "    </tr>\n",
       "    <tr>\n",
       "      <th>406223</th>\n",
       "      <td>2018-12-31</td>\n",
       "      <td>89.5</td>\n",
       "      <td>177.5</td>\n",
       "      <td>0.9925</td>\n",
       "      <td>422766.62500</td>\n",
       "    </tr>\n",
       "  </tbody>\n",
       "</table>\n",
       "<p>406224 rows × 5 columns</p>\n",
       "</div>"
      ],
      "text/plain": [
       "             date   lat    lon     lev  SpeciesConc_CO2\n",
       "0      2018-12-01 -89.5 -180.0  0.9925     405565.03125\n",
       "1      2018-12-01 -89.5 -177.5  0.9925     405565.71875\n",
       "2      2018-12-01 -89.5 -175.0  0.9925     405566.43750\n",
       "3      2018-12-01 -89.5 -172.5  0.9925     405567.21875\n",
       "4      2018-12-01 -89.5 -170.0  0.9925     405567.96875\n",
       "...           ...   ...    ...     ...              ...\n",
       "406219 2018-12-31  89.5  167.5  0.9925     422742.84375\n",
       "406220 2018-12-31  89.5  170.0  0.9925     422750.90625\n",
       "406221 2018-12-31  89.5  172.5  0.9925     422753.50000\n",
       "406222 2018-12-31  89.5  175.0  0.9925     422758.78125\n",
       "406223 2018-12-31  89.5  177.5  0.9925     422766.62500\n",
       "\n",
       "[406224 rows x 5 columns]"
      ]
     },
     "execution_count": 51,
     "metadata": {},
     "output_type": "execute_result"
    }
   ],
   "source": [
    "flat = ds['SpeciesConc_CO2'][:,0,:,:].to_dataframe() # flatten a variable at one level\n",
    "flat.reset_index(inplace=True) # get indices to prepare output coordinates\n",
    "flat"
   ]
  },
  {
   "cell_type": "code",
   "execution_count": 52,
   "metadata": {},
   "outputs": [
    {
     "data": {
      "text/html": [
       "<pre>&lt;xarray.Dataset&gt;\n",
       "Dimensions:          (levels: 47, record: 406224)\n",
       "Coordinates:\n",
       "  * record           (record) int64 0 1 2 3 4 ... 406220 406221 406222 406223\n",
       "  * levels           (levels) float64 0.9925 0.9775 ... 0.000127 2.763e-05\n",
       "Data variables:\n",
       "    SpeciesConc_CO2  (record, levels) float32 0.0 0.0 0.0 0.0 ... 0.0 0.0 0.0\n",
       "    lat              (record) float64 -89.5 -89.5 -89.5 -89.5 ... 89.5 89.5 89.5\n",
       "    lon              (record) float64 -180.0 -177.5 -175.0 ... 172.5 175.0 177.5\n",
       "    date             (record) datetime64[ns] 2018-12-01 ... 2018-12-31</pre>"
      ],
      "text/plain": [
       "<xarray.Dataset>\n",
       "Dimensions:          (levels: 47, record: 406224)\n",
       "Coordinates:\n",
       "  * record           (record) int64 0 1 2 3 4 ... 406220 406221 406222 406223\n",
       "  * levels           (levels) float64 0.9925 0.9775 ... 0.000127 2.763e-05\n",
       "Data variables:\n",
       "    SpeciesConc_CO2  (record, levels) float32 0.0 0.0 0.0 0.0 ... 0.0 0.0 0.0\n",
       "    lat              (record) float64 -89.5 -89.5 -89.5 -89.5 ... 89.5 89.5 89.5\n",
       "    lon              (record) float64 -180.0 -177.5 -175.0 ... 172.5 175.0 177.5\n",
       "    date             (record) datetime64[ns] 2018-12-01 ... 2018-12-31"
      ]
     },
     "execution_count": 52,
     "metadata": {},
     "output_type": "execute_result"
    }
   ],
   "source": [
    "lat = xr.DataArray(0, coords=[record], dims=['record'])\n",
    "lon = xr.DataArray(0, coords=[record], dims=['record'])\n",
    "date = xr.DataArray(0, coords=[record], dims=['record'])\n",
    "lat.values = flat['lat']\n",
    "lon.values = flat['lon']\n",
    "date.values = flat['date']\n",
    "ds_output['lat'] = lat\n",
    "ds_output['lon'] = lon\n",
    "ds_output['date'] = date\n",
    "ds_output"
   ]
  },
  {
   "cell_type": "code",
   "execution_count": 53,
   "metadata": {},
   "outputs": [
    {
     "name": "stdout",
     "output_type": "stream",
     "text": [
      "SpeciesConc_CO2 done!\n",
      "PEDGE_S_PSURF done!\n"
     ]
    }
   ],
   "source": [
    "for ivar in varnames[0:27]:\n",
    "    for ilev in range(nm_lev):\n",
    "        flat = ds[ivar][:,ilev,:,:].to_dataframe() # flatten a variable at one level\n",
    "        foo[:,ilev] = flat[ivar] # store output to a dataarray\n",
    "    ds_output[ivar] = foo.copy() # store dataarray to dataset\n",
    "    print(ivar + ' done!')"
   ]
  },
  {
   "cell_type": "code",
   "execution_count": 54,
   "metadata": {
    "scrolled": true
   },
   "outputs": [],
   "source": [
    "#ds_output['SpeciesConc_CO2Tag15'][:,0].plot()"
   ]
  },
  {
   "cell_type": "code",
   "execution_count": 55,
   "metadata": {},
   "outputs": [
    {
     "data": {
      "text/plain": [
       "{'comment': '[CO2] unit: ppbv'}"
      ]
     },
     "execution_count": 55,
     "metadata": {},
     "output_type": "execute_result"
    }
   ],
   "source": [
    "#ds_output.SpeciesConc_CO2Tag10.plot()\n",
    "ds_output.attrs['comment'] = '[CO2] unit: ppbv'\n",
    "ds_output.attrs"
   ]
  },
  {
   "cell_type": "code",
   "execution_count": 56,
   "metadata": {},
   "outputs": [],
   "source": [
    "ds_output.to_netcdf(path=output_file)"
   ]
  },
  {
   "cell_type": "code",
   "execution_count": null,
   "metadata": {},
   "outputs": [],
   "source": []
  }
 ],
 "metadata": {
  "kernelspec": {
   "display_name": "Python 3",
   "language": "python",
   "name": "python3"
  },
  "language_info": {
   "codemirror_mode": {
    "name": "ipython",
    "version": 3
   },
   "file_extension": ".py",
   "mimetype": "text/x-python",
   "name": "python",
   "nbconvert_exporter": "python",
   "pygments_lexer": "ipython3",
   "version": "3.6.10"
  }
 },
 "nbformat": 4,
 "nbformat_minor": 4
}
