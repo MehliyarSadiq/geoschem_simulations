{
 "cells": [
  {
   "cell_type": "code",
   "execution_count": 3,
   "metadata": {},
   "outputs": [],
   "source": [
    "# some default settings for plots \n",
    "# to display plots in notebook\n",
    "%matplotlib inline\n",
    "%config InlineBackend.figure_format = \"retina\"\n",
    "rcParams[\"savefig.dpi\"] = 300  # high res plots\n",
    "rcParams[\"font.size\"] = 8\n",
    "\n",
    "import warnings\n",
    "warnings.filterwarnings('ignore')"
   ]
  },
  {
   "cell_type": "code",
   "execution_count": null,
   "metadata": {},
   "outputs": [],
   "source": [
    "import matplotlib.pyplot as plt # plots\n",
    "import cartopy.crs as ccrs      # map projections\n",
    "import pandas as pd             # large arrays\n",
    "import numpy as np              # large arrays and matrices\n",
    "import xarray as xr             # major tool to work with NetCDF data!"
   ]
  },
  {
   "cell_type": "code",
   "execution_count": null,
   "metadata": {},
   "outputs": [],
   "source": [
    "from util.functions import area_latlon\n",
    "from util.gamap_colormap import WhGrYlRd"
   ]
  },
  {
   "cell_type": "markdown",
   "metadata": {},
   "source": [
    "# Create xarray region mask"
   ]
  },
  {
   "cell_type": "code",
   "execution_count": null,
   "metadata": {},
   "outputs": [],
   "source": [
    "# Import regionmask and check the version\n",
    "import regionmask\n",
    "regionmask.__version__"
   ]
  },
  {
   "cell_type": "code",
   "execution_count": null,
   "metadata": {},
   "outputs": [],
   "source": [
    "# load data\n",
    "fname = '/home/msadiq/Desktop/co2/data/emission/ODIAC/odiac2019_1x1d_2015.nc'\n",
    "ds = xr.open_dataset(fname)\n",
    "#ds"
   ]
  },
  {
   "cell_type": "code",
   "execution_count": null,
   "metadata": {},
   "outputs": [],
   "source": [
    "# read in one month of data, [180,360]\n",
    "dr = ds['intl_bunker'][1,:,:]\n",
    "#dr"
   ]
  },
  {
   "cell_type": "code",
   "execution_count": null,
   "metadata": {},
   "outputs": [],
   "source": [
    "# global map\n",
    "fig = plt.figure(figsize=[8, 4])\n",
    "proj=ccrs.PlateCarree()\n",
    "\n",
    "ax = plt.subplot(111, projection=proj)\n",
    "\n",
    "dr.plot(ax=ax, transform=ccrs.PlateCarree(), vmax = 0.1, cmap=WhGrYlRd, cbar_kwargs={'shrink': 0.8})\n",
    "\n",
    "ax.coastlines();"
   ]
  },
  {
   "cell_type": "markdown",
   "metadata": {},
   "source": [
    "### Making a mask"
   ]
  },
  {
   "cell_type": "code",
   "execution_count": null,
   "metadata": {},
   "outputs": [],
   "source": [
    "mask = regionmask.defined_regions.giorgi.mask(dr)"
   ]
  },
  {
   "cell_type": "code",
   "execution_count": null,
   "metadata": {},
   "outputs": [],
   "source": [
    "# plot the mask\n",
    "fig = plt.figure(figsize=[8, 4])\n",
    "\n",
    "proj=ccrs.PlateCarree()\n",
    "ax = plt.subplot(111, projection=proj)\n",
    "\n",
    "mask.plot(ax=ax, transform=ccrs.PlateCarree(), cmap='tab20', vmax = 21.5, cbar_kwargs={'shrink': 0.8, 'label': 'Tag number'})\n",
    "ax.set_title(\"Giorgi regions\")\n",
    "ax.coastlines();\n",
    "\n",
    "#fig.savefig('../plots/masks_21tags.png', dpi=300)"
   ]
  },
  {
   "cell_type": "code",
   "execution_count": null,
   "metadata": {},
   "outputs": [],
   "source": [
    "# copy attributes from an existing GEOS-Chem mask file\n",
    "fname = '/home/msadiq/Desktop/co2/data/emission/GC/SE_Asia_mask.generic.1x1.nc'\n",
    "ds = xr.open_dataset(fname)\n",
    "#ds\n",
    "#np.datetime64('2000-01-01')"
   ]
  },
  {
   "cell_type": "code",
   "execution_count": null,
   "metadata": {},
   "outputs": [],
   "source": [
    "# create one NetCDF file for one MASK, and save\n",
    "nm_masks = mask.max().values # number of masks\n",
    "for count in np.arange(nm_masks)+1:\n",
    "    target = xr.Dataset({\"MASK\": ((\"time\", \"lat\", \"lon\"), np.zeros(180*360).reshape(1,180,360))},coords=ds.coords)\n",
    "    target = target.astype(dtype='float32')\n",
    "    mask_TF = mask == count\n",
    "    target['MASK'][0,:,:] = mask_TF.where(True)\n",
    "    target['MASK'].attrs = ds['MASK'].attrs\n",
    "    target['lon'].attrs = ds['lon'].attrs\n",
    "    target['lat'].attrs = ds['lat'].attrs\n",
    "    #print(target)\n",
    "    target.attrs = ds.attrs\n",
    "    target.attrs['comment'] = 'giorgi region masks, by m.sadiq 2020'\n",
    "    target.to_netcdf('/home/msadiq/Desktop/co2/data/emission/GC/MASK' + str(count.astype(int)) + '_giorgi_1x1.nc')"
   ]
  },
  {
   "cell_type": "code",
   "execution_count": null,
   "metadata": {},
   "outputs": [],
   "source": [
    "# plot the last mask\n",
    "fig = plt.figure(figsize=[8, 4])\n",
    "\n",
    "proj=ccrs.PlateCarree()\n",
    "ax = plt.subplot(111, projection=proj)\n",
    "\n",
    "target['MASK'].plot(ax=ax, transform=ccrs.PlateCarree(), cmap='tab20', cbar_kwargs={'shrink': 0.8, 'label': ''})\n",
    "ax.set_title(\"MASK 21\")\n",
    "ax.coastlines();"
   ]
  },
  {
   "cell_type": "code",
   "execution_count": null,
   "metadata": {},
   "outputs": [],
   "source": [
    "# one more mask, for the rest of the globe\n",
    "target = xr.Dataset({\"MASK\": ((\"time\", \"lat\", \"lon\"), np.zeros(180*360).reshape(1,180,360))},coords=ds.coords)\n",
    "target = target.astype(dtype='float32')\n",
    "mask_nan = np.isnan(mask)\n",
    "target['MASK'][0,:,:] = mask_nan.where(True)\n",
    "target['MASK'].attrs = ds['MASK'].attrs\n",
    "target['lon'].attrs = ds['lon'].attrs\n",
    "target['lat'].attrs = ds['lat'].attrs\n",
    "#print(target)\n",
    "target.attrs = ds.attrs\n",
    "target.attrs['comment'] = 'giorgi region masks, by m.sadiq 2020'\n",
    "target.to_netcdf('/home/msadiq/Desktop/co2/data/emission/GC/MASK22_giorgi_1x1.nc')"
   ]
  },
  {
   "cell_type": "code",
   "execution_count": null,
   "metadata": {},
   "outputs": [],
   "source": [
    "# plot the last mask\n",
    "fig = plt.figure(figsize=[8, 4])\n",
    "\n",
    "proj=ccrs.PlateCarree()\n",
    "ax = plt.subplot(111, projection=proj)\n",
    "\n",
    "target['MASK'].plot(ax=ax, transform=ccrs.PlateCarree(), cmap='tab20', cbar_kwargs={'shrink': 0.8, 'label': ''})\n",
    "ax.set_title(\"MASK 22\")\n",
    "ax.coastlines();"
   ]
  }
 ],
 "metadata": {
  "kernelspec": {
   "display_name": "Python 3",
   "language": "python",
   "name": "python3"
  },
  "language_info": {
   "codemirror_mode": {
    "name": "ipython",
    "version": 3
   },
   "file_extension": ".py",
   "mimetype": "text/x-python",
   "name": "python",
   "nbconvert_exporter": "python",
   "pygments_lexer": "ipython3",
   "version": "3.7.5"
  }
 },
 "nbformat": 4,
 "nbformat_minor": 1
}
