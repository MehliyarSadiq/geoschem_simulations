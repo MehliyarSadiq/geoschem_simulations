{
 "cells": [
  {
   "cell_type": "markdown",
   "metadata": {},
   "source": [
    "# flatten 4d (lat, lon, date, level) output data to 2d (record, level)"
   ]
  },
  {
   "cell_type": "code",
   "execution_count": 1,
   "metadata": {},
   "outputs": [],
   "source": [
    "import numpy as np\n",
    "import xarray as xr\n",
    "import matplotlib.pyplot as plt\n",
    "import re"
   ]
  },
  {
   "cell_type": "code",
   "execution_count": 2,
   "metadata": {},
   "outputs": [],
   "source": [
    "# Name of input Netcdf file\n",
    "input_directory = '/geos/u73/msadiq/GEOS-Chem/analysis/python/data/'\n",
    "model_file_name = '2d_ts_satellite.201801-03.nc'\n",
    "oco2_file_name = '2d_OCO2_extract.nc'\n",
    "output_directory = input_directory\n",
    "\n",
    "# Name of output netCDF file\n",
    "# output_file = output_directory + '2d_' + name_nc_in"
   ]
  },
  {
   "cell_type": "code",
   "execution_count": 3,
   "metadata": {},
   "outputs": [
    {
     "data": {
      "text/html": [
       "<pre>&lt;xarray.Dataset&gt;\n",
       "Dimensions:                (levels: 20, record: 406224)\n",
       "Coordinates:\n",
       "  * record                 (record) int64 0 1 2 3 ... 406221 406222 406223\n",
       "  * levels                 (levels) float32 1e-04 0.05263158 ... 0.94736844 1.0\n",
       "Data variables:\n",
       "    xco2                   (record) float32 ...\n",
       "    lat                    (record) float64 ...\n",
       "    lon                    (record) float64 ...\n",
       "    date                   (record) datetime64[ns] ...\n",
       "    xco2_averaging_kernel  (record, levels) float32 ...\n",
       "    psurf                  (record) float32 ...\n",
       "    pressure               (record, levels) float32 ...\n",
       "Attributes:\n",
       "    comment:  flattened from 4d NetCDF file, after extracted from OCO2</pre>"
      ],
      "text/plain": [
       "<xarray.Dataset>\n",
       "Dimensions:                (levels: 20, record: 406224)\n",
       "Coordinates:\n",
       "  * record                 (record) int64 0 1 2 3 ... 406221 406222 406223\n",
       "  * levels                 (levels) float32 1e-04 0.05263158 ... 0.94736844 1.0\n",
       "Data variables:\n",
       "    xco2                   (record) float32 ...\n",
       "    lat                    (record) float64 ...\n",
       "    lon                    (record) float64 ...\n",
       "    date                   (record) datetime64[ns] ...\n",
       "    xco2_averaging_kernel  (record, levels) float32 ...\n",
       "    psurf                  (record) float32 ...\n",
       "    pressure               (record, levels) float32 ...\n",
       "Attributes:\n",
       "    comment:  flattened from 4d NetCDF file, after extracted from OCO2"
      ]
     },
     "execution_count": 3,
     "metadata": {},
     "output_type": "execute_result"
    }
   ],
   "source": [
    "ds_satellite = xr.open_dataset(input_directory + oco2_file_name)\n",
    "ds_satellite"
   ]
  },
  {
   "cell_type": "code",
   "execution_count": 4,
   "metadata": {},
   "outputs": [
    {
     "data": {
      "text/html": [
       "<pre>&lt;xarray.Dataset&gt;\n",
       "Dimensions:               (levels: 47, record: 406224)\n",
       "Coordinates:\n",
       "  * record                (record) int64 0 1 2 3 ... 406220 406221 406222 406223\n",
       "  * levels                (levels) float64 0.9925 0.9775 ... 0.000127 2.763e-05\n",
       "Data variables:\n",
       "    SpeciesConc_CO2       (record, levels) float32 ...\n",
       "    lat                   (record) float64 ...\n",
       "    lon                   (record) float64 ...\n",
       "    date                  (record) datetime64[ns] ...\n",
       "    SpeciesConc_CO2oc     (record, levels) float32 ...\n",
       "    SpeciesConc_CO2bf     (record, levels) float32 ...\n",
       "    SpeciesConc_CO2ff     (record, levels) float32 ...\n",
       "    SpeciesConc_CO2Tag1   (record, levels) float32 ...\n",
       "    SpeciesConc_CO2Tag2   (record, levels) float32 ...\n",
       "    SpeciesConc_CO2Tag3   (record, levels) float32 ...\n",
       "    SpeciesConc_CO2Tag4   (record, levels) float32 ...\n",
       "    SpeciesConc_CO2Tag5   (record, levels) float32 ...\n",
       "    SpeciesConc_CO2Tag6   (record, levels) float32 ...\n",
       "    SpeciesConc_CO2Tag7   (record, levels) float32 ...\n",
       "    SpeciesConc_CO2Tag8   (record, levels) float32 ...\n",
       "    SpeciesConc_CO2Tag9   (record, levels) float32 ...\n",
       "    SpeciesConc_CO2Tag10  (record, levels) float32 ...\n",
       "    SpeciesConc_CO2Tag11  (record, levels) float32 ...\n",
       "    SpeciesConc_CO2Tag12  (record, levels) float32 ...\n",
       "    SpeciesConc_CO2Tag13  (record, levels) float32 ...\n",
       "    SpeciesConc_CO2Tag14  (record, levels) float32 ...\n",
       "    SpeciesConc_CO2Tag15  (record, levels) float32 ...\n",
       "    SpeciesConc_CO2Tag16  (record, levels) float32 ...\n",
       "    SpeciesConc_CO2Tag17  (record, levels) float32 ...\n",
       "    SpeciesConc_CO2Tag18  (record, levels) float32 ...\n",
       "    SpeciesConc_CO2Tag19  (record, levels) float32 ...\n",
       "    SpeciesConc_CO2Tag20  (record, levels) float32 ...\n",
       "    SpeciesConc_CO2Tag21  (record, levels) float32 ...\n",
       "    SpeciesConc_CO2Tag22  (record, levels) float32 ...\n",
       "    PEDGE_S_PSURF         (record, levels) float32 ...\n",
       "Attributes:\n",
       "    comment:  [CO2] unit: ppbv</pre>"
      ],
      "text/plain": [
       "<xarray.Dataset>\n",
       "Dimensions:               (levels: 47, record: 406224)\n",
       "Coordinates:\n",
       "  * record                (record) int64 0 1 2 3 ... 406220 406221 406222 406223\n",
       "  * levels                (levels) float64 0.9925 0.9775 ... 0.000127 2.763e-05\n",
       "Data variables:\n",
       "    SpeciesConc_CO2       (record, levels) float32 ...\n",
       "    lat                   (record) float64 ...\n",
       "    lon                   (record) float64 ...\n",
       "    date                  (record) datetime64[ns] ...\n",
       "    SpeciesConc_CO2oc     (record, levels) float32 ...\n",
       "    SpeciesConc_CO2bf     (record, levels) float32 ...\n",
       "    SpeciesConc_CO2ff     (record, levels) float32 ...\n",
       "    SpeciesConc_CO2Tag1   (record, levels) float32 ...\n",
       "    SpeciesConc_CO2Tag2   (record, levels) float32 ...\n",
       "    SpeciesConc_CO2Tag3   (record, levels) float32 ...\n",
       "    SpeciesConc_CO2Tag4   (record, levels) float32 ...\n",
       "    SpeciesConc_CO2Tag5   (record, levels) float32 ...\n",
       "    SpeciesConc_CO2Tag6   (record, levels) float32 ...\n",
       "    SpeciesConc_CO2Tag7   (record, levels) float32 ...\n",
       "    SpeciesConc_CO2Tag8   (record, levels) float32 ...\n",
       "    SpeciesConc_CO2Tag9   (record, levels) float32 ...\n",
       "    SpeciesConc_CO2Tag10  (record, levels) float32 ...\n",
       "    SpeciesConc_CO2Tag11  (record, levels) float32 ...\n",
       "    SpeciesConc_CO2Tag12  (record, levels) float32 ...\n",
       "    SpeciesConc_CO2Tag13  (record, levels) float32 ...\n",
       "    SpeciesConc_CO2Tag14  (record, levels) float32 ...\n",
       "    SpeciesConc_CO2Tag15  (record, levels) float32 ...\n",
       "    SpeciesConc_CO2Tag16  (record, levels) float32 ...\n",
       "    SpeciesConc_CO2Tag17  (record, levels) float32 ...\n",
       "    SpeciesConc_CO2Tag18  (record, levels) float32 ...\n",
       "    SpeciesConc_CO2Tag19  (record, levels) float32 ...\n",
       "    SpeciesConc_CO2Tag20  (record, levels) float32 ...\n",
       "    SpeciesConc_CO2Tag21  (record, levels) float32 ...\n",
       "    SpeciesConc_CO2Tag22  (record, levels) float32 ...\n",
       "    PEDGE_S_PSURF         (record, levels) float32 ...\n",
       "Attributes:\n",
       "    comment:  [CO2] unit: ppbv"
      ]
     },
     "execution_count": 4,
     "metadata": {},
     "output_type": "execute_result"
    }
   ],
   "source": [
    "ds_model = xr.open_dataset(input_directory + model_file_name)\n",
    "ds_model\n",
    "#ds['xco2_averaging_kernel'].isel(levels=19,time=0).plot()"
   ]
  },
  {
   "cell_type": "code",
   "execution_count": 5,
   "metadata": {},
   "outputs": [
    {
     "data": {
      "text/plain": [
       "array([     0,      1,      2, ..., 406221, 406222, 406223])"
      ]
     },
     "execution_count": 5,
     "metadata": {},
     "output_type": "execute_result"
    }
   ],
   "source": [
    "record = ds_model['record'].values\n",
    "record"
   ]
  },
  {
   "cell_type": "code",
   "execution_count": 6,
   "metadata": {},
   "outputs": [],
   "source": [
    "varnames = list(ds_model.data_vars.keys())  # Get a list of variable names. The expression is a bit cumbersome. Just copy and paste it for now.\n",
    "nvar = len(varnames)  # how many elements in the list?\n",
    "#varnames"
   ]
  },
  {
   "cell_type": "code",
   "execution_count": 7,
   "metadata": {},
   "outputs": [
    {
     "data": {
      "text/html": [
       "<pre>&lt;xarray.DataArray &#x27;pressure&#x27; ()&gt;\n",
       "array(1014.635, dtype=float32)\n",
       "Coordinates:\n",
       "    record   int64 47007\n",
       "    levels   float32 1.0</pre>"
      ],
      "text/plain": [
       "<xarray.DataArray 'pressure' ()>\n",
       "array(1014.635, dtype=float32)\n",
       "Coordinates:\n",
       "    record   int64 47007\n",
       "    levels   float32 1.0"
      ]
     },
     "execution_count": 7,
     "metadata": {},
     "output_type": "execute_result"
    }
   ],
   "source": [
    "ds_satellite['pressure'][47007,19]"
   ]
  },
  {
   "cell_type": "code",
   "execution_count": 8,
   "metadata": {},
   "outputs": [
    {
     "data": {
      "text/html": [
       "<pre>&lt;xarray.DataArray (record: 406224, levels: 47)&gt;\n",
       "array([[0., 0., 0., ..., 0., 0., 0.],\n",
       "       [0., 0., 0., ..., 0., 0., 0.],\n",
       "       [0., 0., 0., ..., 0., 0., 0.],\n",
       "       ...,\n",
       "       [0., 0., 0., ..., 0., 0., 0.],\n",
       "       [0., 0., 0., ..., 0., 0., 0.],\n",
       "       [0., 0., 0., ..., 0., 0., 0.]], dtype=float32)\n",
       "Coordinates:\n",
       "  * record   (record) int64 0 1 2 3 4 5 ... 406219 406220 406221 406222 406223\n",
       "  * levels   (levels) float64 0.9925 0.9775 0.9624 ... 0.000127 2.763e-05</pre>"
      ],
      "text/plain": [
       "<xarray.DataArray (record: 406224, levels: 47)>\n",
       "array([[0., 0., 0., ..., 0., 0., 0.],\n",
       "       [0., 0., 0., ..., 0., 0., 0.],\n",
       "       [0., 0., 0., ..., 0., 0., 0.],\n",
       "       ...,\n",
       "       [0., 0., 0., ..., 0., 0., 0.],\n",
       "       [0., 0., 0., ..., 0., 0., 0.],\n",
       "       [0., 0., 0., ..., 0., 0., 0.]], dtype=float32)\n",
       "Coordinates:\n",
       "  * record   (record) int64 0 1 2 3 4 5 ... 406219 406220 406221 406222 406223\n",
       "  * levels   (levels) float64 0.9925 0.9775 0.9624 ... 0.000127 2.763e-05"
      ]
     },
     "execution_count": 8,
     "metadata": {},
     "output_type": "execute_result"
    }
   ],
   "source": [
    "# 2d data array to store interpolated averaging kernel\n",
    "new_avg_kernel = xr.DataArray(data = 0,\n",
    "                              dims=('record', 'levels'),\n",
    "                              coords=[record, ds_model.coords['levels']])\n",
    "new_avg_kernel = new_avg_kernel.astype(dtype = 'float32')\n",
    "new_avg_kernel"
   ]
  },
  {
   "cell_type": "code",
   "execution_count": 9,
   "metadata": {},
   "outputs": [],
   "source": [
    "# interpolate averaging kernel from 20 sigma levels to 47 levels\n",
    "sigma_47 = new_avg_kernel.coords['levels'].values\n",
    "sigma_20 = ds_satellite.coords['levels'].values\n",
    "\n",
    "for irecord in record:\n",
    "    yp = ds_satellite['xco2_averaging_kernel'][irecord,:].values\n",
    "    new_avg_kernel[irecord,:] = np.interp(x=sigma_47, xp=sigma_20, fp=yp)\n",
    "    #print(irecord)"
   ]
  },
  {
   "cell_type": "code",
   "execution_count": 28,
   "metadata": {},
   "outputs": [
    {
     "data": {
      "text/plain": [
       "['SpeciesConc_CO2Tag1',\n",
       " 'SpeciesConc_CO2Tag2',\n",
       " 'SpeciesConc_CO2Tag3',\n",
       " 'SpeciesConc_CO2Tag4',\n",
       " 'SpeciesConc_CO2Tag5',\n",
       " 'SpeciesConc_CO2Tag6',\n",
       " 'SpeciesConc_CO2Tag7',\n",
       " 'SpeciesConc_CO2Tag8',\n",
       " 'SpeciesConc_CO2Tag9',\n",
       " 'SpeciesConc_CO2Tag10',\n",
       " 'SpeciesConc_CO2Tag11',\n",
       " 'SpeciesConc_CO2Tag12',\n",
       " 'SpeciesConc_CO2Tag13',\n",
       " 'SpeciesConc_CO2Tag14',\n",
       " 'SpeciesConc_CO2Tag15',\n",
       " 'SpeciesConc_CO2Tag16',\n",
       " 'SpeciesConc_CO2Tag17',\n",
       " 'SpeciesConc_CO2Tag18',\n",
       " 'SpeciesConc_CO2Tag19',\n",
       " 'SpeciesConc_CO2Tag20',\n",
       " 'SpeciesConc_CO2Tag21',\n",
       " 'SpeciesConc_CO2Tag22',\n",
       " 'SpeciesConc_CO2']"
      ]
     },
     "execution_count": 28,
     "metadata": {},
     "output_type": "execute_result"
    }
   ],
   "source": [
    "co2_var_names = varnames[7:29]\n",
    "co2_var_names.append(varnames[0])\n",
    "co2_var_names"
   ]
  },
  {
   "cell_type": "code",
   "execution_count": 48,
   "metadata": {},
   "outputs": [
    {
     "data": {
      "text/plain": [
       "[<matplotlib.lines.Line2D at 0x2b6b2fce9978>]"
      ]
     },
     "execution_count": 48,
     "metadata": {},
     "output_type": "execute_result"
    },
    {
     "data": {
      "image/png": "[encoded data removed]",
      "text/plain": [
       "<Figure size 432x288 with 1 Axes>"
      ]
     },
     "metadata": {
      "needs_background": "light"
     },
     "output_type": "display_data"
    }
   ],
   "source": [
    "# testing SpeciesConc_CO2, for the following loop over all CO2 variables\n",
    "co2_profile = ds_model['SpeciesConc_CO2']\n",
    "tmp = co2_profile * new_avg_kernel\n",
    "#ds_model['SpeciesConc_CO2'][47007,:].plot()\n",
    "#tmp[47007,:].plot()\n",
    "xco2_model = tmp.mean(dim = 'levels')*1e-3 # average along vertical axis, unit: ppbv -> ppm\n",
    "xco2_model[30100:30120].plot()\n",
    "ds_satellite['xco2'][30100:30120].plot()"
   ]
  },
  {
   "cell_type": "code",
   "execution_count": 64,
   "metadata": {},
   "outputs": [
    {
     "data": {
      "text/html": [
       "<pre>&lt;xarray.Dataset&gt;\n",
       "Dimensions:  (record: 406224)\n",
       "Coordinates:\n",
       "  * record   (record) int64 0 1 2 3 4 5 ... 406219 406220 406221 406222 406223\n",
       "Data variables:\n",
       "    lat      (record) float64 ...\n",
       "    lon      (record) float64 ...\n",
       "    date     (record) datetime64[ns] ...</pre>"
      ],
      "text/plain": [
       "<xarray.Dataset>\n",
       "Dimensions:  (record: 406224)\n",
       "Coordinates:\n",
       "  * record   (record) int64 0 1 2 3 4 5 ... 406219 406220 406221 406222 406223\n",
       "Data variables:\n",
       "    lat      (record) float64 ...\n",
       "    lon      (record) float64 ...\n",
       "    date     (record) datetime64[ns] ..."
      ]
     },
     "execution_count": 64,
     "metadata": {},
     "output_type": "execute_result"
    }
   ],
   "source": [
    "# new dataset to store model xco2\n",
    "lat = ds_satellite['lat']\n",
    "lon = ds_satellite['lon']\n",
    "date = ds_satellite['date']\n",
    "xco2_model = lat.to_dataset()\n",
    "xco2_model['lon'] = lon\n",
    "xco2_model['date'] = date\n",
    "xco2_model"
   ]
  },
  {
   "cell_type": "code",
   "execution_count": 65,
   "metadata": {},
   "outputs": [],
   "source": [
    "for ivar in co2_var_names:\n",
    "    co2_profile = ds_model[ivar]\n",
    "    co2_times_kernel = co2_profile * new_avg_kernel # times averaging kernel\n",
    "    xco2_model_var = co2_times_kernel.mean(dim = 'levels') * 1e-3 # average along vertical axis, unit: ppbv -> ppm\n",
    "    xco2_model_var.name = 'X_' + ivar\n",
    "    xco2_model[ivar] = xco2_model_var.copy()\n",
    "    #print(xco2_model.name)\n",
    "    #xco2_model_var[30100:30120].plot()"
   ]
  },
  {
   "cell_type": "code",
   "execution_count": 69,
   "metadata": {},
   "outputs": [
    {
     "data": {
      "text/plain": [
       "[<matplotlib.lines.Line2D at 0x2b6b2fb5e160>]"
      ]
     },
     "execution_count": 69,
     "metadata": {},
     "output_type": "execute_result"
    },
    {
     "data": {
      "image/png": "[encoded data removed]",
      "text/plain": [
       "<Figure size 432x288 with 1 Axes>"
      ]
     },
     "metadata": {
      "needs_background": "light"
     },
     "output_type": "display_data"
    }
   ],
   "source": [
    "xco2_model['SpeciesConc_CO2'][30100:30120].plot()"
   ]
  },
  {
   "cell_type": "code",
   "execution_count": 72,
   "metadata": {},
   "outputs": [
    {
     "data": {
      "text/plain": [
       "<matplotlib.collections.PathCollection at 0x2b6b30240c18>"
      ]
     },
     "execution_count": 72,
     "metadata": {},
     "output_type": "execute_result"
    },
    {
     "data": {
      "image/png": "[encoded data removed]",
      "text/plain": [
       "<Figure size 432x288 with 1 Axes>"
      ]
     },
     "metadata": {
      "needs_background": "light"
     },
     "output_type": "display_data"
    }
   ],
   "source": [
    "obs = ds_satellite['xco2']\n",
    "mod = xco2_model['SpeciesConc_CO2']\n",
    "obs[obs == 0] = 'nan'\n",
    "mod[mod == 0] = 'nan'\n",
    "plt.scatter(x=obs, y=mod)"
   ]
  },
  {
   "cell_type": "code",
   "execution_count": 104,
   "metadata": {},
   "outputs": [
    {
     "data": {
      "image/png": "[encoded data removed]",
      "text/plain": [
       "<Figure size 360x360 with 1 Axes>"
      ]
     },
     "metadata": {
      "needs_background": "light"
     },
     "output_type": "display_data"
    }
   ],
   "source": [
    "fig = plt.figure(figsize=[5, 5])\n",
    "ax = plt.axes()\n",
    "plt.scatter(x=obs, y=mod, s=0.5)\n",
    "plt.xlabel('OCO2 XCO2')\n",
    "plt.ylabel('GEOS-Chem XCO2')\n",
    "ax.set_xlim([300,420])\n",
    "ax.set_ylim([300,420])\n",
    "ax.set_title('mod vs. obs');\n",
    "\n",
    "plt.savefig(output_directory+'mod_vs_obs.png', dpi = 300)"
   ]
  },
  {
   "cell_type": "code",
   "execution_count": null,
   "metadata": {},
   "outputs": [],
   "source": []
  }
 ],
 "metadata": {
  "kernelspec": {
   "display_name": "Python 3",
   "language": "python",
   "name": "python3"
  },
  "language_info": {
   "codemirror_mode": {
    "name": "ipython",
    "version": 3
   },
   "file_extension": ".py",
   "mimetype": "text/x-python",
   "name": "python",
   "nbconvert_exporter": "python",
   "pygments_lexer": "ipython3",
   "version": "3.6.10"
  }
 },
 "nbformat": 4,
 "nbformat_minor": 4
}
