{
 "cells": [
  {
   "cell_type": "code",
   "execution_count": 1,
   "metadata": {},
   "outputs": [],
   "source": [
    "# Explore biosphric fluxes\n",
    "# 1, net terrestrial exchange, from GEOS-Chem\n",
    "# 2, balanced ecosystem uptake (near neutral), from GEOS-Chem\n",
    "# 3, CASA 2016 ecosystem exchange, by Liang\n",
    "# 4, compare them, annual total and seasonality\n",
    "# 5, output CASA to match the format of GEOS-Chem"
   ]
  },
  {
   "cell_type": "code",
   "execution_count": 2,
   "metadata": {},
   "outputs": [],
   "source": [
    "%matplotlib inline\n",
    "%config InlineBackend.figure_format = \"retina\"\n",
    "\n",
    "from matplotlib import rcParams\n",
    "rcParams[\"savefig.dpi\"] = 300\n",
    "rcParams[\"font.size\"] = 12\n",
    "\n",
    "import warnings\n",
    "warnings.filterwarnings('ignore')"
   ]
  },
  {
   "cell_type": "code",
   "execution_count": 3,
   "metadata": {},
   "outputs": [],
   "source": [
    "import numpy as np\n",
    "import xarray as xr\n",
    "import matplotlib.pyplot as plt\n",
    "import cartopy.crs as ccrs\n",
    "from util.functions import area_latlon # grid area in km^2\n",
    "from util.gamap_colormap import WhGrYlRd"
   ]
  },
  {
   "cell_type": "code",
   "execution_count": 4,
   "metadata": {},
   "outputs": [
    {
     "data": {
      "text/html": [
       "<pre>&lt;xarray.Dataset&gt;\n",
       "Dimensions:  (lat: 91, lon: 144, time: 12)\n",
       "Coordinates:\n",
       "  * lon      (lon) float64 -180.0 -177.5 -175.0 -172.5 ... 172.5 175.0 177.5\n",
       "  * lat      (lat) float32 -89.5 -88.0 -86.0 -84.0 -82.0 ... 84.0 86.0 88.0 89.5\n",
       "  * time     (time) datetime64[ns] 2000-01-01 2000-02-01 ... 2000-12-01\n",
       "Data variables:\n",
       "    CO2      (time, lat, lon) float32 ...\n",
       "Attributes:\n",
       "    CDI:          Climate Data Interface version 1.5.5 (http://code.zmaw.de/p...\n",
       "    Conventions:  COARDS\n",
       "    history:      Fri Aug 22 10:45:34 2014: cdo mulc,7.30654e-22 tmp.nc Taka2...\n",
       "    Title:        COARDS/netCDF file created by BPCH2COARDS (GAMAP v2-17+)\n",
       "    Model:        GEOS4\n",
       "    Delta_Lon:    2.5\n",
       "    Delta_Lat:    2.0\n",
       "    NLayers:      55\n",
       "    Start_Date:   20000101\n",
       "    Start_Time:   0\n",
       "    End_Date:     20000101\n",
       "    End_Time:     0\n",
       "    Delta_Time:   0\n",
       "    CDO:          Climate Data Operators version 1.5.5 (http://code.zmaw.de/p...</pre>"
      ],
      "text/plain": [
       "<xarray.Dataset>\n",
       "Dimensions:  (lat: 91, lon: 144, time: 12)\n",
       "Coordinates:\n",
       "  * lon      (lon) float64 -180.0 -177.5 -175.0 -172.5 ... 172.5 175.0 177.5\n",
       "  * lat      (lat) float32 -89.5 -88.0 -86.0 -84.0 -82.0 ... 84.0 86.0 88.0 89.5\n",
       "  * time     (time) datetime64[ns] 2000-01-01 2000-02-01 ... 2000-12-01\n",
       "Data variables:\n",
       "    CO2      (time, lat, lon) float32 ...\n",
       "Attributes:\n",
       "    CDI:          Climate Data Interface version 1.5.5 (http://code.zmaw.de/p...\n",
       "    Conventions:  COARDS\n",
       "    history:      Fri Aug 22 10:45:34 2014: cdo mulc,7.30654e-22 tmp.nc Taka2...\n",
       "    Title:        COARDS/netCDF file created by BPCH2COARDS (GAMAP v2-17+)\n",
       "    Model:        GEOS4\n",
       "    Delta_Lon:    2.5\n",
       "    Delta_Lat:    2.0\n",
       "    NLayers:      55\n",
       "    Start_Date:   20000101\n",
       "    Start_Time:   0\n",
       "    End_Date:     20000101\n",
       "    End_Time:     0\n",
       "    Delta_Time:   0\n",
       "    CDO:          Climate Data Operators version 1.5.5 (http://code.zmaw.de/p..."
      ]
     },
     "execution_count": 4,
     "metadata": {},
     "output_type": "execute_result"
    }
   ],
   "source": [
    "# ocean exchange\n",
    "#filename = '/geos/u73/msadiq/GEOS-Chem/HEMCO/CO2/v2014-09/OCEAN/Taka2009_CO2_Annual.nc'\n",
    "filename = '/geos/u73/msadiq/GEOS-Chem/HEMCO/CO2/v2014-09/OCEAN/Taka2009_CO2_Monthly.nc'\n",
    "ds_ocean = xr.open_dataset(filename)\n",
    "lat_res = ds_ocean.attrs['Delta_Lat']\n",
    "lon_res = ds_ocean.attrs['Delta_Lon']\n",
    "varname = 'CO2'\n",
    "unit    = ds_ocean[varname].attrs['units']\n",
    "dr_ocean = ds_ocean[varname]\n",
    "ds_ocean"
   ]
  },
  {
   "cell_type": "code",
   "execution_count": 6,
   "metadata": {},
   "outputs": [
    {
     "data": {
      "text/plain": [
       "-1.3727761098938183"
      ]
     },
     "execution_count": 6,
     "metadata": {},
     "output_type": "execute_result"
    }
   ],
   "source": [
    "\n",
    "days_in_month = [31,29,31,30,31,30,31,31,30,31,30,31]\n",
    "\n",
    "\n",
    "for ilat, lat in enumerate(dr_ocean.lat):\n",
    "    for imonth in range(12):\n",
    "        area_tmp = area_latlon(lat1 = lat, \n",
    "                                lon1 = dr_ocean.lon[10].values, \n",
    "                                lat2 = lat + lat_res, \n",
    "                                lon2 = dr_ocean.lon[10].values + lon_res)\n",
    "        dr_ocean[imonth,ilat,:] = dr_ocean[imonth,ilat,:] * area_tmp * days_in_month[imonth] * 24 * 3600 *1e6  # unit: kgCO2/month\n",
    "        #dr_ocean[0,ilat,:] = dr_ocean[0,ilat,:] * area_tmp * 24 *366 * 3600 *1e6  # unit: kgCO2/month\n",
    "ocean_annual = dr_ocean.sum(dim = 'time')\n",
    "total = dr_ocean.sum()       # kgCO2/year, same as data description\n",
    "ann_total_ocean = total.values*1e-12*12/44  # GtC/yr\n",
    "ann_total_ocean"
   ]
  },
  {
   "cell_type": "code",
   "execution_count": 18,
   "metadata": {},
   "outputs": [
    {
     "data": {
      "text/html": [
       "<pre>&lt;xarray.Dataset&gt;\n",
       "Dimensions:  (lat: 45, lon: 72, time: 168)\n",
       "Coordinates:\n",
       "  * lon      (lon) int32 -180 -175 -170 -165 -160 -155 ... 155 160 165 170 175\n",
       "  * lat      (lat) float32 -88.0 -84.0 -80.0 -76.0 -72.0 ... 76.0 80.0 84.0 88.0\n",
       "  * time     (time) datetime64[ns] 2000-01-01 2000-02-01 ... 2013-12-01\n",
       "Data variables:\n",
       "    CO2      (time, lat, lon) float32 ...\n",
       "Attributes:\n",
       "    CDI:          Climate Data Interface version 1.5.6 (http://code.zmaw.de/p...\n",
       "    Conventions:  COARDS\n",
       "    Title:        COARDS/netCDF file created by BPCH2COARDS (GAMAP v2-03+)\n",
       "    Model:        GENERIC\n",
       "    Delta_Lon:    5.0\n",
       "    Delta_Lat:    4.0\n",
       "    NLayers:      1\n",
       "    Start_Date:   20000101\n",
       "    Start_Time:   0\n",
       "    End_Date:     20131201\n",
       "    End_Time:     0\n",
       "    Delta_Time:   0\n",
       "    CDO:          Climate Data Operators version 1.5.6.1 (http://code.zmaw.de...\n",
       "    history:      Fri Apr 17 11:06:19 2015: ncatted -a axis,time,o,c,T Scaled...</pre>"
      ],
      "text/plain": [
       "<xarray.Dataset>\n",
       "Dimensions:  (lat: 45, lon: 72, time: 168)\n",
       "Coordinates:\n",
       "  * lon      (lon) int32 -180 -175 -170 -165 -160 -155 ... 155 160 165 170 175\n",
       "  * lat      (lat) float32 -88.0 -84.0 -80.0 -76.0 -72.0 ... 76.0 80.0 84.0 88.0\n",
       "  * time     (time) datetime64[ns] 2000-01-01 2000-02-01 ... 2013-12-01\n",
       "Data variables:\n",
       "    CO2      (time, lat, lon) float32 ...\n",
       "Attributes:\n",
       "    CDI:          Climate Data Interface version 1.5.6 (http://code.zmaw.de/p...\n",
       "    Conventions:  COARDS\n",
       "    Title:        COARDS/netCDF file created by BPCH2COARDS (GAMAP v2-03+)\n",
       "    Model:        GENERIC\n",
       "    Delta_Lon:    5.0\n",
       "    Delta_Lat:    4.0\n",
       "    NLayers:      1\n",
       "    Start_Date:   20000101\n",
       "    Start_Time:   0\n",
       "    End_Date:     20131201\n",
       "    End_Time:     0\n",
       "    Delta_Time:   0\n",
       "    CDO:          Climate Data Operators version 1.5.6.1 (http://code.zmaw.de...\n",
       "    history:      Fri Apr 17 11:06:19 2015: ncatted -a axis,time,o,c,T Scaled..."
      ]
     },
     "execution_count": 18,
     "metadata": {},
     "output_type": "execute_result"
    }
   ],
   "source": [
    "# Ocean exchange, recommended flux\n",
    "input_dir = '/geos/d21/GC_DATA/ExtData/HEMCO/CO2/v2015-04/OCEAN/'\n",
    "filename = 'Scaled_Ocean_CO2_monthly.nc'\n",
    "ds_ocean = xr.open_dataset(input_dir + filename)\n",
    "lat_res = ds_ocean.attrs['Delta_Lat']\n",
    "lon_res = ds_ocean.attrs['Delta_Lon']\n",
    "dr_ocean = ds_ocean[varname][156:168,:,:] # 2013 monthly\n",
    "ds_ocean"
   ]
  },
  {
   "cell_type": "code",
   "execution_count": 29,
   "metadata": {},
   "outputs": [
    {
     "name": "stdout",
     "output_type": "stream",
     "text": [
      "2000: -1.3604949018065455\n",
      "2001: -1.373082389410909\n",
      "2002: -1.4850918973440002\n",
      "2003: -1.6496765292916364\n",
      "2004: -1.7146515411316363\n",
      "2005: -1.8132595328465455\n",
      "2006: -1.91648759808\n",
      "2007: -1.9906707277265454\n",
      "2008: -2.0753863266676364\n",
      "2009: -2.0964272433338182\n",
      "2010: -2.2198890600261816\n",
      "2011: -2.2909221720436364\n",
      "2012: -2.3926688853643636\n",
      "2013: -2.6416136489890905\n"
     ]
    }
   ],
   "source": [
    "yearly_emi = []\n",
    "year_vector = np.arange(2000,2014,1)\n",
    "\n",
    "for iyear in range(1,15):\n",
    "    #print(iyear)\n",
    "    a = iyear*12\n",
    "    dr_ocean = ds_ocean[varname][(a-12):a,:,:]\n",
    "    \n",
    "    for ilat, lat in enumerate(dr_ocean.lat):\n",
    "        for imonth in range(12):\n",
    "            area_tmp = area_latlon(lat1 = lat, \n",
    "                                    lon1 = dr_ocean.lon[10].values, \n",
    "                                    lat2 = lat + lat_res, \n",
    "                                    lon2 = dr_ocean.lon[10].values + lon_res)\n",
    "            dr_ocean[imonth,ilat,:] = dr_ocean[imonth,ilat,:] * area_tmp * days_in_month[imonth] * 24 * 3600 *1e6  # unit: kgCO2/month\n",
    "    ocean_annual = dr_ocean.sum(dim = 'time')\n",
    "    total = dr_ocean.sum()       # kgCO2/year, same as data description\n",
    "    ann_total_ocean = total.values*1e-12*12/44  # GtC/yr\n",
    "    yearly_emi.append(ann_total_ocean)\n",
    "    print(str(year_vector[iyear-1]) + ': ' + str(ann_total_ocean))"
   ]
  },
  {
   "cell_type": "code",
   "execution_count": 46,
   "metadata": {},
   "outputs": [
    {
     "data": {
      "image/png": "[encoded data removed]",
      "text/plain": [
       "<Figure size 504x288 with 1 Axes>"
      ]
     },
     "metadata": {
      "image/png": {
       "height": 267,
       "width": 457
      },
      "needs_background": "light"
     },
     "output_type": "display_data"
    }
   ],
   "source": [
    "# plot of emission evolution for EU28, and future reduction plan\n",
    "\n",
    "fig = plt.figure(figsize=[7, 4])\n",
    "plt.title('Ocean exchange flux: scaled from Takahashi', loc='left')\n",
    "\n",
    "plt.plot(year_vector, yearly_emi, label = 'Scaled')\n",
    "\n",
    "plt.plot(2000, -1.373, marker=11, markersize=10)\n",
    "\n",
    "plt.annotate('Takahashi et al. 2009', # this is the text\n",
    "                 (2000,-1.373), # this is the point to label\n",
    "                 textcoords=\"offset points\", # how to position the text\n",
    "                 xytext=(0,-20), # distance from text to points (x,y)\n",
    "                 ha='left') # horizontal alignment can be left, right or center\n",
    "\n",
    "plt.ylabel('GtC/yr')\n",
    "plt.legend()\n",
    "\n",
    "output_dir = '/geos/u73/msadiq/GEOS-Chem/analysis/inversion/data'\n",
    "fig.savefig(output_dir + '/ocean_fluxes.png', dpi = 300)"
   ]
  },
  {
   "cell_type": "code",
   "execution_count": null,
   "metadata": {},
   "outputs": [],
   "source": [
    "# SIB seasonal cycles\n",
    "months = np.arange('2016-01', '2017-02', dtype='datetime64[M]')\n",
    "nh = []\n",
    "nm = []\n",
    "tr = [] \n",
    "sm = []  \n",
    "sh = []\n",
    "\n",
    "data = dr_liang.copy()\n",
    "\n",
    "for i in range(12):\n",
    "    nh.append(data.sel(lat = slice(60,90), time = slice(months[i], months[i+1])).sum() *1e-12*12/44)\n",
    "    nm.append(data.sel(lat = slice(30,60), time = slice(months[i], months[i+1])).sum() *1e-12*12/44)\n",
    "    tr.append(data.sel(lat = slice(-30,30), time = slice(months[i], months[i+1])).sum() *1e-12*12/44)\n",
    "    sm.append(data.sel(lat = slice(-60,-30), time = slice(months[i], months[i+1])).sum() *1e-12*12/44)\n",
    "    sh.append(data.sel(lat = slice(-90,-60), time = slice(months[i], months[i+1])).sum() *1e-12*12/44)\n",
    "\n",
    "casa_season = [nh,nm,tr,sm,sh]"
   ]
  },
  {
   "cell_type": "code",
   "execution_count": null,
   "metadata": {},
   "outputs": [],
   "source": [
    "# plot 2 seasonal cycles\n",
    "# plot all 4 fluxes together\n",
    "fig, axes = plt.subplots(1, 2, \n",
    "                         figsize=[14, 6], \n",
    "                         subplot_kw={'projection': ccrs.PlateCarree()},\n",
    "                         gridspec_kw={'hspace': 0.2, 'wspace': 0})\n",
    "# CASA\n",
    "format_total_liang = float(\"{0:.2f}\".format(ann_total_C_liang))\n",
    "gc_total_liang.plot(ax=axes[0],\n",
    "                    vmax = 3e9,\n",
    "                    add_labels = False,\n",
    "                    cbar_kwargs={'shrink': 0.5})\n",
    "axes[0].set_title('CASA 2016', loc='left')\n",
    "axes[0].set_title(str(format_total_liang) + ' GtC', loc = 'right')\n",
    "axes[0].coastlines()\n",
    "axes[0].gridlines(linestyle = '--')\n",
    "\n",
    "# SiB balanced ecosystem uptake\n",
    "format_total_sib = float(\"{0:.2f}\".format(ann_total_sib))\n",
    "gc_total_sib.plot(ax=axes[1],\n",
    "                  add_labels = False,     \n",
    "                  vmax = 3e8,\n",
    "                  label = 'kg/yr',\n",
    "                  cbar_kwargs={'shrink': 0.5})\n",
    "axes[1].set_title('SiB 2010', loc='left')\n",
    "axes[1].set_title(str(format_total_sib) + ' GtC', loc = 'right')\n",
    "axes[1].coastlines()\n",
    "axes[1].gridlines(linestyle = '--')\n",
    "\n",
    "fig.savefig(output_dir + '/casa_sib_annual.png', dpi = 300)"
   ]
  },
  {
   "cell_type": "code",
   "execution_count": null,
   "metadata": {},
   "outputs": [],
   "source": [
    "# plot 2 seasonal cycles\n",
    "fig, axes = plt.subplots(1, 2, figsize=[13, 4])\n",
    "\n",
    "for i in range(5):\n",
    "    axes[0].plot(range(1,13), casa_season[i], label = lab[i])\n",
    "axes[0].set_ylabel('GtC/month')\n",
    "axes[0].set_ylim(-0.4,0.4)\n",
    "axes[0].legend()\n",
    "axes[0].set_title('CASA 2016')\n",
    "\n",
    "for i in range(5):\n",
    "    axes[1].plot(range(1,13), sib_season[i], label = lab[i])\n",
    "axes[1].set_ylabel('GtC/month')\n",
    "axes[1].set_ylim(-2,2)\n",
    "axes[1].legend()\n",
    "axes[1].set_title('SiB 2010')\n",
    "\n",
    "fig.savefig(output_dir + '/casa_sib_seasonal.png', dpi = 300)"
   ]
  },
  {
   "cell_type": "code",
   "execution_count": null,
   "metadata": {},
   "outputs": [],
   "source": [
    "output.to_netcdf('/geos/u73/msadiq/GEOS-Chem/HEMCO/CO2/v2020-04/NEE.Liang.2016.nc')"
   ]
  },
  {
   "cell_type": "code",
   "execution_count": null,
   "metadata": {},
   "outputs": [],
   "source": []
  }
 ],
 "metadata": {
  "kernelspec": {
   "display_name": "Python 3",
   "language": "python",
   "name": "python3"
  },
  "language_info": {
   "codemirror_mode": {
    "name": "ipython",
    "version": 3
   },
   "file_extension": ".py",
   "mimetype": "text/x-python",
   "name": "python",
   "nbconvert_exporter": "python",
   "pygments_lexer": "ipython3",
   "version": "3.6.10"
  }
 },
 "nbformat": 4,
 "nbformat_minor": 2
}
