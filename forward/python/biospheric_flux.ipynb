{
 "cells": [
  {
   "cell_type": "code",
   "execution_count": 1,
   "metadata": {},
   "outputs": [],
   "source": [
    "# Explore biosphric fluxes\n",
    "# 1, net terrestrial exchange, from GEOS-Chem\n",
    "# 2, balanced ecosystem uptake (near neutral), from GEOS-Chem\n",
    "# 3, CASA 2016 ecosystem exchange, by Liang\n",
    "# 4, compare them, annual total and seasonality\n",
    "# 5, output CASA to match the format of GEOS-Chem"
   ]
  },
  {
   "cell_type": "code",
   "execution_count": 2,
   "metadata": {},
   "outputs": [],
   "source": [
    "%matplotlib inline\n",
    "%config InlineBackend.figure_format = \"retina\"\n",
    "\n",
    "from matplotlib import rcParams\n",
    "rcParams[\"savefig.dpi\"] = 300\n",
    "rcParams[\"font.size\"] = 12\n",
    "\n",
    "import warnings\n",
    "warnings.filterwarnings('ignore')"
   ]
  },
  {
   "cell_type": "code",
   "execution_count": 3,
   "metadata": {},
   "outputs": [],
   "source": [
    "import numpy as np\n",
    "import xarray as xr\n",
    "import matplotlib.pyplot as plt\n",
    "import cartopy.crs as ccrs\n",
    "from util.functions import area_latlon # grid area in km^2\n",
    "from util.gamap_colormap import WhGrYlRd"
   ]
  },
  {
   "cell_type": "code",
   "execution_count": 4,
   "metadata": {},
   "outputs": [],
   "source": [
    "# Terrestrial, GEOS-Chem default\n",
    "input_dir = '/geos/d21/GC_DATA/ExtData/HEMCO/'\n",
    "fname = 'CO2/v2015-04/BIO/Net_terrestrial_exch_5.29Pg.generic.1x1.nc'\n",
    "ds_ter  = xr.open_dataset(input_dir+fname)\n",
    "\n",
    "# year 2000, annual mean\n",
    "lat_res = ds_ter.attrs['Delta_Lat']\n",
    "lon_res = ds_ter.attrs['Delta_Lon']\n",
    "varname = 'CO2'\n",
    "unit    = ds_ter[varname].attrs['units']\n",
    "#ds_ter['CO2']"
   ]
  },
  {
   "cell_type": "code",
   "execution_count": 5,
   "metadata": {},
   "outputs": [],
   "source": [
    "dr_gc = ds_ter[varname][0,:,:].copy()"
   ]
  },
  {
   "cell_type": "code",
   "execution_count": 6,
   "metadata": {},
   "outputs": [
    {
     "name": "stdout",
     "output_type": "stream",
     "text": [
      "annual total from this calculation:\n",
      "  -5.269060654917819\n",
      " \n"
     ]
    }
   ],
   "source": [
    "# sum up global total\n",
    "for ilat, lat in enumerate(dr_gc.lat):\n",
    "    area_tmp = area_latlon(lat1 = lat, \n",
    "                            lon1 = dr_gc.lon[10].values, \n",
    "                            lat2 = lat + lat_res, \n",
    "                            lon2 = dr_gc.lon[10].values + lon_res)\n",
    "    dr_gc[ilat,:] = dr_gc[ilat,:] * area_tmp *3600*24*366*1e6 # unit: kgCO2/yr\n",
    "gc_total_original = dr_gc.copy() # plot later, kgCO2/yr/grid cell\n",
    "total = dr_gc.sum()              # kgCO2/year, same as data description\n",
    "ann_total = total.values         # kg/yr\n",
    "ann_total_C_original = total.values*1e-12*12/44  # GtC/yr\n",
    "    \n",
    "print('annual total from this calculation:')\n",
    "print(' ',ann_total_C_original)\n",
    "print(' ')"
   ]
  },
  {
   "cell_type": "code",
   "execution_count": 7,
   "metadata": {},
   "outputs": [],
   "source": [
    "#  CASA 3 hourly, by Liang\n",
    "input_dir = '/geos/u73/msadiq/GEOS-Chem/HEMCO/CO2/v2020-04/'\n",
    "fname     = 'NEE.3hrly.1x1.25.2016.nc'\n",
    "ds_liang  = xr.open_dataset(input_dir+fname)\n",
    "\n",
    "lat_res = 1.\n",
    "lon_res = 1.25\n",
    "varname = 'NEE'\n",
    "\n",
    "dr_liang = ds_liang[varname].copy()"
   ]
  },
  {
   "cell_type": "code",
   "execution_count": 8,
   "metadata": {},
   "outputs": [
    {
     "name": "stdout",
     "output_type": "stream",
     "text": [
      "annual total from this calculation:\n",
      "  -0.5014272916014545\n",
      " \n"
     ]
    }
   ],
   "source": [
    "for ilat, lat in enumerate(dr_liang.lat):\n",
    "    area_tmp = area_latlon(lat1 = lat, \n",
    "                           lon1 = dr_liang.lon[10].values, \n",
    "                           lat2 = lat + lat_res, \n",
    "                           lon2 = dr_liang.lon[10].values + lon_res)\n",
    "    dr_liang[:,ilat,:] = dr_liang[:,ilat,:]*area_tmp*3600*3*1e6 # unit: kgCO2/yr\n",
    "gc_total_liang = dr_liang.sum(dim = 't-3hr')   # plot later\n",
    "annual_total = gc_total_liang.sum()\n",
    "ann_total_C_liang = annual_total.values*1e-12*12/44  # GtC/yr\n",
    "\n",
    "print('annual total from this calculation:')\n",
    "print(' ', ann_total_C_liang)\n",
    "print(' ')"
   ]
  },
  {
   "cell_type": "code",
   "execution_count": 9,
   "metadata": {},
   "outputs": [],
   "source": [
    "# Biosphere, SiB3 balanced Net Ecosystem Production (NEP) CO2\n",
    "input_dir = '/geos/d21/GC_DATA/ExtData/HEMCO/'\n",
    "fname = 'CO2/v2015-04/BIO/SiB3_3hr_NEP.nc'\n",
    "ds_bio  = xr.open_dataset(input_dir+fname)\n",
    "# year range: 2006 - 2010, get 2010 for this calculation\n",
    "lat_res = ds_bio.attrs['Delta_Lat']\n",
    "lon_res = ds_bio.attrs['Delta_Lon']\n",
    "varname = 'CO2'\n",
    "unit    = ds_bio[varname].attrs['units']\n",
    "#ds_bio"
   ]
  },
  {
   "cell_type": "code",
   "execution_count": 10,
   "metadata": {},
   "outputs": [
    {
     "data": {
      "text/plain": [
       "(2920, 181, 288)"
      ]
     },
     "execution_count": 10,
     "metadata": {},
     "output_type": "execute_result"
    }
   ],
   "source": [
    "# selection a year of data\n",
    "begin = 4*8*365 + 8 # 2010, last year available\n",
    "end = 5*8*365 + 8\n",
    "data = ds_bio[varname][begin:end,:,:].copy()\n",
    "np.shape(data)"
   ]
  },
  {
   "cell_type": "code",
   "execution_count": 11,
   "metadata": {},
   "outputs": [
    {
     "name": "stdout",
     "output_type": "stream",
     "text": [
      "annual total from this calculation (GtC/yr):\n",
      "-0.060708582493090905\n"
     ]
    }
   ],
   "source": [
    "# calculate global total emission\n",
    "#area_lat = np.zeros(len(data.lat))\n",
    "for ilat, lat in enumerate(data.lat):\n",
    "    area_tmp = area_latlon(lat1 = lat, \n",
    "                            lon1 = data.lon[10].values, \n",
    "                            lat2 = lat + lat_res, \n",
    "                            lon2 = data.lon[10].values + lon_res)\n",
    "    #area_lat[ilat] = area_tmp.values\n",
    "    data[:,ilat,:] = data[:,ilat,:]*area_tmp*3*3600*1e6 # unit: kgCO2/3hours\n",
    "gc_total_sib = data.sum(dim = 'time')          # kgCO2/year, same as data description\n",
    "annual_total = gc_total_sib.sum()\n",
    "ann_total_sib = annual_total.values*1e-12*12/44 # GtC/yr\n",
    "#plt.plot(data.lat, area_lat)   \n",
    "print('annual total from this calculation (GtC/yr):')\n",
    "print(ann_total_sib)"
   ]
  },
  {
   "cell_type": "code",
   "execution_count": 12,
   "metadata": {},
   "outputs": [
    {
     "ename": "NameError",
     "evalue": "name 'output_dir' is not defined",
     "output_type": "error",
     "traceback": [
      "\u001b[0;31m---------------------------------------------------------------------------\u001b[0m",
      "\u001b[0;31mNameError\u001b[0m                                 Traceback (most recent call last)",
      "\u001b[0;32m<ipython-input-12-d7d18c5cac17>\u001b[0m in \u001b[0;36m<module>\u001b[0;34m\u001b[0m\n\u001b[1;32m     23\u001b[0m \u001b[0mplt\u001b[0m\u001b[0;34m.\u001b[0m\u001b[0mlegend\u001b[0m\u001b[0;34m(\u001b[0m\u001b[0;34m)\u001b[0m\u001b[0;34m\u001b[0m\u001b[0;34m\u001b[0m\u001b[0m\n\u001b[1;32m     24\u001b[0m \u001b[0;34m\u001b[0m\u001b[0m\n\u001b[0;32m---> 25\u001b[0;31m \u001b[0mfig\u001b[0m\u001b[0;34m.\u001b[0m\u001b[0msavefig\u001b[0m\u001b[0;34m(\u001b[0m\u001b[0moutput_dir\u001b[0m \u001b[0;34m+\u001b[0m \u001b[0;34m'/seasonal_sib.png'\u001b[0m\u001b[0;34m,\u001b[0m \u001b[0mdpi\u001b[0m \u001b[0;34m=\u001b[0m \u001b[0;36m300\u001b[0m\u001b[0;34m)\u001b[0m\u001b[0;34m\u001b[0m\u001b[0;34m\u001b[0m\u001b[0m\n\u001b[0m",
      "\u001b[0;31mNameError\u001b[0m: name 'output_dir' is not defined"
     ]
    },
    {
     "data": {
      "image/png": "[encoded data removed]",
      "text/plain": [
       "<Figure size 432x288 with 1 Axes>"
      ]
     },
     "metadata": {
      "image/png": {
       "height": 255,
       "width": 401
      },
      "needs_background": "light"
     },
     "output_type": "display_data"
    }
   ],
   "source": [
    "# SIB seasonal cycles\n",
    "months = np.arange('2010-01', '2011-02', dtype='datetime64[M]')\n",
    "nh = []\n",
    "nm = []\n",
    "tr = [] \n",
    "sm = []  \n",
    "sh = []\n",
    "\n",
    "for i in range(12):\n",
    "    nh.append(data.sel(lat = slice(60,90), time = slice(months[i], months[i+1])).sum() *1e-12*12/44)\n",
    "    nm.append(data.sel(lat = slice(30,60), time = slice(months[i], months[i+1])).sum() *1e-12*12/44)\n",
    "    tr.append(data.sel(lat = slice(-30,30), time = slice(months[i], months[i+1])).sum() *1e-12*12/44)\n",
    "    sm.append(data.sel(lat = slice(-60,-30), time = slice(months[i], months[i+1])).sum() *1e-12*12/44)\n",
    "    sh.append(data.sel(lat = slice(-90,-60), time = slice(months[i], months[i+1])).sum() *1e-12*12/44)\n",
    "\n",
    "sib_season = [nh,nm,tr,sm,sh]\n",
    "lab = ['N. high lat', 'N. mid lat', 'Tropics', 'S. mid lat', 'S. high lat']\n",
    "fig = plt.figure(figsize=[6, 4])\n",
    "for i in range(5):\n",
    "    plt.plot(range(1,13), sib_season[i], label = lab[i])\n",
    "plt.ylabel('GtC/month')\n",
    "plt.ylim(-2,2)\n",
    "plt.legend()\n",
    "\n",
    "fig.savefig(output_dir + '/seasonal_sib.png', dpi = 300)"
   ]
  },
  {
   "cell_type": "code",
   "execution_count": null,
   "metadata": {},
   "outputs": [],
   "source": [
    "# ODIAC\n",
    "input_dir = '/exports/csce/datastore/geos/users/msadiq/'\n",
    "lat_res = 1.\n",
    "lon_res = 1.\n",
    "varname1 = 'land'\n",
    "varname2 = 'intl_bunker'"
   ]
  },
  {
   "cell_type": "code",
   "execution_count": null,
   "metadata": {},
   "outputs": [],
   "source": [
    "ds_odiac = xr.open_dataset(input_dir+'odiac/odiac2019_1x1d_2016.nc')\n",
    "#ds_odiac['land']"
   ]
  },
  {
   "cell_type": "code",
   "execution_count": null,
   "metadata": {},
   "outputs": [],
   "source": [
    "\n",
    "dr_odiac = ds_odiac[varname1] + ds_odiac[varname2]\n",
    "days_in_month = [31,29,31,30,31,30,31,31,30,31,30,31]\n",
    "\n",
    "for ilat, lat in enumerate(dr_odiac.lat):\n",
    "    for imonth in range(12):\n",
    "        area_tmp = area_latlon(lat1 = lat, \n",
    "                                lon1 = dr_odiac.lon[10].values, \n",
    "                                lat2 = lat + lat_res, \n",
    "                                lon2 = dr_odiac.lon[10].values + lon_res)\n",
    "        dr_odiac[imonth,ilat,:] = dr_odiac[imonth,ilat,:] * area_tmp * days_in_month[imonth] *1e-3 # unit: kgCO2/month\n",
    "odiac_annual = dr_odiac.sum(dim = 'month')*1e6\n",
    "total = dr_odiac.sum()*1e6       # kgCO2/year, same as data description\n",
    "ann_total_odiac = total.values*1e-12  # GtC/yr\n",
    "    \n",
    "ann_total_odiac"
   ]
  },
  {
   "cell_type": "code",
   "execution_count": null,
   "metadata": {},
   "outputs": [],
   "source": [
    "# ocean exchange\n",
    "#filename = '/geos/u73/msadiq/GEOS-Chem/HEMCO/CO2/v2014-09/OCEAN/Taka2009_CO2_Annual.nc'\n",
    "filename = '/geos/u73/msadiq/GEOS-Chem/HEMCO/CO2/v2014-09/OCEAN/Taka2009_CO2_Monthly.nc'\n",
    "ds_ocean = xr.open_dataset(filename)\n",
    "lat_res = ds_ocean.attrs['Delta_Lat']\n",
    "lon_res = ds_ocean.attrs['Delta_Lon']\n",
    "varname = 'CO2'\n",
    "unit    = ds_ocean[varname].attrs['units']\n",
    "dr_ocean = ds_ocean[varname]\n",
    "ds_ocean"
   ]
  },
  {
   "cell_type": "code",
   "execution_count": null,
   "metadata": {},
   "outputs": [],
   "source": [
    "\n",
    "for ilat, lat in enumerate(dr_ocean.lat):\n",
    "    for imonth in range(12):\n",
    "        area_tmp = area_latlon(lat1 = lat, \n",
    "                                lon1 = dr_ocean.lon[10].values, \n",
    "                                lat2 = lat + lat_res, \n",
    "                                lon2 = dr_ocean.lon[10].values + lon_res)\n",
    "        dr_ocean[imonth,ilat,:] = dr_ocean[imonth,ilat,:] * area_tmp * days_in_month[imonth] * 24 * 3600 *1e6  # unit: kgCO2/month\n",
    "        #dr_ocean[0,ilat,:] = dr_ocean[0,ilat,:] * area_tmp * 24 *366 * 3600 *1e6  # unit: kgCO2/month\n",
    "ocean_annual = dr_ocean.sum(dim = 'time')\n",
    "total = dr_ocean.sum()       # kgCO2/year, same as data description\n",
    "ann_total_ocean = total.values*1e-12*12/44  # GtC/yr\n",
    "ann_total_ocean"
   ]
  },
  {
   "cell_type": "code",
   "execution_count": null,
   "metadata": {},
   "outputs": [],
   "source": [
    "# plot all 4 fluxes together\n",
    "fig, axes = plt.subplots(2, 2, \n",
    "                         figsize=[14, 6], \n",
    "                         subplot_kw={'projection': ccrs.PlateCarree()},\n",
    "                         gridspec_kw={'hspace': 0.2, 'wspace': 0})\n",
    "\n",
    "# net terrestrial flux\n",
    "format_total_odiac = float(\"{0:.2f}\".format(ann_total_odiac))\n",
    "odiac_annual.plot(ax=axes[0,0], \n",
    "                vmax = 3e9,\n",
    "                vmin = -3e9,\n",
    "                cmap = 'RdBu_r',\n",
    "                add_labels = False,\n",
    "                cbar_kwargs={'shrink': 1})\n",
    "axes[0,0].set_title('ODIAC fossil fuel 2016', loc='left')\n",
    "axes[0,0].set_title(' ', loc = 'center')\n",
    "axes[0,0].set_title(str(format_total_odiac) + ' GtC', loc = 'right')\n",
    "axes[0,0].coastlines()\n",
    "axes[0,0].gridlines(linestyle = '--')\n",
    "\n",
    "\n",
    "# net terrestrial flux\n",
    "format_total_original = float(\"{0:.2f}\".format(ann_total_C_original))\n",
    "gc_total_original.plot(ax=axes[0,1], \n",
    "                       vmax = 3e9,\n",
    "                       add_labels = False,\n",
    "                       cbar_kwargs={'shrink': 1})\n",
    "axes[0,1].set_title('Net terrestrial', loc='left')\n",
    "axes[0,1].set_title(' ', loc = 'center')\n",
    "axes[0,1].set_title(str(format_total_original) + ' GtC', loc = 'right')\n",
    "axes[0,1].coastlines()\n",
    "axes[0,1].gridlines(linestyle = '--')\n",
    "\n",
    "# Ocean, Takahashi, 2009\n",
    "format_total_ocean = float(\"{0:.2f}\".format(ann_total_ocean))\n",
    "ocean_annual.plot(ax=axes[1,0],\n",
    "                    vmax = 8e9,\n",
    "                    add_labels = False,\n",
    "                    cbar_kwargs={'shrink': 1})\n",
    "axes[1,0].set_title('Ocean exchange: Takahashi', loc='left')\n",
    "axes[1,0].set_title(str(format_total_ocean) + ' GtC', loc = 'right')\n",
    "axes[1,0].coastlines()\n",
    "axes[1,0].gridlines(linestyle = '--')\n",
    "\n",
    "# CASA\n",
    "format_total_liang = float(\"{0:.2f}\".format(ann_total_C_liang))\n",
    "gc_total_liang.plot(ax=axes[1,1],\n",
    "                    vmax = 3e9,\n",
    "                    add_labels = False,\n",
    "                    cbar_kwargs={'shrink': 1})\n",
    "axes[1,1].set_title('CASA 2016', loc='left')\n",
    "axes[1,1].set_title(str(format_total_liang) + ' GtC', loc = 'right')\n",
    "axes[1,1].coastlines()\n",
    "axes[1,1].gridlines(linestyle = '--')\n",
    "\n",
    "output_dir = '/geos/u73/msadiq/GEOS-Chem/analysis/inversion/data'\n",
    "fig.savefig(output_dir + '/co2_fluxes.png', dpi = 300)"
   ]
  },
  {
   "cell_type": "code",
   "execution_count": null,
   "metadata": {},
   "outputs": [],
   "source": [
    "# get time series from year 2008, and change it to 2016, both are leap years\n",
    "begin = 2*8*365 # 2008, leap year\n",
    "end   = 3*8*365 + 8\n",
    "# convert Liang's file format to match GEOS-Chem input\n",
    "time1 = ds_bio.time[begin:end].values[1]\n",
    "time2 = np.datetime64('2016-01-01T03:00:00.000000000')\n",
    "diff = time2 - time1\n",
    "time = ds_bio.time[begin:end].values + diff\n",
    "time # time dimension of output data"
   ]
  },
  {
   "cell_type": "code",
   "execution_count": null,
   "metadata": {},
   "outputs": [],
   "source": [
    "foo = xr.DataArray(0., coords=[time, data.lat, data.lon], dims=['time', 'lat', 'lon'])\n",
    "foo.values = ds_liang['NEE'].values\n",
    "output = foo.to_dataset(name = 'CO2')\n",
    "output['CO2'].attrs = ds_bio['CO2'].attrs\n",
    "output.attrs = ds_bio.attrs\n",
    "output.attrs['Start_Date'] = '20160101'\n",
    "output.attrs['End_Date'] = '20161231'\n",
    "output.attrs['history'] = 'Processed by Mehliyar Sadiq, Apr 2020'"
   ]
  },
  {
   "cell_type": "code",
   "execution_count": null,
   "metadata": {},
   "outputs": [],
   "source": [
    "dr_liang = output['CO2']\n",
    "lat_res = 1.\n",
    "lon_res = 1.25\n",
    "for ilat, lat in enumerate(dr_liang.lat):\n",
    "    area_tmp = area_latlon(lat1 = lat, \n",
    "                           lon1 = dr_liang.lon[10].values, \n",
    "                           lat2 = lat + lat_res, \n",
    "                           lon2 = dr_liang.lon[10].values + lon_res)\n",
    "    dr_liang[:,ilat,:] = dr_liang[:,ilat,:]*area_tmp*3600*3*1e6 # unit: kgCO2/yr\n",
    "gc_total_liang = dr_liang.sum(dim = 'time')   # plot later\n",
    "annual_total = gc_total_liang.sum()\n",
    "ann_total_C_liang = annual_total.values*1e-12*12/44  # GtC/yr\n",
    "\n",
    "print('annual total from this calculation:')\n",
    "print(' ', ann_total_C_liang)\n",
    "print(' ')"
   ]
  },
  {
   "cell_type": "code",
   "execution_count": null,
   "metadata": {},
   "outputs": [],
   "source": [
    "# SIB seasonal cycles\n",
    "months = np.arange('2016-01', '2017-02', dtype='datetime64[M]')\n",
    "nh = []\n",
    "nm = []\n",
    "tr = [] \n",
    "sm = []  \n",
    "sh = []\n",
    "\n",
    "data = dr_liang.copy()\n",
    "\n",
    "for i in range(12):\n",
    "    nh.append(data.sel(lat = slice(60,90), time = slice(months[i], months[i+1])).sum() *1e-12*12/44)\n",
    "    nm.append(data.sel(lat = slice(30,60), time = slice(months[i], months[i+1])).sum() *1e-12*12/44)\n",
    "    tr.append(data.sel(lat = slice(-30,30), time = slice(months[i], months[i+1])).sum() *1e-12*12/44)\n",
    "    sm.append(data.sel(lat = slice(-60,-30), time = slice(months[i], months[i+1])).sum() *1e-12*12/44)\n",
    "    sh.append(data.sel(lat = slice(-90,-60), time = slice(months[i], months[i+1])).sum() *1e-12*12/44)\n",
    "\n",
    "casa_season = [nh,nm,tr,sm,sh]"
   ]
  },
  {
   "cell_type": "code",
   "execution_count": null,
   "metadata": {},
   "outputs": [],
   "source": [
    "# plot 2 seasonal cycles\n",
    "# plot all 4 fluxes together\n",
    "fig, axes = plt.subplots(1, 2, \n",
    "                         figsize=[14, 6], \n",
    "                         subplot_kw={'projection': ccrs.PlateCarree()},\n",
    "                         gridspec_kw={'hspace': 0.2, 'wspace': 0})\n",
    "# CASA\n",
    "format_total_liang = float(\"{0:.2f}\".format(ann_total_C_liang))\n",
    "gc_total_liang.plot(ax=axes[0],\n",
    "                    vmax = 3e9,\n",
    "                    add_labels = False,\n",
    "                    cbar_kwargs={'shrink': 0.5})\n",
    "axes[0].set_title('CASA 2016', loc='left')\n",
    "axes[0].set_title(str(format_total_liang) + ' GtC', loc = 'right')\n",
    "axes[0].coastlines()\n",
    "axes[0].gridlines(linestyle = '--')\n",
    "\n",
    "# SiB balanced ecosystem uptake\n",
    "format_total_sib = float(\"{0:.2f}\".format(ann_total_sib))\n",
    "gc_total_sib.plot(ax=axes[1],\n",
    "                  add_labels = False,     \n",
    "                  vmax = 3e8,\n",
    "                  label = 'kg/yr',\n",
    "                  cbar_kwargs={'shrink': 0.5})\n",
    "axes[1].set_title('SiB 2010', loc='left')\n",
    "axes[1].set_title(str(format_total_sib) + ' GtC', loc = 'right')\n",
    "axes[1].coastlines()\n",
    "axes[1].gridlines(linestyle = '--')\n",
    "\n",
    "fig.savefig(output_dir + '/casa_sib_annual.png', dpi = 300)"
   ]
  },
  {
   "cell_type": "code",
   "execution_count": null,
   "metadata": {},
   "outputs": [],
   "source": [
    "# plot 2 seasonal cycles\n",
    "fig, axes = plt.subplots(1, 2, figsize=[13, 4])\n",
    "\n",
    "for i in range(5):\n",
    "    axes[0].plot(range(1,13), casa_season[i], label = lab[i])\n",
    "axes[0].set_ylabel('GtC/month')\n",
    "axes[0].set_ylim(-0.4,0.4)\n",
    "axes[0].legend()\n",
    "axes[0].set_title('CASA 2016')\n",
    "\n",
    "for i in range(5):\n",
    "    axes[1].plot(range(1,13), sib_season[i], label = lab[i])\n",
    "axes[1].set_ylabel('GtC/month')\n",
    "axes[1].set_ylim(-2,2)\n",
    "axes[1].legend()\n",
    "axes[1].set_title('SiB 2010')\n",
    "\n",
    "fig.savefig(output_dir + '/casa_sib_seasonal.png', dpi = 300)"
   ]
  },
  {
   "cell_type": "code",
   "execution_count": null,
   "metadata": {},
   "outputs": [],
   "source": [
    "output.to_netcdf('/geos/u73/msadiq/GEOS-Chem/HEMCO/CO2/v2020-04/NEE.Liang.2016.nc')"
   ]
  },
  {
   "cell_type": "code",
   "execution_count": null,
   "metadata": {},
   "outputs": [],
   "source": []
  }
 ],
 "metadata": {
  "kernelspec": {
   "display_name": "Python 3",
   "language": "python",
   "name": "python3"
  },
  "language_info": {
   "codemirror_mode": {
    "name": "ipython",
    "version": 3
   },
   "file_extension": ".py",
   "mimetype": "text/x-python",
   "name": "python",
   "nbconvert_exporter": "python",
   "pygments_lexer": "ipython3",
   "version": "3.6.10"
  }
 },
 "nbformat": 4,
 "nbformat_minor": 2
}
