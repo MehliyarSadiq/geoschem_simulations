{
 "cells": [
  {
   "cell_type": "code",
   "execution_count": 1,
   "metadata": {},
   "outputs": [],
   "source": [
    "# flatten 4d (lat, lon, date, level) output data to 2d (record, level)"
   ]
  },
  {
   "cell_type": "code",
   "execution_count": 2,
   "metadata": {},
   "outputs": [],
   "source": [
    "import numpy as np\n",
    "import xarray as xr\n",
    "import re"
   ]
  },
  {
   "cell_type": "code",
   "execution_count": 3,
   "metadata": {},
   "outputs": [],
   "source": [
    "# path of input and output files\n",
    "case_name = 'CO2-2018-01'\n",
    "name_nc_in = 'ts_satellite.201801.nc' # name of input file\n",
    "# range of days to process\n",
    "first_day = '2018-01-01'\n",
    "last_day_p1 = '2018-02-01'\n",
    "\n",
    "input_directory = '/geos/u73/msadiq/GEOS-Chem/rundirs/ensemble_runs/' + case_name + '/nd51/'\n",
    "output_directory = input_directory\n",
    "\n",
    "input_file = input_directory + name_nc_in\n",
    "\n",
    "# name of output netCDF file\n",
    "output_file = output_directory + '2d_' + name_nc_in"
   ]
  },
  {
   "cell_type": "code",
   "execution_count": 4,
   "metadata": {},
   "outputs": [],
   "source": [
    "ds = xr.open_dataset(input_file)\n",
    "ds = ds.squeeze('time') # remove unnecessay dimension\n",
    "ds = ds.drop('time')\n",
    "#ds\n",
    "#ds['SpeciesConc_CO2'][30,0,:,:].plot()"
   ]
  },
  {
   "cell_type": "code",
   "execution_count": 5,
   "metadata": {},
   "outputs": [
    {
     "data": {
      "text/html": [
       "<pre>&lt;xarray.Dataset&gt;\n",
       "Dimensions:               (date: 31, lat: 91, lev: 47, lon: 144)\n",
       "Coordinates:\n",
       "  * lev                   (lev) float64 0.9925 0.9775 ... 0.000127 2.763e-05\n",
       "  * lon                   (lon) float64 -180.0 -177.5 -175.0 ... 175.0 177.5\n",
       "  * lat                   (lat) float64 -89.5 -88.0 -86.0 ... 86.0 88.0 89.5\n",
       "  * date                  (date) datetime64[ns] 2018-01-01 ... 2018-01-31\n",
       "Data variables:\n",
       "    SpeciesConc_CO2oc     (date, lev, lat, lon) float32 ...\n",
       "    SpeciesConc_CO2bf     (date, lev, lat, lon) float32 ...\n",
       "    SpeciesConc_CO2ff     (date, lev, lat, lon) float32 ...\n",
       "    SpeciesConc_CO2       (date, lev, lat, lon) float32 ...\n",
       "    SpeciesConc_CO2Tag1   (date, lev, lat, lon) float32 ...\n",
       "    SpeciesConc_CO2Tag2   (date, lev, lat, lon) float32 ...\n",
       "    SpeciesConc_CO2Tag3   (date, lev, lat, lon) float32 ...\n",
       "    SpeciesConc_CO2Tag4   (date, lev, lat, lon) float32 ...\n",
       "    SpeciesConc_CO2Tag5   (date, lev, lat, lon) float32 ...\n",
       "    SpeciesConc_CO2Tag6   (date, lev, lat, lon) float32 ...\n",
       "    SpeciesConc_CO2Tag7   (date, lev, lat, lon) float32 ...\n",
       "    SpeciesConc_CO2Tag8   (date, lev, lat, lon) float32 ...\n",
       "    SpeciesConc_CO2Tag9   (date, lev, lat, lon) float32 ...\n",
       "    SpeciesConc_CO2Tag10  (date, lev, lat, lon) float32 ...\n",
       "    SpeciesConc_CO2Tag11  (date, lev, lat, lon) float32 ...\n",
       "    SpeciesConc_CO2Tag12  (date, lev, lat, lon) float32 ...\n",
       "    SpeciesConc_CO2Tag13  (date, lev, lat, lon) float32 ...\n",
       "    SpeciesConc_CO2Tag14  (date, lev, lat, lon) float32 ...\n",
       "    SpeciesConc_CO2Tag15  (date, lev, lat, lon) float32 ...\n",
       "    SpeciesConc_CO2Tag16  (date, lev, lat, lon) float32 ...\n",
       "    SpeciesConc_CO2Tag17  (date, lev, lat, lon) float32 ...\n",
       "    SpeciesConc_CO2Tag18  (date, lev, lat, lon) float32 ...\n",
       "    SpeciesConc_CO2Tag19  (date, lev, lat, lon) float32 ...\n",
       "    SpeciesConc_CO2Tag20  (date, lev, lat, lon) float32 ...\n",
       "    SpeciesConc_CO2Tag21  (date, lev, lat, lon) float32 ...\n",
       "    SpeciesConc_CO2Tag22  (date, lev, lat, lon) float32 ...\n",
       "    PEDGE_S_PSURF         (date, lev, lat, lon) float32 ...\n",
       "Attributes:\n",
       "    modelname:                 GEOSFP_47L\n",
       "    halfpolar:                 1\n",
       "    center180:                 1\n",
       "    res:                       [2.5 2. ]\n",
       "    Conventions:               CF1.6\n",
       "    source:                    /geos/u73/msadiq/GEOS-Chem/rundirs/ensemble_ru...\n",
       "    tracerinfo:                /geos/u73/msadiq/GEOS-Chem/rundirs/ensemble_ru...\n",
       "    diaginfo:                  /geos/u73/msadiq/GEOS-Chem/rundirs/ensemble_ru...\n",
       "    filetype:                  CTM bin 02\n",
       "    filetitle:                 GEOS-CHEM DIAG51 time series\n",
       "    history:                   Sat Mar  7 15:54:29 2020: ncecat ts_satellite....\n",
       "    title:                     Created by bpch2nc.py\n",
       "    conventions:               COARDS\n",
       "    references:                www.geos-chem.org; wiki.geos-chem.org\n",
       "    NCO:                       netCDF Operators version 4.7.5 (Homepage = htt...\n",
       "    nco_openmp_thread_number:  1</pre>"
      ],
      "text/plain": [
       "<xarray.Dataset>\n",
       "Dimensions:               (date: 31, lat: 91, lev: 47, lon: 144)\n",
       "Coordinates:\n",
       "  * lev                   (lev) float64 0.9925 0.9775 ... 0.000127 2.763e-05\n",
       "  * lon                   (lon) float64 -180.0 -177.5 -175.0 ... 175.0 177.5\n",
       "  * lat                   (lat) float64 -89.5 -88.0 -86.0 ... 86.0 88.0 89.5\n",
       "  * date                  (date) datetime64[ns] 2018-01-01 ... 2018-01-31\n",
       "Data variables:\n",
       "    SpeciesConc_CO2oc     (date, lev, lat, lon) float32 ...\n",
       "    SpeciesConc_CO2bf     (date, lev, lat, lon) float32 ...\n",
       "    SpeciesConc_CO2ff     (date, lev, lat, lon) float32 ...\n",
       "    SpeciesConc_CO2       (date, lev, lat, lon) float32 ...\n",
       "    SpeciesConc_CO2Tag1   (date, lev, lat, lon) float32 ...\n",
       "    SpeciesConc_CO2Tag2   (date, lev, lat, lon) float32 ...\n",
       "    SpeciesConc_CO2Tag3   (date, lev, lat, lon) float32 ...\n",
       "    SpeciesConc_CO2Tag4   (date, lev, lat, lon) float32 ...\n",
       "    SpeciesConc_CO2Tag5   (date, lev, lat, lon) float32 ...\n",
       "    SpeciesConc_CO2Tag6   (date, lev, lat, lon) float32 ...\n",
       "    SpeciesConc_CO2Tag7   (date, lev, lat, lon) float32 ...\n",
       "    SpeciesConc_CO2Tag8   (date, lev, lat, lon) float32 ...\n",
       "    SpeciesConc_CO2Tag9   (date, lev, lat, lon) float32 ...\n",
       "    SpeciesConc_CO2Tag10  (date, lev, lat, lon) float32 ...\n",
       "    SpeciesConc_CO2Tag11  (date, lev, lat, lon) float32 ...\n",
       "    SpeciesConc_CO2Tag12  (date, lev, lat, lon) float32 ...\n",
       "    SpeciesConc_CO2Tag13  (date, lev, lat, lon) float32 ...\n",
       "    SpeciesConc_CO2Tag14  (date, lev, lat, lon) float32 ...\n",
       "    SpeciesConc_CO2Tag15  (date, lev, lat, lon) float32 ...\n",
       "    SpeciesConc_CO2Tag16  (date, lev, lat, lon) float32 ...\n",
       "    SpeciesConc_CO2Tag17  (date, lev, lat, lon) float32 ...\n",
       "    SpeciesConc_CO2Tag18  (date, lev, lat, lon) float32 ...\n",
       "    SpeciesConc_CO2Tag19  (date, lev, lat, lon) float32 ...\n",
       "    SpeciesConc_CO2Tag20  (date, lev, lat, lon) float32 ...\n",
       "    SpeciesConc_CO2Tag21  (date, lev, lat, lon) float32 ...\n",
       "    SpeciesConc_CO2Tag22  (date, lev, lat, lon) float32 ...\n",
       "    PEDGE_S_PSURF         (date, lev, lat, lon) float32 ...\n",
       "Attributes:\n",
       "    modelname:                 GEOSFP_47L\n",
       "    halfpolar:                 1\n",
       "    center180:                 1\n",
       "    res:                       [2.5 2. ]\n",
       "    Conventions:               CF1.6\n",
       "    source:                    /geos/u73/msadiq/GEOS-Chem/rundirs/ensemble_ru...\n",
       "    tracerinfo:                /geos/u73/msadiq/GEOS-Chem/rundirs/ensemble_ru...\n",
       "    diaginfo:                  /geos/u73/msadiq/GEOS-Chem/rundirs/ensemble_ru...\n",
       "    filetype:                  CTM bin 02\n",
       "    filetitle:                 GEOS-CHEM DIAG51 time series\n",
       "    history:                   Sat Mar  7 15:54:29 2020: ncecat ts_satellite....\n",
       "    title:                     Created by bpch2nc.py\n",
       "    conventions:               COARDS\n",
       "    references:                www.geos-chem.org; wiki.geos-chem.org\n",
       "    NCO:                       netCDF Operators version 4.7.5 (Homepage = htt...\n",
       "    nco_openmp_thread_number:  1"
      ]
     },
     "execution_count": 5,
     "metadata": {},
     "output_type": "execute_result"
    }
   ],
   "source": [
    "days = np.arange(first_day, last_day_p1, dtype='datetime64[D]')\n",
    "ds.coords['record'] = days \n",
    "ds = ds.rename({'record':'date'}) # rename and add coordinates\n",
    "ds"
   ]
  },
  {
   "cell_type": "code",
   "execution_count": 6,
   "metadata": {},
   "outputs": [
    {
     "data": {
      "text/plain": [
       "['SpeciesConc_CO2oc',\n",
       " 'SpeciesConc_CO2bf',\n",
       " 'SpeciesConc_CO2ff',\n",
       " 'SpeciesConc_CO2',\n",
       " 'SpeciesConc_CO2Tag1',\n",
       " 'SpeciesConc_CO2Tag2',\n",
       " 'SpeciesConc_CO2Tag3',\n",
       " 'SpeciesConc_CO2Tag4',\n",
       " 'SpeciesConc_CO2Tag5',\n",
       " 'SpeciesConc_CO2Tag6',\n",
       " 'SpeciesConc_CO2Tag7',\n",
       " 'SpeciesConc_CO2Tag8',\n",
       " 'SpeciesConc_CO2Tag9',\n",
       " 'SpeciesConc_CO2Tag10',\n",
       " 'SpeciesConc_CO2Tag11',\n",
       " 'SpeciesConc_CO2Tag12',\n",
       " 'SpeciesConc_CO2Tag13',\n",
       " 'SpeciesConc_CO2Tag14',\n",
       " 'SpeciesConc_CO2Tag15',\n",
       " 'SpeciesConc_CO2Tag16',\n",
       " 'SpeciesConc_CO2Tag17',\n",
       " 'SpeciesConc_CO2Tag18',\n",
       " 'SpeciesConc_CO2Tag19',\n",
       " 'SpeciesConc_CO2Tag20',\n",
       " 'SpeciesConc_CO2Tag21',\n",
       " 'SpeciesConc_CO2Tag22',\n",
       " 'PEDGE_S_PSURF']"
      ]
     },
     "execution_count": 6,
     "metadata": {},
     "output_type": "execute_result"
    }
   ],
   "source": [
    "varnames = list(ds.data_vars.keys())  # Get a list of variable names. The expression is a bit cumbersome. Just copy and paste it for now.\n",
    "nvar = len(varnames)  # how many elements in the list?\n",
    "varnames[0:27]"
   ]
  },
  {
   "cell_type": "code",
   "execution_count": 7,
   "metadata": {},
   "outputs": [],
   "source": [
    "nm_lev = len(ds.coords['lev'])\n",
    "nm_lon = len(ds.coords['lon'])\n",
    "nm_lat = len(ds.coords['lat'])\n",
    "nm_days = len(ds.coords['date'])\n",
    "\n",
    "record = range(nm_lon * nm_lat * nm_days)"
   ]
  },
  {
   "cell_type": "code",
   "execution_count": 8,
   "metadata": {},
   "outputs": [],
   "source": [
    "foo = xr.DataArray(0, coords=[record, ds.coords['lev']], dims=['record', 'levels'])\n",
    "foo = foo.astype(dtype = 'float32')\n",
    "ds_output = foo.to_dataset(name = 'SpeciesConc_CO2')\n",
    "ds_output = ds_output.astype(dtype = 'float32')\n",
    "# dataset to store following dataarrays"
   ]
  },
  {
   "cell_type": "code",
   "execution_count": 9,
   "metadata": {},
   "outputs": [
    {
     "data": {
      "text/html": [
       "<div>\n",
       "<style scoped>\n",
       "    .dataframe tbody tr th:only-of-type {\n",
       "        vertical-align: middle;\n",
       "    }\n",
       "\n",
       "    .dataframe tbody tr th {\n",
       "        vertical-align: top;\n",
       "    }\n",
       "\n",
       "    .dataframe thead th {\n",
       "        text-align: right;\n",
       "    }\n",
       "</style>\n",
       "<table border=\"1\" class=\"dataframe\">\n",
       "  <thead>\n",
       "    <tr style=\"text-align: right;\">\n",
       "      <th></th>\n",
       "      <th>date</th>\n",
       "      <th>lat</th>\n",
       "      <th>lon</th>\n",
       "      <th>lev</th>\n",
       "      <th>SpeciesConc_CO2</th>\n",
       "    </tr>\n",
       "  </thead>\n",
       "  <tbody>\n",
       "    <tr>\n",
       "      <th>0</th>\n",
       "      <td>2018-01-01</td>\n",
       "      <td>-89.5</td>\n",
       "      <td>-180.0</td>\n",
       "      <td>0.9925</td>\n",
       "      <td>403691.09375</td>\n",
       "    </tr>\n",
       "    <tr>\n",
       "      <th>1</th>\n",
       "      <td>2018-01-01</td>\n",
       "      <td>-89.5</td>\n",
       "      <td>-177.5</td>\n",
       "      <td>0.9925</td>\n",
       "      <td>403693.28125</td>\n",
       "    </tr>\n",
       "    <tr>\n",
       "      <th>2</th>\n",
       "      <td>2018-01-01</td>\n",
       "      <td>-89.5</td>\n",
       "      <td>-175.0</td>\n",
       "      <td>0.9925</td>\n",
       "      <td>403695.84375</td>\n",
       "    </tr>\n",
       "    <tr>\n",
       "      <th>3</th>\n",
       "      <td>2018-01-01</td>\n",
       "      <td>-89.5</td>\n",
       "      <td>-172.5</td>\n",
       "      <td>0.9925</td>\n",
       "      <td>403697.71875</td>\n",
       "    </tr>\n",
       "    <tr>\n",
       "      <th>4</th>\n",
       "      <td>2018-01-01</td>\n",
       "      <td>-89.5</td>\n",
       "      <td>-170.0</td>\n",
       "      <td>0.9925</td>\n",
       "      <td>403699.93750</td>\n",
       "    </tr>\n",
       "    <tr>\n",
       "      <th>...</th>\n",
       "      <td>...</td>\n",
       "      <td>...</td>\n",
       "      <td>...</td>\n",
       "      <td>...</td>\n",
       "      <td>...</td>\n",
       "    </tr>\n",
       "    <tr>\n",
       "      <th>406219</th>\n",
       "      <td>2018-01-31</td>\n",
       "      <td>89.5</td>\n",
       "      <td>167.5</td>\n",
       "      <td>0.9925</td>\n",
       "      <td>415478.15625</td>\n",
       "    </tr>\n",
       "    <tr>\n",
       "      <th>406220</th>\n",
       "      <td>2018-01-31</td>\n",
       "      <td>89.5</td>\n",
       "      <td>170.0</td>\n",
       "      <td>0.9925</td>\n",
       "      <td>415486.71875</td>\n",
       "    </tr>\n",
       "    <tr>\n",
       "      <th>406221</th>\n",
       "      <td>2018-01-31</td>\n",
       "      <td>89.5</td>\n",
       "      <td>172.5</td>\n",
       "      <td>0.9925</td>\n",
       "      <td>415489.56250</td>\n",
       "    </tr>\n",
       "    <tr>\n",
       "      <th>406222</th>\n",
       "      <td>2018-01-31</td>\n",
       "      <td>89.5</td>\n",
       "      <td>175.0</td>\n",
       "      <td>0.9925</td>\n",
       "      <td>415495.28125</td>\n",
       "    </tr>\n",
       "    <tr>\n",
       "      <th>406223</th>\n",
       "      <td>2018-01-31</td>\n",
       "      <td>89.5</td>\n",
       "      <td>177.5</td>\n",
       "      <td>0.9925</td>\n",
       "      <td>415503.87500</td>\n",
       "    </tr>\n",
       "  </tbody>\n",
       "</table>\n",
       "<p>406224 rows × 5 columns</p>\n",
       "</div>"
      ],
      "text/plain": [
       "             date   lat    lon     lev  SpeciesConc_CO2\n",
       "0      2018-01-01 -89.5 -180.0  0.9925     403691.09375\n",
       "1      2018-01-01 -89.5 -177.5  0.9925     403693.28125\n",
       "2      2018-01-01 -89.5 -175.0  0.9925     403695.84375\n",
       "3      2018-01-01 -89.5 -172.5  0.9925     403697.71875\n",
       "4      2018-01-01 -89.5 -170.0  0.9925     403699.93750\n",
       "...           ...   ...    ...     ...              ...\n",
       "406219 2018-01-31  89.5  167.5  0.9925     415478.15625\n",
       "406220 2018-01-31  89.5  170.0  0.9925     415486.71875\n",
       "406221 2018-01-31  89.5  172.5  0.9925     415489.56250\n",
       "406222 2018-01-31  89.5  175.0  0.9925     415495.28125\n",
       "406223 2018-01-31  89.5  177.5  0.9925     415503.87500\n",
       "\n",
       "[406224 rows x 5 columns]"
      ]
     },
     "execution_count": 9,
     "metadata": {},
     "output_type": "execute_result"
    }
   ],
   "source": [
    "flat = ds['SpeciesConc_CO2'][:,0,:,:].to_dataframe() # flatten a variable at one level\n",
    "flat.reset_index(inplace=True) # get indices to prepare output coordinates\n",
    "flat"
   ]
  },
  {
   "cell_type": "code",
   "execution_count": 10,
   "metadata": {},
   "outputs": [
    {
     "data": {
      "text/html": [
       "<pre>&lt;xarray.Dataset&gt;\n",
       "Dimensions:          (levels: 47, record: 406224)\n",
       "Coordinates:\n",
       "  * record           (record) int64 0 1 2 3 4 ... 406220 406221 406222 406223\n",
       "  * levels           (levels) float64 0.9925 0.9775 ... 0.000127 2.763e-05\n",
       "Data variables:\n",
       "    SpeciesConc_CO2  (record, levels) float32 0.0 0.0 0.0 0.0 ... 0.0 0.0 0.0\n",
       "    lat              (record) float64 -89.5 -89.5 -89.5 -89.5 ... 89.5 89.5 89.5\n",
       "    lon              (record) float64 -180.0 -177.5 -175.0 ... 172.5 175.0 177.5\n",
       "    date             (record) datetime64[ns] 2018-01-01 ... 2018-01-31</pre>"
      ],
      "text/plain": [
       "<xarray.Dataset>\n",
       "Dimensions:          (levels: 47, record: 406224)\n",
       "Coordinates:\n",
       "  * record           (record) int64 0 1 2 3 4 ... 406220 406221 406222 406223\n",
       "  * levels           (levels) float64 0.9925 0.9775 ... 0.000127 2.763e-05\n",
       "Data variables:\n",
       "    SpeciesConc_CO2  (record, levels) float32 0.0 0.0 0.0 0.0 ... 0.0 0.0 0.0\n",
       "    lat              (record) float64 -89.5 -89.5 -89.5 -89.5 ... 89.5 89.5 89.5\n",
       "    lon              (record) float64 -180.0 -177.5 -175.0 ... 172.5 175.0 177.5\n",
       "    date             (record) datetime64[ns] 2018-01-01 ... 2018-01-31"
      ]
     },
     "execution_count": 10,
     "metadata": {},
     "output_type": "execute_result"
    }
   ],
   "source": [
    "lat = xr.DataArray(0, coords=[record], dims=['record'])\n",
    "lon = xr.DataArray(0, coords=[record], dims=['record'])\n",
    "date = xr.DataArray(0, coords=[record], dims=['record'])\n",
    "lat.values = flat['lat']\n",
    "lon.values = flat['lon']\n",
    "date.values = flat['date']\n",
    "ds_output['lat'] = lat\n",
    "ds_output['lon'] = lon\n",
    "ds_output['date'] = date\n",
    "ds_output"
   ]
  },
  {
   "cell_type": "code",
   "execution_count": 11,
   "metadata": {},
   "outputs": [
    {
     "name": "stdout",
     "output_type": "stream",
     "text": [
      "SpeciesConc_CO2oc done!\n",
      "SpeciesConc_CO2bf done!\n",
      "SpeciesConc_CO2ff done!\n",
      "SpeciesConc_CO2 done!\n",
      "SpeciesConc_CO2Tag1 done!\n",
      "SpeciesConc_CO2Tag2 done!\n",
      "SpeciesConc_CO2Tag3 done!\n",
      "SpeciesConc_CO2Tag4 done!\n",
      "SpeciesConc_CO2Tag5 done!\n",
      "SpeciesConc_CO2Tag6 done!\n",
      "SpeciesConc_CO2Tag7 done!\n",
      "SpeciesConc_CO2Tag8 done!\n",
      "SpeciesConc_CO2Tag9 done!\n",
      "SpeciesConc_CO2Tag10 done!\n",
      "SpeciesConc_CO2Tag11 done!\n",
      "SpeciesConc_CO2Tag12 done!\n",
      "SpeciesConc_CO2Tag13 done!\n",
      "SpeciesConc_CO2Tag14 done!\n",
      "SpeciesConc_CO2Tag15 done!\n",
      "SpeciesConc_CO2Tag16 done!\n",
      "SpeciesConc_CO2Tag17 done!\n",
      "SpeciesConc_CO2Tag18 done!\n",
      "SpeciesConc_CO2Tag19 done!\n",
      "SpeciesConc_CO2Tag20 done!\n",
      "SpeciesConc_CO2Tag21 done!\n",
      "SpeciesConc_CO2Tag22 done!\n",
      "PEDGE_S_PSURF done!\n"
     ]
    }
   ],
   "source": [
    "for ivar in varnames[0:27]:\n",
    "    for ilev in range(nm_lev):\n",
    "        flat = ds[ivar][:,ilev,:,:].to_dataframe() # flatten a variable at one level\n",
    "        foo[:,ilev] = flat[ivar] # store output to a dataarray\n",
    "    ds_output[ivar] = foo.copy() # store dataarray to dataset\n",
    "    print(ivar + ' done!')"
   ]
  },
  {
   "cell_type": "code",
   "execution_count": 12,
   "metadata": {
    "scrolled": true
   },
   "outputs": [],
   "source": [
    "#ds_output['SpeciesConc_CO2Tag15'][:,0].plot()"
   ]
  },
  {
   "cell_type": "code",
   "execution_count": 13,
   "metadata": {},
   "outputs": [
    {
     "data": {
      "text/plain": [
       "{'comment': '[CO2] unit: ppbv'}"
      ]
     },
     "execution_count": 13,
     "metadata": {},
     "output_type": "execute_result"
    }
   ],
   "source": [
    "#ds_output.SpeciesConc_CO2Tag10.plot()\n",
    "ds_output.attrs['comment'] = '[CO2] unit: ppbv'\n",
    "ds_output.attrs"
   ]
  },
  {
   "cell_type": "code",
   "execution_count": 14,
   "metadata": {},
   "outputs": [],
   "source": [
    "ds_output.to_netcdf(path=output_file)"
   ]
  },
  {
   "cell_type": "code",
   "execution_count": null,
   "metadata": {},
   "outputs": [],
   "source": []
  }
 ],
 "metadata": {
  "kernelspec": {
   "display_name": "Python 3",
   "language": "python",
   "name": "python3"
  },
  "language_info": {
   "codemirror_mode": {
    "name": "ipython",
    "version": 3
   },
   "file_extension": ".py",
   "mimetype": "text/x-python",
   "name": "python",
   "nbconvert_exporter": "python",
   "pygments_lexer": "ipython3",
   "version": "3.6.10"
  }
 },
 "nbformat": 4,
 "nbformat_minor": 4
}
