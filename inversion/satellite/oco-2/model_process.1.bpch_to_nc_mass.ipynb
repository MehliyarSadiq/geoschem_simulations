{
 "cells": [
  {
   "cell_type": "code",
   "execution_count": 1,
   "metadata": {},
   "outputs": [],
   "source": [
    "from bpch2nc import bpch_2_netcdf\n",
    "import numpy as np\n",
    "import xarray as xr\n",
    "import re"
   ]
  },
  {
   "cell_type": "code",
   "execution_count": 2,
   "metadata": {},
   "outputs": [],
   "source": [
    "case_name = 'CO2-2018'\n",
    "first_day   = '2018-02-01'\n",
    "last_day_p1 = '2018-03-01'"
   ]
  },
  {
   "cell_type": "code",
   "execution_count": 3,
   "metadata": {},
   "outputs": [],
   "source": [
    "# Name of Bpch file\n",
    "directory = '/geos/u73/msadiq/GEOS-Chem/rundirs/ensemble_runs/' + case_name + '/nd51/'\n",
    "\n",
    "name_bpch1 = 'ts_satellite.'\n",
    "tinfo_file = directory + 'tracerinfo.dat'\n",
    "dinfo_file = directory + 'diaginfo.dat'\n",
    "\n",
    "# Output\n",
    "output_directory = '/geos/u73/msadiq/GEOS-Chem/rundirs/ensemble_runs/' + case_name + '/nd51/'\n",
    "\n",
    "# Number of seconds in the diagnostic interval (assume 1-month)\n",
    "# does not matter for CO2\n",
    "interval = 86400.0 * 31.0"
   ]
  },
  {
   "cell_type": "code",
   "execution_count": 4,
   "metadata": {},
   "outputs": [
    {
     "name": "stdout",
     "output_type": "stream",
     "text": [
      "converting bpch to netcdf on day:  2018-02-01\n",
      "converting bpch to netcdf on day:  2018-02-02\n",
      "converting bpch to netcdf on day:  2018-02-03\n",
      "converting bpch to netcdf on day:  2018-02-04\n",
      "converting bpch to netcdf on day:  2018-02-05\n",
      "converting bpch to netcdf on day:  2018-02-06\n",
      "converting bpch to netcdf on day:  2018-02-07\n",
      "converting bpch to netcdf on day:  2018-02-08\n",
      "converting bpch to netcdf on day:  2018-02-09\n",
      "converting bpch to netcdf on day:  2018-02-10\n",
      "converting bpch to netcdf on day:  2018-02-11\n",
      "converting bpch to netcdf on day:  2018-02-12\n",
      "converting bpch to netcdf on day:  2018-02-13\n",
      "converting bpch to netcdf on day:  2018-02-14\n",
      "converting bpch to netcdf on day:  2018-02-15\n",
      "converting bpch to netcdf on day:  2018-02-16\n",
      "converting bpch to netcdf on day:  2018-02-17\n",
      "converting bpch to netcdf on day:  2018-02-18\n",
      "converting bpch to netcdf on day:  2018-02-19\n",
      "converting bpch to netcdf on day:  2018-02-20\n",
      "converting bpch to netcdf on day:  2018-02-21\n",
      "converting bpch to netcdf on day:  2018-02-22\n",
      "converting bpch to netcdf on day:  2018-02-23\n",
      "converting bpch to netcdf on day:  2018-02-24\n",
      "converting bpch to netcdf on day:  2018-02-25\n",
      "converting bpch to netcdf on day:  2018-02-26\n",
      "converting bpch to netcdf on day:  2018-02-27\n",
      "converting bpch to netcdf on day:  2018-02-28\n"
     ]
    }
   ],
   "source": [
    "days = np.arange(first_day, last_day_p1, dtype='datetime64[D]')\n",
    "\n",
    "for iday in np.arange(len(days)):\n",
    "    day_string = days[iday] # format not right for the following function\n",
    "    print('converting bpch to netcdf on day: ', day_string)\n",
    "    new_day_string = re.sub(\"[^0-9]\", \"\", str(day_string)) # strip off '-'s\n",
    "    \n",
    "    bpchfile = directory + name_bpch1 + new_day_string + '.bpch'\n",
    "    ncfile = output_directory + name_bpch1 + new_day_string + '.nc'\n",
    "    \n",
    "    bpch_2_netcdf(bpchfile=bpchfile, \n",
    "                  tinfo_file=tinfo_file, \n",
    "                  dinfo_file=dinfo_file, \n",
    "                  ncfile=ncfile)"
   ]
  },
  {
   "cell_type": "code",
   "execution_count": 5,
   "metadata": {},
   "outputs": [],
   "source": [
    "# prepare output data format\n",
    "new_day_string = re.sub(\"[^0-9]\", \"\", str(first_day)) # strip off '-'s\n",
    "first_file = xr.open_dataset(directory + name_bpch1 + new_day_string + '.nc')\n",
    "varnames = list(first_file.data_vars.keys())  # a list of variable names\n",
    "lon = first_file.lon\n",
    "lat = first_file.lat\n",
    "lev = first_file.lev\n",
    "time = days\n",
    "target = xr.DataArray(np.nan, coords=[time, lev, lat, lon], dims=['time', 'lev', 'lat', 'lon'])\n",
    "output = target.to_dataset(name = 'SpeciesConc_CO2')\n",
    "output.attrs = first_file.attrs\n",
    "for ivar in varnames: output[ivar] = target.copy()\n"
   ]
  },
  {
   "cell_type": "code",
   "execution_count": 6,
   "metadata": {},
   "outputs": [
    {
     "name": "stdout",
     "output_type": "stream",
     "text": [
      "2018-02-01\n",
      "2018-02-02\n",
      "2018-02-03\n",
      "2018-02-04\n",
      "2018-02-05\n",
      "2018-02-06\n",
      "2018-02-07\n",
      "2018-02-08\n",
      "2018-02-09\n",
      "2018-02-10\n",
      "2018-02-11\n",
      "2018-02-12\n",
      "2018-02-13\n",
      "2018-02-14\n",
      "2018-02-15\n",
      "2018-02-16\n",
      "2018-02-17\n",
      "2018-02-18\n",
      "2018-02-19\n",
      "2018-02-20\n",
      "2018-02-21\n",
      "2018-02-22\n",
      "2018-02-23\n",
      "2018-02-24\n",
      "2018-02-25\n",
      "2018-02-26\n",
      "2018-02-27\n",
      "2018-02-28\n"
     ]
    }
   ],
   "source": [
    "# combine the netcdf files into one, monthly\n",
    "for iday in np.arange(len(days)):\n",
    "    day_string = days[iday] #\n",
    "    print(day_string)\n",
    "    new_day_string = re.sub(\"[^0-9]\", \"\", str(day_string)) # strip off '-'s\n",
    "    ncfile = output_directory + name_bpch1 + new_day_string + '.nc'\n",
    "    \n",
    "    ds_tmp = xr.open_dataset(ncfile)\n",
    "    \n",
    "    for ivar in varnames:\n",
    "        output[ivar][iday,:,:,:] = ds_tmp[ivar][0,:,:,:].copy()\n",
    "        output[ivar].attrs = ds_tmp[ivar].attrs"
   ]
  },
  {
   "cell_type": "code",
   "execution_count": 7,
   "metadata": {},
   "outputs": [],
   "source": [
    "# output monthly combined data into a NetCDF file\n",
    "first_day_string = re.sub(\"[^0-9]\", \"\", str(first_day)) # strip off '-'s\n",
    "monthly_string = first_day_string[0:6]\n",
    "output.to_netcdf(output_directory + name_bpch1 + monthly_string + '.nc')"
   ]
  },
  {
   "cell_type": "code",
   "execution_count": 8,
   "metadata": {},
   "outputs": [
    {
     "data": {
      "text/html": [
       "<pre>&lt;xarray.DataArray &#x27;SpeciesConc_CO2&#x27; (time: 28, lev: 47, lat: 91, lon: 144)&gt;\n",
       "[17244864 values with dtype=float64]\n",
       "Coordinates:\n",
       "  * time     (time) datetime64[ns] 2018-02-01 2018-02-02 ... 2018-02-28\n",
       "  * lev      (lev) float64 0.9925 0.9775 0.9624 ... 0.0003988 0.000127 2.763e-05\n",
       "  * lat      (lat) float64 -89.5 -88.0 -86.0 -84.0 -82.0 ... 84.0 86.0 88.0 89.5\n",
       "  * lon      (lon) float64 -180.0 -177.5 -175.0 -172.5 ... 172.5 175.0 177.5\n",
       "Attributes:\n",
       "    units:      ppbv\n",
       "    long_name:  CO2 tracer</pre>"
      ],
      "text/plain": [
       "<xarray.DataArray 'SpeciesConc_CO2' (time: 28, lev: 47, lat: 91, lon: 144)>\n",
       "[17244864 values with dtype=float64]\n",
       "Coordinates:\n",
       "  * time     (time) datetime64[ns] 2018-02-01 2018-02-02 ... 2018-02-28\n",
       "  * lev      (lev) float64 0.9925 0.9775 0.9624 ... 0.0003988 0.000127 2.763e-05\n",
       "  * lat      (lat) float64 -89.5 -88.0 -86.0 -84.0 -82.0 ... 84.0 86.0 88.0 89.5\n",
       "  * lon      (lon) float64 -180.0 -177.5 -175.0 -172.5 ... 172.5 175.0 177.5\n",
       "Attributes:\n",
       "    units:      ppbv\n",
       "    long_name:  CO2 tracer"
      ]
     },
     "execution_count": 8,
     "metadata": {},
     "output_type": "execute_result"
    }
   ],
   "source": [
    "# flatten the 4d output\n",
    "ds = xr.open_dataset(output_directory + name_bpch1 + monthly_string + '.nc')\n",
    "ds['SpeciesConc_CO2']"
   ]
  },
  {
   "cell_type": "code",
   "execution_count": 9,
   "metadata": {},
   "outputs": [
    {
     "data": {
      "text/plain": [
       "range(0, 366912)"
      ]
     },
     "execution_count": 9,
     "metadata": {},
     "output_type": "execute_result"
    }
   ],
   "source": [
    "nm_lev = len(ds.lev)\n",
    "nm_lon = len(ds.lon)\n",
    "nm_lat = len(ds.lat)\n",
    "nm_days = len(ds.time)\n",
    "\n",
    "record = range(nm_lon * nm_lat * nm_days)\n",
    "record"
   ]
  },
  {
   "cell_type": "code",
   "execution_count": 10,
   "metadata": {},
   "outputs": [
    {
     "data": {
      "text/html": [
       "<pre>&lt;xarray.Dataset&gt;\n",
       "Dimensions:          (levels: 47, record: 366912)\n",
       "Coordinates:\n",
       "  * record           (record) int64 0 1 2 3 4 ... 366908 366909 366910 366911\n",
       "  * levels           (levels) float64 0.9925 0.9775 ... 0.000127 2.763e-05\n",
       "Data variables:\n",
       "    SpeciesConc_CO2  (record, levels) float64 nan nan nan nan ... nan nan nan\n",
       "    PEDGE_S_PSURF    (record, levels) float64 nan nan nan nan ... nan nan nan</pre>"
      ],
      "text/plain": [
       "<xarray.Dataset>\n",
       "Dimensions:          (levels: 47, record: 366912)\n",
       "Coordinates:\n",
       "  * record           (record) int64 0 1 2 3 4 ... 366908 366909 366910 366911\n",
       "  * levels           (levels) float64 0.9925 0.9775 ... 0.000127 2.763e-05\n",
       "Data variables:\n",
       "    SpeciesConc_CO2  (record, levels) float64 nan nan nan nan ... nan nan nan\n",
       "    PEDGE_S_PSURF    (record, levels) float64 nan nan nan nan ... nan nan nan"
      ]
     },
     "execution_count": 10,
     "metadata": {},
     "output_type": "execute_result"
    }
   ],
   "source": [
    "target = xr.DataArray(np.nan, coords=[record, ds.lev], dims=['record', 'levels'])\n",
    "ds_output = target.to_dataset(name = 'SpeciesConc_CO2')\n",
    "for ivar in varnames: ds_output[ivar] = target.copy()\n",
    "ds_output"
   ]
  },
  {
   "cell_type": "code",
   "execution_count": 11,
   "metadata": {},
   "outputs": [
    {
     "data": {
      "text/html": [
       "<div>\n",
       "<style scoped>\n",
       "    .dataframe tbody tr th:only-of-type {\n",
       "        vertical-align: middle;\n",
       "    }\n",
       "\n",
       "    .dataframe tbody tr th {\n",
       "        vertical-align: top;\n",
       "    }\n",
       "\n",
       "    .dataframe thead th {\n",
       "        text-align: right;\n",
       "    }\n",
       "</style>\n",
       "<table border=\"1\" class=\"dataframe\">\n",
       "  <thead>\n",
       "    <tr style=\"text-align: right;\">\n",
       "      <th></th>\n",
       "      <th>time</th>\n",
       "      <th>lat</th>\n",
       "      <th>lon</th>\n",
       "      <th>lev</th>\n",
       "      <th>SpeciesConc_CO2</th>\n",
       "    </tr>\n",
       "  </thead>\n",
       "  <tbody>\n",
       "    <tr>\n",
       "      <th>0</th>\n",
       "      <td>2018-02-01</td>\n",
       "      <td>-89.5</td>\n",
       "      <td>-180.0</td>\n",
       "      <td>0.9925</td>\n",
       "      <td>403494.09375</td>\n",
       "    </tr>\n",
       "    <tr>\n",
       "      <th>1</th>\n",
       "      <td>2018-02-01</td>\n",
       "      <td>-89.5</td>\n",
       "      <td>-177.5</td>\n",
       "      <td>0.9925</td>\n",
       "      <td>403491.37500</td>\n",
       "    </tr>\n",
       "    <tr>\n",
       "      <th>2</th>\n",
       "      <td>2018-02-01</td>\n",
       "      <td>-89.5</td>\n",
       "      <td>-175.0</td>\n",
       "      <td>0.9925</td>\n",
       "      <td>403488.28125</td>\n",
       "    </tr>\n",
       "    <tr>\n",
       "      <th>3</th>\n",
       "      <td>2018-02-01</td>\n",
       "      <td>-89.5</td>\n",
       "      <td>-172.5</td>\n",
       "      <td>0.9925</td>\n",
       "      <td>403486.00000</td>\n",
       "    </tr>\n",
       "    <tr>\n",
       "      <th>4</th>\n",
       "      <td>2018-02-01</td>\n",
       "      <td>-89.5</td>\n",
       "      <td>-170.0</td>\n",
       "      <td>0.9925</td>\n",
       "      <td>403483.34375</td>\n",
       "    </tr>\n",
       "    <tr>\n",
       "      <th>...</th>\n",
       "      <td>...</td>\n",
       "      <td>...</td>\n",
       "      <td>...</td>\n",
       "      <td>...</td>\n",
       "      <td>...</td>\n",
       "    </tr>\n",
       "    <tr>\n",
       "      <th>366907</th>\n",
       "      <td>2018-02-28</td>\n",
       "      <td>89.5</td>\n",
       "      <td>167.5</td>\n",
       "      <td>0.9925</td>\n",
       "      <td>415165.84375</td>\n",
       "    </tr>\n",
       "    <tr>\n",
       "      <th>366908</th>\n",
       "      <td>2018-02-28</td>\n",
       "      <td>89.5</td>\n",
       "      <td>170.0</td>\n",
       "      <td>0.9925</td>\n",
       "      <td>415163.09375</td>\n",
       "    </tr>\n",
       "    <tr>\n",
       "      <th>366909</th>\n",
       "      <td>2018-02-28</td>\n",
       "      <td>89.5</td>\n",
       "      <td>172.5</td>\n",
       "      <td>0.9925</td>\n",
       "      <td>415162.15625</td>\n",
       "    </tr>\n",
       "    <tr>\n",
       "      <th>366910</th>\n",
       "      <td>2018-02-28</td>\n",
       "      <td>89.5</td>\n",
       "      <td>175.0</td>\n",
       "      <td>0.9925</td>\n",
       "      <td>415160.28125</td>\n",
       "    </tr>\n",
       "    <tr>\n",
       "      <th>366911</th>\n",
       "      <td>2018-02-28</td>\n",
       "      <td>89.5</td>\n",
       "      <td>177.5</td>\n",
       "      <td>0.9925</td>\n",
       "      <td>415157.53125</td>\n",
       "    </tr>\n",
       "  </tbody>\n",
       "</table>\n",
       "<p>366912 rows × 5 columns</p>\n",
       "</div>"
      ],
      "text/plain": [
       "             time   lat    lon     lev  SpeciesConc_CO2\n",
       "0      2018-02-01 -89.5 -180.0  0.9925     403494.09375\n",
       "1      2018-02-01 -89.5 -177.5  0.9925     403491.37500\n",
       "2      2018-02-01 -89.5 -175.0  0.9925     403488.28125\n",
       "3      2018-02-01 -89.5 -172.5  0.9925     403486.00000\n",
       "4      2018-02-01 -89.5 -170.0  0.9925     403483.34375\n",
       "...           ...   ...    ...     ...              ...\n",
       "366907 2018-02-28  89.5  167.5  0.9925     415165.84375\n",
       "366908 2018-02-28  89.5  170.0  0.9925     415163.09375\n",
       "366909 2018-02-28  89.5  172.5  0.9925     415162.15625\n",
       "366910 2018-02-28  89.5  175.0  0.9925     415160.28125\n",
       "366911 2018-02-28  89.5  177.5  0.9925     415157.53125\n",
       "\n",
       "[366912 rows x 5 columns]"
      ]
     },
     "execution_count": 11,
     "metadata": {},
     "output_type": "execute_result"
    }
   ],
   "source": [
    "flat = ds['SpeciesConc_CO2'][:,0,:,:].to_dataframe() # flatten a variable at one level\n",
    "flat.reset_index(inplace=True) # get indices to prepare output coordinates\n",
    "flat"
   ]
  },
  {
   "cell_type": "code",
   "execution_count": 12,
   "metadata": {},
   "outputs": [
    {
     "data": {
      "text/html": [
       "<pre>&lt;xarray.Dataset&gt;\n",
       "Dimensions:          (levels: 47, record: 366912)\n",
       "Coordinates:\n",
       "  * record           (record) int64 0 1 2 3 4 ... 366908 366909 366910 366911\n",
       "  * levels           (levels) float64 0.9925 0.9775 ... 0.000127 2.763e-05\n",
       "Data variables:\n",
       "    SpeciesConc_CO2  (record, levels) float64 nan nan nan nan ... nan nan nan\n",
       "    PEDGE_S_PSURF    (record, levels) float64 nan nan nan nan ... nan nan nan\n",
       "    lat              (record) float64 -89.5 -89.5 -89.5 -89.5 ... 89.5 89.5 89.5\n",
       "    lon              (record) float64 -180.0 -177.5 -175.0 ... 172.5 175.0 177.5\n",
       "    date             (record) datetime64[ns] 2018-02-01 ... 2018-02-28</pre>"
      ],
      "text/plain": [
       "<xarray.Dataset>\n",
       "Dimensions:          (levels: 47, record: 366912)\n",
       "Coordinates:\n",
       "  * record           (record) int64 0 1 2 3 4 ... 366908 366909 366910 366911\n",
       "  * levels           (levels) float64 0.9925 0.9775 ... 0.000127 2.763e-05\n",
       "Data variables:\n",
       "    SpeciesConc_CO2  (record, levels) float64 nan nan nan nan ... nan nan nan\n",
       "    PEDGE_S_PSURF    (record, levels) float64 nan nan nan nan ... nan nan nan\n",
       "    lat              (record) float64 -89.5 -89.5 -89.5 -89.5 ... 89.5 89.5 89.5\n",
       "    lon              (record) float64 -180.0 -177.5 -175.0 ... 172.5 175.0 177.5\n",
       "    date             (record) datetime64[ns] 2018-02-01 ... 2018-02-28"
      ]
     },
     "execution_count": 12,
     "metadata": {},
     "output_type": "execute_result"
    }
   ],
   "source": [
    "lat = xr.DataArray(0, coords=[record], dims=['record'])\n",
    "lon = xr.DataArray(0, coords=[record], dims=['record'])\n",
    "date = xr.DataArray(0, coords=[record], dims=['record'])\n",
    "lat.values = flat['lat']\n",
    "lon.values = flat['lon']\n",
    "date.values = flat['time']\n",
    "ds_output['lat'] = lat\n",
    "ds_output['lon'] = lon\n",
    "ds_output['date'] = date\n",
    "ds_output"
   ]
  },
  {
   "cell_type": "code",
   "execution_count": 13,
   "metadata": {},
   "outputs": [
    {
     "name": "stdout",
     "output_type": "stream",
     "text": [
      "SpeciesConc_CO2 done!\n",
      "PEDGE_S_PSURF done!\n"
     ]
    }
   ],
   "source": [
    "for ivar in varnames:\n",
    "    target = xr.DataArray(np.nan, coords=[record, ds.lev], dims=['record', 'levels'])\n",
    "    for ilev in range(nm_lev):\n",
    "        flat = ds[ivar][:,ilev,:,:].to_dataframe() # flatten a variable at one level\n",
    "        target[:,ilev] = flat[ivar] # store output to a dataarray\n",
    "    ds_output[ivar] = target.copy() # store dataarray to dataset\n",
    "    print(ivar + ' done!')"
   ]
  },
  {
   "cell_type": "code",
   "execution_count": 14,
   "metadata": {},
   "outputs": [
    {
     "data": {
      "text/plain": [
       "array([     0,      1,      2, ..., 366909, 366910, 366911])"
      ]
     },
     "execution_count": 14,
     "metadata": {},
     "output_type": "execute_result"
    }
   ],
   "source": [
    "# \n",
    "ds_output.attrs['comment'] = '[CO2] unit: ppbv'\n",
    "ds_output.record.values"
   ]
  },
  {
   "cell_type": "code",
   "execution_count": 15,
   "metadata": {},
   "outputs": [
    {
     "name": "stdout",
     "output_type": "stream",
     "text": [
      "2d_ts_satellite.201802.nc\n"
     ]
    }
   ],
   "source": [
    "output_file = '2d_' + name_bpch1 + monthly_string + '.nc'\n",
    "ds_output.to_netcdf(output_directory + output_file)\n",
    "print(output_file)"
   ]
  },
  {
   "cell_type": "code",
   "execution_count": null,
   "metadata": {},
   "outputs": [],
   "source": []
  }
 ],
 "metadata": {
  "kernelspec": {
   "display_name": "Python 3",
   "language": "python",
   "name": "python3"
  },
  "language_info": {
   "codemirror_mode": {
    "name": "ipython",
    "version": 3
   },
   "file_extension": ".py",
   "mimetype": "text/x-python",
   "name": "python",
   "nbconvert_exporter": "python",
   "pygments_lexer": "ipython3",
   "version": "3.6.10"
  }
 },
 "nbformat": 4,
 "nbformat_minor": 4
}
