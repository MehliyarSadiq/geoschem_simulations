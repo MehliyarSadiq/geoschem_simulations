{
 "cells": [
  {
   "cell_type": "code",
   "execution_count": 6,
   "metadata": {},
   "outputs": [],
   "source": [
    "# use interpolated OCO2 average kernel, to calculate xco2 for all tagged species"
   ]
  },
  {
   "cell_type": "code",
   "execution_count": 7,
   "metadata": {},
   "outputs": [],
   "source": [
    "# to display plots in notebook\n",
    "%matplotlib inline\n",
    "%config InlineBackend.figure_format = \"retina\"\n",
    "\n",
    "from matplotlib import rcParams\n",
    "rcParams[\"savefig.dpi\"] = 300  # high res plots\n",
    "rcParams[\"font.size\"] = 12\n",
    "\n",
    "import warnings\n",
    "warnings.filterwarnings('ignore')"
   ]
  },
  {
   "cell_type": "code",
   "execution_count": 8,
   "metadata": {},
   "outputs": [],
   "source": [
    "import numpy as np\n",
    "import numpy.ma as ma\n",
    "import xarray as xr\n",
    "import pandas as pd\n",
    "import matplotlib.pyplot as plt\n",
    "import re"
   ]
  },
  {
   "cell_type": "code",
   "execution_count": 9,
   "metadata": {},
   "outputs": [],
   "source": [
    "case_name = 'CO2-2018-12'\n",
    "imonth    = 12\n",
    "name_month = 'Dec' # Jan, Feb, Mar\n",
    "mode       = 'N' # 'N': Nadir, 'NG': Glint"
   ]
  },
  {
   "cell_type": "code",
   "execution_count": 10,
   "metadata": {},
   "outputs": [],
   "source": [
    "input_dir = '/geos/u73/msadiq/GEOS-Chem/rundirs/ensemble_runs/' + case_name + '/nd51/'\n",
    "model_file_name = 'interpolated_2d_ts_satellite.2018' + str(imonth) + '.nc'  \n",
    "ds_model = xr.open_dataset(input_dir + model_file_name)\n",
    "\n",
    "mask_dir = '/geos/u73/msadiq/GEOS-Chem/analysis/inversion/data/'\n",
    "mask_name = 'flatten_mask.nc'\n",
    "ds_mask = xr.open_dataset(mask_dir + mask_name)\n",
    "\n",
    "output_directory = input_dir\n",
    "if mode == 'N':\n",
    "    output_file = output_directory + 'delta_y0_model_N_' + name_month + '.nc'\n",
    "else:\n",
    "    output_file = output_directory + 'delta_y0_model_' + name_month + '.nc'"
   ]
  },
  {
   "cell_type": "code",
   "execution_count": 11,
   "metadata": {},
   "outputs": [
    {
     "data": {
      "text/plain": [
       "['SpeciesConc_CO2Tag1',\n",
       " 'SpeciesConc_CO2Tag2',\n",
       " 'SpeciesConc_CO2Tag3',\n",
       " 'SpeciesConc_CO2Tag4',\n",
       " 'SpeciesConc_CO2Tag5',\n",
       " 'SpeciesConc_CO2Tag6',\n",
       " 'SpeciesConc_CO2Tag7',\n",
       " 'SpeciesConc_CO2Tag8',\n",
       " 'SpeciesConc_CO2Tag9',\n",
       " 'SpeciesConc_CO2Tag10',\n",
       " 'SpeciesConc_CO2Tag11',\n",
       " 'SpeciesConc_CO2Tag12',\n",
       " 'SpeciesConc_CO2Tag13',\n",
       " 'SpeciesConc_CO2Tag14',\n",
       " 'SpeciesConc_CO2Tag15',\n",
       " 'SpeciesConc_CO2Tag16',\n",
       " 'SpeciesConc_CO2Tag17',\n",
       " 'SpeciesConc_CO2Tag18',\n",
       " 'SpeciesConc_CO2Tag19',\n",
       " 'SpeciesConc_CO2Tag20',\n",
       " 'SpeciesConc_CO2Tag21',\n",
       " 'SpeciesConc_CO2Tag22']"
      ]
     },
     "execution_count": 11,
     "metadata": {},
     "output_type": "execute_result"
    }
   ],
   "source": [
    "varnames = list(ds_model.data_vars.keys())  # Get a list of variable names\n",
    "co2_var_names = [i for i in varnames if i.startswith('SpeciesConc_CO2Tag')] # species var names\n",
    "co2_var_names"
   ]
  },
  {
   "cell_type": "code",
   "execution_count": 13,
   "metadata": {},
   "outputs": [],
   "source": [
    "satellite_file_name = '/geos/u73/msadiq/satellite/oco-2/2d_OCO2_extract_2018'+ str(imonth) + '.nc'\n",
    "ds_satellite = xr.open_dataset(satellite_file_name)\n",
    "\n",
    "avg_kern = ds_satellite['xco2_averaging_kernel']\n",
    "co2_pr   = ds_satellite['co2_profile_apriori']\n",
    "pres_wgt = ds_satellite['pressure_weight']\n",
    "op_mode     = ds_satellite['operation_mode'] # 0=Nadir, 1=Glint\n",
    "mode_mask= (op_mode-1)*-1 # mask to mask out glint, 1=Nadir, 0=Glint\n",
    "#['operation_mode'][19000:20000].plot()"
   ]
  },
  {
   "cell_type": "code",
   "execution_count": 14,
   "metadata": {},
   "outputs": [
    {
     "data": {
      "text/html": [
       "<pre>&lt;xarray.Dataset&gt;\n",
       "Dimensions:  (record: 406224)\n",
       "Coordinates:\n",
       "  * record   (record) int64 0 1 2 3 4 5 ... 406219 406220 406221 406222 406223\n",
       "Data variables:\n",
       "    lat      (record) float64 ...\n",
       "    lon      (record) float64 ...\n",
       "    date     (record) datetime64[ns] ...</pre>"
      ],
      "text/plain": [
       "<xarray.Dataset>\n",
       "Dimensions:  (record: 406224)\n",
       "Coordinates:\n",
       "  * record   (record) int64 0 1 2 3 4 5 ... 406219 406220 406221 406222 406223\n",
       "Data variables:\n",
       "    lat      (record) float64 ...\n",
       "    lon      (record) float64 ...\n",
       "    date     (record) datetime64[ns] ..."
      ]
     },
     "execution_count": 14,
     "metadata": {},
     "output_type": "execute_result"
    }
   ],
   "source": [
    "# new dataset to store all model xco2\n",
    "lat = ds_model['lat']\n",
    "delta_y_model = lat.to_dataset()\n",
    "delta_y_model['lon'] = ds_model['lon']\n",
    "delta_y_model['date'] = ds_model['date']\n",
    "delta_y_model"
   ]
  },
  {
   "cell_type": "code",
   "execution_count": 15,
   "metadata": {},
   "outputs": [
    {
     "name": "stdout",
     "output_type": "stream",
     "text": [
      "X_SpeciesConc_CO2Tag1 done!\n",
      "X_SpeciesConc_CO2Tag2 done!\n",
      "X_SpeciesConc_CO2Tag3 done!\n",
      "X_SpeciesConc_CO2Tag4 done!\n",
      "X_SpeciesConc_CO2Tag5 done!\n",
      "X_SpeciesConc_CO2Tag6 done!\n",
      "X_SpeciesConc_CO2Tag7 done!\n",
      "X_SpeciesConc_CO2Tag8 done!\n",
      "X_SpeciesConc_CO2Tag9 done!\n",
      "X_SpeciesConc_CO2Tag10 done!\n",
      "X_SpeciesConc_CO2Tag11 done!\n",
      "X_SpeciesConc_CO2Tag12 done!\n",
      "X_SpeciesConc_CO2Tag13 done!\n",
      "X_SpeciesConc_CO2Tag14 done!\n",
      "X_SpeciesConc_CO2Tag15 done!\n",
      "X_SpeciesConc_CO2Tag16 done!\n",
      "X_SpeciesConc_CO2Tag17 done!\n",
      "X_SpeciesConc_CO2Tag18 done!\n",
      "X_SpeciesConc_CO2Tag19 done!\n",
      "X_SpeciesConc_CO2Tag20 done!\n",
      "X_SpeciesConc_CO2Tag21 done!\n",
      "X_SpeciesConc_CO2Tag22 done!\n"
     ]
    }
   ],
   "source": [
    "# loop over tag species to compute delta y0\n",
    "for ivar in co2_var_names:   \n",
    "    co2_model = ds_model[ivar]*1e-3 # unit: ppbv to ppm\n",
    "              \n",
    "    xco2_tmp = pres_wgt * (1 - avg_kern) * co2_pr + pres_wgt * avg_kern * co2_model\n",
    "    xco2 = xco2_tmp.sum(dim = 'levels') # sum along vertical axis, unit: ppm\n",
    "        \n",
    "    xco2_land = xco2 * ds_mask['land'][0:len(xco2)]  # exclude ocean\n",
    "    if mode == 'N':\n",
    "        xco2_mode = xco2_land * mode_mask                # select observation mode\n",
    "    else:\n",
    "        xco2_mode = xco2_land \n",
    "    \n",
    "    tmp_name = 'X_' + ivar\n",
    "    \n",
    "    delta_y_model[tmp_name] = xco2_mode.copy()\n",
    "    print(tmp_name + ' done!')"
   ]
  },
  {
   "cell_type": "code",
   "execution_count": 16,
   "metadata": {},
   "outputs": [
    {
     "data": {
      "text/plain": [
       "[<matplotlib.lines.Line2D at 0x2b802a6c1be0>]"
      ]
     },
     "execution_count": 16,
     "metadata": {},
     "output_type": "execute_result"
    },
    {
     "data": {
      "image/png": "[encoded data removed]",
      "text/plain": [
       "<Figure size 432x288 with 1 Axes>"
      ]
     },
     "metadata": {
      "image/png": {
       "height": 269,
       "width": 388
      },
      "needs_background": "light"
     },
     "output_type": "display_data"
    }
   ],
   "source": [
    "diff = delta_y_model['X_SpeciesConc_CO2Tag11'] - delta_y_model['X_SpeciesConc_CO2Tag2']\n",
    "diff.plot()"
   ]
  },
  {
   "cell_type": "code",
   "execution_count": null,
   "metadata": {},
   "outputs": [],
   "source": [
    "delta_y_model"
   ]
  },
  {
   "cell_type": "code",
   "execution_count": null,
   "metadata": {},
   "outputs": [],
   "source": [
    "delta_y_model.to_netcdf(output_file)"
   ]
  },
  {
   "cell_type": "code",
   "execution_count": null,
   "metadata": {},
   "outputs": [],
   "source": []
  }
 ],
 "metadata": {
  "kernelspec": {
   "display_name": "Python 3",
   "language": "python",
   "name": "python3"
  },
  "language_info": {
   "codemirror_mode": {
    "name": "ipython",
    "version": 3
   },
   "file_extension": ".py",
   "mimetype": "text/x-python",
   "name": "python",
   "nbconvert_exporter": "python",
   "pygments_lexer": "ipython3",
   "version": "3.6.10"
  }
 },
 "nbformat": 4,
 "nbformat_minor": 4
}
