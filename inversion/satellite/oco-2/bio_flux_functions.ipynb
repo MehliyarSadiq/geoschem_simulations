{
 "cells": [
  {
   "cell_type": "code",
   "execution_count": 1,
   "metadata": {},
   "outputs": [],
   "source": [
    "# functions to calculation bio fluxes"
   ]
  },
  {
   "cell_type": "code",
   "execution_count": 56,
   "metadata": {},
   "outputs": [],
   "source": [
    "#convert kg/m2/s to kg/3hours\n",
    "# TODO: make it more general, take input temporal resolution in hours???\n",
    "def unit_convert_tmp(dr, res_lat, res_lon):\n",
    "    # use grid area function\n",
    "    for ilat, lat in enumerate(dr.lat.values):\n",
    "        area = 1e6 * area_latlon(lat1 = lat, lat2 = lat + res_lat,\n",
    "                                 lon1 = 10, lon2 = 10 + res_lon) # m^2, longitude doesn't matter\n",
    "        dr[:,ilat,:] = dr[:,ilat,:] * area * (3600*3) # kg/3hours\n",
    "    return dr"
   ]
  },
  {
   "cell_type": "code",
   "execution_count": null,
   "metadata": {},
   "outputs": [],
   "source": [
    "def monthly_bio(fname): \n",
    "    ds_original = xr.open_dataset(fname)\n",
    "\n",
    "    dr_unit = ds_original['CO2'].copy()\n",
    "    dr_output = unit_convert_tmp(dr_unit, 1., 1.25) # unit converted to kg/3hours per grid cell\n",
    "\n",
    "    # compute regional total\n",
    "    data = ds_original['CO2'].copy()\n",
    "    # create masks for this resolution\n",
    "    dr_mask = data[0,:,:]\n",
    "    # create masks for input file\n",
    "    mask = create_masks(input_file=dr_mask, \n",
    "                        input_file_type='dataarray', \n",
    "                        var_name='', \n",
    "                        mask_type='giorgi', \n",
    "                        output_format='xarray', \n",
    "                        output_path='/geos/u73/msadiq/GEOS-Chem/MASKS/nc/giorgi/', \n",
    "                        figure_flag = False, \n",
    "                        figure_path='/home/msadiq/Desktop/co2/data/emission/MASKS/figures/')\n",
    "    # split a mask into separate dataarrays (one dataset), with 1s and 0s\n",
    "    ds_mask_splits = split_mask(input_mask = mask)\n",
    "\n",
    "    # sum up monthly from 3 hourly data\n",
    "    dr_monthly = ds_original['CO2'][:12,:,:].copy()\n",
    "    dr_monthly[:,:,:] = 0.\n",
    "    # fix time dimension\n",
    "    months = np.arange('2016-01', '2017-02', dtype='datetime64[M]')\n",
    "    dr_monthly['time'] = months[:12]\n",
    "\n",
    "    for i in range(12):\n",
    "        before = dr_output.sel(time = slice(months[i], months[i+1]))\n",
    "        dr_monthly[i,:,:] = before.sum(axis=0) # unit: kgCO2/month\n",
    "    \n",
    "    return dr_monthly\n"
   ]
  },
  {
   "cell_type": "code",
   "execution_count": 57,
   "metadata": {},
   "outputs": [],
   "source": [
    "def regional_monthly_bio(fname): \n",
    "    ds_original = xr.open_dataset(fname)\n",
    "\n",
    "    dr_unit = ds_original['CO2'].copy()\n",
    "    dr_output = unit_convert_tmp(dr_unit, 1., 1.25) # unit converted to kg/3hours per grid cell\n",
    "\n",
    "    # compute regional total\n",
    "    data = ds_original['CO2'].copy()\n",
    "    # create masks for this resolution\n",
    "    dr_mask = data[0,:,:]\n",
    "    # create masks for input file\n",
    "    mask = create_masks(input_file=dr_mask, \n",
    "                        input_file_type='dataarray', \n",
    "                        var_name='', \n",
    "                        mask_type='giorgi', \n",
    "                        output_format='xarray', \n",
    "                        output_path='/geos/u73/msadiq/GEOS-Chem/MASKS/nc/giorgi/', \n",
    "                        figure_flag = False, \n",
    "                        figure_path='/home/msadiq/Desktop/co2/data/emission/MASKS/figures/')\n",
    "    # split a mask into separate dataarrays (one dataset), with 1s and 0s\n",
    "    ds_mask_splits = split_mask(input_mask = mask)\n",
    "\n",
    "    # sum up monthly from 3 hourly data\n",
    "    dr_monthly = ds_original['CO2'][:12,:,:].copy()\n",
    "    dr_monthly[:,:,:] = 0.\n",
    "    # fix time dimension\n",
    "    months = np.arange('2016-01', '2017-02', dtype='datetime64[M]')\n",
    "    dr_monthly['time'] = months[:12]\n",
    "\n",
    "    for i in range(12):\n",
    "        before = dr_output.sel(time = slice(months[i], months[i+1]))\n",
    "        dr_monthly[i,:,:] = before.sum(axis=0) # unit: kgCO2/month\n",
    "    \n",
    "    # monthly regional total flux\n",
    "    nx = 22\n",
    "    monthly_bio_flux = np.zeros((12,nx))\n",
    "\n",
    "    for i in range(12):\n",
    "        for j in range(nx):\n",
    "            mask_name = 'MASK' + str(j+1)\n",
    "            tmp = dr_monthly[i,:,:] * ds_mask_splits[mask_name]\n",
    "            monthly_bio_flux[i,j] = tmp.sum().values*1e-12*12/44 # unit: PgC/month\n",
    "\n",
    "    print('Biospheric annual flux (PgC/year): ', np.sum(monthly_bio_flux))\n",
    "    return monthly_bio_flux\n"
   ]
  }
 ],
 "metadata": {
  "kernelspec": {
   "display_name": "Python 3",
   "language": "python",
   "name": "python3"
  },
  "language_info": {
   "codemirror_mode": {
    "name": "ipython",
    "version": 3
   },
   "file_extension": ".py",
   "mimetype": "text/x-python",
   "name": "python",
   "nbconvert_exporter": "python",
   "pygments_lexer": "ipython3",
   "version": "3.6.10"
  }
 },
 "nbformat": 4,
 "nbformat_minor": 4
}
