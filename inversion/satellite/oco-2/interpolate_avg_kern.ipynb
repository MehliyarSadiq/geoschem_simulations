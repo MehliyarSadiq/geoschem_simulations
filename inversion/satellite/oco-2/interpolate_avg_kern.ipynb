{
 "cells": [
  {
   "cell_type": "code",
   "execution_count": 23,
   "metadata": {},
   "outputs": [],
   "source": [
    "# interpolate averaging kernel: from OCO2 20 levels to GEOS-Chem 47 levels"
   ]
  },
  {
   "cell_type": "code",
   "execution_count": 24,
   "metadata": {},
   "outputs": [],
   "source": [
    "import numpy as np\n",
    "import xarray as xr\n",
    "import matplotlib.pyplot as plt\n",
    "import re"
   ]
  },
  {
   "cell_type": "code",
   "execution_count": 25,
   "metadata": {},
   "outputs": [],
   "source": [
    "# Name of input Netcdf file\n",
    "input_directory = '/geos/u73/msadiq/GEOS-Chem/analysis/python/data/'\n",
    "model_file_name = '2d_ts_Mar.nc' # model output: March emitting case\n",
    "oco2_file_name = '2d_OCO2_extract.nc'\n",
    "output_directory = input_directory\n",
    "# Name of output netCDF file\n",
    "output_file = output_directory + 'interpolated_avg_kern.nc'"
   ]
  },
  {
   "cell_type": "code",
   "execution_count": 26,
   "metadata": {},
   "outputs": [
    {
     "data": {
      "text/html": [
       "<pre>&lt;xarray.Dataset&gt;\n",
       "Dimensions:                (levels: 20, record: 406224)\n",
       "Coordinates:\n",
       "  * record                 (record) int64 0 1 2 3 ... 406221 406222 406223\n",
       "  * levels                 (levels) float32 1e-04 0.05263158 ... 0.94736844 1.0\n",
       "Data variables:\n",
       "    xco2                   (record) float32 ...\n",
       "    lat                    (record) float64 ...\n",
       "    lon                    (record) float64 ...\n",
       "    date                   (record) datetime64[ns] ...\n",
       "    xco2_averaging_kernel  (record, levels) float32 ...\n",
       "    psurf                  (record) float32 ...\n",
       "    pressure               (record, levels) float32 ...\n",
       "Attributes:\n",
       "    comment:  flattened from 4d NetCDF file, after extracted from OCO2</pre>"
      ],
      "text/plain": [
       "<xarray.Dataset>\n",
       "Dimensions:                (levels: 20, record: 406224)\n",
       "Coordinates:\n",
       "  * record                 (record) int64 0 1 2 3 ... 406221 406222 406223\n",
       "  * levels                 (levels) float32 1e-04 0.05263158 ... 0.94736844 1.0\n",
       "Data variables:\n",
       "    xco2                   (record) float32 ...\n",
       "    lat                    (record) float64 ...\n",
       "    lon                    (record) float64 ...\n",
       "    date                   (record) datetime64[ns] ...\n",
       "    xco2_averaging_kernel  (record, levels) float32 ...\n",
       "    psurf                  (record) float32 ...\n",
       "    pressure               (record, levels) float32 ...\n",
       "Attributes:\n",
       "    comment:  flattened from 4d NetCDF file, after extracted from OCO2"
      ]
     },
     "execution_count": 26,
     "metadata": {},
     "output_type": "execute_result"
    }
   ],
   "source": [
    "ds_satellite = xr.open_dataset(input_directory + oco2_file_name)\n",
    "ds_satellite"
   ]
  },
  {
   "cell_type": "code",
   "execution_count": 27,
   "metadata": {},
   "outputs": [
    {
     "data": {
      "text/html": [
       "<pre>&lt;xarray.Dataset&gt;\n",
       "Dimensions:               (levels: 47, record: 406224)\n",
       "Coordinates:\n",
       "  * record                (record) int64 0 1 2 3 ... 406220 406221 406222 406223\n",
       "  * levels                (levels) float64 0.9925 0.9775 ... 0.000127 2.763e-05\n",
       "Data variables:\n",
       "    SpeciesConc_CO2       (record, levels) float32 ...\n",
       "    lat                   (record) float64 ...\n",
       "    lon                   (record) float64 ...\n",
       "    date                  (record) datetime64[ns] ...\n",
       "    SpeciesConc_CO2oc     (record, levels) float32 ...\n",
       "    SpeciesConc_CO2bf     (record, levels) float32 ...\n",
       "    SpeciesConc_CO2ff     (record, levels) float32 ...\n",
       "    SpeciesConc_CO2Tag1   (record, levels) float32 ...\n",
       "    SpeciesConc_CO2Tag2   (record, levels) float32 ...\n",
       "    SpeciesConc_CO2Tag3   (record, levels) float32 ...\n",
       "    SpeciesConc_CO2Tag4   (record, levels) float32 ...\n",
       "    SpeciesConc_CO2Tag5   (record, levels) float32 ...\n",
       "    SpeciesConc_CO2Tag6   (record, levels) float32 ...\n",
       "    SpeciesConc_CO2Tag7   (record, levels) float32 ...\n",
       "    SpeciesConc_CO2Tag8   (record, levels) float32 ...\n",
       "    SpeciesConc_CO2Tag9   (record, levels) float32 ...\n",
       "    SpeciesConc_CO2Tag10  (record, levels) float32 ...\n",
       "    SpeciesConc_CO2Tag11  (record, levels) float32 ...\n",
       "    SpeciesConc_CO2Tag12  (record, levels) float32 ...\n",
       "    SpeciesConc_CO2Tag13  (record, levels) float32 ...\n",
       "    SpeciesConc_CO2Tag14  (record, levels) float32 ...\n",
       "    SpeciesConc_CO2Tag15  (record, levels) float32 ...\n",
       "    SpeciesConc_CO2Tag16  (record, levels) float32 ...\n",
       "    SpeciesConc_CO2Tag17  (record, levels) float32 ...\n",
       "    SpeciesConc_CO2Tag18  (record, levels) float32 ...\n",
       "    SpeciesConc_CO2Tag19  (record, levels) float32 ...\n",
       "    SpeciesConc_CO2Tag20  (record, levels) float32 ...\n",
       "    SpeciesConc_CO2Tag21  (record, levels) float32 ...\n",
       "    SpeciesConc_CO2Tag22  (record, levels) float32 ...\n",
       "    PEDGE_S_PSURF         (record, levels) float32 ...\n",
       "Attributes:\n",
       "    comment:  [CO2] unit: ppbv</pre>"
      ],
      "text/plain": [
       "<xarray.Dataset>\n",
       "Dimensions:               (levels: 47, record: 406224)\n",
       "Coordinates:\n",
       "  * record                (record) int64 0 1 2 3 ... 406220 406221 406222 406223\n",
       "  * levels                (levels) float64 0.9925 0.9775 ... 0.000127 2.763e-05\n",
       "Data variables:\n",
       "    SpeciesConc_CO2       (record, levels) float32 ...\n",
       "    lat                   (record) float64 ...\n",
       "    lon                   (record) float64 ...\n",
       "    date                  (record) datetime64[ns] ...\n",
       "    SpeciesConc_CO2oc     (record, levels) float32 ...\n",
       "    SpeciesConc_CO2bf     (record, levels) float32 ...\n",
       "    SpeciesConc_CO2ff     (record, levels) float32 ...\n",
       "    SpeciesConc_CO2Tag1   (record, levels) float32 ...\n",
       "    SpeciesConc_CO2Tag2   (record, levels) float32 ...\n",
       "    SpeciesConc_CO2Tag3   (record, levels) float32 ...\n",
       "    SpeciesConc_CO2Tag4   (record, levels) float32 ...\n",
       "    SpeciesConc_CO2Tag5   (record, levels) float32 ...\n",
       "    SpeciesConc_CO2Tag6   (record, levels) float32 ...\n",
       "    SpeciesConc_CO2Tag7   (record, levels) float32 ...\n",
       "    SpeciesConc_CO2Tag8   (record, levels) float32 ...\n",
       "    SpeciesConc_CO2Tag9   (record, levels) float32 ...\n",
       "    SpeciesConc_CO2Tag10  (record, levels) float32 ...\n",
       "    SpeciesConc_CO2Tag11  (record, levels) float32 ...\n",
       "    SpeciesConc_CO2Tag12  (record, levels) float32 ...\n",
       "    SpeciesConc_CO2Tag13  (record, levels) float32 ...\n",
       "    SpeciesConc_CO2Tag14  (record, levels) float32 ...\n",
       "    SpeciesConc_CO2Tag15  (record, levels) float32 ...\n",
       "    SpeciesConc_CO2Tag16  (record, levels) float32 ...\n",
       "    SpeciesConc_CO2Tag17  (record, levels) float32 ...\n",
       "    SpeciesConc_CO2Tag18  (record, levels) float32 ...\n",
       "    SpeciesConc_CO2Tag19  (record, levels) float32 ...\n",
       "    SpeciesConc_CO2Tag20  (record, levels) float32 ...\n",
       "    SpeciesConc_CO2Tag21  (record, levels) float32 ...\n",
       "    SpeciesConc_CO2Tag22  (record, levels) float32 ...\n",
       "    PEDGE_S_PSURF         (record, levels) float32 ...\n",
       "Attributes:\n",
       "    comment:  [CO2] unit: ppbv"
      ]
     },
     "execution_count": 27,
     "metadata": {},
     "output_type": "execute_result"
    }
   ],
   "source": [
    "ds_model = xr.open_dataset(input_directory + model_file_name)\n",
    "ds_model\n",
    "#ds['xco2_averaging_kernel'].isel(levels=19,time=0).plot()"
   ]
  },
  {
   "cell_type": "code",
   "execution_count": 28,
   "metadata": {},
   "outputs": [
    {
     "data": {
      "text/plain": [
       "array([     0,      1,      2, ..., 406221, 406222, 406223])"
      ]
     },
     "execution_count": 28,
     "metadata": {},
     "output_type": "execute_result"
    }
   ],
   "source": [
    "record = ds_model['record'].values\n",
    "record"
   ]
  },
  {
   "cell_type": "code",
   "execution_count": 29,
   "metadata": {},
   "outputs": [
    {
     "data": {
      "text/plain": [
       "['SpeciesConc_CO2Tag1',\n",
       " 'SpeciesConc_CO2Tag2',\n",
       " 'SpeciesConc_CO2Tag3',\n",
       " 'SpeciesConc_CO2Tag4',\n",
       " 'SpeciesConc_CO2Tag5',\n",
       " 'SpeciesConc_CO2Tag6',\n",
       " 'SpeciesConc_CO2Tag7',\n",
       " 'SpeciesConc_CO2Tag8',\n",
       " 'SpeciesConc_CO2Tag9',\n",
       " 'SpeciesConc_CO2Tag10',\n",
       " 'SpeciesConc_CO2Tag11',\n",
       " 'SpeciesConc_CO2Tag12',\n",
       " 'SpeciesConc_CO2Tag13',\n",
       " 'SpeciesConc_CO2Tag14',\n",
       " 'SpeciesConc_CO2Tag15',\n",
       " 'SpeciesConc_CO2Tag16',\n",
       " 'SpeciesConc_CO2Tag17',\n",
       " 'SpeciesConc_CO2Tag18',\n",
       " 'SpeciesConc_CO2Tag19',\n",
       " 'SpeciesConc_CO2Tag20',\n",
       " 'SpeciesConc_CO2Tag21',\n",
       " 'SpeciesConc_CO2Tag22',\n",
       " 'SpeciesConc_CO2']"
      ]
     },
     "execution_count": 29,
     "metadata": {},
     "output_type": "execute_result"
    }
   ],
   "source": [
    "varnames = list(ds_model.data_vars.keys())  # Get a list of variable names. The expression is a bit cumbersome. Just copy and paste it for now.\n",
    "nvar = len(varnames)  # how many elements in the list?\n",
    "co2_var_names = varnames[7:29]\n",
    "co2_var_names.append(varnames[0])\n",
    "co2_var_names"
   ]
  },
  {
   "cell_type": "code",
   "execution_count": 30,
   "metadata": {},
   "outputs": [
    {
     "data": {
      "text/html": [
       "<pre>&lt;xarray.DataArray &#x27;pressure&#x27; ()&gt;\n",
       "array(1014.635, dtype=float32)\n",
       "Coordinates:\n",
       "    record   int64 47007\n",
       "    levels   float32 1.0</pre>"
      ],
      "text/plain": [
       "<xarray.DataArray 'pressure' ()>\n",
       "array(1014.635, dtype=float32)\n",
       "Coordinates:\n",
       "    record   int64 47007\n",
       "    levels   float32 1.0"
      ]
     },
     "execution_count": 30,
     "metadata": {},
     "output_type": "execute_result"
    }
   ],
   "source": [
    "ds_satellite['pressure'][47007,19] # one record where data is available for OCO2"
   ]
  },
  {
   "cell_type": "code",
   "execution_count": 31,
   "metadata": {},
   "outputs": [
    {
     "data": {
      "text/html": [
       "<pre>&lt;xarray.DataArray (record: 406224, levels: 47)&gt;\n",
       "array([[0., 0., 0., ..., 0., 0., 0.],\n",
       "       [0., 0., 0., ..., 0., 0., 0.],\n",
       "       [0., 0., 0., ..., 0., 0., 0.],\n",
       "       ...,\n",
       "       [0., 0., 0., ..., 0., 0., 0.],\n",
       "       [0., 0., 0., ..., 0., 0., 0.],\n",
       "       [0., 0., 0., ..., 0., 0., 0.]], dtype=float32)\n",
       "Coordinates:\n",
       "  * record   (record) int64 0 1 2 3 4 5 ... 406219 406220 406221 406222 406223\n",
       "  * levels   (levels) float64 0.9925 0.9775 0.9624 ... 0.000127 2.763e-05</pre>"
      ],
      "text/plain": [
       "<xarray.DataArray (record: 406224, levels: 47)>\n",
       "array([[0., 0., 0., ..., 0., 0., 0.],\n",
       "       [0., 0., 0., ..., 0., 0., 0.],\n",
       "       [0., 0., 0., ..., 0., 0., 0.],\n",
       "       ...,\n",
       "       [0., 0., 0., ..., 0., 0., 0.],\n",
       "       [0., 0., 0., ..., 0., 0., 0.],\n",
       "       [0., 0., 0., ..., 0., 0., 0.]], dtype=float32)\n",
       "Coordinates:\n",
       "  * record   (record) int64 0 1 2 3 4 5 ... 406219 406220 406221 406222 406223\n",
       "  * levels   (levels) float64 0.9925 0.9775 0.9624 ... 0.000127 2.763e-05"
      ]
     },
     "execution_count": 31,
     "metadata": {},
     "output_type": "execute_result"
    }
   ],
   "source": [
    "# 2d data array to store interpolated averaging kernel\n",
    "new_avg_kernel = xr.DataArray(data = 0,\n",
    "                              dims=('record', 'levels'),\n",
    "                              coords=[record, ds_model.coords['levels']])\n",
    "new_avg_kernel = new_avg_kernel.astype(dtype = 'float32')\n",
    "new_avg_kernel"
   ]
  },
  {
   "cell_type": "code",
   "execution_count": 32,
   "metadata": {},
   "outputs": [],
   "source": [
    "# interpolate averaging kernel from 20 sigma levels to 47 levels\n",
    "sigma_47 = new_avg_kernel.coords['levels'].values\n",
    "sigma_20 = ds_satellite.coords['levels'].values\n",
    "\n",
    "for irecord in record:\n",
    "    yp = ds_satellite['xco2_averaging_kernel'][irecord,:].values\n",
    "    new_avg_kernel[irecord,:] = np.interp(x=sigma_47, xp=sigma_20, fp=yp)"
   ]
  },
  {
   "cell_type": "code",
   "execution_count": 42,
   "metadata": {},
   "outputs": [
    {
     "data": {
      "text/plain": [
       "[<matplotlib.lines.Line2D at 0x2b06db82b400>]"
      ]
     },
     "execution_count": 42,
     "metadata": {},
     "output_type": "execute_result"
    },
    {
     "data": {
      "image/png": "[encoded data removed]",
      "text/plain": [
       "<Figure size 432x288 with 1 Axes>"
      ]
     },
     "metadata": {
      "needs_background": "light"
     },
     "output_type": "display_data"
    }
   ],
   "source": [
    "new_avg_kernel[47007,:].plot()"
   ]
  },
  {
   "cell_type": "code",
   "execution_count": 45,
   "metadata": {},
   "outputs": [],
   "source": [
    "#new_avg_kernel.to_netcdf(output_file)\n",
    "new_avg_kernel.to_dataset(name='avg_kern')\n",
    "new_avg_kernel.attrs['comment'] = 'interpolated averaging kernel from OCO2'\n",
    "new_avg_kernel.to_netcdf(output_file)"
   ]
  },
  {
   "cell_type": "code",
   "execution_count": 52,
   "metadata": {},
   "outputs": [
    {
     "data": {
      "text/plain": [
       "[<matplotlib.lines.Line2D at 0x2b06db9106d8>]"
      ]
     },
     "execution_count": 52,
     "metadata": {},
     "output_type": "execute_result"
    },
    {
     "data": {
      "image/png": "[encoded data removed]",
      "text/plain": [
       "<Figure size 432x288 with 1 Axes>"
      ]
     },
     "metadata": {
      "needs_background": "light"
     },
     "output_type": "display_data"
    }
   ],
   "source": [
    "# difference between flattened model output and OCO2 data\n",
    "co2_profile = ds_model['SpeciesConc_CO2']\n",
    "tmp = co2_profile * new_avg_kernel\n",
    "#ds_model['SpeciesConc_CO2'][47007,:].plot()\n",
    "#tmp[47007,:].plot()\n",
    "xco2_model = tmp.mean(dim = 'levels')*1e-3 # average along vertical axis, unit: ppbv -> ppm\n",
    "xco2_model[30100:30120].plot()\n",
    "ds_satellite['xco2'][30100:30120].plot()"
   ]
  },
  {
   "cell_type": "code",
   "execution_count": 53,
   "metadata": {},
   "outputs": [
    {
     "data": {
      "text/plain": [
       "<matplotlib.collections.PathCollection at 0x2b06dba0a080>"
      ]
     },
     "execution_count": 53,
     "metadata": {},
     "output_type": "execute_result"
    },
    {
     "data": {
      "image/png": "[encoded data removed]",
      "text/plain": [
       "<Figure size 432x288 with 1 Axes>"
      ]
     },
     "metadata": {
      "needs_background": "light"
     },
     "output_type": "display_data"
    }
   ],
   "source": [
    "obs = ds_satellite['xco2']\n",
    "mod = xco2_model\n",
    "obs[obs == 0] = 'nan'\n",
    "mod[mod == 0] = 'nan'\n",
    "plt.scatter(x=obs, y=mod)"
   ]
  },
  {
   "cell_type": "code",
   "execution_count": 54,
   "metadata": {},
   "outputs": [
    {
     "data": {
      "image/png": "[encoded data removed]",
      "text/plain": [
       "<Figure size 360x360 with 1 Axes>"
      ]
     },
     "metadata": {
      "needs_background": "light"
     },
     "output_type": "display_data"
    }
   ],
   "source": [
    "# huge underestimation of XCO2, did I do something wrong with averaging kernel?\n",
    "fig = plt.figure(figsize=[5, 5])\n",
    "ax = plt.axes()\n",
    "plt.scatter(x=obs, y=mod, s=0.2)\n",
    "plt.xlabel('OCO2 XCO2')\n",
    "plt.ylabel('GEOS-Chem XCO2')\n",
    "ax.set_xlim([300,420])\n",
    "ax.set_ylim([300,420])\n",
    "ax.set_title('mod vs. obs');\n",
    "\n",
    "plt.savefig(output_directory+'mod_vs_obs.png', dpi = 300)"
   ]
  },
  {
   "cell_type": "code",
   "execution_count": null,
   "metadata": {},
   "outputs": [],
   "source": []
  }
 ],
 "metadata": {
  "kernelspec": {
   "display_name": "Python 3",
   "language": "python",
   "name": "python3"
  },
  "language_info": {
   "codemirror_mode": {
    "name": "ipython",
    "version": 3
   },
   "file_extension": ".py",
   "mimetype": "text/x-python",
   "name": "python",
   "nbconvert_exporter": "python",
   "pygments_lexer": "ipython3",
   "version": "3.6.10"
  }
 },
 "nbformat": 4,
 "nbformat_minor": 4
}
