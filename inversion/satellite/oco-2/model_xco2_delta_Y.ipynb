{
 "cells": [
  {
   "cell_type": "code",
   "execution_count": 12,
   "metadata": {},
   "outputs": [],
   "source": [
    "# interpolate averaging kernel: from OCO2 20 levels to GEOS-Chem 47 levels"
   ]
  },
  {
   "cell_type": "code",
   "execution_count": 1,
   "metadata": {},
   "outputs": [],
   "source": [
    "import numpy as np\n",
    "import xarray as xr\n",
    "import matplotlib.pyplot as plt\n",
    "import re"
   ]
  },
  {
   "cell_type": "code",
   "execution_count": 2,
   "metadata": {},
   "outputs": [],
   "source": [
    "# Name of input Netcdf file\n",
    "case_names = ['Jan', 'Feb', 'Mar'] # name parts of 3 simulations\n",
    "\n",
    "input_directory = '/geos/u73/msadiq/GEOS-Chem/analysis/python/data/'\n",
    "\n",
    "avg_kern_name = 'interpolated_avg_kern.nc'\n",
    "model_file_name = '2d_ts_' + case_names[2] + '.nc' # model output: March emitting case\n",
    "oco2_file_name = '2d_OCO2_extract.nc'\n",
    "output_directory = input_directory\n",
    "\n",
    "# Name of output netCDF file\n",
    "output_file = output_directory + 'interpolated_avg_kern.nc'"
   ]
  },
  {
   "cell_type": "code",
   "execution_count": 3,
   "metadata": {},
   "outputs": [
    {
     "data": {
      "text/html": [
       "<pre>&lt;xarray.Dataset&gt;\n",
       "Dimensions:                (levels: 20, record: 406224)\n",
       "Coordinates:\n",
       "  * record                 (record) int64 0 1 2 3 ... 406221 406222 406223\n",
       "  * levels                 (levels) float32 1e-04 0.05263158 ... 0.94736844 1.0\n",
       "Data variables:\n",
       "    xco2                   (record) float32 ...\n",
       "    lat                    (record) float64 ...\n",
       "    lon                    (record) float64 ...\n",
       "    date                   (record) datetime64[ns] ...\n",
       "    xco2_averaging_kernel  (record, levels) float32 ...\n",
       "    psurf                  (record) float32 ...\n",
       "    pressure               (record, levels) float32 ...\n",
       "Attributes:\n",
       "    comment:  flattened from 4d NetCDF file, after extracted from OCO2</pre>"
      ],
      "text/plain": [
       "<xarray.Dataset>\n",
       "Dimensions:                (levels: 20, record: 406224)\n",
       "Coordinates:\n",
       "  * record                 (record) int64 0 1 2 3 ... 406221 406222 406223\n",
       "  * levels                 (levels) float32 1e-04 0.05263158 ... 0.94736844 1.0\n",
       "Data variables:\n",
       "    xco2                   (record) float32 ...\n",
       "    lat                    (record) float64 ...\n",
       "    lon                    (record) float64 ...\n",
       "    date                   (record) datetime64[ns] ...\n",
       "    xco2_averaging_kernel  (record, levels) float32 ...\n",
       "    psurf                  (record) float32 ...\n",
       "    pressure               (record, levels) float32 ...\n",
       "Attributes:\n",
       "    comment:  flattened from 4d NetCDF file, after extracted from OCO2"
      ]
     },
     "execution_count": 3,
     "metadata": {},
     "output_type": "execute_result"
    }
   ],
   "source": [
    "ds_satellite = xr.open_dataset(input_directory + oco2_file_name)\n",
    "ds_satellite"
   ]
  },
  {
   "cell_type": "code",
   "execution_count": 4,
   "metadata": {},
   "outputs": [
    {
     "data": {
      "text/html": [
       "<pre>&lt;xarray.Dataset&gt;\n",
       "Dimensions:               (levels: 47, record: 406224)\n",
       "Coordinates:\n",
       "  * record                (record) int64 0 1 2 3 ... 406220 406221 406222 406223\n",
       "  * levels                (levels) float64 0.9925 0.9775 ... 0.000127 2.763e-05\n",
       "Data variables:\n",
       "    SpeciesConc_CO2       (record, levels) float32 ...\n",
       "    lat                   (record) float64 ...\n",
       "    lon                   (record) float64 ...\n",
       "    date                  (record) datetime64[ns] ...\n",
       "    SpeciesConc_CO2oc     (record, levels) float32 ...\n",
       "    SpeciesConc_CO2bf     (record, levels) float32 ...\n",
       "    SpeciesConc_CO2ff     (record, levels) float32 ...\n",
       "    SpeciesConc_CO2Tag1   (record, levels) float32 ...\n",
       "    SpeciesConc_CO2Tag2   (record, levels) float32 ...\n",
       "    SpeciesConc_CO2Tag3   (record, levels) float32 ...\n",
       "    SpeciesConc_CO2Tag4   (record, levels) float32 ...\n",
       "    SpeciesConc_CO2Tag5   (record, levels) float32 ...\n",
       "    SpeciesConc_CO2Tag6   (record, levels) float32 ...\n",
       "    SpeciesConc_CO2Tag7   (record, levels) float32 ...\n",
       "    SpeciesConc_CO2Tag8   (record, levels) float32 ...\n",
       "    SpeciesConc_CO2Tag9   (record, levels) float32 ...\n",
       "    SpeciesConc_CO2Tag10  (record, levels) float32 ...\n",
       "    SpeciesConc_CO2Tag11  (record, levels) float32 ...\n",
       "    SpeciesConc_CO2Tag12  (record, levels) float32 ...\n",
       "    SpeciesConc_CO2Tag13  (record, levels) float32 ...\n",
       "    SpeciesConc_CO2Tag14  (record, levels) float32 ...\n",
       "    SpeciesConc_CO2Tag15  (record, levels) float32 ...\n",
       "    SpeciesConc_CO2Tag16  (record, levels) float32 ...\n",
       "    SpeciesConc_CO2Tag17  (record, levels) float32 ...\n",
       "    SpeciesConc_CO2Tag18  (record, levels) float32 ...\n",
       "    SpeciesConc_CO2Tag19  (record, levels) float32 ...\n",
       "    SpeciesConc_CO2Tag20  (record, levels) float32 ...\n",
       "    SpeciesConc_CO2Tag21  (record, levels) float32 ...\n",
       "    SpeciesConc_CO2Tag22  (record, levels) float32 ...\n",
       "    PEDGE_S_PSURF         (record, levels) float32 ...\n",
       "Attributes:\n",
       "    comment:  [CO2] unit: ppbv</pre>"
      ],
      "text/plain": [
       "<xarray.Dataset>\n",
       "Dimensions:               (levels: 47, record: 406224)\n",
       "Coordinates:\n",
       "  * record                (record) int64 0 1 2 3 ... 406220 406221 406222 406223\n",
       "  * levels                (levels) float64 0.9925 0.9775 ... 0.000127 2.763e-05\n",
       "Data variables:\n",
       "    SpeciesConc_CO2       (record, levels) float32 ...\n",
       "    lat                   (record) float64 ...\n",
       "    lon                   (record) float64 ...\n",
       "    date                  (record) datetime64[ns] ...\n",
       "    SpeciesConc_CO2oc     (record, levels) float32 ...\n",
       "    SpeciesConc_CO2bf     (record, levels) float32 ...\n",
       "    SpeciesConc_CO2ff     (record, levels) float32 ...\n",
       "    SpeciesConc_CO2Tag1   (record, levels) float32 ...\n",
       "    SpeciesConc_CO2Tag2   (record, levels) float32 ...\n",
       "    SpeciesConc_CO2Tag3   (record, levels) float32 ...\n",
       "    SpeciesConc_CO2Tag4   (record, levels) float32 ...\n",
       "    SpeciesConc_CO2Tag5   (record, levels) float32 ...\n",
       "    SpeciesConc_CO2Tag6   (record, levels) float32 ...\n",
       "    SpeciesConc_CO2Tag7   (record, levels) float32 ...\n",
       "    SpeciesConc_CO2Tag8   (record, levels) float32 ...\n",
       "    SpeciesConc_CO2Tag9   (record, levels) float32 ...\n",
       "    SpeciesConc_CO2Tag10  (record, levels) float32 ...\n",
       "    SpeciesConc_CO2Tag11  (record, levels) float32 ...\n",
       "    SpeciesConc_CO2Tag12  (record, levels) float32 ...\n",
       "    SpeciesConc_CO2Tag13  (record, levels) float32 ...\n",
       "    SpeciesConc_CO2Tag14  (record, levels) float32 ...\n",
       "    SpeciesConc_CO2Tag15  (record, levels) float32 ...\n",
       "    SpeciesConc_CO2Tag16  (record, levels) float32 ...\n",
       "    SpeciesConc_CO2Tag17  (record, levels) float32 ...\n",
       "    SpeciesConc_CO2Tag18  (record, levels) float32 ...\n",
       "    SpeciesConc_CO2Tag19  (record, levels) float32 ...\n",
       "    SpeciesConc_CO2Tag20  (record, levels) float32 ...\n",
       "    SpeciesConc_CO2Tag21  (record, levels) float32 ...\n",
       "    SpeciesConc_CO2Tag22  (record, levels) float32 ...\n",
       "    PEDGE_S_PSURF         (record, levels) float32 ...\n",
       "Attributes:\n",
       "    comment:  [CO2] unit: ppbv"
      ]
     },
     "execution_count": 4,
     "metadata": {},
     "output_type": "execute_result"
    }
   ],
   "source": [
    "ds_model = xr.open_dataset(input_directory + model_file_name)\n",
    "ds_model\n",
    "#ds['xco2_averaging_kernel'].isel(levels=19,time=0).plot()"
   ]
  },
  {
   "cell_type": "code",
   "execution_count": 10,
   "metadata": {},
   "outputs": [
    {
     "data": {
      "text/html": [
       "<pre>&lt;xarray.Dataset&gt;\n",
       "Dimensions:   (levels: 47, record: 406224)\n",
       "Coordinates:\n",
       "  * record    (record) int64 0 1 2 3 4 5 ... 406219 406220 406221 406222 406223\n",
       "  * levels    (levels) float64 0.9925 0.9775 0.9624 ... 0.000127 2.763e-05\n",
       "Data variables:\n",
       "    avg_kern  (record, levels) float32 ...</pre>"
      ],
      "text/plain": [
       "<xarray.Dataset>\n",
       "Dimensions:   (levels: 47, record: 406224)\n",
       "Coordinates:\n",
       "  * record    (record) int64 0 1 2 3 4 5 ... 406219 406220 406221 406222 406223\n",
       "  * levels    (levels) float64 0.9925 0.9775 0.9624 ... 0.000127 2.763e-05\n",
       "Data variables:\n",
       "    avg_kern  (record, levels) float32 ..."
      ]
     },
     "execution_count": 10,
     "metadata": {},
     "output_type": "execute_result"
    }
   ],
   "source": [
    "ds_kernel = xr.open_dataset(input_directory + avg_kern_name)\n",
    "avg_kernel = ds_kernel['avg_kern']\n",
    "ds_kernel"
   ]
  },
  {
   "cell_type": "code",
   "execution_count": 6,
   "metadata": {},
   "outputs": [
    {
     "data": {
      "text/plain": [
       "array([     0,      1,      2, ..., 406221, 406222, 406223])"
      ]
     },
     "execution_count": 6,
     "metadata": {},
     "output_type": "execute_result"
    }
   ],
   "source": [
    "record = ds_model['record'].values\n",
    "record"
   ]
  },
  {
   "cell_type": "code",
   "execution_count": 7,
   "metadata": {},
   "outputs": [
    {
     "data": {
      "text/plain": [
       "['SpeciesConc_CO2Tag1',\n",
       " 'SpeciesConc_CO2Tag2',\n",
       " 'SpeciesConc_CO2Tag3',\n",
       " 'SpeciesConc_CO2Tag4',\n",
       " 'SpeciesConc_CO2Tag5',\n",
       " 'SpeciesConc_CO2Tag6',\n",
       " 'SpeciesConc_CO2Tag7',\n",
       " 'SpeciesConc_CO2Tag8',\n",
       " 'SpeciesConc_CO2Tag9',\n",
       " 'SpeciesConc_CO2Tag10',\n",
       " 'SpeciesConc_CO2Tag11',\n",
       " 'SpeciesConc_CO2Tag12',\n",
       " 'SpeciesConc_CO2Tag13',\n",
       " 'SpeciesConc_CO2Tag14',\n",
       " 'SpeciesConc_CO2Tag15',\n",
       " 'SpeciesConc_CO2Tag16',\n",
       " 'SpeciesConc_CO2Tag17',\n",
       " 'SpeciesConc_CO2Tag18',\n",
       " 'SpeciesConc_CO2Tag19',\n",
       " 'SpeciesConc_CO2Tag20',\n",
       " 'SpeciesConc_CO2Tag21',\n",
       " 'SpeciesConc_CO2Tag22']"
      ]
     },
     "execution_count": 7,
     "metadata": {},
     "output_type": "execute_result"
    }
   ],
   "source": [
    "varnames = list(ds_model.data_vars.keys())  # Get a list of variable names. The expression is a bit cumbersome. Just copy and paste it for now.\n",
    "co2_var_names = varnames[7:29]\n",
    "co2_var_names"
   ]
  },
  {
   "cell_type": "code",
   "execution_count": 8,
   "metadata": {},
   "outputs": [
    {
     "data": {
      "text/html": [
       "<pre>&lt;xarray.DataArray &#x27;pressure&#x27; ()&gt;\n",
       "array(1014.635, dtype=float32)\n",
       "Coordinates:\n",
       "    record   int64 47007\n",
       "    levels   float32 1.0</pre>"
      ],
      "text/plain": [
       "<xarray.DataArray 'pressure' ()>\n",
       "array(1014.635, dtype=float32)\n",
       "Coordinates:\n",
       "    record   int64 47007\n",
       "    levels   float32 1.0"
      ]
     },
     "execution_count": 8,
     "metadata": {},
     "output_type": "execute_result"
    }
   ],
   "source": [
    "ds_satellite['pressure'][47007,19] # one record where data is available for OCO2"
   ]
  },
  {
   "cell_type": "code",
   "execution_count": 11,
   "metadata": {},
   "outputs": [
    {
     "data": {
      "text/plain": [
       "[<matplotlib.lines.Line2D at 0x2b8855820f98>]"
      ]
     },
     "execution_count": 11,
     "metadata": {},
     "output_type": "execute_result"
    },
    {
     "data": {
      "image/png": "[encoded data removed]",
      "text/plain": [
       "<Figure size 432x288 with 1 Axes>"
      ]
     },
     "metadata": {
      "needs_background": "light"
     },
     "output_type": "display_data"
    }
   ],
   "source": [
    "# testing SpeciesConc_CO2\n",
    "co2_profile = ds_model['SpeciesConc_CO2']\n",
    "tmp = co2_profile * avg_kernel\n",
    "#ds_model['SpeciesConc_CO2'][47007,:].plot()\n",
    "#tmp[47007,:].plot()\n",
    "xco2_model = tmp.mean(dim = 'levels')*1e-3 # average along vertical axis, unit: ppbv -> ppm\n",
    "xco2_model[30100:30120].plot()\n",
    "ds_satellite['xco2'][30100:30120].plot()"
   ]
  },
  {
   "cell_type": "code",
   "execution_count": 12,
   "metadata": {},
   "outputs": [
    {
     "data": {
      "text/html": [
       "<pre>&lt;xarray.Dataset&gt;\n",
       "Dimensions:  (record: 406224)\n",
       "Coordinates:\n",
       "  * record   (record) int64 0 1 2 3 4 5 ... 406219 406220 406221 406222 406223\n",
       "Data variables:\n",
       "    lat      (record) float64 ...\n",
       "    lon      (record) float64 ...\n",
       "    date     (record) datetime64[ns] ...</pre>"
      ],
      "text/plain": [
       "<xarray.Dataset>\n",
       "Dimensions:  (record: 406224)\n",
       "Coordinates:\n",
       "  * record   (record) int64 0 1 2 3 4 5 ... 406219 406220 406221 406222 406223\n",
       "Data variables:\n",
       "    lat      (record) float64 ...\n",
       "    lon      (record) float64 ...\n",
       "    date     (record) datetime64[ns] ..."
      ]
     },
     "execution_count": 12,
     "metadata": {},
     "output_type": "execute_result"
    }
   ],
   "source": [
    "# new dataset to store all model xco2\n",
    "lat = ds_satellite['lat']\n",
    "lon = ds_satellite['lon']\n",
    "date = ds_satellite['date']\n",
    "xco2_model = lat.to_dataset()\n",
    "xco2_model['lon'] = lon\n",
    "xco2_model['date'] = date\n",
    "xco2_model"
   ]
  },
  {
   "cell_type": "code",
   "execution_count": 14,
   "metadata": {},
   "outputs": [
    {
     "name": "stdout",
     "output_type": "stream",
     "text": [
      "Jan_X_SpeciesConc_CO2Tag1\n",
      "Jan_X_SpeciesConc_CO2Tag2\n",
      "Jan_X_SpeciesConc_CO2Tag3\n",
      "Jan_X_SpeciesConc_CO2Tag4\n",
      "Jan_X_SpeciesConc_CO2Tag5\n",
      "Jan_X_SpeciesConc_CO2Tag6\n",
      "Jan_X_SpeciesConc_CO2Tag7\n",
      "Jan_X_SpeciesConc_CO2Tag8\n",
      "Jan_X_SpeciesConc_CO2Tag9\n",
      "Jan_X_SpeciesConc_CO2Tag10\n",
      "Jan_X_SpeciesConc_CO2Tag11\n",
      "Jan_X_SpeciesConc_CO2Tag12\n",
      "Jan_X_SpeciesConc_CO2Tag13\n",
      "Jan_X_SpeciesConc_CO2Tag14\n",
      "Jan_X_SpeciesConc_CO2Tag15\n",
      "Jan_X_SpeciesConc_CO2Tag16\n",
      "Jan_X_SpeciesConc_CO2Tag17\n",
      "Jan_X_SpeciesConc_CO2Tag18\n",
      "Jan_X_SpeciesConc_CO2Tag19\n",
      "Jan_X_SpeciesConc_CO2Tag20\n",
      "Jan_X_SpeciesConc_CO2Tag21\n",
      "Jan_X_SpeciesConc_CO2Tag22\n",
      "Feb_X_SpeciesConc_CO2Tag1\n",
      "Feb_X_SpeciesConc_CO2Tag2\n",
      "Feb_X_SpeciesConc_CO2Tag3\n",
      "Feb_X_SpeciesConc_CO2Tag4\n",
      "Feb_X_SpeciesConc_CO2Tag5\n",
      "Feb_X_SpeciesConc_CO2Tag6\n",
      "Feb_X_SpeciesConc_CO2Tag7\n",
      "Feb_X_SpeciesConc_CO2Tag8\n",
      "Feb_X_SpeciesConc_CO2Tag9\n",
      "Feb_X_SpeciesConc_CO2Tag10\n",
      "Feb_X_SpeciesConc_CO2Tag11\n",
      "Feb_X_SpeciesConc_CO2Tag12\n",
      "Feb_X_SpeciesConc_CO2Tag13\n",
      "Feb_X_SpeciesConc_CO2Tag14\n",
      "Feb_X_SpeciesConc_CO2Tag15\n",
      "Feb_X_SpeciesConc_CO2Tag16\n",
      "Feb_X_SpeciesConc_CO2Tag17\n",
      "Feb_X_SpeciesConc_CO2Tag18\n",
      "Feb_X_SpeciesConc_CO2Tag19\n",
      "Feb_X_SpeciesConc_CO2Tag20\n",
      "Feb_X_SpeciesConc_CO2Tag21\n",
      "Feb_X_SpeciesConc_CO2Tag22\n",
      "Mar_X_SpeciesConc_CO2Tag1\n",
      "Mar_X_SpeciesConc_CO2Tag2\n",
      "Mar_X_SpeciesConc_CO2Tag3\n",
      "Mar_X_SpeciesConc_CO2Tag4\n",
      "Mar_X_SpeciesConc_CO2Tag5\n",
      "Mar_X_SpeciesConc_CO2Tag6\n",
      "Mar_X_SpeciesConc_CO2Tag7\n",
      "Mar_X_SpeciesConc_CO2Tag8\n",
      "Mar_X_SpeciesConc_CO2Tag9\n",
      "Mar_X_SpeciesConc_CO2Tag10\n",
      "Mar_X_SpeciesConc_CO2Tag11\n",
      "Mar_X_SpeciesConc_CO2Tag12\n",
      "Mar_X_SpeciesConc_CO2Tag13\n",
      "Mar_X_SpeciesConc_CO2Tag14\n",
      "Mar_X_SpeciesConc_CO2Tag15\n",
      "Mar_X_SpeciesConc_CO2Tag16\n",
      "Mar_X_SpeciesConc_CO2Tag17\n",
      "Mar_X_SpeciesConc_CO2Tag18\n",
      "Mar_X_SpeciesConc_CO2Tag19\n",
      "Mar_X_SpeciesConc_CO2Tag20\n",
      "Mar_X_SpeciesConc_CO2Tag21\n",
      "Mar_X_SpeciesConc_CO2Tag22\n"
     ]
    }
   ],
   "source": [
    "for icase in case_names:\n",
    "    for ivar in co2_var_names:\n",
    "        model_file_name = model_file_name = '2d_ts_' + icase + '.nc'  # open each simulation result\n",
    "        ds_model = xr.open_dataset(input_directory + model_file_name) \n",
    "        \n",
    "        co2_profile = ds_model[ivar]\n",
    "        co2_times_kernel = co2_profile * avg_kernel\n",
    "        xco2_model_var = co2_times_kernel.mean(dim = 'levels') * 1e-3 # average along vertical axis, unit: ppbv -> ppm\n",
    "        tmp_name = icase + '_X_' + ivar\n",
    "        xco2_model[tmp_name] = xco2_model_var.copy()\n",
    "        print(tmp_name)\n",
    "        #xco2_model_var[30100:30120].plot()"
   ]
  },
  {
   "cell_type": "code",
   "execution_count": 18,
   "metadata": {},
   "outputs": [
    {
     "data": {
      "text/plain": [
       "[<matplotlib.lines.Line2D at 0x2b88560d26d8>]"
      ]
     },
     "execution_count": 18,
     "metadata": {},
     "output_type": "execute_result"
    },
    {
     "data": {
      "image/png": "[encoded data removed]",
      "text/plain": [
       "<Figure size 432x288 with 1 Axes>"
      ]
     },
     "metadata": {
      "needs_background": "light"
     },
     "output_type": "display_data"
    }
   ],
   "source": [
    "xco2_model['Mar_X_SpeciesConc_CO2Tag12'].plot()"
   ]
  },
  {
   "cell_type": "code",
   "execution_count": null,
   "metadata": {},
   "outputs": [],
   "source": []
  }
 ],
 "metadata": {
  "kernelspec": {
   "display_name": "Python 3",
   "language": "python",
   "name": "python3"
  },
  "language_info": {
   "codemirror_mode": {
    "name": "ipython",
    "version": 3
   },
   "file_extension": ".py",
   "mimetype": "text/x-python",
   "name": "python",
   "nbconvert_exporter": "python",
   "pygments_lexer": "ipython3",
   "version": "3.6.10"
  }
 },
 "nbformat": 4,
 "nbformat_minor": 4
}
